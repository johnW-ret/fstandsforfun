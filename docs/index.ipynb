{
 "cells": [
  {
   "cell_type": "markdown",
   "id": "0f279d84",
   "metadata": {
    "dotnet_repl_cellExecutionEndTime": "2024-02-29T00:55:56.6071334-06:00",
    "dotnet_repl_cellExecutionStartTime": "2024-02-29T00:55:56.5737763-06:00"
   },
   "source": [
    "Up and Running with F#\n",
    "======================\n",
    "A gentle guide to a powerful language\n",
    "\n",
    "> ⚠️ This website is under construction! "
   ]
  },
  {
   "cell_type": "markdown",
   "id": "3ab1df6a",
   "metadata": {
    "dotnet_repl_cellExecutionEndTime": "2024-02-29T00:55:59.6402162-06:00",
    "dotnet_repl_cellExecutionStartTime": "2024-02-29T00:55:59.6398106-06:00"
   },
   "source": [
    "F#'s default package manager and primary package source is called [**NuGet**](https://www.nuget.org). We'll need a charting library called **Plotly.NET** later on, so let's install it:"
   ]
  },
  {
   "cell_type": "code",
   "execution_count": 1,
   "id": "bab9dd44",
   "metadata": {
    "dotnet_interactive": {
     "language": "fsharp"
    },
    "dotnet_repl_cellExecutionEndTime": "2024-02-29T00:56:02.1392882-06:00",
    "dotnet_repl_cellExecutionStartTime": "2024-02-29T00:55:59.6402291-06:00",
    "polyglot_notebook": {
     "kernelName": "fsharp"
    }
   },
   "outputs": [
    {
     "data": {
      "text/html": [
       "<div><div></div><div></div><div><strong>Installed Packages</strong><ul><li><span>FSharp.Data, 6.4.0</span></li><li><span>Plotly.NET, 4.2.0</span></li><li><span>Plotly.NET.Interactive, 4.2.1</span></li></ul></div></div>"
      ]
     },
     "metadata": {},
     "output_type": "display_data"
    },
    {
     "data": {
      "text/plain": [
       "Loading extensions from `C:\\Users\\retru\\.nuget\\packages\\plotly.net.interactive\\4.2.1\\lib\\netstandard2.1\\Plotly.NET.Interactive.dll`"
      ]
     },
     "metadata": {},
     "output_type": "display_data"
    }
   ],
   "source": [
    "#r \"nuget: FSharp.Data\"\n",
    "#r \"nuget: Plotly.NET\"\n",
    "#r \"nuget: Plotly.NET.Interactive\"\n",
    "// #r \"nuget: Deedle\"\n"
   ]
  },
  {
   "cell_type": "markdown",
   "id": "a43660bd",
   "metadata": {
    "dotnet_repl_cellExecutionEndTime": "2024-02-29T00:55:56.6105874-06:00",
    "dotnet_repl_cellExecutionStartTime": "2024-02-29T00:55:56.6096253-06:00"
   },
   "source": [
    "F# is composed of **expressions**:"
   ]
  },
  {
   "cell_type": "code",
   "execution_count": 2,
   "id": "45da24cc",
   "metadata": {
    "dotnet_interactive": {
     "language": "fsharp"
    },
    "polyglot_notebook": {
     "kernelName": "fsharp"
    }
   },
   "outputs": [],
   "source": [
    "open FSharp.Data\n",
    "open Plotly.NET\n",
    "// open Deedle\n",
    "\n",
    "[<Literal>]\n",
    "let uri = \"http://query1.finance.yahoo.com/v7/finance/download/MSFT?period1=1678116713&period2=1709739113&interval=1d&events=history&includeAdjustedClose=true\"\n",
    "\n",
    "type Stocks = CsvProvider<uri> //\"https://query1.finance.yahoo.com/v7/finance/download/MSFT?period1=1678116713&period2=1709739113&interval=1d&events=history&includeAdjustedClose=true\">\n",
    "\n",
    "let msft = Stocks.GetSample() //Stocks.Load(\"https://query1.finance.yahoo.com/v7/finance/download/MSFT?period1=1678116713&period2=1709739113&interval=1d&events=history&includeAdjustedClose=true\")\n",
    "\n",
    "\n",
    "// Chart.Line(// high minus low\n",
    "//     xy = [ for row in msft.Rows -> row.Date, row.High - row.Low ]\n",
    "// )"
   ]
  },
  {
   "cell_type": "code",
   "execution_count": 3,
   "id": "d110897d",
   "metadata": {
    "dotnet_interactive": {
     "language": "fsharp"
    },
    "dotnet_repl_cellExecutionEndTime": "2024-02-29T00:55:59.5610328-06:00",
    "dotnet_repl_cellExecutionStartTime": "2024-02-29T00:55:56.6106294-06:00",
    "polyglot_notebook": {
     "kernelName": "fsharp"
    }
   },
   "outputs": [
    {
     "data": {
      "text/html": [
       "<div class=\"dni-plaintext\"><pre>6</pre></div><style>\r\n",
       ".dni-code-hint {\r\n",
       "    font-style: italic;\r\n",
       "    overflow: hidden;\r\n",
       "    white-space: nowrap;\r\n",
       "}\r\n",
       ".dni-treeview {\r\n",
       "    white-space: nowrap;\r\n",
       "}\r\n",
       ".dni-treeview td {\r\n",
       "    vertical-align: top;\r\n",
       "    text-align: start;\r\n",
       "}\r\n",
       "details.dni-treeview {\r\n",
       "    padding-left: 1em;\r\n",
       "}\r\n",
       "table td {\r\n",
       "    text-align: start;\r\n",
       "}\r\n",
       "table tr { \r\n",
       "    vertical-align: top; \r\n",
       "    margin: 0em 0px;\r\n",
       "}\r\n",
       "table tr td pre \r\n",
       "{ \r\n",
       "    vertical-align: top !important; \r\n",
       "    margin: 0em 0px !important;\r\n",
       "} \r\n",
       "table th {\r\n",
       "    text-align: start;\r\n",
       "}\r\n",
       "</style>"
      ]
     },
     "metadata": {},
     "output_type": "display_data"
    }
   ],
   "source": [
    "// expressions separated by `;`s\n",
    "1; 2; 3\n",
    "\n",
    "// expressions separated by new lines\n",
    "4\n",
    "5\n",
    "6"
   ]
  },
  {
   "cell_type": "markdown",
   "id": "37256815",
   "metadata": {
    "dotnet_repl_cellExecutionEndTime": "2024-02-29T00:55:59.5616622-06:00",
    "dotnet_repl_cellExecutionStartTime": "2024-02-29T00:55:59.5610687-06:00"
   },
   "source": [
    "If you wrap expressions with `[]`, you get a **list**:"
   ]
  },
  {
   "cell_type": "code",
   "execution_count": 4,
   "id": "4ca52325",
   "metadata": {
    "dotnet_interactive": {
     "language": "fsharp"
    },
    "dotnet_repl_cellExecutionEndTime": "2024-02-29T00:55:59.602707-06:00",
    "dotnet_repl_cellExecutionStartTime": "2024-02-29T00:55:59.5616759-06:00",
    "polyglot_notebook": {
     "kernelName": "fsharp"
    }
   },
   "outputs": [
    {
     "data": {
      "text/html": [
       "<details open=\"open\" class=\"dni-treeview\"><summary><span class=\"dni-code-hint\"><code>[ 1, 2, 3 ]</code></span></summary><div><table><thead><tr></tr></thead><tbody><tr><td>HeadOrDefault</td><td><div class=\"dni-plaintext\"><pre>1</pre></div></td></tr><tr><td>TailOrNull</td><td><details class=\"dni-treeview\"><summary><span class=\"dni-code-hint\"><code>[ 2, 3 ]</code></span></summary><div><table><thead><tr></tr></thead><tbody><tr><td>HeadOrDefault</td><td><div class=\"dni-plaintext\"><pre>2</pre></div></td></tr><tr><td>TailOrNull</td><td><details class=\"dni-treeview\"><summary><span class=\"dni-code-hint\"><code>[ 3 ]</code></span></summary><div><table><thead><tr></tr></thead><tbody><tr><td>HeadOrDefault</td><td><div class=\"dni-plaintext\"><pre>3</pre></div></td></tr><tr><td>TailOrNull</td><td><details class=\"dni-treeview\"><summary><span class=\"dni-code-hint\"><code>[  ]</code></span></summary><div><table><thead><tr></tr></thead><tbody><tr><td>HeadOrDefault</td><td><div class=\"dni-plaintext\"><pre>0</pre></div></td></tr><tr><td>TailOrNull</td><td><div class=\"dni-plaintext\"><pre>&lt;null&gt;</pre></div></td></tr><tr><td>Head</td><td><details class=\"dni-treeview\"><summary><span class=\"dni-code-hint\"><code>System.InvalidOperationException: The input list was empty.\\r\\n   at Microsoft.FSharp.Collections.FSharpList`1.get_Head() in D:\\a\\_work\\1\\s\\src\\FSharp.Core\\prim-types.fs:line 4141\\r\\n   at lambda_method107(Closure, FSharpList`1)\\r\\n   at Microsoft.DotNet.Interactive.Formatting.MemberAccessor`1.GetVa...</code></span></summary><div><table><thead><tr></tr></thead><tbody><tr><td>TargetSite</td><td><details class=\"dni-treeview\"><summary><span class=\"dni-code-hint\"><code>T get_Head()</code></span></summary><div><table><thead><tr></tr></thead><tbody><tr><td>Name</td><td>get_Head</td></tr><tr><td>DeclaringType</td><td>Microsoft.FSharp.Collections.FSharpList`1[T]</td></tr><tr><td>ReflectedType</td><td>Microsoft.FSharp.Collections.FSharpList`1[T]</td></tr><tr><td>MemberType</td><td>Method</td></tr><tr><td>MetadataToken</td><td>100663764</td></tr><tr><td>Module</td><td>FSharp.Core.dll</td></tr><tr><td>IsSecurityCritical</td><td>True</td></tr><tr><td>IsSecuritySafeCritical</td><td>False</td></tr><tr><td>IsSecurityTransparent</td><td>False</td></tr><tr><td>MethodHandle</td><td>System.RuntimeMethodHandle</td></tr><tr><td>Attributes</td><td>Public, HideBySig, SpecialName</td></tr><tr><td>CallingConvention</td><td>Standard, HasThis</td></tr><tr><td>ReturnType</td><td>T</td></tr><tr><td>ReturnTypeCustomAttributes</td><td>T</td></tr><tr><td>ReturnParameter</td><td>T</td></tr><tr><td>IsCollectible</td><td>False</td></tr><tr><td>IsGenericMethod</td><td>False</td></tr><tr><td>IsGenericMethodDefinition</td><td>False</td></tr><tr><td>ContainsGenericParameters</td><td>True</td></tr><tr><td>MethodImplementationFlags</td><td>IL</td></tr><tr><td>IsAbstract</td><td>False</td></tr><tr><td>IsConstructor</td><td>False</td></tr><tr><td>IsFinal</td><td>False</td></tr><tr><td>IsHideBySig</td><td>True</td></tr><tr><td>IsSpecialName</td><td>True</td></tr><tr><td>IsStatic</td><td>False</td></tr><tr><td>IsVirtual</td><td>False</td></tr><tr><td>IsAssembly</td><td>False</td></tr><tr><td>IsFamily</td><td>False</td></tr><tr><td>IsFamilyAndAssembly</td><td>False</td></tr><tr><td>IsFamilyOrAssembly</td><td>False</td></tr><tr><td>IsPrivate</td><td>False</td></tr><tr><td>IsPublic</td><td>True</td></tr><tr><td>IsConstructedGenericMethod</td><td>False</td></tr><tr><td>CustomAttributes</td><td>[  ]</td></tr></tbody></table></div></details></td></tr><tr><td>Message</td><td><div class=\"dni-plaintext\"><pre>The input list was empty.</pre></div></td></tr><tr><td>Data</td><td><i>(empty)</i></td></tr><tr><td>InnerException</td><td><div class=\"dni-plaintext\"><pre>&lt;null&gt;</pre></div></td></tr><tr><td>HelpLink</td><td><div class=\"dni-plaintext\"><pre>&lt;null&gt;</pre></div></td></tr><tr><td>Source</td><td><div class=\"dni-plaintext\"><pre>FSharp.Core</pre></div></td></tr><tr><td>HResult</td><td><div class=\"dni-plaintext\"><pre>-2146233079</pre></div></td></tr><tr><td>StackTrace</td><td><div class=\"dni-plaintext\"><pre>   at Microsoft.FSharp.Collections.FSharpList`1.get_Head() in D:\\a\\_work\\1\\s\\src\\FSharp.Core\\prim-types.fs:line 4141\r\n",
       "   at lambda_method107(Closure, FSharpList`1)\r\n",
       "   at Microsoft.DotNet.Interactive.Formatting.MemberAccessor`1.GetValueOrException(T instance) in D:\\a\\_work\\1\\s\\src\\Microsoft.DotNet.Interactive.Formatting\\MemberAccessor{T}.cs:line 58</pre></div></td></tr></tbody></table></div></details></td></tr><tr><td>Tail</td><td><details class=\"dni-treeview\"><summary><span class=\"dni-code-hint\"><code>System.InvalidOperationException: The input list was empty.\\r\\n   at Microsoft.FSharp.Collections.FSharpList`1.get_Tail() in D:\\a\\_work\\1\\s\\src\\FSharp.Core\\prim-types.fs:line 4146\\r\\n   at lambda_method108(Closure, FSharpList`1)\\r\\n   at Microsoft.DotNet.Interactive.Formatting.MemberAccessor`1.GetVa...</code></span></summary><div><table><thead><tr></tr></thead><tbody><tr><td>TargetSite</td><td><details class=\"dni-treeview\"><summary><span class=\"dni-code-hint\"><code>Microsoft.FSharp.Collections.FSharpList`1[T] get_Tail()</code></span></summary><div><table><thead><tr></tr></thead><tbody><tr><td>Name</td><td>get_Tail</td></tr><tr><td>DeclaringType</td><td>Microsoft.FSharp.Collections.FSharpList`1[T]</td></tr><tr><td>ReflectedType</td><td>Microsoft.FSharp.Collections.FSharpList`1[T]</td></tr><tr><td>MemberType</td><td>Method</td></tr><tr><td>MetadataToken</td><td>100663765</td></tr><tr><td>Module</td><td>FSharp.Core.dll</td></tr><tr><td>IsSecurityCritical</td><td>True</td></tr><tr><td>IsSecuritySafeCritical</td><td>False</td></tr><tr><td>IsSecurityTransparent</td><td>False</td></tr><tr><td>MethodHandle</td><td>System.RuntimeMethodHandle</td></tr><tr><td>Attributes</td><td>Public, HideBySig, SpecialName</td></tr><tr><td>CallingConvention</td><td>Standard, HasThis</td></tr><tr><td>ReturnType</td><td>Microsoft.FSharp.Collections.FSharpList`1[T]</td></tr><tr><td>ReturnTypeCustomAttributes</td><td>Microsoft.FSharp.Collections.FSharpList`1[T]</td></tr><tr><td>ReturnParameter</td><td>Microsoft.FSharp.Collections.FSharpList`1[T]</td></tr><tr><td>IsCollectible</td><td>False</td></tr><tr><td>IsGenericMethod</td><td>False</td></tr><tr><td>IsGenericMethodDefinition</td><td>False</td></tr><tr><td>ContainsGenericParameters</td><td>True</td></tr><tr><td>MethodImplementationFlags</td><td>IL</td></tr><tr><td>IsAbstract</td><td>False</td></tr><tr><td>IsConstructor</td><td>False</td></tr><tr><td>IsFinal</td><td>False</td></tr><tr><td>IsHideBySig</td><td>True</td></tr><tr><td>IsSpecialName</td><td>True</td></tr><tr><td>IsStatic</td><td>False</td></tr><tr><td>IsVirtual</td><td>False</td></tr><tr><td>IsAssembly</td><td>False</td></tr><tr><td>IsFamily</td><td>False</td></tr><tr><td>IsFamilyAndAssembly</td><td>False</td></tr><tr><td>IsFamilyOrAssembly</td><td>False</td></tr><tr><td>IsPrivate</td><td>False</td></tr><tr><td>IsPublic</td><td>True</td></tr><tr><td>IsConstructedGenericMethod</td><td>False</td></tr><tr><td>CustomAttributes</td><td>[  ]</td></tr></tbody></table></div></details></td></tr><tr><td>Message</td><td><div class=\"dni-plaintext\"><pre>The input list was empty.</pre></div></td></tr><tr><td>Data</td><td><i>(empty)</i></td></tr><tr><td>InnerException</td><td><div class=\"dni-plaintext\"><pre>&lt;null&gt;</pre></div></td></tr><tr><td>HelpLink</td><td><div class=\"dni-plaintext\"><pre>&lt;null&gt;</pre></div></td></tr><tr><td>Source</td><td><div class=\"dni-plaintext\"><pre>FSharp.Core</pre></div></td></tr><tr><td>HResult</td><td><div class=\"dni-plaintext\"><pre>-2146233079</pre></div></td></tr><tr><td>StackTrace</td><td><div class=\"dni-plaintext\"><pre>   at Microsoft.FSharp.Collections.FSharpList`1.get_Tail() in D:\\a\\_work\\1\\s\\src\\FSharp.Core\\prim-types.fs:line 4146\r\n",
       "   at lambda_method108(Closure, FSharpList`1)\r\n",
       "   at Microsoft.DotNet.Interactive.Formatting.MemberAccessor`1.GetValueOrException(T instance) in D:\\a\\_work\\1\\s\\src\\Microsoft.DotNet.Interactive.Formatting\\MemberAccessor{T}.cs:line 58</pre></div></td></tr></tbody></table></div></details></td></tr><tr><td><i>(values)</i></td><td><div class=\"dni-plaintext\"><pre>[  ]</pre></div></td></tr></tbody></table></div></details></td></tr><tr><td>Head</td><td><div class=\"dni-plaintext\"><pre>3</pre></div></td></tr><tr><td>Tail</td><td><details class=\"dni-treeview\"><summary><span class=\"dni-code-hint\"><code>[  ]</code></span></summary><div><table><thead><tr></tr></thead><tbody><tr><td>HeadOrDefault</td><td><div class=\"dni-plaintext\"><pre>0</pre></div></td></tr><tr><td>TailOrNull</td><td><div class=\"dni-plaintext\"><pre>&lt;null&gt;</pre></div></td></tr><tr><td>Head</td><td><details class=\"dni-treeview\"><summary><span class=\"dni-code-hint\"><code>System.InvalidOperationException: The input list was empty.\\r\\n   at Microsoft.FSharp.Collections.FSharpList`1.get_Head() in D:\\a\\_work\\1\\s\\src\\FSharp.Core\\prim-types.fs:line 4141\\r\\n   at lambda_method107(Closure, FSharpList`1)\\r\\n   at Microsoft.DotNet.Interactive.Formatting.MemberAccessor`1.GetVa...</code></span></summary><div><table><thead><tr></tr></thead><tbody><tr><td>TargetSite</td><td><details class=\"dni-treeview\"><summary><span class=\"dni-code-hint\"><code>T get_Head()</code></span></summary><div><table><thead><tr></tr></thead><tbody><tr><td>Name</td><td>get_Head</td></tr><tr><td>DeclaringType</td><td>Microsoft.FSharp.Collections.FSharpList`1[T]</td></tr><tr><td>ReflectedType</td><td>Microsoft.FSharp.Collections.FSharpList`1[T]</td></tr><tr><td>MemberType</td><td>Method</td></tr><tr><td>MetadataToken</td><td>100663764</td></tr><tr><td>Module</td><td>FSharp.Core.dll</td></tr><tr><td>IsSecurityCritical</td><td>True</td></tr><tr><td>IsSecuritySafeCritical</td><td>False</td></tr><tr><td>IsSecurityTransparent</td><td>False</td></tr><tr><td>MethodHandle</td><td>System.RuntimeMethodHandle</td></tr><tr><td>Attributes</td><td>Public, HideBySig, SpecialName</td></tr><tr><td>CallingConvention</td><td>Standard, HasThis</td></tr><tr><td>ReturnType</td><td>T</td></tr><tr><td>ReturnTypeCustomAttributes</td><td>T</td></tr><tr><td>ReturnParameter</td><td>T</td></tr><tr><td>IsCollectible</td><td>False</td></tr><tr><td>IsGenericMethod</td><td>False</td></tr><tr><td>IsGenericMethodDefinition</td><td>False</td></tr><tr><td>ContainsGenericParameters</td><td>True</td></tr><tr><td>MethodImplementationFlags</td><td>IL</td></tr><tr><td>IsAbstract</td><td>False</td></tr><tr><td>IsConstructor</td><td>False</td></tr><tr><td>IsFinal</td><td>False</td></tr><tr><td>IsHideBySig</td><td>True</td></tr><tr><td>IsSpecialName</td><td>True</td></tr><tr><td>IsStatic</td><td>False</td></tr><tr><td>IsVirtual</td><td>False</td></tr><tr><td>IsAssembly</td><td>False</td></tr><tr><td>IsFamily</td><td>False</td></tr><tr><td>IsFamilyAndAssembly</td><td>False</td></tr><tr><td>IsFamilyOrAssembly</td><td>False</td></tr><tr><td>IsPrivate</td><td>False</td></tr><tr><td>IsPublic</td><td>True</td></tr><tr><td>IsConstructedGenericMethod</td><td>False</td></tr><tr><td>CustomAttributes</td><td>[  ]</td></tr></tbody></table></div></details></td></tr><tr><td>Message</td><td><div class=\"dni-plaintext\"><pre>The input list was empty.</pre></div></td></tr><tr><td>Data</td><td><i>(empty)</i></td></tr><tr><td>InnerException</td><td><div class=\"dni-plaintext\"><pre>&lt;null&gt;</pre></div></td></tr><tr><td>HelpLink</td><td><div class=\"dni-plaintext\"><pre>&lt;null&gt;</pre></div></td></tr><tr><td>Source</td><td><div class=\"dni-plaintext\"><pre>FSharp.Core</pre></div></td></tr><tr><td>HResult</td><td><div class=\"dni-plaintext\"><pre>-2146233079</pre></div></td></tr><tr><td>StackTrace</td><td><div class=\"dni-plaintext\"><pre>   at Microsoft.FSharp.Collections.FSharpList`1.get_Head() in D:\\a\\_work\\1\\s\\src\\FSharp.Core\\prim-types.fs:line 4141\r\n",
       "   at lambda_method107(Closure, FSharpList`1)\r\n",
       "   at Microsoft.DotNet.Interactive.Formatting.MemberAccessor`1.GetValueOrException(T instance) in D:\\a\\_work\\1\\s\\src\\Microsoft.DotNet.Interactive.Formatting\\MemberAccessor{T}.cs:line 58</pre></div></td></tr></tbody></table></div></details></td></tr><tr><td>Tail</td><td><details class=\"dni-treeview\"><summary><span class=\"dni-code-hint\"><code>System.InvalidOperationException: The input list was empty.\\r\\n   at Microsoft.FSharp.Collections.FSharpList`1.get_Tail() in D:\\a\\_work\\1\\s\\src\\FSharp.Core\\prim-types.fs:line 4146\\r\\n   at lambda_method108(Closure, FSharpList`1)\\r\\n   at Microsoft.DotNet.Interactive.Formatting.MemberAccessor`1.GetVa...</code></span></summary><div><table><thead><tr></tr></thead><tbody><tr><td>TargetSite</td><td><details class=\"dni-treeview\"><summary><span class=\"dni-code-hint\"><code>Microsoft.FSharp.Collections.FSharpList`1[T] get_Tail()</code></span></summary><div><table><thead><tr></tr></thead><tbody><tr><td>Name</td><td>get_Tail</td></tr><tr><td>DeclaringType</td><td>Microsoft.FSharp.Collections.FSharpList`1[T]</td></tr><tr><td>ReflectedType</td><td>Microsoft.FSharp.Collections.FSharpList`1[T]</td></tr><tr><td>MemberType</td><td>Method</td></tr><tr><td>MetadataToken</td><td>100663765</td></tr><tr><td>Module</td><td>FSharp.Core.dll</td></tr><tr><td>IsSecurityCritical</td><td>True</td></tr><tr><td>IsSecuritySafeCritical</td><td>False</td></tr><tr><td>IsSecurityTransparent</td><td>False</td></tr><tr><td>MethodHandle</td><td>System.RuntimeMethodHandle</td></tr><tr><td>Attributes</td><td>Public, HideBySig, SpecialName</td></tr><tr><td>CallingConvention</td><td>Standard, HasThis</td></tr><tr><td>ReturnType</td><td>Microsoft.FSharp.Collections.FSharpList`1[T]</td></tr><tr><td>ReturnTypeCustomAttributes</td><td>Microsoft.FSharp.Collections.FSharpList`1[T]</td></tr><tr><td>ReturnParameter</td><td>Microsoft.FSharp.Collections.FSharpList`1[T]</td></tr><tr><td>IsCollectible</td><td>False</td></tr><tr><td>IsGenericMethod</td><td>False</td></tr><tr><td>IsGenericMethodDefinition</td><td>False</td></tr><tr><td>ContainsGenericParameters</td><td>True</td></tr><tr><td>MethodImplementationFlags</td><td>IL</td></tr><tr><td>IsAbstract</td><td>False</td></tr><tr><td>IsConstructor</td><td>False</td></tr><tr><td>IsFinal</td><td>False</td></tr><tr><td>IsHideBySig</td><td>True</td></tr><tr><td>IsSpecialName</td><td>True</td></tr><tr><td>IsStatic</td><td>False</td></tr><tr><td>IsVirtual</td><td>False</td></tr><tr><td>IsAssembly</td><td>False</td></tr><tr><td>IsFamily</td><td>False</td></tr><tr><td>IsFamilyAndAssembly</td><td>False</td></tr><tr><td>IsFamilyOrAssembly</td><td>False</td></tr><tr><td>IsPrivate</td><td>False</td></tr><tr><td>IsPublic</td><td>True</td></tr><tr><td>IsConstructedGenericMethod</td><td>False</td></tr><tr><td>CustomAttributes</td><td>[  ]</td></tr></tbody></table></div></details></td></tr><tr><td>Message</td><td><div class=\"dni-plaintext\"><pre>The input list was empty.</pre></div></td></tr><tr><td>Data</td><td><i>(empty)</i></td></tr><tr><td>InnerException</td><td><div class=\"dni-plaintext\"><pre>&lt;null&gt;</pre></div></td></tr><tr><td>HelpLink</td><td><div class=\"dni-plaintext\"><pre>&lt;null&gt;</pre></div></td></tr><tr><td>Source</td><td><div class=\"dni-plaintext\"><pre>FSharp.Core</pre></div></td></tr><tr><td>HResult</td><td><div class=\"dni-plaintext\"><pre>-2146233079</pre></div></td></tr><tr><td>StackTrace</td><td><div class=\"dni-plaintext\"><pre>   at Microsoft.FSharp.Collections.FSharpList`1.get_Tail() in D:\\a\\_work\\1\\s\\src\\FSharp.Core\\prim-types.fs:line 4146\r\n",
       "   at lambda_method108(Closure, FSharpList`1)\r\n",
       "   at Microsoft.DotNet.Interactive.Formatting.MemberAccessor`1.GetValueOrException(T instance) in D:\\a\\_work\\1\\s\\src\\Microsoft.DotNet.Interactive.Formatting\\MemberAccessor{T}.cs:line 58</pre></div></td></tr></tbody></table></div></details></td></tr><tr><td><i>(values)</i></td><td><div class=\"dni-plaintext\"><pre>[  ]</pre></div></td></tr></tbody></table></div></details></td></tr><tr><td><i>(values)</i></td><td><div class=\"dni-plaintext\"><pre>[ 3 ]</pre></div></td></tr></tbody></table></div></details></td></tr><tr><td>Head</td><td><div class=\"dni-plaintext\"><pre>2</pre></div></td></tr><tr><td>Tail</td><td><details class=\"dni-treeview\"><summary><span class=\"dni-code-hint\"><code>[ 3 ]</code></span></summary><div><table><thead><tr></tr></thead><tbody><tr><td>HeadOrDefault</td><td><div class=\"dni-plaintext\"><pre>3</pre></div></td></tr><tr><td>TailOrNull</td><td><details class=\"dni-treeview\"><summary><span class=\"dni-code-hint\"><code>[  ]</code></span></summary><div><table><thead><tr></tr></thead><tbody><tr><td>HeadOrDefault</td><td><div class=\"dni-plaintext\"><pre>0</pre></div></td></tr><tr><td>TailOrNull</td><td><div class=\"dni-plaintext\"><pre>&lt;null&gt;</pre></div></td></tr><tr><td>Head</td><td><details class=\"dni-treeview\"><summary><span class=\"dni-code-hint\"><code>System.InvalidOperationException: The input list was empty.\\r\\n   at Microsoft.FSharp.Collections.FSharpList`1.get_Head() in D:\\a\\_work\\1\\s\\src\\FSharp.Core\\prim-types.fs:line 4141\\r\\n   at lambda_method107(Closure, FSharpList`1)\\r\\n   at Microsoft.DotNet.Interactive.Formatting.MemberAccessor`1.GetVa...</code></span></summary><div><table><thead><tr></tr></thead><tbody><tr><td>TargetSite</td><td><details class=\"dni-treeview\"><summary><span class=\"dni-code-hint\"><code>T get_Head()</code></span></summary><div><table><thead><tr></tr></thead><tbody><tr><td>Name</td><td>get_Head</td></tr><tr><td>DeclaringType</td><td>Microsoft.FSharp.Collections.FSharpList`1[T]</td></tr><tr><td>ReflectedType</td><td>Microsoft.FSharp.Collections.FSharpList`1[T]</td></tr><tr><td>MemberType</td><td>Method</td></tr><tr><td>MetadataToken</td><td>100663764</td></tr><tr><td>Module</td><td>FSharp.Core.dll</td></tr><tr><td>IsSecurityCritical</td><td>True</td></tr><tr><td>IsSecuritySafeCritical</td><td>False</td></tr><tr><td>IsSecurityTransparent</td><td>False</td></tr><tr><td>MethodHandle</td><td>System.RuntimeMethodHandle</td></tr><tr><td>Attributes</td><td>Public, HideBySig, SpecialName</td></tr><tr><td>CallingConvention</td><td>Standard, HasThis</td></tr><tr><td>ReturnType</td><td>T</td></tr><tr><td>ReturnTypeCustomAttributes</td><td>T</td></tr><tr><td>ReturnParameter</td><td>T</td></tr><tr><td>IsCollectible</td><td>False</td></tr><tr><td>IsGenericMethod</td><td>False</td></tr><tr><td>IsGenericMethodDefinition</td><td>False</td></tr><tr><td>ContainsGenericParameters</td><td>True</td></tr><tr><td>MethodImplementationFlags</td><td>IL</td></tr><tr><td>IsAbstract</td><td>False</td></tr><tr><td>IsConstructor</td><td>False</td></tr><tr><td>IsFinal</td><td>False</td></tr><tr><td>IsHideBySig</td><td>True</td></tr><tr><td>IsSpecialName</td><td>True</td></tr><tr><td>IsStatic</td><td>False</td></tr><tr><td>IsVirtual</td><td>False</td></tr><tr><td>IsAssembly</td><td>False</td></tr><tr><td>IsFamily</td><td>False</td></tr><tr><td>IsFamilyAndAssembly</td><td>False</td></tr><tr><td>IsFamilyOrAssembly</td><td>False</td></tr><tr><td>IsPrivate</td><td>False</td></tr><tr><td>IsPublic</td><td>True</td></tr><tr><td>IsConstructedGenericMethod</td><td>False</td></tr><tr><td>CustomAttributes</td><td>[  ]</td></tr></tbody></table></div></details></td></tr><tr><td>Message</td><td><div class=\"dni-plaintext\"><pre>The input list was empty.</pre></div></td></tr><tr><td>Data</td><td><i>(empty)</i></td></tr><tr><td>InnerException</td><td><div class=\"dni-plaintext\"><pre>&lt;null&gt;</pre></div></td></tr><tr><td>HelpLink</td><td><div class=\"dni-plaintext\"><pre>&lt;null&gt;</pre></div></td></tr><tr><td>Source</td><td><div class=\"dni-plaintext\"><pre>FSharp.Core</pre></div></td></tr><tr><td>HResult</td><td><div class=\"dni-plaintext\"><pre>-2146233079</pre></div></td></tr><tr><td>StackTrace</td><td><div class=\"dni-plaintext\"><pre>   at Microsoft.FSharp.Collections.FSharpList`1.get_Head() in D:\\a\\_work\\1\\s\\src\\FSharp.Core\\prim-types.fs:line 4141\r\n",
       "   at lambda_method107(Closure, FSharpList`1)\r\n",
       "   at Microsoft.DotNet.Interactive.Formatting.MemberAccessor`1.GetValueOrException(T instance) in D:\\a\\_work\\1\\s\\src\\Microsoft.DotNet.Interactive.Formatting\\MemberAccessor{T}.cs:line 58</pre></div></td></tr></tbody></table></div></details></td></tr><tr><td>Tail</td><td><details class=\"dni-treeview\"><summary><span class=\"dni-code-hint\"><code>System.InvalidOperationException: The input list was empty.\\r\\n   at Microsoft.FSharp.Collections.FSharpList`1.get_Tail() in D:\\a\\_work\\1\\s\\src\\FSharp.Core\\prim-types.fs:line 4146\\r\\n   at lambda_method108(Closure, FSharpList`1)\\r\\n   at Microsoft.DotNet.Interactive.Formatting.MemberAccessor`1.GetVa...</code></span></summary><div><table><thead><tr></tr></thead><tbody><tr><td>TargetSite</td><td><details class=\"dni-treeview\"><summary><span class=\"dni-code-hint\"><code>Microsoft.FSharp.Collections.FSharpList`1[T] get_Tail()</code></span></summary><div><table><thead><tr></tr></thead><tbody><tr><td>Name</td><td>get_Tail</td></tr><tr><td>DeclaringType</td><td>Microsoft.FSharp.Collections.FSharpList`1[T]</td></tr><tr><td>ReflectedType</td><td>Microsoft.FSharp.Collections.FSharpList`1[T]</td></tr><tr><td>MemberType</td><td>Method</td></tr><tr><td>MetadataToken</td><td>100663765</td></tr><tr><td>Module</td><td>FSharp.Core.dll</td></tr><tr><td>IsSecurityCritical</td><td>True</td></tr><tr><td>IsSecuritySafeCritical</td><td>False</td></tr><tr><td>IsSecurityTransparent</td><td>False</td></tr><tr><td>MethodHandle</td><td>System.RuntimeMethodHandle</td></tr><tr><td>Attributes</td><td>Public, HideBySig, SpecialName</td></tr><tr><td>CallingConvention</td><td>Standard, HasThis</td></tr><tr><td>ReturnType</td><td>Microsoft.FSharp.Collections.FSharpList`1[T]</td></tr><tr><td>ReturnTypeCustomAttributes</td><td>Microsoft.FSharp.Collections.FSharpList`1[T]</td></tr><tr><td>ReturnParameter</td><td>Microsoft.FSharp.Collections.FSharpList`1[T]</td></tr><tr><td>IsCollectible</td><td>False</td></tr><tr><td>IsGenericMethod</td><td>False</td></tr><tr><td>IsGenericMethodDefinition</td><td>False</td></tr><tr><td>ContainsGenericParameters</td><td>True</td></tr><tr><td>MethodImplementationFlags</td><td>IL</td></tr><tr><td>IsAbstract</td><td>False</td></tr><tr><td>IsConstructor</td><td>False</td></tr><tr><td>IsFinal</td><td>False</td></tr><tr><td>IsHideBySig</td><td>True</td></tr><tr><td>IsSpecialName</td><td>True</td></tr><tr><td>IsStatic</td><td>False</td></tr><tr><td>IsVirtual</td><td>False</td></tr><tr><td>IsAssembly</td><td>False</td></tr><tr><td>IsFamily</td><td>False</td></tr><tr><td>IsFamilyAndAssembly</td><td>False</td></tr><tr><td>IsFamilyOrAssembly</td><td>False</td></tr><tr><td>IsPrivate</td><td>False</td></tr><tr><td>IsPublic</td><td>True</td></tr><tr><td>IsConstructedGenericMethod</td><td>False</td></tr><tr><td>CustomAttributes</td><td>[  ]</td></tr></tbody></table></div></details></td></tr><tr><td>Message</td><td><div class=\"dni-plaintext\"><pre>The input list was empty.</pre></div></td></tr><tr><td>Data</td><td><i>(empty)</i></td></tr><tr><td>InnerException</td><td><div class=\"dni-plaintext\"><pre>&lt;null&gt;</pre></div></td></tr><tr><td>HelpLink</td><td><div class=\"dni-plaintext\"><pre>&lt;null&gt;</pre></div></td></tr><tr><td>Source</td><td><div class=\"dni-plaintext\"><pre>FSharp.Core</pre></div></td></tr><tr><td>HResult</td><td><div class=\"dni-plaintext\"><pre>-2146233079</pre></div></td></tr><tr><td>StackTrace</td><td><div class=\"dni-plaintext\"><pre>   at Microsoft.FSharp.Collections.FSharpList`1.get_Tail() in D:\\a\\_work\\1\\s\\src\\FSharp.Core\\prim-types.fs:line 4146\r\n",
       "   at lambda_method108(Closure, FSharpList`1)\r\n",
       "   at Microsoft.DotNet.Interactive.Formatting.MemberAccessor`1.GetValueOrException(T instance) in D:\\a\\_work\\1\\s\\src\\Microsoft.DotNet.Interactive.Formatting\\MemberAccessor{T}.cs:line 58</pre></div></td></tr></tbody></table></div></details></td></tr><tr><td><i>(values)</i></td><td><div class=\"dni-plaintext\"><pre>[  ]</pre></div></td></tr></tbody></table></div></details></td></tr><tr><td>Head</td><td><div class=\"dni-plaintext\"><pre>3</pre></div></td></tr><tr><td>Tail</td><td><details class=\"dni-treeview\"><summary><span class=\"dni-code-hint\"><code>[  ]</code></span></summary><div><table><thead><tr></tr></thead><tbody><tr><td>HeadOrDefault</td><td><div class=\"dni-plaintext\"><pre>0</pre></div></td></tr><tr><td>TailOrNull</td><td><div class=\"dni-plaintext\"><pre>&lt;null&gt;</pre></div></td></tr><tr><td>Head</td><td><details class=\"dni-treeview\"><summary><span class=\"dni-code-hint\"><code>System.InvalidOperationException: The input list was empty.\\r\\n   at Microsoft.FSharp.Collections.FSharpList`1.get_Head() in D:\\a\\_work\\1\\s\\src\\FSharp.Core\\prim-types.fs:line 4141\\r\\n   at lambda_method107(Closure, FSharpList`1)\\r\\n   at Microsoft.DotNet.Interactive.Formatting.MemberAccessor`1.GetVa...</code></span></summary><div><table><thead><tr></tr></thead><tbody><tr><td>TargetSite</td><td><details class=\"dni-treeview\"><summary><span class=\"dni-code-hint\"><code>T get_Head()</code></span></summary><div><table><thead><tr></tr></thead><tbody><tr><td>Name</td><td>get_Head</td></tr><tr><td>DeclaringType</td><td>Microsoft.FSharp.Collections.FSharpList`1[T]</td></tr><tr><td>ReflectedType</td><td>Microsoft.FSharp.Collections.FSharpList`1[T]</td></tr><tr><td>MemberType</td><td>Method</td></tr><tr><td>MetadataToken</td><td>100663764</td></tr><tr><td>Module</td><td>FSharp.Core.dll</td></tr><tr><td>IsSecurityCritical</td><td>True</td></tr><tr><td>IsSecuritySafeCritical</td><td>False</td></tr><tr><td>IsSecurityTransparent</td><td>False</td></tr><tr><td>MethodHandle</td><td>System.RuntimeMethodHandle</td></tr><tr><td>Attributes</td><td>Public, HideBySig, SpecialName</td></tr><tr><td>CallingConvention</td><td>Standard, HasThis</td></tr><tr><td>ReturnType</td><td>T</td></tr><tr><td>ReturnTypeCustomAttributes</td><td>T</td></tr><tr><td>ReturnParameter</td><td>T</td></tr><tr><td>IsCollectible</td><td>False</td></tr><tr><td>IsGenericMethod</td><td>False</td></tr><tr><td>IsGenericMethodDefinition</td><td>False</td></tr><tr><td>ContainsGenericParameters</td><td>True</td></tr><tr><td>MethodImplementationFlags</td><td>IL</td></tr><tr><td>IsAbstract</td><td>False</td></tr><tr><td>IsConstructor</td><td>False</td></tr><tr><td>IsFinal</td><td>False</td></tr><tr><td>IsHideBySig</td><td>True</td></tr><tr><td>IsSpecialName</td><td>True</td></tr><tr><td>IsStatic</td><td>False</td></tr><tr><td>IsVirtual</td><td>False</td></tr><tr><td>IsAssembly</td><td>False</td></tr><tr><td>IsFamily</td><td>False</td></tr><tr><td>IsFamilyAndAssembly</td><td>False</td></tr><tr><td>IsFamilyOrAssembly</td><td>False</td></tr><tr><td>IsPrivate</td><td>False</td></tr><tr><td>IsPublic</td><td>True</td></tr><tr><td>IsConstructedGenericMethod</td><td>False</td></tr><tr><td>CustomAttributes</td><td>[  ]</td></tr></tbody></table></div></details></td></tr><tr><td>Message</td><td><div class=\"dni-plaintext\"><pre>The input list was empty.</pre></div></td></tr><tr><td>Data</td><td><i>(empty)</i></td></tr><tr><td>InnerException</td><td><div class=\"dni-plaintext\"><pre>&lt;null&gt;</pre></div></td></tr><tr><td>HelpLink</td><td><div class=\"dni-plaintext\"><pre>&lt;null&gt;</pre></div></td></tr><tr><td>Source</td><td><div class=\"dni-plaintext\"><pre>FSharp.Core</pre></div></td></tr><tr><td>HResult</td><td><div class=\"dni-plaintext\"><pre>-2146233079</pre></div></td></tr><tr><td>StackTrace</td><td><div class=\"dni-plaintext\"><pre>   at Microsoft.FSharp.Collections.FSharpList`1.get_Head() in D:\\a\\_work\\1\\s\\src\\FSharp.Core\\prim-types.fs:line 4141\r\n",
       "   at lambda_method107(Closure, FSharpList`1)\r\n",
       "   at Microsoft.DotNet.Interactive.Formatting.MemberAccessor`1.GetValueOrException(T instance) in D:\\a\\_work\\1\\s\\src\\Microsoft.DotNet.Interactive.Formatting\\MemberAccessor{T}.cs:line 58</pre></div></td></tr></tbody></table></div></details></td></tr><tr><td>Tail</td><td><details class=\"dni-treeview\"><summary><span class=\"dni-code-hint\"><code>System.InvalidOperationException: The input list was empty.\\r\\n   at Microsoft.FSharp.Collections.FSharpList`1.get_Tail() in D:\\a\\_work\\1\\s\\src\\FSharp.Core\\prim-types.fs:line 4146\\r\\n   at lambda_method108(Closure, FSharpList`1)\\r\\n   at Microsoft.DotNet.Interactive.Formatting.MemberAccessor`1.GetVa...</code></span></summary><div><table><thead><tr></tr></thead><tbody><tr><td>TargetSite</td><td><details class=\"dni-treeview\"><summary><span class=\"dni-code-hint\"><code>Microsoft.FSharp.Collections.FSharpList`1[T] get_Tail()</code></span></summary><div><table><thead><tr></tr></thead><tbody><tr><td>Name</td><td>get_Tail</td></tr><tr><td>DeclaringType</td><td>Microsoft.FSharp.Collections.FSharpList`1[T]</td></tr><tr><td>ReflectedType</td><td>Microsoft.FSharp.Collections.FSharpList`1[T]</td></tr><tr><td>MemberType</td><td>Method</td></tr><tr><td>MetadataToken</td><td>100663765</td></tr><tr><td>Module</td><td>FSharp.Core.dll</td></tr><tr><td>IsSecurityCritical</td><td>True</td></tr><tr><td>IsSecuritySafeCritical</td><td>False</td></tr><tr><td>IsSecurityTransparent</td><td>False</td></tr><tr><td>MethodHandle</td><td>System.RuntimeMethodHandle</td></tr><tr><td>Attributes</td><td>Public, HideBySig, SpecialName</td></tr><tr><td>CallingConvention</td><td>Standard, HasThis</td></tr><tr><td>ReturnType</td><td>Microsoft.FSharp.Collections.FSharpList`1[T]</td></tr><tr><td>ReturnTypeCustomAttributes</td><td>Microsoft.FSharp.Collections.FSharpList`1[T]</td></tr><tr><td>ReturnParameter</td><td>Microsoft.FSharp.Collections.FSharpList`1[T]</td></tr><tr><td>IsCollectible</td><td>False</td></tr><tr><td>IsGenericMethod</td><td>False</td></tr><tr><td>IsGenericMethodDefinition</td><td>False</td></tr><tr><td>ContainsGenericParameters</td><td>True</td></tr><tr><td>MethodImplementationFlags</td><td>IL</td></tr><tr><td>IsAbstract</td><td>False</td></tr><tr><td>IsConstructor</td><td>False</td></tr><tr><td>IsFinal</td><td>False</td></tr><tr><td>IsHideBySig</td><td>True</td></tr><tr><td>IsSpecialName</td><td>True</td></tr><tr><td>IsStatic</td><td>False</td></tr><tr><td>IsVirtual</td><td>False</td></tr><tr><td>IsAssembly</td><td>False</td></tr><tr><td>IsFamily</td><td>False</td></tr><tr><td>IsFamilyAndAssembly</td><td>False</td></tr><tr><td>IsFamilyOrAssembly</td><td>False</td></tr><tr><td>IsPrivate</td><td>False</td></tr><tr><td>IsPublic</td><td>True</td></tr><tr><td>IsConstructedGenericMethod</td><td>False</td></tr><tr><td>CustomAttributes</td><td>[  ]</td></tr></tbody></table></div></details></td></tr><tr><td>Message</td><td><div class=\"dni-plaintext\"><pre>The input list was empty.</pre></div></td></tr><tr><td>Data</td><td><i>(empty)</i></td></tr><tr><td>InnerException</td><td><div class=\"dni-plaintext\"><pre>&lt;null&gt;</pre></div></td></tr><tr><td>HelpLink</td><td><div class=\"dni-plaintext\"><pre>&lt;null&gt;</pre></div></td></tr><tr><td>Source</td><td><div class=\"dni-plaintext\"><pre>FSharp.Core</pre></div></td></tr><tr><td>HResult</td><td><div class=\"dni-plaintext\"><pre>-2146233079</pre></div></td></tr><tr><td>StackTrace</td><td><div class=\"dni-plaintext\"><pre>   at Microsoft.FSharp.Collections.FSharpList`1.get_Tail() in D:\\a\\_work\\1\\s\\src\\FSharp.Core\\prim-types.fs:line 4146\r\n",
       "   at lambda_method108(Closure, FSharpList`1)\r\n",
       "   at Microsoft.DotNet.Interactive.Formatting.MemberAccessor`1.GetValueOrException(T instance) in D:\\a\\_work\\1\\s\\src\\Microsoft.DotNet.Interactive.Formatting\\MemberAccessor{T}.cs:line 58</pre></div></td></tr></tbody></table></div></details></td></tr><tr><td><i>(values)</i></td><td><div class=\"dni-plaintext\"><pre>[  ]</pre></div></td></tr></tbody></table></div></details></td></tr><tr><td><i>(values)</i></td><td><div class=\"dni-plaintext\"><pre>[ 3 ]</pre></div></td></tr></tbody></table></div></details></td></tr><tr><td><i>(values)</i></td><td><div class=\"dni-plaintext\"><pre>[ 2, 3 ]</pre></div></td></tr></tbody></table></div></details></td></tr><tr><td>Head</td><td><div class=\"dni-plaintext\"><pre>1</pre></div></td></tr><tr><td>Tail</td><td><details class=\"dni-treeview\"><summary><span class=\"dni-code-hint\"><code>[ 2, 3 ]</code></span></summary><div><table><thead><tr></tr></thead><tbody><tr><td>HeadOrDefault</td><td><div class=\"dni-plaintext\"><pre>2</pre></div></td></tr><tr><td>TailOrNull</td><td><details class=\"dni-treeview\"><summary><span class=\"dni-code-hint\"><code>[ 3 ]</code></span></summary><div><table><thead><tr></tr></thead><tbody><tr><td>HeadOrDefault</td><td><div class=\"dni-plaintext\"><pre>3</pre></div></td></tr><tr><td>TailOrNull</td><td><details class=\"dni-treeview\"><summary><span class=\"dni-code-hint\"><code>[  ]</code></span></summary><div><table><thead><tr></tr></thead><tbody><tr><td>HeadOrDefault</td><td><div class=\"dni-plaintext\"><pre>0</pre></div></td></tr><tr><td>TailOrNull</td><td><div class=\"dni-plaintext\"><pre>&lt;null&gt;</pre></div></td></tr><tr><td>Head</td><td><details class=\"dni-treeview\"><summary><span class=\"dni-code-hint\"><code>System.InvalidOperationException: The input list was empty.\\r\\n   at Microsoft.FSharp.Collections.FSharpList`1.get_Head() in D:\\a\\_work\\1\\s\\src\\FSharp.Core\\prim-types.fs:line 4141\\r\\n   at lambda_method107(Closure, FSharpList`1)\\r\\n   at Microsoft.DotNet.Interactive.Formatting.MemberAccessor`1.GetVa...</code></span></summary><div><table><thead><tr></tr></thead><tbody><tr><td>TargetSite</td><td><details class=\"dni-treeview\"><summary><span class=\"dni-code-hint\"><code>T get_Head()</code></span></summary><div><table><thead><tr></tr></thead><tbody><tr><td>Name</td><td>get_Head</td></tr><tr><td>DeclaringType</td><td>Microsoft.FSharp.Collections.FSharpList`1[T]</td></tr><tr><td>ReflectedType</td><td>Microsoft.FSharp.Collections.FSharpList`1[T]</td></tr><tr><td>MemberType</td><td>Method</td></tr><tr><td>MetadataToken</td><td>100663764</td></tr><tr><td>Module</td><td>FSharp.Core.dll</td></tr><tr><td>IsSecurityCritical</td><td>True</td></tr><tr><td>IsSecuritySafeCritical</td><td>False</td></tr><tr><td>IsSecurityTransparent</td><td>False</td></tr><tr><td>MethodHandle</td><td>System.RuntimeMethodHandle</td></tr><tr><td>Attributes</td><td>Public, HideBySig, SpecialName</td></tr><tr><td>CallingConvention</td><td>Standard, HasThis</td></tr><tr><td>ReturnType</td><td>T</td></tr><tr><td>ReturnTypeCustomAttributes</td><td>T</td></tr><tr><td>ReturnParameter</td><td>T</td></tr><tr><td>IsCollectible</td><td>False</td></tr><tr><td>IsGenericMethod</td><td>False</td></tr><tr><td>IsGenericMethodDefinition</td><td>False</td></tr><tr><td>ContainsGenericParameters</td><td>True</td></tr><tr><td>MethodImplementationFlags</td><td>IL</td></tr><tr><td>IsAbstract</td><td>False</td></tr><tr><td>IsConstructor</td><td>False</td></tr><tr><td>IsFinal</td><td>False</td></tr><tr><td>IsHideBySig</td><td>True</td></tr><tr><td>IsSpecialName</td><td>True</td></tr><tr><td>IsStatic</td><td>False</td></tr><tr><td>IsVirtual</td><td>False</td></tr><tr><td>IsAssembly</td><td>False</td></tr><tr><td>IsFamily</td><td>False</td></tr><tr><td>IsFamilyAndAssembly</td><td>False</td></tr><tr><td>IsFamilyOrAssembly</td><td>False</td></tr><tr><td>IsPrivate</td><td>False</td></tr><tr><td>IsPublic</td><td>True</td></tr><tr><td>IsConstructedGenericMethod</td><td>False</td></tr><tr><td>CustomAttributes</td><td>[  ]</td></tr></tbody></table></div></details></td></tr><tr><td>Message</td><td><div class=\"dni-plaintext\"><pre>The input list was empty.</pre></div></td></tr><tr><td>Data</td><td><i>(empty)</i></td></tr><tr><td>InnerException</td><td><div class=\"dni-plaintext\"><pre>&lt;null&gt;</pre></div></td></tr><tr><td>HelpLink</td><td><div class=\"dni-plaintext\"><pre>&lt;null&gt;</pre></div></td></tr><tr><td>Source</td><td><div class=\"dni-plaintext\"><pre>FSharp.Core</pre></div></td></tr><tr><td>HResult</td><td><div class=\"dni-plaintext\"><pre>-2146233079</pre></div></td></tr><tr><td>StackTrace</td><td><div class=\"dni-plaintext\"><pre>   at Microsoft.FSharp.Collections.FSharpList`1.get_Head() in D:\\a\\_work\\1\\s\\src\\FSharp.Core\\prim-types.fs:line 4141\r\n",
       "   at lambda_method107(Closure, FSharpList`1)\r\n",
       "   at Microsoft.DotNet.Interactive.Formatting.MemberAccessor`1.GetValueOrException(T instance) in D:\\a\\_work\\1\\s\\src\\Microsoft.DotNet.Interactive.Formatting\\MemberAccessor{T}.cs:line 58</pre></div></td></tr></tbody></table></div></details></td></tr><tr><td>Tail</td><td><details class=\"dni-treeview\"><summary><span class=\"dni-code-hint\"><code>System.InvalidOperationException: The input list was empty.\\r\\n   at Microsoft.FSharp.Collections.FSharpList`1.get_Tail() in D:\\a\\_work\\1\\s\\src\\FSharp.Core\\prim-types.fs:line 4146\\r\\n   at lambda_method108(Closure, FSharpList`1)\\r\\n   at Microsoft.DotNet.Interactive.Formatting.MemberAccessor`1.GetVa...</code></span></summary><div><table><thead><tr></tr></thead><tbody><tr><td>TargetSite</td><td><details class=\"dni-treeview\"><summary><span class=\"dni-code-hint\"><code>Microsoft.FSharp.Collections.FSharpList`1[T] get_Tail()</code></span></summary><div><table><thead><tr></tr></thead><tbody><tr><td>Name</td><td>get_Tail</td></tr><tr><td>DeclaringType</td><td>Microsoft.FSharp.Collections.FSharpList`1[T]</td></tr><tr><td>ReflectedType</td><td>Microsoft.FSharp.Collections.FSharpList`1[T]</td></tr><tr><td>MemberType</td><td>Method</td></tr><tr><td>MetadataToken</td><td>100663765</td></tr><tr><td>Module</td><td>FSharp.Core.dll</td></tr><tr><td>IsSecurityCritical</td><td>True</td></tr><tr><td>IsSecuritySafeCritical</td><td>False</td></tr><tr><td>IsSecurityTransparent</td><td>False</td></tr><tr><td>MethodHandle</td><td>System.RuntimeMethodHandle</td></tr><tr><td>Attributes</td><td>Public, HideBySig, SpecialName</td></tr><tr><td>CallingConvention</td><td>Standard, HasThis</td></tr><tr><td>ReturnType</td><td>Microsoft.FSharp.Collections.FSharpList`1[T]</td></tr><tr><td>ReturnTypeCustomAttributes</td><td>Microsoft.FSharp.Collections.FSharpList`1[T]</td></tr><tr><td>ReturnParameter</td><td>Microsoft.FSharp.Collections.FSharpList`1[T]</td></tr><tr><td>IsCollectible</td><td>False</td></tr><tr><td>IsGenericMethod</td><td>False</td></tr><tr><td>IsGenericMethodDefinition</td><td>False</td></tr><tr><td>ContainsGenericParameters</td><td>True</td></tr><tr><td>MethodImplementationFlags</td><td>IL</td></tr><tr><td>IsAbstract</td><td>False</td></tr><tr><td>IsConstructor</td><td>False</td></tr><tr><td>IsFinal</td><td>False</td></tr><tr><td>IsHideBySig</td><td>True</td></tr><tr><td>IsSpecialName</td><td>True</td></tr><tr><td>IsStatic</td><td>False</td></tr><tr><td>IsVirtual</td><td>False</td></tr><tr><td>IsAssembly</td><td>False</td></tr><tr><td>IsFamily</td><td>False</td></tr><tr><td>IsFamilyAndAssembly</td><td>False</td></tr><tr><td>IsFamilyOrAssembly</td><td>False</td></tr><tr><td>IsPrivate</td><td>False</td></tr><tr><td>IsPublic</td><td>True</td></tr><tr><td>IsConstructedGenericMethod</td><td>False</td></tr><tr><td>CustomAttributes</td><td>[  ]</td></tr></tbody></table></div></details></td></tr><tr><td>Message</td><td><div class=\"dni-plaintext\"><pre>The input list was empty.</pre></div></td></tr><tr><td>Data</td><td><i>(empty)</i></td></tr><tr><td>InnerException</td><td><div class=\"dni-plaintext\"><pre>&lt;null&gt;</pre></div></td></tr><tr><td>HelpLink</td><td><div class=\"dni-plaintext\"><pre>&lt;null&gt;</pre></div></td></tr><tr><td>Source</td><td><div class=\"dni-plaintext\"><pre>FSharp.Core</pre></div></td></tr><tr><td>HResult</td><td><div class=\"dni-plaintext\"><pre>-2146233079</pre></div></td></tr><tr><td>StackTrace</td><td><div class=\"dni-plaintext\"><pre>   at Microsoft.FSharp.Collections.FSharpList`1.get_Tail() in D:\\a\\_work\\1\\s\\src\\FSharp.Core\\prim-types.fs:line 4146\r\n",
       "   at lambda_method108(Closure, FSharpList`1)\r\n",
       "   at Microsoft.DotNet.Interactive.Formatting.MemberAccessor`1.GetValueOrException(T instance) in D:\\a\\_work\\1\\s\\src\\Microsoft.DotNet.Interactive.Formatting\\MemberAccessor{T}.cs:line 58</pre></div></td></tr></tbody></table></div></details></td></tr><tr><td><i>(values)</i></td><td><div class=\"dni-plaintext\"><pre>[  ]</pre></div></td></tr></tbody></table></div></details></td></tr><tr><td>Head</td><td><div class=\"dni-plaintext\"><pre>3</pre></div></td></tr><tr><td>Tail</td><td><details class=\"dni-treeview\"><summary><span class=\"dni-code-hint\"><code>[  ]</code></span></summary><div><table><thead><tr></tr></thead><tbody><tr><td>HeadOrDefault</td><td><div class=\"dni-plaintext\"><pre>0</pre></div></td></tr><tr><td>TailOrNull</td><td><div class=\"dni-plaintext\"><pre>&lt;null&gt;</pre></div></td></tr><tr><td>Head</td><td><details class=\"dni-treeview\"><summary><span class=\"dni-code-hint\"><code>System.InvalidOperationException: The input list was empty.\\r\\n   at Microsoft.FSharp.Collections.FSharpList`1.get_Head() in D:\\a\\_work\\1\\s\\src\\FSharp.Core\\prim-types.fs:line 4141\\r\\n   at lambda_method107(Closure, FSharpList`1)\\r\\n   at Microsoft.DotNet.Interactive.Formatting.MemberAccessor`1.GetVa...</code></span></summary><div><table><thead><tr></tr></thead><tbody><tr><td>TargetSite</td><td><details class=\"dni-treeview\"><summary><span class=\"dni-code-hint\"><code>T get_Head()</code></span></summary><div><table><thead><tr></tr></thead><tbody><tr><td>Name</td><td>get_Head</td></tr><tr><td>DeclaringType</td><td>Microsoft.FSharp.Collections.FSharpList`1[T]</td></tr><tr><td>ReflectedType</td><td>Microsoft.FSharp.Collections.FSharpList`1[T]</td></tr><tr><td>MemberType</td><td>Method</td></tr><tr><td>MetadataToken</td><td>100663764</td></tr><tr><td>Module</td><td>FSharp.Core.dll</td></tr><tr><td>IsSecurityCritical</td><td>True</td></tr><tr><td>IsSecuritySafeCritical</td><td>False</td></tr><tr><td>IsSecurityTransparent</td><td>False</td></tr><tr><td>MethodHandle</td><td>System.RuntimeMethodHandle</td></tr><tr><td>Attributes</td><td>Public, HideBySig, SpecialName</td></tr><tr><td>CallingConvention</td><td>Standard, HasThis</td></tr><tr><td>ReturnType</td><td>T</td></tr><tr><td>ReturnTypeCustomAttributes</td><td>T</td></tr><tr><td>ReturnParameter</td><td>T</td></tr><tr><td>IsCollectible</td><td>False</td></tr><tr><td>IsGenericMethod</td><td>False</td></tr><tr><td>IsGenericMethodDefinition</td><td>False</td></tr><tr><td>ContainsGenericParameters</td><td>True</td></tr><tr><td>MethodImplementationFlags</td><td>IL</td></tr><tr><td>IsAbstract</td><td>False</td></tr><tr><td>IsConstructor</td><td>False</td></tr><tr><td>IsFinal</td><td>False</td></tr><tr><td>IsHideBySig</td><td>True</td></tr><tr><td>IsSpecialName</td><td>True</td></tr><tr><td>IsStatic</td><td>False</td></tr><tr><td>IsVirtual</td><td>False</td></tr><tr><td>IsAssembly</td><td>False</td></tr><tr><td>IsFamily</td><td>False</td></tr><tr><td>IsFamilyAndAssembly</td><td>False</td></tr><tr><td>IsFamilyOrAssembly</td><td>False</td></tr><tr><td>IsPrivate</td><td>False</td></tr><tr><td>IsPublic</td><td>True</td></tr><tr><td>IsConstructedGenericMethod</td><td>False</td></tr><tr><td>CustomAttributes</td><td>[  ]</td></tr></tbody></table></div></details></td></tr><tr><td>Message</td><td><div class=\"dni-plaintext\"><pre>The input list was empty.</pre></div></td></tr><tr><td>Data</td><td><i>(empty)</i></td></tr><tr><td>InnerException</td><td><div class=\"dni-plaintext\"><pre>&lt;null&gt;</pre></div></td></tr><tr><td>HelpLink</td><td><div class=\"dni-plaintext\"><pre>&lt;null&gt;</pre></div></td></tr><tr><td>Source</td><td><div class=\"dni-plaintext\"><pre>FSharp.Core</pre></div></td></tr><tr><td>HResult</td><td><div class=\"dni-plaintext\"><pre>-2146233079</pre></div></td></tr><tr><td>StackTrace</td><td><div class=\"dni-plaintext\"><pre>   at Microsoft.FSharp.Collections.FSharpList`1.get_Head() in D:\\a\\_work\\1\\s\\src\\FSharp.Core\\prim-types.fs:line 4141\r\n",
       "   at lambda_method107(Closure, FSharpList`1)\r\n",
       "   at Microsoft.DotNet.Interactive.Formatting.MemberAccessor`1.GetValueOrException(T instance) in D:\\a\\_work\\1\\s\\src\\Microsoft.DotNet.Interactive.Formatting\\MemberAccessor{T}.cs:line 58</pre></div></td></tr></tbody></table></div></details></td></tr><tr><td>Tail</td><td><details class=\"dni-treeview\"><summary><span class=\"dni-code-hint\"><code>System.InvalidOperationException: The input list was empty.\\r\\n   at Microsoft.FSharp.Collections.FSharpList`1.get_Tail() in D:\\a\\_work\\1\\s\\src\\FSharp.Core\\prim-types.fs:line 4146\\r\\n   at lambda_method108(Closure, FSharpList`1)\\r\\n   at Microsoft.DotNet.Interactive.Formatting.MemberAccessor`1.GetVa...</code></span></summary><div><table><thead><tr></tr></thead><tbody><tr><td>TargetSite</td><td><details class=\"dni-treeview\"><summary><span class=\"dni-code-hint\"><code>Microsoft.FSharp.Collections.FSharpList`1[T] get_Tail()</code></span></summary><div><table><thead><tr></tr></thead><tbody><tr><td>Name</td><td>get_Tail</td></tr><tr><td>DeclaringType</td><td>Microsoft.FSharp.Collections.FSharpList`1[T]</td></tr><tr><td>ReflectedType</td><td>Microsoft.FSharp.Collections.FSharpList`1[T]</td></tr><tr><td>MemberType</td><td>Method</td></tr><tr><td>MetadataToken</td><td>100663765</td></tr><tr><td>Module</td><td>FSharp.Core.dll</td></tr><tr><td>IsSecurityCritical</td><td>True</td></tr><tr><td>IsSecuritySafeCritical</td><td>False</td></tr><tr><td>IsSecurityTransparent</td><td>False</td></tr><tr><td>MethodHandle</td><td>System.RuntimeMethodHandle</td></tr><tr><td>Attributes</td><td>Public, HideBySig, SpecialName</td></tr><tr><td>CallingConvention</td><td>Standard, HasThis</td></tr><tr><td>ReturnType</td><td>Microsoft.FSharp.Collections.FSharpList`1[T]</td></tr><tr><td>ReturnTypeCustomAttributes</td><td>Microsoft.FSharp.Collections.FSharpList`1[T]</td></tr><tr><td>ReturnParameter</td><td>Microsoft.FSharp.Collections.FSharpList`1[T]</td></tr><tr><td>IsCollectible</td><td>False</td></tr><tr><td>IsGenericMethod</td><td>False</td></tr><tr><td>IsGenericMethodDefinition</td><td>False</td></tr><tr><td>ContainsGenericParameters</td><td>True</td></tr><tr><td>MethodImplementationFlags</td><td>IL</td></tr><tr><td>IsAbstract</td><td>False</td></tr><tr><td>IsConstructor</td><td>False</td></tr><tr><td>IsFinal</td><td>False</td></tr><tr><td>IsHideBySig</td><td>True</td></tr><tr><td>IsSpecialName</td><td>True</td></tr><tr><td>IsStatic</td><td>False</td></tr><tr><td>IsVirtual</td><td>False</td></tr><tr><td>IsAssembly</td><td>False</td></tr><tr><td>IsFamily</td><td>False</td></tr><tr><td>IsFamilyAndAssembly</td><td>False</td></tr><tr><td>IsFamilyOrAssembly</td><td>False</td></tr><tr><td>IsPrivate</td><td>False</td></tr><tr><td>IsPublic</td><td>True</td></tr><tr><td>IsConstructedGenericMethod</td><td>False</td></tr><tr><td>CustomAttributes</td><td>[  ]</td></tr></tbody></table></div></details></td></tr><tr><td>Message</td><td><div class=\"dni-plaintext\"><pre>The input list was empty.</pre></div></td></tr><tr><td>Data</td><td><i>(empty)</i></td></tr><tr><td>InnerException</td><td><div class=\"dni-plaintext\"><pre>&lt;null&gt;</pre></div></td></tr><tr><td>HelpLink</td><td><div class=\"dni-plaintext\"><pre>&lt;null&gt;</pre></div></td></tr><tr><td>Source</td><td><div class=\"dni-plaintext\"><pre>FSharp.Core</pre></div></td></tr><tr><td>HResult</td><td><div class=\"dni-plaintext\"><pre>-2146233079</pre></div></td></tr><tr><td>StackTrace</td><td><div class=\"dni-plaintext\"><pre>   at Microsoft.FSharp.Collections.FSharpList`1.get_Tail() in D:\\a\\_work\\1\\s\\src\\FSharp.Core\\prim-types.fs:line 4146\r\n",
       "   at lambda_method108(Closure, FSharpList`1)\r\n",
       "   at Microsoft.DotNet.Interactive.Formatting.MemberAccessor`1.GetValueOrException(T instance) in D:\\a\\_work\\1\\s\\src\\Microsoft.DotNet.Interactive.Formatting\\MemberAccessor{T}.cs:line 58</pre></div></td></tr></tbody></table></div></details></td></tr><tr><td><i>(values)</i></td><td><div class=\"dni-plaintext\"><pre>[  ]</pre></div></td></tr></tbody></table></div></details></td></tr><tr><td><i>(values)</i></td><td><div class=\"dni-plaintext\"><pre>[ 3 ]</pre></div></td></tr></tbody></table></div></details></td></tr><tr><td>Head</td><td><div class=\"dni-plaintext\"><pre>2</pre></div></td></tr><tr><td>Tail</td><td><details class=\"dni-treeview\"><summary><span class=\"dni-code-hint\"><code>[ 3 ]</code></span></summary><div><table><thead><tr></tr></thead><tbody><tr><td>HeadOrDefault</td><td><div class=\"dni-plaintext\"><pre>3</pre></div></td></tr><tr><td>TailOrNull</td><td><details class=\"dni-treeview\"><summary><span class=\"dni-code-hint\"><code>[  ]</code></span></summary><div><table><thead><tr></tr></thead><tbody><tr><td>HeadOrDefault</td><td><div class=\"dni-plaintext\"><pre>0</pre></div></td></tr><tr><td>TailOrNull</td><td><div class=\"dni-plaintext\"><pre>&lt;null&gt;</pre></div></td></tr><tr><td>Head</td><td><details class=\"dni-treeview\"><summary><span class=\"dni-code-hint\"><code>System.InvalidOperationException: The input list was empty.\\r\\n   at Microsoft.FSharp.Collections.FSharpList`1.get_Head() in D:\\a\\_work\\1\\s\\src\\FSharp.Core\\prim-types.fs:line 4141\\r\\n   at lambda_method107(Closure, FSharpList`1)\\r\\n   at Microsoft.DotNet.Interactive.Formatting.MemberAccessor`1.GetVa...</code></span></summary><div><table><thead><tr></tr></thead><tbody><tr><td>TargetSite</td><td><details class=\"dni-treeview\"><summary><span class=\"dni-code-hint\"><code>T get_Head()</code></span></summary><div><table><thead><tr></tr></thead><tbody><tr><td>Name</td><td>get_Head</td></tr><tr><td>DeclaringType</td><td>Microsoft.FSharp.Collections.FSharpList`1[T]</td></tr><tr><td>ReflectedType</td><td>Microsoft.FSharp.Collections.FSharpList`1[T]</td></tr><tr><td>MemberType</td><td>Method</td></tr><tr><td>MetadataToken</td><td>100663764</td></tr><tr><td>Module</td><td>FSharp.Core.dll</td></tr><tr><td>IsSecurityCritical</td><td>True</td></tr><tr><td>IsSecuritySafeCritical</td><td>False</td></tr><tr><td>IsSecurityTransparent</td><td>False</td></tr><tr><td>MethodHandle</td><td>System.RuntimeMethodHandle</td></tr><tr><td>Attributes</td><td>Public, HideBySig, SpecialName</td></tr><tr><td>CallingConvention</td><td>Standard, HasThis</td></tr><tr><td>ReturnType</td><td>T</td></tr><tr><td>ReturnTypeCustomAttributes</td><td>T</td></tr><tr><td>ReturnParameter</td><td>T</td></tr><tr><td>IsCollectible</td><td>False</td></tr><tr><td>IsGenericMethod</td><td>False</td></tr><tr><td>IsGenericMethodDefinition</td><td>False</td></tr><tr><td>ContainsGenericParameters</td><td>True</td></tr><tr><td>MethodImplementationFlags</td><td>IL</td></tr><tr><td>IsAbstract</td><td>False</td></tr><tr><td>IsConstructor</td><td>False</td></tr><tr><td>IsFinal</td><td>False</td></tr><tr><td>IsHideBySig</td><td>True</td></tr><tr><td>IsSpecialName</td><td>True</td></tr><tr><td>IsStatic</td><td>False</td></tr><tr><td>IsVirtual</td><td>False</td></tr><tr><td>IsAssembly</td><td>False</td></tr><tr><td>IsFamily</td><td>False</td></tr><tr><td>IsFamilyAndAssembly</td><td>False</td></tr><tr><td>IsFamilyOrAssembly</td><td>False</td></tr><tr><td>IsPrivate</td><td>False</td></tr><tr><td>IsPublic</td><td>True</td></tr><tr><td>IsConstructedGenericMethod</td><td>False</td></tr><tr><td>CustomAttributes</td><td>[  ]</td></tr></tbody></table></div></details></td></tr><tr><td>Message</td><td><div class=\"dni-plaintext\"><pre>The input list was empty.</pre></div></td></tr><tr><td>Data</td><td><i>(empty)</i></td></tr><tr><td>InnerException</td><td><div class=\"dni-plaintext\"><pre>&lt;null&gt;</pre></div></td></tr><tr><td>HelpLink</td><td><div class=\"dni-plaintext\"><pre>&lt;null&gt;</pre></div></td></tr><tr><td>Source</td><td><div class=\"dni-plaintext\"><pre>FSharp.Core</pre></div></td></tr><tr><td>HResult</td><td><div class=\"dni-plaintext\"><pre>-2146233079</pre></div></td></tr><tr><td>StackTrace</td><td><div class=\"dni-plaintext\"><pre>   at Microsoft.FSharp.Collections.FSharpList`1.get_Head() in D:\\a\\_work\\1\\s\\src\\FSharp.Core\\prim-types.fs:line 4141\r\n",
       "   at lambda_method107(Closure, FSharpList`1)\r\n",
       "   at Microsoft.DotNet.Interactive.Formatting.MemberAccessor`1.GetValueOrException(T instance) in D:\\a\\_work\\1\\s\\src\\Microsoft.DotNet.Interactive.Formatting\\MemberAccessor{T}.cs:line 58</pre></div></td></tr></tbody></table></div></details></td></tr><tr><td>Tail</td><td><details class=\"dni-treeview\"><summary><span class=\"dni-code-hint\"><code>System.InvalidOperationException: The input list was empty.\\r\\n   at Microsoft.FSharp.Collections.FSharpList`1.get_Tail() in D:\\a\\_work\\1\\s\\src\\FSharp.Core\\prim-types.fs:line 4146\\r\\n   at lambda_method108(Closure, FSharpList`1)\\r\\n   at Microsoft.DotNet.Interactive.Formatting.MemberAccessor`1.GetVa...</code></span></summary><div><table><thead><tr></tr></thead><tbody><tr><td>TargetSite</td><td><details class=\"dni-treeview\"><summary><span class=\"dni-code-hint\"><code>Microsoft.FSharp.Collections.FSharpList`1[T] get_Tail()</code></span></summary><div><table><thead><tr></tr></thead><tbody><tr><td>Name</td><td>get_Tail</td></tr><tr><td>DeclaringType</td><td>Microsoft.FSharp.Collections.FSharpList`1[T]</td></tr><tr><td>ReflectedType</td><td>Microsoft.FSharp.Collections.FSharpList`1[T]</td></tr><tr><td>MemberType</td><td>Method</td></tr><tr><td>MetadataToken</td><td>100663765</td></tr><tr><td>Module</td><td>FSharp.Core.dll</td></tr><tr><td>IsSecurityCritical</td><td>True</td></tr><tr><td>IsSecuritySafeCritical</td><td>False</td></tr><tr><td>IsSecurityTransparent</td><td>False</td></tr><tr><td>MethodHandle</td><td>System.RuntimeMethodHandle</td></tr><tr><td>Attributes</td><td>Public, HideBySig, SpecialName</td></tr><tr><td>CallingConvention</td><td>Standard, HasThis</td></tr><tr><td>ReturnType</td><td>Microsoft.FSharp.Collections.FSharpList`1[T]</td></tr><tr><td>ReturnTypeCustomAttributes</td><td>Microsoft.FSharp.Collections.FSharpList`1[T]</td></tr><tr><td>ReturnParameter</td><td>Microsoft.FSharp.Collections.FSharpList`1[T]</td></tr><tr><td>IsCollectible</td><td>False</td></tr><tr><td>IsGenericMethod</td><td>False</td></tr><tr><td>IsGenericMethodDefinition</td><td>False</td></tr><tr><td>ContainsGenericParameters</td><td>True</td></tr><tr><td>MethodImplementationFlags</td><td>IL</td></tr><tr><td>IsAbstract</td><td>False</td></tr><tr><td>IsConstructor</td><td>False</td></tr><tr><td>IsFinal</td><td>False</td></tr><tr><td>IsHideBySig</td><td>True</td></tr><tr><td>IsSpecialName</td><td>True</td></tr><tr><td>IsStatic</td><td>False</td></tr><tr><td>IsVirtual</td><td>False</td></tr><tr><td>IsAssembly</td><td>False</td></tr><tr><td>IsFamily</td><td>False</td></tr><tr><td>IsFamilyAndAssembly</td><td>False</td></tr><tr><td>IsFamilyOrAssembly</td><td>False</td></tr><tr><td>IsPrivate</td><td>False</td></tr><tr><td>IsPublic</td><td>True</td></tr><tr><td>IsConstructedGenericMethod</td><td>False</td></tr><tr><td>CustomAttributes</td><td>[  ]</td></tr></tbody></table></div></details></td></tr><tr><td>Message</td><td><div class=\"dni-plaintext\"><pre>The input list was empty.</pre></div></td></tr><tr><td>Data</td><td><i>(empty)</i></td></tr><tr><td>InnerException</td><td><div class=\"dni-plaintext\"><pre>&lt;null&gt;</pre></div></td></tr><tr><td>HelpLink</td><td><div class=\"dni-plaintext\"><pre>&lt;null&gt;</pre></div></td></tr><tr><td>Source</td><td><div class=\"dni-plaintext\"><pre>FSharp.Core</pre></div></td></tr><tr><td>HResult</td><td><div class=\"dni-plaintext\"><pre>-2146233079</pre></div></td></tr><tr><td>StackTrace</td><td><div class=\"dni-plaintext\"><pre>   at Microsoft.FSharp.Collections.FSharpList`1.get_Tail() in D:\\a\\_work\\1\\s\\src\\FSharp.Core\\prim-types.fs:line 4146\r\n",
       "   at lambda_method108(Closure, FSharpList`1)\r\n",
       "   at Microsoft.DotNet.Interactive.Formatting.MemberAccessor`1.GetValueOrException(T instance) in D:\\a\\_work\\1\\s\\src\\Microsoft.DotNet.Interactive.Formatting\\MemberAccessor{T}.cs:line 58</pre></div></td></tr></tbody></table></div></details></td></tr><tr><td><i>(values)</i></td><td><div class=\"dni-plaintext\"><pre>[  ]</pre></div></td></tr></tbody></table></div></details></td></tr><tr><td>Head</td><td><div class=\"dni-plaintext\"><pre>3</pre></div></td></tr><tr><td>Tail</td><td><details class=\"dni-treeview\"><summary><span class=\"dni-code-hint\"><code>[  ]</code></span></summary><div><table><thead><tr></tr></thead><tbody><tr><td>HeadOrDefault</td><td><div class=\"dni-plaintext\"><pre>0</pre></div></td></tr><tr><td>TailOrNull</td><td><div class=\"dni-plaintext\"><pre>&lt;null&gt;</pre></div></td></tr><tr><td>Head</td><td><details class=\"dni-treeview\"><summary><span class=\"dni-code-hint\"><code>System.InvalidOperationException: The input list was empty.\\r\\n   at Microsoft.FSharp.Collections.FSharpList`1.get_Head() in D:\\a\\_work\\1\\s\\src\\FSharp.Core\\prim-types.fs:line 4141\\r\\n   at lambda_method107(Closure, FSharpList`1)\\r\\n   at Microsoft.DotNet.Interactive.Formatting.MemberAccessor`1.GetVa...</code></span></summary><div><table><thead><tr></tr></thead><tbody><tr><td>TargetSite</td><td><details class=\"dni-treeview\"><summary><span class=\"dni-code-hint\"><code>T get_Head()</code></span></summary><div><table><thead><tr></tr></thead><tbody><tr><td>Name</td><td>get_Head</td></tr><tr><td>DeclaringType</td><td>Microsoft.FSharp.Collections.FSharpList`1[T]</td></tr><tr><td>ReflectedType</td><td>Microsoft.FSharp.Collections.FSharpList`1[T]</td></tr><tr><td>MemberType</td><td>Method</td></tr><tr><td>MetadataToken</td><td>100663764</td></tr><tr><td>Module</td><td>FSharp.Core.dll</td></tr><tr><td>IsSecurityCritical</td><td>True</td></tr><tr><td>IsSecuritySafeCritical</td><td>False</td></tr><tr><td>IsSecurityTransparent</td><td>False</td></tr><tr><td>MethodHandle</td><td>System.RuntimeMethodHandle</td></tr><tr><td>Attributes</td><td>Public, HideBySig, SpecialName</td></tr><tr><td>CallingConvention</td><td>Standard, HasThis</td></tr><tr><td>ReturnType</td><td>T</td></tr><tr><td>ReturnTypeCustomAttributes</td><td>T</td></tr><tr><td>ReturnParameter</td><td>T</td></tr><tr><td>IsCollectible</td><td>False</td></tr><tr><td>IsGenericMethod</td><td>False</td></tr><tr><td>IsGenericMethodDefinition</td><td>False</td></tr><tr><td>ContainsGenericParameters</td><td>True</td></tr><tr><td>MethodImplementationFlags</td><td>IL</td></tr><tr><td>IsAbstract</td><td>False</td></tr><tr><td>IsConstructor</td><td>False</td></tr><tr><td>IsFinal</td><td>False</td></tr><tr><td>IsHideBySig</td><td>True</td></tr><tr><td>IsSpecialName</td><td>True</td></tr><tr><td>IsStatic</td><td>False</td></tr><tr><td>IsVirtual</td><td>False</td></tr><tr><td>IsAssembly</td><td>False</td></tr><tr><td>IsFamily</td><td>False</td></tr><tr><td>IsFamilyAndAssembly</td><td>False</td></tr><tr><td>IsFamilyOrAssembly</td><td>False</td></tr><tr><td>IsPrivate</td><td>False</td></tr><tr><td>IsPublic</td><td>True</td></tr><tr><td>IsConstructedGenericMethod</td><td>False</td></tr><tr><td>CustomAttributes</td><td>[  ]</td></tr></tbody></table></div></details></td></tr><tr><td>Message</td><td><div class=\"dni-plaintext\"><pre>The input list was empty.</pre></div></td></tr><tr><td>Data</td><td><i>(empty)</i></td></tr><tr><td>InnerException</td><td><div class=\"dni-plaintext\"><pre>&lt;null&gt;</pre></div></td></tr><tr><td>HelpLink</td><td><div class=\"dni-plaintext\"><pre>&lt;null&gt;</pre></div></td></tr><tr><td>Source</td><td><div class=\"dni-plaintext\"><pre>FSharp.Core</pre></div></td></tr><tr><td>HResult</td><td><div class=\"dni-plaintext\"><pre>-2146233079</pre></div></td></tr><tr><td>StackTrace</td><td><div class=\"dni-plaintext\"><pre>   at Microsoft.FSharp.Collections.FSharpList`1.get_Head() in D:\\a\\_work\\1\\s\\src\\FSharp.Core\\prim-types.fs:line 4141\r\n",
       "   at lambda_method107(Closure, FSharpList`1)\r\n",
       "   at Microsoft.DotNet.Interactive.Formatting.MemberAccessor`1.GetValueOrException(T instance) in D:\\a\\_work\\1\\s\\src\\Microsoft.DotNet.Interactive.Formatting\\MemberAccessor{T}.cs:line 58</pre></div></td></tr></tbody></table></div></details></td></tr><tr><td>Tail</td><td><details class=\"dni-treeview\"><summary><span class=\"dni-code-hint\"><code>System.InvalidOperationException: The input list was empty.\\r\\n   at Microsoft.FSharp.Collections.FSharpList`1.get_Tail() in D:\\a\\_work\\1\\s\\src\\FSharp.Core\\prim-types.fs:line 4146\\r\\n   at lambda_method108(Closure, FSharpList`1)\\r\\n   at Microsoft.DotNet.Interactive.Formatting.MemberAccessor`1.GetVa...</code></span></summary><div><table><thead><tr></tr></thead><tbody><tr><td>TargetSite</td><td><details class=\"dni-treeview\"><summary><span class=\"dni-code-hint\"><code>Microsoft.FSharp.Collections.FSharpList`1[T] get_Tail()</code></span></summary><div><table><thead><tr></tr></thead><tbody><tr><td>Name</td><td>get_Tail</td></tr><tr><td>DeclaringType</td><td>Microsoft.FSharp.Collections.FSharpList`1[T]</td></tr><tr><td>ReflectedType</td><td>Microsoft.FSharp.Collections.FSharpList`1[T]</td></tr><tr><td>MemberType</td><td>Method</td></tr><tr><td>MetadataToken</td><td>100663765</td></tr><tr><td>Module</td><td>FSharp.Core.dll</td></tr><tr><td>IsSecurityCritical</td><td>True</td></tr><tr><td>IsSecuritySafeCritical</td><td>False</td></tr><tr><td>IsSecurityTransparent</td><td>False</td></tr><tr><td>MethodHandle</td><td>System.RuntimeMethodHandle</td></tr><tr><td>Attributes</td><td>Public, HideBySig, SpecialName</td></tr><tr><td>CallingConvention</td><td>Standard, HasThis</td></tr><tr><td>ReturnType</td><td>Microsoft.FSharp.Collections.FSharpList`1[T]</td></tr><tr><td>ReturnTypeCustomAttributes</td><td>Microsoft.FSharp.Collections.FSharpList`1[T]</td></tr><tr><td>ReturnParameter</td><td>Microsoft.FSharp.Collections.FSharpList`1[T]</td></tr><tr><td>IsCollectible</td><td>False</td></tr><tr><td>IsGenericMethod</td><td>False</td></tr><tr><td>IsGenericMethodDefinition</td><td>False</td></tr><tr><td>ContainsGenericParameters</td><td>True</td></tr><tr><td>MethodImplementationFlags</td><td>IL</td></tr><tr><td>IsAbstract</td><td>False</td></tr><tr><td>IsConstructor</td><td>False</td></tr><tr><td>IsFinal</td><td>False</td></tr><tr><td>IsHideBySig</td><td>True</td></tr><tr><td>IsSpecialName</td><td>True</td></tr><tr><td>IsStatic</td><td>False</td></tr><tr><td>IsVirtual</td><td>False</td></tr><tr><td>IsAssembly</td><td>False</td></tr><tr><td>IsFamily</td><td>False</td></tr><tr><td>IsFamilyAndAssembly</td><td>False</td></tr><tr><td>IsFamilyOrAssembly</td><td>False</td></tr><tr><td>IsPrivate</td><td>False</td></tr><tr><td>IsPublic</td><td>True</td></tr><tr><td>IsConstructedGenericMethod</td><td>False</td></tr><tr><td>CustomAttributes</td><td>[  ]</td></tr></tbody></table></div></details></td></tr><tr><td>Message</td><td><div class=\"dni-plaintext\"><pre>The input list was empty.</pre></div></td></tr><tr><td>Data</td><td><i>(empty)</i></td></tr><tr><td>InnerException</td><td><div class=\"dni-plaintext\"><pre>&lt;null&gt;</pre></div></td></tr><tr><td>HelpLink</td><td><div class=\"dni-plaintext\"><pre>&lt;null&gt;</pre></div></td></tr><tr><td>Source</td><td><div class=\"dni-plaintext\"><pre>FSharp.Core</pre></div></td></tr><tr><td>HResult</td><td><div class=\"dni-plaintext\"><pre>-2146233079</pre></div></td></tr><tr><td>StackTrace</td><td><div class=\"dni-plaintext\"><pre>   at Microsoft.FSharp.Collections.FSharpList`1.get_Tail() in D:\\a\\_work\\1\\s\\src\\FSharp.Core\\prim-types.fs:line 4146\r\n",
       "   at lambda_method108(Closure, FSharpList`1)\r\n",
       "   at Microsoft.DotNet.Interactive.Formatting.MemberAccessor`1.GetValueOrException(T instance) in D:\\a\\_work\\1\\s\\src\\Microsoft.DotNet.Interactive.Formatting\\MemberAccessor{T}.cs:line 58</pre></div></td></tr></tbody></table></div></details></td></tr><tr><td><i>(values)</i></td><td><div class=\"dni-plaintext\"><pre>[  ]</pre></div></td></tr></tbody></table></div></details></td></tr><tr><td><i>(values)</i></td><td><div class=\"dni-plaintext\"><pre>[ 3 ]</pre></div></td></tr></tbody></table></div></details></td></tr><tr><td><i>(values)</i></td><td><div class=\"dni-plaintext\"><pre>[ 2, 3 ]</pre></div></td></tr></tbody></table></div></details></td></tr><tr><td><i>(values)</i></td><td><div class=\"dni-plaintext\"><pre>[ 1, 2, 3 ]</pre></div></td></tr></tbody></table></div></details><style>\r\n",
       ".dni-code-hint {\r\n",
       "    font-style: italic;\r\n",
       "    overflow: hidden;\r\n",
       "    white-space: nowrap;\r\n",
       "}\r\n",
       ".dni-treeview {\r\n",
       "    white-space: nowrap;\r\n",
       "}\r\n",
       ".dni-treeview td {\r\n",
       "    vertical-align: top;\r\n",
       "    text-align: start;\r\n",
       "}\r\n",
       "details.dni-treeview {\r\n",
       "    padding-left: 1em;\r\n",
       "}\r\n",
       "table td {\r\n",
       "    text-align: start;\r\n",
       "}\r\n",
       "table tr { \r\n",
       "    vertical-align: top; \r\n",
       "    margin: 0em 0px;\r\n",
       "}\r\n",
       "table tr td pre \r\n",
       "{ \r\n",
       "    vertical-align: top !important; \r\n",
       "    margin: 0em 0px !important;\r\n",
       "} \r\n",
       "table th {\r\n",
       "    text-align: start;\r\n",
       "}\r\n",
       "</style>"
      ]
     },
     "metadata": {},
     "output_type": "display_data"
    }
   ],
   "source": [
    "// This is a list.\n",
    "[ 1; 2; 3 ]\n",
    "\n",
    "// This is also a list.\n",
    "[\n",
    "    1\n",
    "    2\n",
    "    3\n",
    "]"
   ]
  },
  {
   "cell_type": "markdown",
   "id": "2c7fa6f9",
   "metadata": {
    "dotnet_repl_cellExecutionEndTime": "2024-02-29T00:55:59.6031373-06:00",
    "dotnet_repl_cellExecutionStartTime": "2024-02-29T00:55:59.6027499-06:00"
   },
   "source": [
    "All elements of a list must be the of the same *type*. So `[ 1; \"a\"; true ]` is not valid.\n",
    "\n",
    "In F#, the `,` separates tuple elements, not collection elements. Tuples are useful for all kinds of things in F#, and the language comes with a terse syntax for representing them:"
   ]
  },
  {
   "cell_type": "code",
   "execution_count": 5,
   "id": "6dfe016e",
   "metadata": {
    "dotnet_interactive": {
     "language": "fsharp"
    },
    "dotnet_repl_cellExecutionEndTime": "2024-02-29T00:55:59.6397836-06:00",
    "dotnet_repl_cellExecutionStartTime": "2024-02-29T00:55:59.6031502-06:00",
    "polyglot_notebook": {
     "kernelName": "fsharp"
    }
   },
   "outputs": [
    {
     "data": {
      "text/html": [
       "<details open=\"open\" class=\"dni-treeview\"><summary><span class=\"dni-code-hint\"><code>(6, 7)</code></span></summary><div><table><thead><tr></tr></thead><tbody><tr><td>Item1</td><td><div class=\"dni-plaintext\"><pre>6</pre></div></td></tr><tr><td>Item2</td><td><div class=\"dni-plaintext\"><pre>7</pre></div></td></tr></tbody></table></div></details><style>\r\n",
       ".dni-code-hint {\r\n",
       "    font-style: italic;\r\n",
       "    overflow: hidden;\r\n",
       "    white-space: nowrap;\r\n",
       "}\r\n",
       ".dni-treeview {\r\n",
       "    white-space: nowrap;\r\n",
       "}\r\n",
       ".dni-treeview td {\r\n",
       "    vertical-align: top;\r\n",
       "    text-align: start;\r\n",
       "}\r\n",
       "details.dni-treeview {\r\n",
       "    padding-left: 1em;\r\n",
       "}\r\n",
       "table td {\r\n",
       "    text-align: start;\r\n",
       "}\r\n",
       "table tr { \r\n",
       "    vertical-align: top; \r\n",
       "    margin: 0em 0px;\r\n",
       "}\r\n",
       "table tr td pre \r\n",
       "{ \r\n",
       "    vertical-align: top !important; \r\n",
       "    margin: 0em 0px !important;\r\n",
       "} \r\n",
       "table th {\r\n",
       "    text-align: start;\r\n",
       "}\r\n",
       "</style>"
      ]
     },
     "metadata": {},
     "output_type": "display_data"
    }
   ],
   "source": [
    "// two-ple\n",
    "1, 2\n",
    "\n",
    "// 4-ary tuple\n",
    "3, 4, 5, 6\n",
    "\n",
    "// Unlike collections (lists and arrays), tuples can hold parameters of different types.\n",
    "\"Erica\", 34, false\n",
    "\n",
    "// Sometimes parentheses are required\n",
    "(6, 7)"
   ]
  },
  {
   "cell_type": "markdown",
   "id": "4f82a6fd",
   "metadata": {
    "dotnet_repl_cellExecutionEndTime": "2024-02-29T00:56:02.1398404-06:00",
    "dotnet_repl_cellExecutionStartTime": "2024-02-29T00:56:02.1393207-06:00"
   },
   "source": [
    "We can use tuples and lists together to plot points:"
   ]
  },
  {
   "cell_type": "code",
   "execution_count": 6,
   "id": "439eb48c",
   "metadata": {
    "dotnet_interactive": {
     "language": "fsharp"
    },
    "dotnet_repl_cellExecutionEndTime": "2024-02-29T00:56:02.8497319-06:00",
    "dotnet_repl_cellExecutionStartTime": "2024-02-29T00:56:02.1398542-06:00",
    "polyglot_notebook": {
     "kernelName": "fsharp"
    }
   },
   "outputs": [
    {
     "data": {
      "text/html": [
       "<div><div id=\"0f00c909-4292-444d-8c22-8b424b0f627f\"><!-- Plotly chart will be drawn inside this DIV --></div><script type=\"text/javascript\">\n",
       "var renderPlotly_0f00c9094292444d8c228b424b0f627f = function() {\n",
       "    var fsharpPlotlyRequire = requirejs.config({context:'fsharp-plotly',paths:{plotly:'https://cdn.plot.ly/plotly-2.21.0.min'}}) || require;\n",
       "    fsharpPlotlyRequire(['plotly'], function(Plotly) {\n",
       "        var data = [{\"type\":\"scatter\",\"mode\":\"markers\",\"x\":[1,2,3],\"y\":[2,4,3],\"marker\":{},\"line\":{}}];\n",
       "        var layout = {\"width\":600,\"height\":600,\"template\":{\"layout\":{\"title\":{\"x\":0.05},\"font\":{\"color\":\"rgba(42, 63, 95, 1.0)\"},\"paper_bgcolor\":\"rgba(255, 255, 255, 1.0)\",\"plot_bgcolor\":\"rgba(229, 236, 246, 1.0)\",\"autotypenumbers\":\"strict\",\"colorscale\":{\"diverging\":[[0.0,\"#8e0152\"],[0.1,\"#c51b7d\"],[0.2,\"#de77ae\"],[0.3,\"#f1b6da\"],[0.4,\"#fde0ef\"],[0.5,\"#f7f7f7\"],[0.6,\"#e6f5d0\"],[0.7,\"#b8e186\"],[0.8,\"#7fbc41\"],[0.9,\"#4d9221\"],[1.0,\"#276419\"]],\"sequential\":[[0.0,\"#0d0887\"],[0.1111111111111111,\"#46039f\"],[0.2222222222222222,\"#7201a8\"],[0.3333333333333333,\"#9c179e\"],[0.4444444444444444,\"#bd3786\"],[0.5555555555555556,\"#d8576b\"],[0.6666666666666666,\"#ed7953\"],[0.7777777777777778,\"#fb9f3a\"],[0.8888888888888888,\"#fdca26\"],[1.0,\"#f0f921\"]],\"sequentialminus\":[[0.0,\"#0d0887\"],[0.1111111111111111,\"#46039f\"],[0.2222222222222222,\"#7201a8\"],[0.3333333333333333,\"#9c179e\"],[0.4444444444444444,\"#bd3786\"],[0.5555555555555556,\"#d8576b\"],[0.6666666666666666,\"#ed7953\"],[0.7777777777777778,\"#fb9f3a\"],[0.8888888888888888,\"#fdca26\"],[1.0,\"#f0f921\"]]},\"hovermode\":\"closest\",\"hoverlabel\":{\"align\":\"left\"},\"coloraxis\":{\"colorbar\":{\"outlinewidth\":0.0,\"ticks\":\"\"}},\"geo\":{\"showland\":true,\"landcolor\":\"rgba(229, 236, 246, 1.0)\",\"showlakes\":true,\"lakecolor\":\"rgba(255, 255, 255, 1.0)\",\"subunitcolor\":\"rgba(255, 255, 255, 1.0)\",\"bgcolor\":\"rgba(255, 255, 255, 1.0)\"},\"mapbox\":{\"style\":\"light\"},\"polar\":{\"bgcolor\":\"rgba(229, 236, 246, 1.0)\",\"radialaxis\":{\"linecolor\":\"rgba(255, 255, 255, 1.0)\",\"gridcolor\":\"rgba(255, 255, 255, 1.0)\",\"ticks\":\"\"},\"angularaxis\":{\"linecolor\":\"rgba(255, 255, 255, 1.0)\",\"gridcolor\":\"rgba(255, 255, 255, 1.0)\",\"ticks\":\"\"}},\"scene\":{\"xaxis\":{\"ticks\":\"\",\"linecolor\":\"rgba(255, 255, 255, 1.0)\",\"gridcolor\":\"rgba(255, 255, 255, 1.0)\",\"gridwidth\":2.0,\"zerolinecolor\":\"rgba(255, 255, 255, 1.0)\",\"backgroundcolor\":\"rgba(229, 236, 246, 1.0)\",\"showbackground\":true},\"yaxis\":{\"ticks\":\"\",\"linecolor\":\"rgba(255, 255, 255, 1.0)\",\"gridcolor\":\"rgba(255, 255, 255, 1.0)\",\"gridwidth\":2.0,\"zerolinecolor\":\"rgba(255, 255, 255, 1.0)\",\"backgroundcolor\":\"rgba(229, 236, 246, 1.0)\",\"showbackground\":true},\"zaxis\":{\"ticks\":\"\",\"linecolor\":\"rgba(255, 255, 255, 1.0)\",\"gridcolor\":\"rgba(255, 255, 255, 1.0)\",\"gridwidth\":2.0,\"zerolinecolor\":\"rgba(255, 255, 255, 1.0)\",\"backgroundcolor\":\"rgba(229, 236, 246, 1.0)\",\"showbackground\":true}},\"ternary\":{\"aaxis\":{\"ticks\":\"\",\"linecolor\":\"rgba(255, 255, 255, 1.0)\",\"gridcolor\":\"rgba(255, 255, 255, 1.0)\"},\"baxis\":{\"ticks\":\"\",\"linecolor\":\"rgba(255, 255, 255, 1.0)\",\"gridcolor\":\"rgba(255, 255, 255, 1.0)\"},\"caxis\":{\"ticks\":\"\",\"linecolor\":\"rgba(255, 255, 255, 1.0)\",\"gridcolor\":\"rgba(255, 255, 255, 1.0)\"},\"bgcolor\":\"rgba(229, 236, 246, 1.0)\"},\"xaxis\":{\"title\":{\"standoff\":15},\"ticks\":\"\",\"automargin\":\"height+width+left+right+top+bottom\",\"linecolor\":\"rgba(255, 255, 255, 1.0)\",\"gridcolor\":\"rgba(255, 255, 255, 1.0)\",\"zerolinecolor\":\"rgba(255, 255, 255, 1.0)\",\"zerolinewidth\":2.0},\"yaxis\":{\"title\":{\"standoff\":15},\"ticks\":\"\",\"automargin\":\"height+width+left+right+top+bottom\",\"linecolor\":\"rgba(255, 255, 255, 1.0)\",\"gridcolor\":\"rgba(255, 255, 255, 1.0)\",\"zerolinecolor\":\"rgba(255, 255, 255, 1.0)\",\"zerolinewidth\":2.0},\"annotationdefaults\":{\"arrowcolor\":\"#2a3f5f\",\"arrowhead\":0,\"arrowwidth\":1},\"shapedefaults\":{\"line\":{\"color\":\"rgba(42, 63, 95, 1.0)\"}},\"colorway\":[\"rgba(99, 110, 250, 1.0)\",\"rgba(239, 85, 59, 1.0)\",\"rgba(0, 204, 150, 1.0)\",\"rgba(171, 99, 250, 1.0)\",\"rgba(255, 161, 90, 1.0)\",\"rgba(25, 211, 243, 1.0)\",\"rgba(255, 102, 146, 1.0)\",\"rgba(182, 232, 128, 1.0)\",\"rgba(255, 151, 255, 1.0)\",\"rgba(254, 203, 82, 1.0)\"]},\"data\":{\"bar\":[{\"marker\":{\"line\":{\"color\":\"rgba(229, 236, 246, 1.0)\",\"width\":0.5},\"pattern\":{\"fillmode\":\"overlay\",\"size\":10,\"solidity\":0.2}},\"error_x\":{\"color\":\"rgba(42, 63, 95, 1.0)\"},\"error_y\":{\"color\":\"rgba(42, 63, 95, 1.0)\"}}],\"barpolar\":[{\"marker\":{\"line\":{\"color\":\"rgba(229, 236, 246, 1.0)\",\"width\":0.5},\"pattern\":{\"fillmode\":\"overlay\",\"size\":10,\"solidity\":0.2}}}],\"carpet\":[{\"aaxis\":{\"linecolor\":\"rgba(255, 255, 255, 1.0)\",\"gridcolor\":\"rgba(255, 255, 255, 1.0)\",\"endlinecolor\":\"rgba(42, 63, 95, 1.0)\",\"minorgridcolor\":\"rgba(255, 255, 255, 1.0)\",\"startlinecolor\":\"rgba(42, 63, 95, 1.0)\"},\"baxis\":{\"linecolor\":\"rgba(255, 255, 255, 1.0)\",\"gridcolor\":\"rgba(255, 255, 255, 1.0)\",\"endlinecolor\":\"rgba(42, 63, 95, 1.0)\",\"minorgridcolor\":\"rgba(255, 255, 255, 1.0)\",\"startlinecolor\":\"rgba(42, 63, 95, 1.0)\"}}],\"choropleth\":[{\"colorbar\":{\"outlinewidth\":0.0,\"ticks\":\"\"},\"colorscale\":[[0.0,\"#0d0887\"],[0.1111111111111111,\"#46039f\"],[0.2222222222222222,\"#7201a8\"],[0.3333333333333333,\"#9c179e\"],[0.4444444444444444,\"#bd3786\"],[0.5555555555555556,\"#d8576b\"],[0.6666666666666666,\"#ed7953\"],[0.7777777777777778,\"#fb9f3a\"],[0.8888888888888888,\"#fdca26\"],[1.0,\"#f0f921\"]]}],\"contour\":[{\"colorbar\":{\"outlinewidth\":0.0,\"ticks\":\"\"},\"colorscale\":[[0.0,\"#0d0887\"],[0.1111111111111111,\"#46039f\"],[0.2222222222222222,\"#7201a8\"],[0.3333333333333333,\"#9c179e\"],[0.4444444444444444,\"#bd3786\"],[0.5555555555555556,\"#d8576b\"],[0.6666666666666666,\"#ed7953\"],[0.7777777777777778,\"#fb9f3a\"],[0.8888888888888888,\"#fdca26\"],[1.0,\"#f0f921\"]]}],\"contourcarpet\":[{\"colorbar\":{\"outlinewidth\":0.0,\"ticks\":\"\"}}],\"heatmap\":[{\"colorbar\":{\"outlinewidth\":0.0,\"ticks\":\"\"},\"colorscale\":[[0.0,\"#0d0887\"],[0.1111111111111111,\"#46039f\"],[0.2222222222222222,\"#7201a8\"],[0.3333333333333333,\"#9c179e\"],[0.4444444444444444,\"#bd3786\"],[0.5555555555555556,\"#d8576b\"],[0.6666666666666666,\"#ed7953\"],[0.7777777777777778,\"#fb9f3a\"],[0.8888888888888888,\"#fdca26\"],[1.0,\"#f0f921\"]]}],\"heatmapgl\":[{\"colorbar\":{\"outlinewidth\":0.0,\"ticks\":\"\"},\"colorscale\":[[0.0,\"#0d0887\"],[0.1111111111111111,\"#46039f\"],[0.2222222222222222,\"#7201a8\"],[0.3333333333333333,\"#9c179e\"],[0.4444444444444444,\"#bd3786\"],[0.5555555555555556,\"#d8576b\"],[0.6666666666666666,\"#ed7953\"],[0.7777777777777778,\"#fb9f3a\"],[0.8888888888888888,\"#fdca26\"],[1.0,\"#f0f921\"]]}],\"histogram\":[{\"marker\":{\"pattern\":{\"fillmode\":\"overlay\",\"size\":10,\"solidity\":0.2}}}],\"histogram2d\":[{\"colorbar\":{\"outlinewidth\":0.0,\"ticks\":\"\"},\"colorscale\":[[0.0,\"#0d0887\"],[0.1111111111111111,\"#46039f\"],[0.2222222222222222,\"#7201a8\"],[0.3333333333333333,\"#9c179e\"],[0.4444444444444444,\"#bd3786\"],[0.5555555555555556,\"#d8576b\"],[0.6666666666666666,\"#ed7953\"],[0.7777777777777778,\"#fb9f3a\"],[0.8888888888888888,\"#fdca26\"],[1.0,\"#f0f921\"]]}],\"histogram2dcontour\":[{\"colorbar\":{\"outlinewidth\":0.0,\"ticks\":\"\"},\"colorscale\":[[0.0,\"#0d0887\"],[0.1111111111111111,\"#46039f\"],[0.2222222222222222,\"#7201a8\"],[0.3333333333333333,\"#9c179e\"],[0.4444444444444444,\"#bd3786\"],[0.5555555555555556,\"#d8576b\"],[0.6666666666666666,\"#ed7953\"],[0.7777777777777778,\"#fb9f3a\"],[0.8888888888888888,\"#fdca26\"],[1.0,\"#f0f921\"]]}],\"mesh3d\":[{\"colorbar\":{\"outlinewidth\":0.0,\"ticks\":\"\"}}],\"parcoords\":[{\"line\":{\"colorbar\":{\"outlinewidth\":0.0,\"ticks\":\"\"}}}],\"pie\":[{\"automargin\":true}],\"scatter\":[{\"marker\":{\"colorbar\":{\"outlinewidth\":0.0,\"ticks\":\"\"}}}],\"scatter3d\":[{\"marker\":{\"colorbar\":{\"outlinewidth\":0.0,\"ticks\":\"\"}},\"line\":{\"colorbar\":{\"outlinewidth\":0.0,\"ticks\":\"\"}}}],\"scattercarpet\":[{\"marker\":{\"colorbar\":{\"outlinewidth\":0.0,\"ticks\":\"\"}}}],\"scattergeo\":[{\"marker\":{\"colorbar\":{\"outlinewidth\":0.0,\"ticks\":\"\"}}}],\"scattergl\":[{\"marker\":{\"colorbar\":{\"outlinewidth\":0.0,\"ticks\":\"\"}}}],\"scattermapbox\":[{\"marker\":{\"colorbar\":{\"outlinewidth\":0.0,\"ticks\":\"\"}}}],\"scatterpolar\":[{\"marker\":{\"colorbar\":{\"outlinewidth\":0.0,\"ticks\":\"\"}}}],\"scatterpolargl\":[{\"marker\":{\"colorbar\":{\"outlinewidth\":0.0,\"ticks\":\"\"}}}],\"scatterternary\":[{\"marker\":{\"colorbar\":{\"outlinewidth\":0.0,\"ticks\":\"\"}}}],\"surface\":[{\"colorbar\":{\"outlinewidth\":0.0,\"ticks\":\"\"},\"colorscale\":[[0.0,\"#0d0887\"],[0.1111111111111111,\"#46039f\"],[0.2222222222222222,\"#7201a8\"],[0.3333333333333333,\"#9c179e\"],[0.4444444444444444,\"#bd3786\"],[0.5555555555555556,\"#d8576b\"],[0.6666666666666666,\"#ed7953\"],[0.7777777777777778,\"#fb9f3a\"],[0.8888888888888888,\"#fdca26\"],[1.0,\"#f0f921\"]]}],\"table\":[{\"cells\":{\"fill\":{\"color\":\"rgba(235, 240, 248, 1.0)\"},\"line\":{\"color\":\"rgba(255, 255, 255, 1.0)\"}},\"header\":{\"fill\":{\"color\":\"rgba(200, 212, 227, 1.0)\"},\"line\":{\"color\":\"rgba(255, 255, 255, 1.0)\"}}}]}}};\n",
       "        var config = {\"responsive\":true};\n",
       "        Plotly.newPlot('0f00c909-4292-444d-8c22-8b424b0f627f', data, layout, config);\n",
       "    });\n",
       "};\n",
       "if ((typeof(requirejs) !==  typeof(Function)) || (typeof(requirejs.config) !== typeof(Function))) {\n",
       "    var script = document.createElement(\"script\");\n",
       "    script.setAttribute(\"charset\", \"utf-8\");\n",
       "    script.setAttribute(\"src\", \"https://cdnjs.cloudflare.com/ajax/libs/require.js/2.3.6/require.min.js\");\n",
       "    script.onload = function(){\n",
       "        renderPlotly_0f00c9094292444d8c228b424b0f627f();\n",
       "    };\n",
       "    document.getElementsByTagName(\"head\")[0].appendChild(script);\n",
       "}\n",
       "else {\n",
       "    renderPlotly_0f00c9094292444d8c228b424b0f627f();\n",
       "}\n",
       "</script></div>"
      ]
     },
     "metadata": {},
     "output_type": "display_data"
    }
   ],
   "source": [
    "open Plotly.NET\n",
    "\n",
    "Chart.Point(\n",
    "[ \n",
    "    1, 2\n",
    "    2, 4\n",
    "    3, 3\n",
    "])"
   ]
  },
  {
   "cell_type": "markdown",
   "id": "c0311dec",
   "metadata": {
    "dotnet_repl_cellExecutionEndTime": "2024-02-29T00:56:02.8501087-06:00",
    "dotnet_repl_cellExecutionStartTime": "2024-02-29T00:56:02.8497556-06:00"
   },
   "source": [
    "You can also create lists using the range operator `..`,"
   ]
  },
  {
   "cell_type": "code",
   "execution_count": 7,
   "id": "000ad7b4",
   "metadata": {
    "dotnet_interactive": {
     "language": "fsharp"
    },
    "dotnet_repl_cellExecutionEndTime": "2024-02-29T00:56:02.9179676-06:00",
    "dotnet_repl_cellExecutionStartTime": "2024-02-29T00:56:02.8501369-06:00",
    "polyglot_notebook": {
     "kernelName": "fsharp"
    }
   },
   "outputs": [
    {
     "data": {
      "text/html": [
       "<details open=\"open\" class=\"dni-treeview\"><summary><span class=\"dni-code-hint\"><code>[ 5, 4, 3, 2, 1, 0, -1, -2, -3, -4, -5 ]</code></span></summary><div><table><thead><tr></tr></thead><tbody><tr><td>HeadOrDefault</td><td><div class=\"dni-plaintext\"><pre>5</pre></div></td></tr><tr><td>TailOrNull</td><td><details class=\"dni-treeview\"><summary><span class=\"dni-code-hint\"><code>[ 4, 3, 2, 1, 0, -1, -2, -3, -4, -5 ]</code></span></summary><div><table><thead><tr></tr></thead><tbody><tr><td>HeadOrDefault</td><td><div class=\"dni-plaintext\"><pre>4</pre></div></td></tr><tr><td>TailOrNull</td><td><details class=\"dni-treeview\"><summary><span class=\"dni-code-hint\"><code>[ 3, 2, 1, 0, -1, -2, -3, -4, -5 ]</code></span></summary><div><table><thead><tr></tr></thead><tbody><tr><td>HeadOrDefault</td><td><div class=\"dni-plaintext\"><pre>3</pre></div></td></tr><tr><td>TailOrNull</td><td><details class=\"dni-treeview\"><summary><span class=\"dni-code-hint\"><code>[ 2, 1, 0, -1, -2, -3, -4, -5 ]</code></span></summary><div><table><thead><tr></tr></thead><tbody><tr><td>HeadOrDefault</td><td><div class=\"dni-plaintext\"><pre>2</pre></div></td></tr><tr><td>TailOrNull</td><td><details class=\"dni-treeview\"><summary><span class=\"dni-code-hint\"><code>[ 1, 0, -1, -2, -3, -4, -5 ]</code></span></summary><div><table><thead><tr></tr></thead><tbody><tr><td>HeadOrDefault</td><td><div class=\"dni-plaintext\"><pre>1</pre></div></td></tr><tr><td>TailOrNull</td><td><details class=\"dni-treeview\"><summary><span class=\"dni-code-hint\"><code>[ 0, -1, -2, -3, -4, -5 ]</code></span></summary><div><table><thead><tr></tr></thead><tbody><tr><td>HeadOrDefault</td><td>0</td></tr><tr><td>TailOrNull</td><td>[ -1, -2, -3, -4, -5 ]</td></tr><tr><td>Head</td><td>0</td></tr><tr><td>Tail</td><td>[ -1, -2, -3, -4, -5 ]</td></tr><tr><td><i>(values)</i></td><td><div class=\"dni-plaintext\"><pre>[ 0, -1, -2, -3, -4, -5 ]</pre></div></td></tr></tbody></table></div></details></td></tr><tr><td>Head</td><td><div class=\"dni-plaintext\"><pre>1</pre></div></td></tr><tr><td>Tail</td><td><details class=\"dni-treeview\"><summary><span class=\"dni-code-hint\"><code>[ 0, -1, -2, -3, -4, -5 ]</code></span></summary><div><table><thead><tr></tr></thead><tbody><tr><td>HeadOrDefault</td><td>0</td></tr><tr><td>TailOrNull</td><td>[ -1, -2, -3, -4, -5 ]</td></tr><tr><td>Head</td><td>0</td></tr><tr><td>Tail</td><td>[ -1, -2, -3, -4, -5 ]</td></tr><tr><td><i>(values)</i></td><td><div class=\"dni-plaintext\"><pre>[ 0, -1, -2, -3, -4, -5 ]</pre></div></td></tr></tbody></table></div></details></td></tr><tr><td><i>(values)</i></td><td><div class=\"dni-plaintext\"><pre>[ 1, 0, -1, -2, -3, -4, -5 ]</pre></div></td></tr></tbody></table></div></details></td></tr><tr><td>Head</td><td><div class=\"dni-plaintext\"><pre>2</pre></div></td></tr><tr><td>Tail</td><td><details class=\"dni-treeview\"><summary><span class=\"dni-code-hint\"><code>[ 1, 0, -1, -2, -3, -4, -5 ]</code></span></summary><div><table><thead><tr></tr></thead><tbody><tr><td>HeadOrDefault</td><td><div class=\"dni-plaintext\"><pre>1</pre></div></td></tr><tr><td>TailOrNull</td><td><details class=\"dni-treeview\"><summary><span class=\"dni-code-hint\"><code>[ 0, -1, -2, -3, -4, -5 ]</code></span></summary><div><table><thead><tr></tr></thead><tbody><tr><td>HeadOrDefault</td><td>0</td></tr><tr><td>TailOrNull</td><td>[ -1, -2, -3, -4, -5 ]</td></tr><tr><td>Head</td><td>0</td></tr><tr><td>Tail</td><td>[ -1, -2, -3, -4, -5 ]</td></tr><tr><td><i>(values)</i></td><td><div class=\"dni-plaintext\"><pre>[ 0, -1, -2, -3, -4, -5 ]</pre></div></td></tr></tbody></table></div></details></td></tr><tr><td>Head</td><td><div class=\"dni-plaintext\"><pre>1</pre></div></td></tr><tr><td>Tail</td><td><details class=\"dni-treeview\"><summary><span class=\"dni-code-hint\"><code>[ 0, -1, -2, -3, -4, -5 ]</code></span></summary><div><table><thead><tr></tr></thead><tbody><tr><td>HeadOrDefault</td><td>0</td></tr><tr><td>TailOrNull</td><td>[ -1, -2, -3, -4, -5 ]</td></tr><tr><td>Head</td><td>0</td></tr><tr><td>Tail</td><td>[ -1, -2, -3, -4, -5 ]</td></tr><tr><td><i>(values)</i></td><td><div class=\"dni-plaintext\"><pre>[ 0, -1, -2, -3, -4, -5 ]</pre></div></td></tr></tbody></table></div></details></td></tr><tr><td><i>(values)</i></td><td><div class=\"dni-plaintext\"><pre>[ 1, 0, -1, -2, -3, -4, -5 ]</pre></div></td></tr></tbody></table></div></details></td></tr><tr><td><i>(values)</i></td><td><div class=\"dni-plaintext\"><pre>[ 2, 1, 0, -1, -2, -3, -4, -5 ]</pre></div></td></tr></tbody></table></div></details></td></tr><tr><td>Head</td><td><div class=\"dni-plaintext\"><pre>3</pre></div></td></tr><tr><td>Tail</td><td><details class=\"dni-treeview\"><summary><span class=\"dni-code-hint\"><code>[ 2, 1, 0, -1, -2, -3, -4, -5 ]</code></span></summary><div><table><thead><tr></tr></thead><tbody><tr><td>HeadOrDefault</td><td><div class=\"dni-plaintext\"><pre>2</pre></div></td></tr><tr><td>TailOrNull</td><td><details class=\"dni-treeview\"><summary><span class=\"dni-code-hint\"><code>[ 1, 0, -1, -2, -3, -4, -5 ]</code></span></summary><div><table><thead><tr></tr></thead><tbody><tr><td>HeadOrDefault</td><td><div class=\"dni-plaintext\"><pre>1</pre></div></td></tr><tr><td>TailOrNull</td><td><details class=\"dni-treeview\"><summary><span class=\"dni-code-hint\"><code>[ 0, -1, -2, -3, -4, -5 ]</code></span></summary><div><table><thead><tr></tr></thead><tbody><tr><td>HeadOrDefault</td><td>0</td></tr><tr><td>TailOrNull</td><td>[ -1, -2, -3, -4, -5 ]</td></tr><tr><td>Head</td><td>0</td></tr><tr><td>Tail</td><td>[ -1, -2, -3, -4, -5 ]</td></tr><tr><td><i>(values)</i></td><td><div class=\"dni-plaintext\"><pre>[ 0, -1, -2, -3, -4, -5 ]</pre></div></td></tr></tbody></table></div></details></td></tr><tr><td>Head</td><td><div class=\"dni-plaintext\"><pre>1</pre></div></td></tr><tr><td>Tail</td><td><details class=\"dni-treeview\"><summary><span class=\"dni-code-hint\"><code>[ 0, -1, -2, -3, -4, -5 ]</code></span></summary><div><table><thead><tr></tr></thead><tbody><tr><td>HeadOrDefault</td><td>0</td></tr><tr><td>TailOrNull</td><td>[ -1, -2, -3, -4, -5 ]</td></tr><tr><td>Head</td><td>0</td></tr><tr><td>Tail</td><td>[ -1, -2, -3, -4, -5 ]</td></tr><tr><td><i>(values)</i></td><td><div class=\"dni-plaintext\"><pre>[ 0, -1, -2, -3, -4, -5 ]</pre></div></td></tr></tbody></table></div></details></td></tr><tr><td><i>(values)</i></td><td><div class=\"dni-plaintext\"><pre>[ 1, 0, -1, -2, -3, -4, -5 ]</pre></div></td></tr></tbody></table></div></details></td></tr><tr><td>Head</td><td><div class=\"dni-plaintext\"><pre>2</pre></div></td></tr><tr><td>Tail</td><td><details class=\"dni-treeview\"><summary><span class=\"dni-code-hint\"><code>[ 1, 0, -1, -2, -3, -4, -5 ]</code></span></summary><div><table><thead><tr></tr></thead><tbody><tr><td>HeadOrDefault</td><td><div class=\"dni-plaintext\"><pre>1</pre></div></td></tr><tr><td>TailOrNull</td><td><details class=\"dni-treeview\"><summary><span class=\"dni-code-hint\"><code>[ 0, -1, -2, -3, -4, -5 ]</code></span></summary><div><table><thead><tr></tr></thead><tbody><tr><td>HeadOrDefault</td><td>0</td></tr><tr><td>TailOrNull</td><td>[ -1, -2, -3, -4, -5 ]</td></tr><tr><td>Head</td><td>0</td></tr><tr><td>Tail</td><td>[ -1, -2, -3, -4, -5 ]</td></tr><tr><td><i>(values)</i></td><td><div class=\"dni-plaintext\"><pre>[ 0, -1, -2, -3, -4, -5 ]</pre></div></td></tr></tbody></table></div></details></td></tr><tr><td>Head</td><td><div class=\"dni-plaintext\"><pre>1</pre></div></td></tr><tr><td>Tail</td><td><details class=\"dni-treeview\"><summary><span class=\"dni-code-hint\"><code>[ 0, -1, -2, -3, -4, -5 ]</code></span></summary><div><table><thead><tr></tr></thead><tbody><tr><td>HeadOrDefault</td><td>0</td></tr><tr><td>TailOrNull</td><td>[ -1, -2, -3, -4, -5 ]</td></tr><tr><td>Head</td><td>0</td></tr><tr><td>Tail</td><td>[ -1, -2, -3, -4, -5 ]</td></tr><tr><td><i>(values)</i></td><td><div class=\"dni-plaintext\"><pre>[ 0, -1, -2, -3, -4, -5 ]</pre></div></td></tr></tbody></table></div></details></td></tr><tr><td><i>(values)</i></td><td><div class=\"dni-plaintext\"><pre>[ 1, 0, -1, -2, -3, -4, -5 ]</pre></div></td></tr></tbody></table></div></details></td></tr><tr><td><i>(values)</i></td><td><div class=\"dni-plaintext\"><pre>[ 2, 1, 0, -1, -2, -3, -4, -5 ]</pre></div></td></tr></tbody></table></div></details></td></tr><tr><td><i>(values)</i></td><td><div class=\"dni-plaintext\"><pre>[ 3, 2, 1, 0, -1, -2, -3, -4, -5 ]</pre></div></td></tr></tbody></table></div></details></td></tr><tr><td>Head</td><td><div class=\"dni-plaintext\"><pre>4</pre></div></td></tr><tr><td>Tail</td><td><details class=\"dni-treeview\"><summary><span class=\"dni-code-hint\"><code>[ 3, 2, 1, 0, -1, -2, -3, -4, -5 ]</code></span></summary><div><table><thead><tr></tr></thead><tbody><tr><td>HeadOrDefault</td><td><div class=\"dni-plaintext\"><pre>3</pre></div></td></tr><tr><td>TailOrNull</td><td><details class=\"dni-treeview\"><summary><span class=\"dni-code-hint\"><code>[ 2, 1, 0, -1, -2, -3, -4, -5 ]</code></span></summary><div><table><thead><tr></tr></thead><tbody><tr><td>HeadOrDefault</td><td><div class=\"dni-plaintext\"><pre>2</pre></div></td></tr><tr><td>TailOrNull</td><td><details class=\"dni-treeview\"><summary><span class=\"dni-code-hint\"><code>[ 1, 0, -1, -2, -3, -4, -5 ]</code></span></summary><div><table><thead><tr></tr></thead><tbody><tr><td>HeadOrDefault</td><td><div class=\"dni-plaintext\"><pre>1</pre></div></td></tr><tr><td>TailOrNull</td><td><details class=\"dni-treeview\"><summary><span class=\"dni-code-hint\"><code>[ 0, -1, -2, -3, -4, -5 ]</code></span></summary><div><table><thead><tr></tr></thead><tbody><tr><td>HeadOrDefault</td><td>0</td></tr><tr><td>TailOrNull</td><td>[ -1, -2, -3, -4, -5 ]</td></tr><tr><td>Head</td><td>0</td></tr><tr><td>Tail</td><td>[ -1, -2, -3, -4, -5 ]</td></tr><tr><td><i>(values)</i></td><td><div class=\"dni-plaintext\"><pre>[ 0, -1, -2, -3, -4, -5 ]</pre></div></td></tr></tbody></table></div></details></td></tr><tr><td>Head</td><td><div class=\"dni-plaintext\"><pre>1</pre></div></td></tr><tr><td>Tail</td><td><details class=\"dni-treeview\"><summary><span class=\"dni-code-hint\"><code>[ 0, -1, -2, -3, -4, -5 ]</code></span></summary><div><table><thead><tr></tr></thead><tbody><tr><td>HeadOrDefault</td><td>0</td></tr><tr><td>TailOrNull</td><td>[ -1, -2, -3, -4, -5 ]</td></tr><tr><td>Head</td><td>0</td></tr><tr><td>Tail</td><td>[ -1, -2, -3, -4, -5 ]</td></tr><tr><td><i>(values)</i></td><td><div class=\"dni-plaintext\"><pre>[ 0, -1, -2, -3, -4, -5 ]</pre></div></td></tr></tbody></table></div></details></td></tr><tr><td><i>(values)</i></td><td><div class=\"dni-plaintext\"><pre>[ 1, 0, -1, -2, -3, -4, -5 ]</pre></div></td></tr></tbody></table></div></details></td></tr><tr><td>Head</td><td><div class=\"dni-plaintext\"><pre>2</pre></div></td></tr><tr><td>Tail</td><td><details class=\"dni-treeview\"><summary><span class=\"dni-code-hint\"><code>[ 1, 0, -1, -2, -3, -4, -5 ]</code></span></summary><div><table><thead><tr></tr></thead><tbody><tr><td>HeadOrDefault</td><td><div class=\"dni-plaintext\"><pre>1</pre></div></td></tr><tr><td>TailOrNull</td><td><details class=\"dni-treeview\"><summary><span class=\"dni-code-hint\"><code>[ 0, -1, -2, -3, -4, -5 ]</code></span></summary><div><table><thead><tr></tr></thead><tbody><tr><td>HeadOrDefault</td><td>0</td></tr><tr><td>TailOrNull</td><td>[ -1, -2, -3, -4, -5 ]</td></tr><tr><td>Head</td><td>0</td></tr><tr><td>Tail</td><td>[ -1, -2, -3, -4, -5 ]</td></tr><tr><td><i>(values)</i></td><td><div class=\"dni-plaintext\"><pre>[ 0, -1, -2, -3, -4, -5 ]</pre></div></td></tr></tbody></table></div></details></td></tr><tr><td>Head</td><td><div class=\"dni-plaintext\"><pre>1</pre></div></td></tr><tr><td>Tail</td><td><details class=\"dni-treeview\"><summary><span class=\"dni-code-hint\"><code>[ 0, -1, -2, -3, -4, -5 ]</code></span></summary><div><table><thead><tr></tr></thead><tbody><tr><td>HeadOrDefault</td><td>0</td></tr><tr><td>TailOrNull</td><td>[ -1, -2, -3, -4, -5 ]</td></tr><tr><td>Head</td><td>0</td></tr><tr><td>Tail</td><td>[ -1, -2, -3, -4, -5 ]</td></tr><tr><td><i>(values)</i></td><td><div class=\"dni-plaintext\"><pre>[ 0, -1, -2, -3, -4, -5 ]</pre></div></td></tr></tbody></table></div></details></td></tr><tr><td><i>(values)</i></td><td><div class=\"dni-plaintext\"><pre>[ 1, 0, -1, -2, -3, -4, -5 ]</pre></div></td></tr></tbody></table></div></details></td></tr><tr><td><i>(values)</i></td><td><div class=\"dni-plaintext\"><pre>[ 2, 1, 0, -1, -2, -3, -4, -5 ]</pre></div></td></tr></tbody></table></div></details></td></tr><tr><td>Head</td><td><div class=\"dni-plaintext\"><pre>3</pre></div></td></tr><tr><td>Tail</td><td><details class=\"dni-treeview\"><summary><span class=\"dni-code-hint\"><code>[ 2, 1, 0, -1, -2, -3, -4, -5 ]</code></span></summary><div><table><thead><tr></tr></thead><tbody><tr><td>HeadOrDefault</td><td><div class=\"dni-plaintext\"><pre>2</pre></div></td></tr><tr><td>TailOrNull</td><td><details class=\"dni-treeview\"><summary><span class=\"dni-code-hint\"><code>[ 1, 0, -1, -2, -3, -4, -5 ]</code></span></summary><div><table><thead><tr></tr></thead><tbody><tr><td>HeadOrDefault</td><td><div class=\"dni-plaintext\"><pre>1</pre></div></td></tr><tr><td>TailOrNull</td><td><details class=\"dni-treeview\"><summary><span class=\"dni-code-hint\"><code>[ 0, -1, -2, -3, -4, -5 ]</code></span></summary><div><table><thead><tr></tr></thead><tbody><tr><td>HeadOrDefault</td><td>0</td></tr><tr><td>TailOrNull</td><td>[ -1, -2, -3, -4, -5 ]</td></tr><tr><td>Head</td><td>0</td></tr><tr><td>Tail</td><td>[ -1, -2, -3, -4, -5 ]</td></tr><tr><td><i>(values)</i></td><td><div class=\"dni-plaintext\"><pre>[ 0, -1, -2, -3, -4, -5 ]</pre></div></td></tr></tbody></table></div></details></td></tr><tr><td>Head</td><td><div class=\"dni-plaintext\"><pre>1</pre></div></td></tr><tr><td>Tail</td><td><details class=\"dni-treeview\"><summary><span class=\"dni-code-hint\"><code>[ 0, -1, -2, -3, -4, -5 ]</code></span></summary><div><table><thead><tr></tr></thead><tbody><tr><td>HeadOrDefault</td><td>0</td></tr><tr><td>TailOrNull</td><td>[ -1, -2, -3, -4, -5 ]</td></tr><tr><td>Head</td><td>0</td></tr><tr><td>Tail</td><td>[ -1, -2, -3, -4, -5 ]</td></tr><tr><td><i>(values)</i></td><td><div class=\"dni-plaintext\"><pre>[ 0, -1, -2, -3, -4, -5 ]</pre></div></td></tr></tbody></table></div></details></td></tr><tr><td><i>(values)</i></td><td><div class=\"dni-plaintext\"><pre>[ 1, 0, -1, -2, -3, -4, -5 ]</pre></div></td></tr></tbody></table></div></details></td></tr><tr><td>Head</td><td><div class=\"dni-plaintext\"><pre>2</pre></div></td></tr><tr><td>Tail</td><td><details class=\"dni-treeview\"><summary><span class=\"dni-code-hint\"><code>[ 1, 0, -1, -2, -3, -4, -5 ]</code></span></summary><div><table><thead><tr></tr></thead><tbody><tr><td>HeadOrDefault</td><td><div class=\"dni-plaintext\"><pre>1</pre></div></td></tr><tr><td>TailOrNull</td><td><details class=\"dni-treeview\"><summary><span class=\"dni-code-hint\"><code>[ 0, -1, -2, -3, -4, -5 ]</code></span></summary><div><table><thead><tr></tr></thead><tbody><tr><td>HeadOrDefault</td><td>0</td></tr><tr><td>TailOrNull</td><td>[ -1, -2, -3, -4, -5 ]</td></tr><tr><td>Head</td><td>0</td></tr><tr><td>Tail</td><td>[ -1, -2, -3, -4, -5 ]</td></tr><tr><td><i>(values)</i></td><td><div class=\"dni-plaintext\"><pre>[ 0, -1, -2, -3, -4, -5 ]</pre></div></td></tr></tbody></table></div></details></td></tr><tr><td>Head</td><td><div class=\"dni-plaintext\"><pre>1</pre></div></td></tr><tr><td>Tail</td><td><details class=\"dni-treeview\"><summary><span class=\"dni-code-hint\"><code>[ 0, -1, -2, -3, -4, -5 ]</code></span></summary><div><table><thead><tr></tr></thead><tbody><tr><td>HeadOrDefault</td><td>0</td></tr><tr><td>TailOrNull</td><td>[ -1, -2, -3, -4, -5 ]</td></tr><tr><td>Head</td><td>0</td></tr><tr><td>Tail</td><td>[ -1, -2, -3, -4, -5 ]</td></tr><tr><td><i>(values)</i></td><td><div class=\"dni-plaintext\"><pre>[ 0, -1, -2, -3, -4, -5 ]</pre></div></td></tr></tbody></table></div></details></td></tr><tr><td><i>(values)</i></td><td><div class=\"dni-plaintext\"><pre>[ 1, 0, -1, -2, -3, -4, -5 ]</pre></div></td></tr></tbody></table></div></details></td></tr><tr><td><i>(values)</i></td><td><div class=\"dni-plaintext\"><pre>[ 2, 1, 0, -1, -2, -3, -4, -5 ]</pre></div></td></tr></tbody></table></div></details></td></tr><tr><td><i>(values)</i></td><td><div class=\"dni-plaintext\"><pre>[ 3, 2, 1, 0, -1, -2, -3, -4, -5 ]</pre></div></td></tr></tbody></table></div></details></td></tr><tr><td><i>(values)</i></td><td><div class=\"dni-plaintext\"><pre>[ 4, 3, 2, 1, 0, -1, -2, -3, -4, -5 ]</pre></div></td></tr></tbody></table></div></details></td></tr><tr><td>Head</td><td><div class=\"dni-plaintext\"><pre>5</pre></div></td></tr><tr><td>Tail</td><td><details class=\"dni-treeview\"><summary><span class=\"dni-code-hint\"><code>[ 4, 3, 2, 1, 0, -1, -2, -3, -4, -5 ]</code></span></summary><div><table><thead><tr></tr></thead><tbody><tr><td>HeadOrDefault</td><td><div class=\"dni-plaintext\"><pre>4</pre></div></td></tr><tr><td>TailOrNull</td><td><details class=\"dni-treeview\"><summary><span class=\"dni-code-hint\"><code>[ 3, 2, 1, 0, -1, -2, -3, -4, -5 ]</code></span></summary><div><table><thead><tr></tr></thead><tbody><tr><td>HeadOrDefault</td><td><div class=\"dni-plaintext\"><pre>3</pre></div></td></tr><tr><td>TailOrNull</td><td><details class=\"dni-treeview\"><summary><span class=\"dni-code-hint\"><code>[ 2, 1, 0, -1, -2, -3, -4, -5 ]</code></span></summary><div><table><thead><tr></tr></thead><tbody><tr><td>HeadOrDefault</td><td><div class=\"dni-plaintext\"><pre>2</pre></div></td></tr><tr><td>TailOrNull</td><td><details class=\"dni-treeview\"><summary><span class=\"dni-code-hint\"><code>[ 1, 0, -1, -2, -3, -4, -5 ]</code></span></summary><div><table><thead><tr></tr></thead><tbody><tr><td>HeadOrDefault</td><td><div class=\"dni-plaintext\"><pre>1</pre></div></td></tr><tr><td>TailOrNull</td><td><details class=\"dni-treeview\"><summary><span class=\"dni-code-hint\"><code>[ 0, -1, -2, -3, -4, -5 ]</code></span></summary><div><table><thead><tr></tr></thead><tbody><tr><td>HeadOrDefault</td><td>0</td></tr><tr><td>TailOrNull</td><td>[ -1, -2, -3, -4, -5 ]</td></tr><tr><td>Head</td><td>0</td></tr><tr><td>Tail</td><td>[ -1, -2, -3, -4, -5 ]</td></tr><tr><td><i>(values)</i></td><td><div class=\"dni-plaintext\"><pre>[ 0, -1, -2, -3, -4, -5 ]</pre></div></td></tr></tbody></table></div></details></td></tr><tr><td>Head</td><td><div class=\"dni-plaintext\"><pre>1</pre></div></td></tr><tr><td>Tail</td><td><details class=\"dni-treeview\"><summary><span class=\"dni-code-hint\"><code>[ 0, -1, -2, -3, -4, -5 ]</code></span></summary><div><table><thead><tr></tr></thead><tbody><tr><td>HeadOrDefault</td><td>0</td></tr><tr><td>TailOrNull</td><td>[ -1, -2, -3, -4, -5 ]</td></tr><tr><td>Head</td><td>0</td></tr><tr><td>Tail</td><td>[ -1, -2, -3, -4, -5 ]</td></tr><tr><td><i>(values)</i></td><td><div class=\"dni-plaintext\"><pre>[ 0, -1, -2, -3, -4, -5 ]</pre></div></td></tr></tbody></table></div></details></td></tr><tr><td><i>(values)</i></td><td><div class=\"dni-plaintext\"><pre>[ 1, 0, -1, -2, -3, -4, -5 ]</pre></div></td></tr></tbody></table></div></details></td></tr><tr><td>Head</td><td><div class=\"dni-plaintext\"><pre>2</pre></div></td></tr><tr><td>Tail</td><td><details class=\"dni-treeview\"><summary><span class=\"dni-code-hint\"><code>[ 1, 0, -1, -2, -3, -4, -5 ]</code></span></summary><div><table><thead><tr></tr></thead><tbody><tr><td>HeadOrDefault</td><td><div class=\"dni-plaintext\"><pre>1</pre></div></td></tr><tr><td>TailOrNull</td><td><details class=\"dni-treeview\"><summary><span class=\"dni-code-hint\"><code>[ 0, -1, -2, -3, -4, -5 ]</code></span></summary><div><table><thead><tr></tr></thead><tbody><tr><td>HeadOrDefault</td><td>0</td></tr><tr><td>TailOrNull</td><td>[ -1, -2, -3, -4, -5 ]</td></tr><tr><td>Head</td><td>0</td></tr><tr><td>Tail</td><td>[ -1, -2, -3, -4, -5 ]</td></tr><tr><td><i>(values)</i></td><td><div class=\"dni-plaintext\"><pre>[ 0, -1, -2, -3, -4, -5 ]</pre></div></td></tr></tbody></table></div></details></td></tr><tr><td>Head</td><td><div class=\"dni-plaintext\"><pre>1</pre></div></td></tr><tr><td>Tail</td><td><details class=\"dni-treeview\"><summary><span class=\"dni-code-hint\"><code>[ 0, -1, -2, -3, -4, -5 ]</code></span></summary><div><table><thead><tr></tr></thead><tbody><tr><td>HeadOrDefault</td><td>0</td></tr><tr><td>TailOrNull</td><td>[ -1, -2, -3, -4, -5 ]</td></tr><tr><td>Head</td><td>0</td></tr><tr><td>Tail</td><td>[ -1, -2, -3, -4, -5 ]</td></tr><tr><td><i>(values)</i></td><td><div class=\"dni-plaintext\"><pre>[ 0, -1, -2, -3, -4, -5 ]</pre></div></td></tr></tbody></table></div></details></td></tr><tr><td><i>(values)</i></td><td><div class=\"dni-plaintext\"><pre>[ 1, 0, -1, -2, -3, -4, -5 ]</pre></div></td></tr></tbody></table></div></details></td></tr><tr><td><i>(values)</i></td><td><div class=\"dni-plaintext\"><pre>[ 2, 1, 0, -1, -2, -3, -4, -5 ]</pre></div></td></tr></tbody></table></div></details></td></tr><tr><td>Head</td><td><div class=\"dni-plaintext\"><pre>3</pre></div></td></tr><tr><td>Tail</td><td><details class=\"dni-treeview\"><summary><span class=\"dni-code-hint\"><code>[ 2, 1, 0, -1, -2, -3, -4, -5 ]</code></span></summary><div><table><thead><tr></tr></thead><tbody><tr><td>HeadOrDefault</td><td><div class=\"dni-plaintext\"><pre>2</pre></div></td></tr><tr><td>TailOrNull</td><td><details class=\"dni-treeview\"><summary><span class=\"dni-code-hint\"><code>[ 1, 0, -1, -2, -3, -4, -5 ]</code></span></summary><div><table><thead><tr></tr></thead><tbody><tr><td>HeadOrDefault</td><td><div class=\"dni-plaintext\"><pre>1</pre></div></td></tr><tr><td>TailOrNull</td><td><details class=\"dni-treeview\"><summary><span class=\"dni-code-hint\"><code>[ 0, -1, -2, -3, -4, -5 ]</code></span></summary><div><table><thead><tr></tr></thead><tbody><tr><td>HeadOrDefault</td><td>0</td></tr><tr><td>TailOrNull</td><td>[ -1, -2, -3, -4, -5 ]</td></tr><tr><td>Head</td><td>0</td></tr><tr><td>Tail</td><td>[ -1, -2, -3, -4, -5 ]</td></tr><tr><td><i>(values)</i></td><td><div class=\"dni-plaintext\"><pre>[ 0, -1, -2, -3, -4, -5 ]</pre></div></td></tr></tbody></table></div></details></td></tr><tr><td>Head</td><td><div class=\"dni-plaintext\"><pre>1</pre></div></td></tr><tr><td>Tail</td><td><details class=\"dni-treeview\"><summary><span class=\"dni-code-hint\"><code>[ 0, -1, -2, -3, -4, -5 ]</code></span></summary><div><table><thead><tr></tr></thead><tbody><tr><td>HeadOrDefault</td><td>0</td></tr><tr><td>TailOrNull</td><td>[ -1, -2, -3, -4, -5 ]</td></tr><tr><td>Head</td><td>0</td></tr><tr><td>Tail</td><td>[ -1, -2, -3, -4, -5 ]</td></tr><tr><td><i>(values)</i></td><td><div class=\"dni-plaintext\"><pre>[ 0, -1, -2, -3, -4, -5 ]</pre></div></td></tr></tbody></table></div></details></td></tr><tr><td><i>(values)</i></td><td><div class=\"dni-plaintext\"><pre>[ 1, 0, -1, -2, -3, -4, -5 ]</pre></div></td></tr></tbody></table></div></details></td></tr><tr><td>Head</td><td><div class=\"dni-plaintext\"><pre>2</pre></div></td></tr><tr><td>Tail</td><td><details class=\"dni-treeview\"><summary><span class=\"dni-code-hint\"><code>[ 1, 0, -1, -2, -3, -4, -5 ]</code></span></summary><div><table><thead><tr></tr></thead><tbody><tr><td>HeadOrDefault</td><td><div class=\"dni-plaintext\"><pre>1</pre></div></td></tr><tr><td>TailOrNull</td><td><details class=\"dni-treeview\"><summary><span class=\"dni-code-hint\"><code>[ 0, -1, -2, -3, -4, -5 ]</code></span></summary><div><table><thead><tr></tr></thead><tbody><tr><td>HeadOrDefault</td><td>0</td></tr><tr><td>TailOrNull</td><td>[ -1, -2, -3, -4, -5 ]</td></tr><tr><td>Head</td><td>0</td></tr><tr><td>Tail</td><td>[ -1, -2, -3, -4, -5 ]</td></tr><tr><td><i>(values)</i></td><td><div class=\"dni-plaintext\"><pre>[ 0, -1, -2, -3, -4, -5 ]</pre></div></td></tr></tbody></table></div></details></td></tr><tr><td>Head</td><td><div class=\"dni-plaintext\"><pre>1</pre></div></td></tr><tr><td>Tail</td><td><details class=\"dni-treeview\"><summary><span class=\"dni-code-hint\"><code>[ 0, -1, -2, -3, -4, -5 ]</code></span></summary><div><table><thead><tr></tr></thead><tbody><tr><td>HeadOrDefault</td><td>0</td></tr><tr><td>TailOrNull</td><td>[ -1, -2, -3, -4, -5 ]</td></tr><tr><td>Head</td><td>0</td></tr><tr><td>Tail</td><td>[ -1, -2, -3, -4, -5 ]</td></tr><tr><td><i>(values)</i></td><td><div class=\"dni-plaintext\"><pre>[ 0, -1, -2, -3, -4, -5 ]</pre></div></td></tr></tbody></table></div></details></td></tr><tr><td><i>(values)</i></td><td><div class=\"dni-plaintext\"><pre>[ 1, 0, -1, -2, -3, -4, -5 ]</pre></div></td></tr></tbody></table></div></details></td></tr><tr><td><i>(values)</i></td><td><div class=\"dni-plaintext\"><pre>[ 2, 1, 0, -1, -2, -3, -4, -5 ]</pre></div></td></tr></tbody></table></div></details></td></tr><tr><td><i>(values)</i></td><td><div class=\"dni-plaintext\"><pre>[ 3, 2, 1, 0, -1, -2, -3, -4, -5 ]</pre></div></td></tr></tbody></table></div></details></td></tr><tr><td>Head</td><td><div class=\"dni-plaintext\"><pre>4</pre></div></td></tr><tr><td>Tail</td><td><details class=\"dni-treeview\"><summary><span class=\"dni-code-hint\"><code>[ 3, 2, 1, 0, -1, -2, -3, -4, -5 ]</code></span></summary><div><table><thead><tr></tr></thead><tbody><tr><td>HeadOrDefault</td><td><div class=\"dni-plaintext\"><pre>3</pre></div></td></tr><tr><td>TailOrNull</td><td><details class=\"dni-treeview\"><summary><span class=\"dni-code-hint\"><code>[ 2, 1, 0, -1, -2, -3, -4, -5 ]</code></span></summary><div><table><thead><tr></tr></thead><tbody><tr><td>HeadOrDefault</td><td><div class=\"dni-plaintext\"><pre>2</pre></div></td></tr><tr><td>TailOrNull</td><td><details class=\"dni-treeview\"><summary><span class=\"dni-code-hint\"><code>[ 1, 0, -1, -2, -3, -4, -5 ]</code></span></summary><div><table><thead><tr></tr></thead><tbody><tr><td>HeadOrDefault</td><td><div class=\"dni-plaintext\"><pre>1</pre></div></td></tr><tr><td>TailOrNull</td><td><details class=\"dni-treeview\"><summary><span class=\"dni-code-hint\"><code>[ 0, -1, -2, -3, -4, -5 ]</code></span></summary><div><table><thead><tr></tr></thead><tbody><tr><td>HeadOrDefault</td><td>0</td></tr><tr><td>TailOrNull</td><td>[ -1, -2, -3, -4, -5 ]</td></tr><tr><td>Head</td><td>0</td></tr><tr><td>Tail</td><td>[ -1, -2, -3, -4, -5 ]</td></tr><tr><td><i>(values)</i></td><td><div class=\"dni-plaintext\"><pre>[ 0, -1, -2, -3, -4, -5 ]</pre></div></td></tr></tbody></table></div></details></td></tr><tr><td>Head</td><td><div class=\"dni-plaintext\"><pre>1</pre></div></td></tr><tr><td>Tail</td><td><details class=\"dni-treeview\"><summary><span class=\"dni-code-hint\"><code>[ 0, -1, -2, -3, -4, -5 ]</code></span></summary><div><table><thead><tr></tr></thead><tbody><tr><td>HeadOrDefault</td><td>0</td></tr><tr><td>TailOrNull</td><td>[ -1, -2, -3, -4, -5 ]</td></tr><tr><td>Head</td><td>0</td></tr><tr><td>Tail</td><td>[ -1, -2, -3, -4, -5 ]</td></tr><tr><td><i>(values)</i></td><td><div class=\"dni-plaintext\"><pre>[ 0, -1, -2, -3, -4, -5 ]</pre></div></td></tr></tbody></table></div></details></td></tr><tr><td><i>(values)</i></td><td><div class=\"dni-plaintext\"><pre>[ 1, 0, -1, -2, -3, -4, -5 ]</pre></div></td></tr></tbody></table></div></details></td></tr><tr><td>Head</td><td><div class=\"dni-plaintext\"><pre>2</pre></div></td></tr><tr><td>Tail</td><td><details class=\"dni-treeview\"><summary><span class=\"dni-code-hint\"><code>[ 1, 0, -1, -2, -3, -4, -5 ]</code></span></summary><div><table><thead><tr></tr></thead><tbody><tr><td>HeadOrDefault</td><td><div class=\"dni-plaintext\"><pre>1</pre></div></td></tr><tr><td>TailOrNull</td><td><details class=\"dni-treeview\"><summary><span class=\"dni-code-hint\"><code>[ 0, -1, -2, -3, -4, -5 ]</code></span></summary><div><table><thead><tr></tr></thead><tbody><tr><td>HeadOrDefault</td><td>0</td></tr><tr><td>TailOrNull</td><td>[ -1, -2, -3, -4, -5 ]</td></tr><tr><td>Head</td><td>0</td></tr><tr><td>Tail</td><td>[ -1, -2, -3, -4, -5 ]</td></tr><tr><td><i>(values)</i></td><td><div class=\"dni-plaintext\"><pre>[ 0, -1, -2, -3, -4, -5 ]</pre></div></td></tr></tbody></table></div></details></td></tr><tr><td>Head</td><td><div class=\"dni-plaintext\"><pre>1</pre></div></td></tr><tr><td>Tail</td><td><details class=\"dni-treeview\"><summary><span class=\"dni-code-hint\"><code>[ 0, -1, -2, -3, -4, -5 ]</code></span></summary><div><table><thead><tr></tr></thead><tbody><tr><td>HeadOrDefault</td><td>0</td></tr><tr><td>TailOrNull</td><td>[ -1, -2, -3, -4, -5 ]</td></tr><tr><td>Head</td><td>0</td></tr><tr><td>Tail</td><td>[ -1, -2, -3, -4, -5 ]</td></tr><tr><td><i>(values)</i></td><td><div class=\"dni-plaintext\"><pre>[ 0, -1, -2, -3, -4, -5 ]</pre></div></td></tr></tbody></table></div></details></td></tr><tr><td><i>(values)</i></td><td><div class=\"dni-plaintext\"><pre>[ 1, 0, -1, -2, -3, -4, -5 ]</pre></div></td></tr></tbody></table></div></details></td></tr><tr><td><i>(values)</i></td><td><div class=\"dni-plaintext\"><pre>[ 2, 1, 0, -1, -2, -3, -4, -5 ]</pre></div></td></tr></tbody></table></div></details></td></tr><tr><td>Head</td><td><div class=\"dni-plaintext\"><pre>3</pre></div></td></tr><tr><td>Tail</td><td><details class=\"dni-treeview\"><summary><span class=\"dni-code-hint\"><code>[ 2, 1, 0, -1, -2, -3, -4, -5 ]</code></span></summary><div><table><thead><tr></tr></thead><tbody><tr><td>HeadOrDefault</td><td><div class=\"dni-plaintext\"><pre>2</pre></div></td></tr><tr><td>TailOrNull</td><td><details class=\"dni-treeview\"><summary><span class=\"dni-code-hint\"><code>[ 1, 0, -1, -2, -3, -4, -5 ]</code></span></summary><div><table><thead><tr></tr></thead><tbody><tr><td>HeadOrDefault</td><td><div class=\"dni-plaintext\"><pre>1</pre></div></td></tr><tr><td>TailOrNull</td><td><details class=\"dni-treeview\"><summary><span class=\"dni-code-hint\"><code>[ 0, -1, -2, -3, -4, -5 ]</code></span></summary><div><table><thead><tr></tr></thead><tbody><tr><td>HeadOrDefault</td><td>0</td></tr><tr><td>TailOrNull</td><td>[ -1, -2, -3, -4, -5 ]</td></tr><tr><td>Head</td><td>0</td></tr><tr><td>Tail</td><td>[ -1, -2, -3, -4, -5 ]</td></tr><tr><td><i>(values)</i></td><td><div class=\"dni-plaintext\"><pre>[ 0, -1, -2, -3, -4, -5 ]</pre></div></td></tr></tbody></table></div></details></td></tr><tr><td>Head</td><td><div class=\"dni-plaintext\"><pre>1</pre></div></td></tr><tr><td>Tail</td><td><details class=\"dni-treeview\"><summary><span class=\"dni-code-hint\"><code>[ 0, -1, -2, -3, -4, -5 ]</code></span></summary><div><table><thead><tr></tr></thead><tbody><tr><td>HeadOrDefault</td><td>0</td></tr><tr><td>TailOrNull</td><td>[ -1, -2, -3, -4, -5 ]</td></tr><tr><td>Head</td><td>0</td></tr><tr><td>Tail</td><td>[ -1, -2, -3, -4, -5 ]</td></tr><tr><td><i>(values)</i></td><td><div class=\"dni-plaintext\"><pre>[ 0, -1, -2, -3, -4, -5 ]</pre></div></td></tr></tbody></table></div></details></td></tr><tr><td><i>(values)</i></td><td><div class=\"dni-plaintext\"><pre>[ 1, 0, -1, -2, -3, -4, -5 ]</pre></div></td></tr></tbody></table></div></details></td></tr><tr><td>Head</td><td><div class=\"dni-plaintext\"><pre>2</pre></div></td></tr><tr><td>Tail</td><td><details class=\"dni-treeview\"><summary><span class=\"dni-code-hint\"><code>[ 1, 0, -1, -2, -3, -4, -5 ]</code></span></summary><div><table><thead><tr></tr></thead><tbody><tr><td>HeadOrDefault</td><td><div class=\"dni-plaintext\"><pre>1</pre></div></td></tr><tr><td>TailOrNull</td><td><details class=\"dni-treeview\"><summary><span class=\"dni-code-hint\"><code>[ 0, -1, -2, -3, -4, -5 ]</code></span></summary><div><table><thead><tr></tr></thead><tbody><tr><td>HeadOrDefault</td><td>0</td></tr><tr><td>TailOrNull</td><td>[ -1, -2, -3, -4, -5 ]</td></tr><tr><td>Head</td><td>0</td></tr><tr><td>Tail</td><td>[ -1, -2, -3, -4, -5 ]</td></tr><tr><td><i>(values)</i></td><td><div class=\"dni-plaintext\"><pre>[ 0, -1, -2, -3, -4, -5 ]</pre></div></td></tr></tbody></table></div></details></td></tr><tr><td>Head</td><td><div class=\"dni-plaintext\"><pre>1</pre></div></td></tr><tr><td>Tail</td><td><details class=\"dni-treeview\"><summary><span class=\"dni-code-hint\"><code>[ 0, -1, -2, -3, -4, -5 ]</code></span></summary><div><table><thead><tr></tr></thead><tbody><tr><td>HeadOrDefault</td><td>0</td></tr><tr><td>TailOrNull</td><td>[ -1, -2, -3, -4, -5 ]</td></tr><tr><td>Head</td><td>0</td></tr><tr><td>Tail</td><td>[ -1, -2, -3, -4, -5 ]</td></tr><tr><td><i>(values)</i></td><td><div class=\"dni-plaintext\"><pre>[ 0, -1, -2, -3, -4, -5 ]</pre></div></td></tr></tbody></table></div></details></td></tr><tr><td><i>(values)</i></td><td><div class=\"dni-plaintext\"><pre>[ 1, 0, -1, -2, -3, -4, -5 ]</pre></div></td></tr></tbody></table></div></details></td></tr><tr><td><i>(values)</i></td><td><div class=\"dni-plaintext\"><pre>[ 2, 1, 0, -1, -2, -3, -4, -5 ]</pre></div></td></tr></tbody></table></div></details></td></tr><tr><td><i>(values)</i></td><td><div class=\"dni-plaintext\"><pre>[ 3, 2, 1, 0, -1, -2, -3, -4, -5 ]</pre></div></td></tr></tbody></table></div></details></td></tr><tr><td><i>(values)</i></td><td><div class=\"dni-plaintext\"><pre>[ 4, 3, 2, 1, 0, -1, -2, -3, -4, -5 ]</pre></div></td></tr></tbody></table></div></details></td></tr><tr><td><i>(values)</i></td><td><div class=\"dni-plaintext\"><pre>[ 5, 4, 3, 2, 1, 0, -1, -2, -3, -4, -5 ]</pre></div></td></tr></tbody></table></div></details><style>\r\n",
       ".dni-code-hint {\r\n",
       "    font-style: italic;\r\n",
       "    overflow: hidden;\r\n",
       "    white-space: nowrap;\r\n",
       "}\r\n",
       ".dni-treeview {\r\n",
       "    white-space: nowrap;\r\n",
       "}\r\n",
       ".dni-treeview td {\r\n",
       "    vertical-align: top;\r\n",
       "    text-align: start;\r\n",
       "}\r\n",
       "details.dni-treeview {\r\n",
       "    padding-left: 1em;\r\n",
       "}\r\n",
       "table td {\r\n",
       "    text-align: start;\r\n",
       "}\r\n",
       "table tr { \r\n",
       "    vertical-align: top; \r\n",
       "    margin: 0em 0px;\r\n",
       "}\r\n",
       "table tr td pre \r\n",
       "{ \r\n",
       "    vertical-align: top !important; \r\n",
       "    margin: 0em 0px !important;\r\n",
       "} \r\n",
       "table th {\r\n",
       "    text-align: start;\r\n",
       "}\r\n",
       "</style>"
      ]
     },
     "metadata": {},
     "output_type": "display_data"
    }
   ],
   "source": [
    "// start..end (both inclusive)\n",
    "[ 1..10 ]\n",
    "// evaluates to [ 1; 2; 3; .. 10 ]\n",
    "\n",
    "//   ..step..\n",
    "[ 5 .. -1 .. -5 ]"
   ]
  },
  {
   "cell_type": "markdown",
   "id": "c5a5fc89",
   "metadata": {
    "dotnet_repl_cellExecutionEndTime": "2024-02-29T00:56:02.9183385-06:00",
    "dotnet_repl_cellExecutionStartTime": "2024-02-29T00:56:02.9179925-06:00"
   },
   "source": [
    "or by using sequence expressions:"
   ]
  },
  {
   "cell_type": "code",
   "execution_count": 8,
   "id": "a8e11aa8",
   "metadata": {
    "dotnet_interactive": {
     "language": "fsharp"
    },
    "dotnet_repl_cellExecutionEndTime": "2024-02-29T00:56:02.9924665-06:00",
    "dotnet_repl_cellExecutionStartTime": "2024-02-29T00:56:02.9183531-06:00",
    "polyglot_notebook": {
     "kernelName": "fsharp"
    }
   },
   "outputs": [
    {
     "data": {
      "text/html": [
       "<details open=\"open\" class=\"dni-treeview\"><summary><span class=\"dni-code-hint\"><code>[ 1, 4, 9, 16, 25, 36, 49, 64, 81, 100 ]</code></span></summary><div><table><thead><tr></tr></thead><tbody><tr><td>HeadOrDefault</td><td><div class=\"dni-plaintext\"><pre>1</pre></div></td></tr><tr><td>TailOrNull</td><td><details class=\"dni-treeview\"><summary><span class=\"dni-code-hint\"><code>[ 4, 9, 16, 25, 36, 49, 64, 81, 100 ]</code></span></summary><div><table><thead><tr></tr></thead><tbody><tr><td>HeadOrDefault</td><td><div class=\"dni-plaintext\"><pre>4</pre></div></td></tr><tr><td>TailOrNull</td><td><details class=\"dni-treeview\"><summary><span class=\"dni-code-hint\"><code>[ 9, 16, 25, 36, 49, 64, 81, 100 ]</code></span></summary><div><table><thead><tr></tr></thead><tbody><tr><td>HeadOrDefault</td><td><div class=\"dni-plaintext\"><pre>9</pre></div></td></tr><tr><td>TailOrNull</td><td><details class=\"dni-treeview\"><summary><span class=\"dni-code-hint\"><code>[ 16, 25, 36, 49, 64, 81, 100 ]</code></span></summary><div><table><thead><tr></tr></thead><tbody><tr><td>HeadOrDefault</td><td><div class=\"dni-plaintext\"><pre>16</pre></div></td></tr><tr><td>TailOrNull</td><td><details class=\"dni-treeview\"><summary><span class=\"dni-code-hint\"><code>[ 25, 36, 49, 64, 81, 100 ]</code></span></summary><div><table><thead><tr></tr></thead><tbody><tr><td>HeadOrDefault</td><td><div class=\"dni-plaintext\"><pre>25</pre></div></td></tr><tr><td>TailOrNull</td><td><details class=\"dni-treeview\"><summary><span class=\"dni-code-hint\"><code>[ 36, 49, 64, 81, 100 ]</code></span></summary><div><table><thead><tr></tr></thead><tbody><tr><td>HeadOrDefault</td><td>36</td></tr><tr><td>TailOrNull</td><td>[ 49, 64, 81, 100 ]</td></tr><tr><td>Head</td><td>36</td></tr><tr><td>Tail</td><td>[ 49, 64, 81, 100 ]</td></tr><tr><td><i>(values)</i></td><td><div class=\"dni-plaintext\"><pre>[ 36, 49, 64, 81, 100 ]</pre></div></td></tr></tbody></table></div></details></td></tr><tr><td>Head</td><td><div class=\"dni-plaintext\"><pre>25</pre></div></td></tr><tr><td>Tail</td><td><details class=\"dni-treeview\"><summary><span class=\"dni-code-hint\"><code>[ 36, 49, 64, 81, 100 ]</code></span></summary><div><table><thead><tr></tr></thead><tbody><tr><td>HeadOrDefault</td><td>36</td></tr><tr><td>TailOrNull</td><td>[ 49, 64, 81, 100 ]</td></tr><tr><td>Head</td><td>36</td></tr><tr><td>Tail</td><td>[ 49, 64, 81, 100 ]</td></tr><tr><td><i>(values)</i></td><td><div class=\"dni-plaintext\"><pre>[ 36, 49, 64, 81, 100 ]</pre></div></td></tr></tbody></table></div></details></td></tr><tr><td><i>(values)</i></td><td><div class=\"dni-plaintext\"><pre>[ 25, 36, 49, 64, 81, 100 ]</pre></div></td></tr></tbody></table></div></details></td></tr><tr><td>Head</td><td><div class=\"dni-plaintext\"><pre>16</pre></div></td></tr><tr><td>Tail</td><td><details class=\"dni-treeview\"><summary><span class=\"dni-code-hint\"><code>[ 25, 36, 49, 64, 81, 100 ]</code></span></summary><div><table><thead><tr></tr></thead><tbody><tr><td>HeadOrDefault</td><td><div class=\"dni-plaintext\"><pre>25</pre></div></td></tr><tr><td>TailOrNull</td><td><details class=\"dni-treeview\"><summary><span class=\"dni-code-hint\"><code>[ 36, 49, 64, 81, 100 ]</code></span></summary><div><table><thead><tr></tr></thead><tbody><tr><td>HeadOrDefault</td><td>36</td></tr><tr><td>TailOrNull</td><td>[ 49, 64, 81, 100 ]</td></tr><tr><td>Head</td><td>36</td></tr><tr><td>Tail</td><td>[ 49, 64, 81, 100 ]</td></tr><tr><td><i>(values)</i></td><td><div class=\"dni-plaintext\"><pre>[ 36, 49, 64, 81, 100 ]</pre></div></td></tr></tbody></table></div></details></td></tr><tr><td>Head</td><td><div class=\"dni-plaintext\"><pre>25</pre></div></td></tr><tr><td>Tail</td><td><details class=\"dni-treeview\"><summary><span class=\"dni-code-hint\"><code>[ 36, 49, 64, 81, 100 ]</code></span></summary><div><table><thead><tr></tr></thead><tbody><tr><td>HeadOrDefault</td><td>36</td></tr><tr><td>TailOrNull</td><td>[ 49, 64, 81, 100 ]</td></tr><tr><td>Head</td><td>36</td></tr><tr><td>Tail</td><td>[ 49, 64, 81, 100 ]</td></tr><tr><td><i>(values)</i></td><td><div class=\"dni-plaintext\"><pre>[ 36, 49, 64, 81, 100 ]</pre></div></td></tr></tbody></table></div></details></td></tr><tr><td><i>(values)</i></td><td><div class=\"dni-plaintext\"><pre>[ 25, 36, 49, 64, 81, 100 ]</pre></div></td></tr></tbody></table></div></details></td></tr><tr><td><i>(values)</i></td><td><div class=\"dni-plaintext\"><pre>[ 16, 25, 36, 49, 64, 81, 100 ]</pre></div></td></tr></tbody></table></div></details></td></tr><tr><td>Head</td><td><div class=\"dni-plaintext\"><pre>9</pre></div></td></tr><tr><td>Tail</td><td><details class=\"dni-treeview\"><summary><span class=\"dni-code-hint\"><code>[ 16, 25, 36, 49, 64, 81, 100 ]</code></span></summary><div><table><thead><tr></tr></thead><tbody><tr><td>HeadOrDefault</td><td><div class=\"dni-plaintext\"><pre>16</pre></div></td></tr><tr><td>TailOrNull</td><td><details class=\"dni-treeview\"><summary><span class=\"dni-code-hint\"><code>[ 25, 36, 49, 64, 81, 100 ]</code></span></summary><div><table><thead><tr></tr></thead><tbody><tr><td>HeadOrDefault</td><td><div class=\"dni-plaintext\"><pre>25</pre></div></td></tr><tr><td>TailOrNull</td><td><details class=\"dni-treeview\"><summary><span class=\"dni-code-hint\"><code>[ 36, 49, 64, 81, 100 ]</code></span></summary><div><table><thead><tr></tr></thead><tbody><tr><td>HeadOrDefault</td><td>36</td></tr><tr><td>TailOrNull</td><td>[ 49, 64, 81, 100 ]</td></tr><tr><td>Head</td><td>36</td></tr><tr><td>Tail</td><td>[ 49, 64, 81, 100 ]</td></tr><tr><td><i>(values)</i></td><td><div class=\"dni-plaintext\"><pre>[ 36, 49, 64, 81, 100 ]</pre></div></td></tr></tbody></table></div></details></td></tr><tr><td>Head</td><td><div class=\"dni-plaintext\"><pre>25</pre></div></td></tr><tr><td>Tail</td><td><details class=\"dni-treeview\"><summary><span class=\"dni-code-hint\"><code>[ 36, 49, 64, 81, 100 ]</code></span></summary><div><table><thead><tr></tr></thead><tbody><tr><td>HeadOrDefault</td><td>36</td></tr><tr><td>TailOrNull</td><td>[ 49, 64, 81, 100 ]</td></tr><tr><td>Head</td><td>36</td></tr><tr><td>Tail</td><td>[ 49, 64, 81, 100 ]</td></tr><tr><td><i>(values)</i></td><td><div class=\"dni-plaintext\"><pre>[ 36, 49, 64, 81, 100 ]</pre></div></td></tr></tbody></table></div></details></td></tr><tr><td><i>(values)</i></td><td><div class=\"dni-plaintext\"><pre>[ 25, 36, 49, 64, 81, 100 ]</pre></div></td></tr></tbody></table></div></details></td></tr><tr><td>Head</td><td><div class=\"dni-plaintext\"><pre>16</pre></div></td></tr><tr><td>Tail</td><td><details class=\"dni-treeview\"><summary><span class=\"dni-code-hint\"><code>[ 25, 36, 49, 64, 81, 100 ]</code></span></summary><div><table><thead><tr></tr></thead><tbody><tr><td>HeadOrDefault</td><td><div class=\"dni-plaintext\"><pre>25</pre></div></td></tr><tr><td>TailOrNull</td><td><details class=\"dni-treeview\"><summary><span class=\"dni-code-hint\"><code>[ 36, 49, 64, 81, 100 ]</code></span></summary><div><table><thead><tr></tr></thead><tbody><tr><td>HeadOrDefault</td><td>36</td></tr><tr><td>TailOrNull</td><td>[ 49, 64, 81, 100 ]</td></tr><tr><td>Head</td><td>36</td></tr><tr><td>Tail</td><td>[ 49, 64, 81, 100 ]</td></tr><tr><td><i>(values)</i></td><td><div class=\"dni-plaintext\"><pre>[ 36, 49, 64, 81, 100 ]</pre></div></td></tr></tbody></table></div></details></td></tr><tr><td>Head</td><td><div class=\"dni-plaintext\"><pre>25</pre></div></td></tr><tr><td>Tail</td><td><details class=\"dni-treeview\"><summary><span class=\"dni-code-hint\"><code>[ 36, 49, 64, 81, 100 ]</code></span></summary><div><table><thead><tr></tr></thead><tbody><tr><td>HeadOrDefault</td><td>36</td></tr><tr><td>TailOrNull</td><td>[ 49, 64, 81, 100 ]</td></tr><tr><td>Head</td><td>36</td></tr><tr><td>Tail</td><td>[ 49, 64, 81, 100 ]</td></tr><tr><td><i>(values)</i></td><td><div class=\"dni-plaintext\"><pre>[ 36, 49, 64, 81, 100 ]</pre></div></td></tr></tbody></table></div></details></td></tr><tr><td><i>(values)</i></td><td><div class=\"dni-plaintext\"><pre>[ 25, 36, 49, 64, 81, 100 ]</pre></div></td></tr></tbody></table></div></details></td></tr><tr><td><i>(values)</i></td><td><div class=\"dni-plaintext\"><pre>[ 16, 25, 36, 49, 64, 81, 100 ]</pre></div></td></tr></tbody></table></div></details></td></tr><tr><td><i>(values)</i></td><td><div class=\"dni-plaintext\"><pre>[ 9, 16, 25, 36, 49, 64, 81, 100 ]</pre></div></td></tr></tbody></table></div></details></td></tr><tr><td>Head</td><td><div class=\"dni-plaintext\"><pre>4</pre></div></td></tr><tr><td>Tail</td><td><details class=\"dni-treeview\"><summary><span class=\"dni-code-hint\"><code>[ 9, 16, 25, 36, 49, 64, 81, 100 ]</code></span></summary><div><table><thead><tr></tr></thead><tbody><tr><td>HeadOrDefault</td><td><div class=\"dni-plaintext\"><pre>9</pre></div></td></tr><tr><td>TailOrNull</td><td><details class=\"dni-treeview\"><summary><span class=\"dni-code-hint\"><code>[ 16, 25, 36, 49, 64, 81, 100 ]</code></span></summary><div><table><thead><tr></tr></thead><tbody><tr><td>HeadOrDefault</td><td><div class=\"dni-plaintext\"><pre>16</pre></div></td></tr><tr><td>TailOrNull</td><td><details class=\"dni-treeview\"><summary><span class=\"dni-code-hint\"><code>[ 25, 36, 49, 64, 81, 100 ]</code></span></summary><div><table><thead><tr></tr></thead><tbody><tr><td>HeadOrDefault</td><td><div class=\"dni-plaintext\"><pre>25</pre></div></td></tr><tr><td>TailOrNull</td><td><details class=\"dni-treeview\"><summary><span class=\"dni-code-hint\"><code>[ 36, 49, 64, 81, 100 ]</code></span></summary><div><table><thead><tr></tr></thead><tbody><tr><td>HeadOrDefault</td><td>36</td></tr><tr><td>TailOrNull</td><td>[ 49, 64, 81, 100 ]</td></tr><tr><td>Head</td><td>36</td></tr><tr><td>Tail</td><td>[ 49, 64, 81, 100 ]</td></tr><tr><td><i>(values)</i></td><td><div class=\"dni-plaintext\"><pre>[ 36, 49, 64, 81, 100 ]</pre></div></td></tr></tbody></table></div></details></td></tr><tr><td>Head</td><td><div class=\"dni-plaintext\"><pre>25</pre></div></td></tr><tr><td>Tail</td><td><details class=\"dni-treeview\"><summary><span class=\"dni-code-hint\"><code>[ 36, 49, 64, 81, 100 ]</code></span></summary><div><table><thead><tr></tr></thead><tbody><tr><td>HeadOrDefault</td><td>36</td></tr><tr><td>TailOrNull</td><td>[ 49, 64, 81, 100 ]</td></tr><tr><td>Head</td><td>36</td></tr><tr><td>Tail</td><td>[ 49, 64, 81, 100 ]</td></tr><tr><td><i>(values)</i></td><td><div class=\"dni-plaintext\"><pre>[ 36, 49, 64, 81, 100 ]</pre></div></td></tr></tbody></table></div></details></td></tr><tr><td><i>(values)</i></td><td><div class=\"dni-plaintext\"><pre>[ 25, 36, 49, 64, 81, 100 ]</pre></div></td></tr></tbody></table></div></details></td></tr><tr><td>Head</td><td><div class=\"dni-plaintext\"><pre>16</pre></div></td></tr><tr><td>Tail</td><td><details class=\"dni-treeview\"><summary><span class=\"dni-code-hint\"><code>[ 25, 36, 49, 64, 81, 100 ]</code></span></summary><div><table><thead><tr></tr></thead><tbody><tr><td>HeadOrDefault</td><td><div class=\"dni-plaintext\"><pre>25</pre></div></td></tr><tr><td>TailOrNull</td><td><details class=\"dni-treeview\"><summary><span class=\"dni-code-hint\"><code>[ 36, 49, 64, 81, 100 ]</code></span></summary><div><table><thead><tr></tr></thead><tbody><tr><td>HeadOrDefault</td><td>36</td></tr><tr><td>TailOrNull</td><td>[ 49, 64, 81, 100 ]</td></tr><tr><td>Head</td><td>36</td></tr><tr><td>Tail</td><td>[ 49, 64, 81, 100 ]</td></tr><tr><td><i>(values)</i></td><td><div class=\"dni-plaintext\"><pre>[ 36, 49, 64, 81, 100 ]</pre></div></td></tr></tbody></table></div></details></td></tr><tr><td>Head</td><td><div class=\"dni-plaintext\"><pre>25</pre></div></td></tr><tr><td>Tail</td><td><details class=\"dni-treeview\"><summary><span class=\"dni-code-hint\"><code>[ 36, 49, 64, 81, 100 ]</code></span></summary><div><table><thead><tr></tr></thead><tbody><tr><td>HeadOrDefault</td><td>36</td></tr><tr><td>TailOrNull</td><td>[ 49, 64, 81, 100 ]</td></tr><tr><td>Head</td><td>36</td></tr><tr><td>Tail</td><td>[ 49, 64, 81, 100 ]</td></tr><tr><td><i>(values)</i></td><td><div class=\"dni-plaintext\"><pre>[ 36, 49, 64, 81, 100 ]</pre></div></td></tr></tbody></table></div></details></td></tr><tr><td><i>(values)</i></td><td><div class=\"dni-plaintext\"><pre>[ 25, 36, 49, 64, 81, 100 ]</pre></div></td></tr></tbody></table></div></details></td></tr><tr><td><i>(values)</i></td><td><div class=\"dni-plaintext\"><pre>[ 16, 25, 36, 49, 64, 81, 100 ]</pre></div></td></tr></tbody></table></div></details></td></tr><tr><td>Head</td><td><div class=\"dni-plaintext\"><pre>9</pre></div></td></tr><tr><td>Tail</td><td><details class=\"dni-treeview\"><summary><span class=\"dni-code-hint\"><code>[ 16, 25, 36, 49, 64, 81, 100 ]</code></span></summary><div><table><thead><tr></tr></thead><tbody><tr><td>HeadOrDefault</td><td><div class=\"dni-plaintext\"><pre>16</pre></div></td></tr><tr><td>TailOrNull</td><td><details class=\"dni-treeview\"><summary><span class=\"dni-code-hint\"><code>[ 25, 36, 49, 64, 81, 100 ]</code></span></summary><div><table><thead><tr></tr></thead><tbody><tr><td>HeadOrDefault</td><td><div class=\"dni-plaintext\"><pre>25</pre></div></td></tr><tr><td>TailOrNull</td><td><details class=\"dni-treeview\"><summary><span class=\"dni-code-hint\"><code>[ 36, 49, 64, 81, 100 ]</code></span></summary><div><table><thead><tr></tr></thead><tbody><tr><td>HeadOrDefault</td><td>36</td></tr><tr><td>TailOrNull</td><td>[ 49, 64, 81, 100 ]</td></tr><tr><td>Head</td><td>36</td></tr><tr><td>Tail</td><td>[ 49, 64, 81, 100 ]</td></tr><tr><td><i>(values)</i></td><td><div class=\"dni-plaintext\"><pre>[ 36, 49, 64, 81, 100 ]</pre></div></td></tr></tbody></table></div></details></td></tr><tr><td>Head</td><td><div class=\"dni-plaintext\"><pre>25</pre></div></td></tr><tr><td>Tail</td><td><details class=\"dni-treeview\"><summary><span class=\"dni-code-hint\"><code>[ 36, 49, 64, 81, 100 ]</code></span></summary><div><table><thead><tr></tr></thead><tbody><tr><td>HeadOrDefault</td><td>36</td></tr><tr><td>TailOrNull</td><td>[ 49, 64, 81, 100 ]</td></tr><tr><td>Head</td><td>36</td></tr><tr><td>Tail</td><td>[ 49, 64, 81, 100 ]</td></tr><tr><td><i>(values)</i></td><td><div class=\"dni-plaintext\"><pre>[ 36, 49, 64, 81, 100 ]</pre></div></td></tr></tbody></table></div></details></td></tr><tr><td><i>(values)</i></td><td><div class=\"dni-plaintext\"><pre>[ 25, 36, 49, 64, 81, 100 ]</pre></div></td></tr></tbody></table></div></details></td></tr><tr><td>Head</td><td><div class=\"dni-plaintext\"><pre>16</pre></div></td></tr><tr><td>Tail</td><td><details class=\"dni-treeview\"><summary><span class=\"dni-code-hint\"><code>[ 25, 36, 49, 64, 81, 100 ]</code></span></summary><div><table><thead><tr></tr></thead><tbody><tr><td>HeadOrDefault</td><td><div class=\"dni-plaintext\"><pre>25</pre></div></td></tr><tr><td>TailOrNull</td><td><details class=\"dni-treeview\"><summary><span class=\"dni-code-hint\"><code>[ 36, 49, 64, 81, 100 ]</code></span></summary><div><table><thead><tr></tr></thead><tbody><tr><td>HeadOrDefault</td><td>36</td></tr><tr><td>TailOrNull</td><td>[ 49, 64, 81, 100 ]</td></tr><tr><td>Head</td><td>36</td></tr><tr><td>Tail</td><td>[ 49, 64, 81, 100 ]</td></tr><tr><td><i>(values)</i></td><td><div class=\"dni-plaintext\"><pre>[ 36, 49, 64, 81, 100 ]</pre></div></td></tr></tbody></table></div></details></td></tr><tr><td>Head</td><td><div class=\"dni-plaintext\"><pre>25</pre></div></td></tr><tr><td>Tail</td><td><details class=\"dni-treeview\"><summary><span class=\"dni-code-hint\"><code>[ 36, 49, 64, 81, 100 ]</code></span></summary><div><table><thead><tr></tr></thead><tbody><tr><td>HeadOrDefault</td><td>36</td></tr><tr><td>TailOrNull</td><td>[ 49, 64, 81, 100 ]</td></tr><tr><td>Head</td><td>36</td></tr><tr><td>Tail</td><td>[ 49, 64, 81, 100 ]</td></tr><tr><td><i>(values)</i></td><td><div class=\"dni-plaintext\"><pre>[ 36, 49, 64, 81, 100 ]</pre></div></td></tr></tbody></table></div></details></td></tr><tr><td><i>(values)</i></td><td><div class=\"dni-plaintext\"><pre>[ 25, 36, 49, 64, 81, 100 ]</pre></div></td></tr></tbody></table></div></details></td></tr><tr><td><i>(values)</i></td><td><div class=\"dni-plaintext\"><pre>[ 16, 25, 36, 49, 64, 81, 100 ]</pre></div></td></tr></tbody></table></div></details></td></tr><tr><td><i>(values)</i></td><td><div class=\"dni-plaintext\"><pre>[ 9, 16, 25, 36, 49, 64, 81, 100 ]</pre></div></td></tr></tbody></table></div></details></td></tr><tr><td><i>(values)</i></td><td><div class=\"dni-plaintext\"><pre>[ 4, 9, 16, 25, 36, 49, 64, 81, 100 ]</pre></div></td></tr></tbody></table></div></details></td></tr><tr><td>Head</td><td><div class=\"dni-plaintext\"><pre>1</pre></div></td></tr><tr><td>Tail</td><td><details class=\"dni-treeview\"><summary><span class=\"dni-code-hint\"><code>[ 4, 9, 16, 25, 36, 49, 64, 81, 100 ]</code></span></summary><div><table><thead><tr></tr></thead><tbody><tr><td>HeadOrDefault</td><td><div class=\"dni-plaintext\"><pre>4</pre></div></td></tr><tr><td>TailOrNull</td><td><details class=\"dni-treeview\"><summary><span class=\"dni-code-hint\"><code>[ 9, 16, 25, 36, 49, 64, 81, 100 ]</code></span></summary><div><table><thead><tr></tr></thead><tbody><tr><td>HeadOrDefault</td><td><div class=\"dni-plaintext\"><pre>9</pre></div></td></tr><tr><td>TailOrNull</td><td><details class=\"dni-treeview\"><summary><span class=\"dni-code-hint\"><code>[ 16, 25, 36, 49, 64, 81, 100 ]</code></span></summary><div><table><thead><tr></tr></thead><tbody><tr><td>HeadOrDefault</td><td><div class=\"dni-plaintext\"><pre>16</pre></div></td></tr><tr><td>TailOrNull</td><td><details class=\"dni-treeview\"><summary><span class=\"dni-code-hint\"><code>[ 25, 36, 49, 64, 81, 100 ]</code></span></summary><div><table><thead><tr></tr></thead><tbody><tr><td>HeadOrDefault</td><td><div class=\"dni-plaintext\"><pre>25</pre></div></td></tr><tr><td>TailOrNull</td><td><details class=\"dni-treeview\"><summary><span class=\"dni-code-hint\"><code>[ 36, 49, 64, 81, 100 ]</code></span></summary><div><table><thead><tr></tr></thead><tbody><tr><td>HeadOrDefault</td><td>36</td></tr><tr><td>TailOrNull</td><td>[ 49, 64, 81, 100 ]</td></tr><tr><td>Head</td><td>36</td></tr><tr><td>Tail</td><td>[ 49, 64, 81, 100 ]</td></tr><tr><td><i>(values)</i></td><td><div class=\"dni-plaintext\"><pre>[ 36, 49, 64, 81, 100 ]</pre></div></td></tr></tbody></table></div></details></td></tr><tr><td>Head</td><td><div class=\"dni-plaintext\"><pre>25</pre></div></td></tr><tr><td>Tail</td><td><details class=\"dni-treeview\"><summary><span class=\"dni-code-hint\"><code>[ 36, 49, 64, 81, 100 ]</code></span></summary><div><table><thead><tr></tr></thead><tbody><tr><td>HeadOrDefault</td><td>36</td></tr><tr><td>TailOrNull</td><td>[ 49, 64, 81, 100 ]</td></tr><tr><td>Head</td><td>36</td></tr><tr><td>Tail</td><td>[ 49, 64, 81, 100 ]</td></tr><tr><td><i>(values)</i></td><td><div class=\"dni-plaintext\"><pre>[ 36, 49, 64, 81, 100 ]</pre></div></td></tr></tbody></table></div></details></td></tr><tr><td><i>(values)</i></td><td><div class=\"dni-plaintext\"><pre>[ 25, 36, 49, 64, 81, 100 ]</pre></div></td></tr></tbody></table></div></details></td></tr><tr><td>Head</td><td><div class=\"dni-plaintext\"><pre>16</pre></div></td></tr><tr><td>Tail</td><td><details class=\"dni-treeview\"><summary><span class=\"dni-code-hint\"><code>[ 25, 36, 49, 64, 81, 100 ]</code></span></summary><div><table><thead><tr></tr></thead><tbody><tr><td>HeadOrDefault</td><td><div class=\"dni-plaintext\"><pre>25</pre></div></td></tr><tr><td>TailOrNull</td><td><details class=\"dni-treeview\"><summary><span class=\"dni-code-hint\"><code>[ 36, 49, 64, 81, 100 ]</code></span></summary><div><table><thead><tr></tr></thead><tbody><tr><td>HeadOrDefault</td><td>36</td></tr><tr><td>TailOrNull</td><td>[ 49, 64, 81, 100 ]</td></tr><tr><td>Head</td><td>36</td></tr><tr><td>Tail</td><td>[ 49, 64, 81, 100 ]</td></tr><tr><td><i>(values)</i></td><td><div class=\"dni-plaintext\"><pre>[ 36, 49, 64, 81, 100 ]</pre></div></td></tr></tbody></table></div></details></td></tr><tr><td>Head</td><td><div class=\"dni-plaintext\"><pre>25</pre></div></td></tr><tr><td>Tail</td><td><details class=\"dni-treeview\"><summary><span class=\"dni-code-hint\"><code>[ 36, 49, 64, 81, 100 ]</code></span></summary><div><table><thead><tr></tr></thead><tbody><tr><td>HeadOrDefault</td><td>36</td></tr><tr><td>TailOrNull</td><td>[ 49, 64, 81, 100 ]</td></tr><tr><td>Head</td><td>36</td></tr><tr><td>Tail</td><td>[ 49, 64, 81, 100 ]</td></tr><tr><td><i>(values)</i></td><td><div class=\"dni-plaintext\"><pre>[ 36, 49, 64, 81, 100 ]</pre></div></td></tr></tbody></table></div></details></td></tr><tr><td><i>(values)</i></td><td><div class=\"dni-plaintext\"><pre>[ 25, 36, 49, 64, 81, 100 ]</pre></div></td></tr></tbody></table></div></details></td></tr><tr><td><i>(values)</i></td><td><div class=\"dni-plaintext\"><pre>[ 16, 25, 36, 49, 64, 81, 100 ]</pre></div></td></tr></tbody></table></div></details></td></tr><tr><td>Head</td><td><div class=\"dni-plaintext\"><pre>9</pre></div></td></tr><tr><td>Tail</td><td><details class=\"dni-treeview\"><summary><span class=\"dni-code-hint\"><code>[ 16, 25, 36, 49, 64, 81, 100 ]</code></span></summary><div><table><thead><tr></tr></thead><tbody><tr><td>HeadOrDefault</td><td><div class=\"dni-plaintext\"><pre>16</pre></div></td></tr><tr><td>TailOrNull</td><td><details class=\"dni-treeview\"><summary><span class=\"dni-code-hint\"><code>[ 25, 36, 49, 64, 81, 100 ]</code></span></summary><div><table><thead><tr></tr></thead><tbody><tr><td>HeadOrDefault</td><td><div class=\"dni-plaintext\"><pre>25</pre></div></td></tr><tr><td>TailOrNull</td><td><details class=\"dni-treeview\"><summary><span class=\"dni-code-hint\"><code>[ 36, 49, 64, 81, 100 ]</code></span></summary><div><table><thead><tr></tr></thead><tbody><tr><td>HeadOrDefault</td><td>36</td></tr><tr><td>TailOrNull</td><td>[ 49, 64, 81, 100 ]</td></tr><tr><td>Head</td><td>36</td></tr><tr><td>Tail</td><td>[ 49, 64, 81, 100 ]</td></tr><tr><td><i>(values)</i></td><td><div class=\"dni-plaintext\"><pre>[ 36, 49, 64, 81, 100 ]</pre></div></td></tr></tbody></table></div></details></td></tr><tr><td>Head</td><td><div class=\"dni-plaintext\"><pre>25</pre></div></td></tr><tr><td>Tail</td><td><details class=\"dni-treeview\"><summary><span class=\"dni-code-hint\"><code>[ 36, 49, 64, 81, 100 ]</code></span></summary><div><table><thead><tr></tr></thead><tbody><tr><td>HeadOrDefault</td><td>36</td></tr><tr><td>TailOrNull</td><td>[ 49, 64, 81, 100 ]</td></tr><tr><td>Head</td><td>36</td></tr><tr><td>Tail</td><td>[ 49, 64, 81, 100 ]</td></tr><tr><td><i>(values)</i></td><td><div class=\"dni-plaintext\"><pre>[ 36, 49, 64, 81, 100 ]</pre></div></td></tr></tbody></table></div></details></td></tr><tr><td><i>(values)</i></td><td><div class=\"dni-plaintext\"><pre>[ 25, 36, 49, 64, 81, 100 ]</pre></div></td></tr></tbody></table></div></details></td></tr><tr><td>Head</td><td><div class=\"dni-plaintext\"><pre>16</pre></div></td></tr><tr><td>Tail</td><td><details class=\"dni-treeview\"><summary><span class=\"dni-code-hint\"><code>[ 25, 36, 49, 64, 81, 100 ]</code></span></summary><div><table><thead><tr></tr></thead><tbody><tr><td>HeadOrDefault</td><td><div class=\"dni-plaintext\"><pre>25</pre></div></td></tr><tr><td>TailOrNull</td><td><details class=\"dni-treeview\"><summary><span class=\"dni-code-hint\"><code>[ 36, 49, 64, 81, 100 ]</code></span></summary><div><table><thead><tr></tr></thead><tbody><tr><td>HeadOrDefault</td><td>36</td></tr><tr><td>TailOrNull</td><td>[ 49, 64, 81, 100 ]</td></tr><tr><td>Head</td><td>36</td></tr><tr><td>Tail</td><td>[ 49, 64, 81, 100 ]</td></tr><tr><td><i>(values)</i></td><td><div class=\"dni-plaintext\"><pre>[ 36, 49, 64, 81, 100 ]</pre></div></td></tr></tbody></table></div></details></td></tr><tr><td>Head</td><td><div class=\"dni-plaintext\"><pre>25</pre></div></td></tr><tr><td>Tail</td><td><details class=\"dni-treeview\"><summary><span class=\"dni-code-hint\"><code>[ 36, 49, 64, 81, 100 ]</code></span></summary><div><table><thead><tr></tr></thead><tbody><tr><td>HeadOrDefault</td><td>36</td></tr><tr><td>TailOrNull</td><td>[ 49, 64, 81, 100 ]</td></tr><tr><td>Head</td><td>36</td></tr><tr><td>Tail</td><td>[ 49, 64, 81, 100 ]</td></tr><tr><td><i>(values)</i></td><td><div class=\"dni-plaintext\"><pre>[ 36, 49, 64, 81, 100 ]</pre></div></td></tr></tbody></table></div></details></td></tr><tr><td><i>(values)</i></td><td><div class=\"dni-plaintext\"><pre>[ 25, 36, 49, 64, 81, 100 ]</pre></div></td></tr></tbody></table></div></details></td></tr><tr><td><i>(values)</i></td><td><div class=\"dni-plaintext\"><pre>[ 16, 25, 36, 49, 64, 81, 100 ]</pre></div></td></tr></tbody></table></div></details></td></tr><tr><td><i>(values)</i></td><td><div class=\"dni-plaintext\"><pre>[ 9, 16, 25, 36, 49, 64, 81, 100 ]</pre></div></td></tr></tbody></table></div></details></td></tr><tr><td>Head</td><td><div class=\"dni-plaintext\"><pre>4</pre></div></td></tr><tr><td>Tail</td><td><details class=\"dni-treeview\"><summary><span class=\"dni-code-hint\"><code>[ 9, 16, 25, 36, 49, 64, 81, 100 ]</code></span></summary><div><table><thead><tr></tr></thead><tbody><tr><td>HeadOrDefault</td><td><div class=\"dni-plaintext\"><pre>9</pre></div></td></tr><tr><td>TailOrNull</td><td><details class=\"dni-treeview\"><summary><span class=\"dni-code-hint\"><code>[ 16, 25, 36, 49, 64, 81, 100 ]</code></span></summary><div><table><thead><tr></tr></thead><tbody><tr><td>HeadOrDefault</td><td><div class=\"dni-plaintext\"><pre>16</pre></div></td></tr><tr><td>TailOrNull</td><td><details class=\"dni-treeview\"><summary><span class=\"dni-code-hint\"><code>[ 25, 36, 49, 64, 81, 100 ]</code></span></summary><div><table><thead><tr></tr></thead><tbody><tr><td>HeadOrDefault</td><td><div class=\"dni-plaintext\"><pre>25</pre></div></td></tr><tr><td>TailOrNull</td><td><details class=\"dni-treeview\"><summary><span class=\"dni-code-hint\"><code>[ 36, 49, 64, 81, 100 ]</code></span></summary><div><table><thead><tr></tr></thead><tbody><tr><td>HeadOrDefault</td><td>36</td></tr><tr><td>TailOrNull</td><td>[ 49, 64, 81, 100 ]</td></tr><tr><td>Head</td><td>36</td></tr><tr><td>Tail</td><td>[ 49, 64, 81, 100 ]</td></tr><tr><td><i>(values)</i></td><td><div class=\"dni-plaintext\"><pre>[ 36, 49, 64, 81, 100 ]</pre></div></td></tr></tbody></table></div></details></td></tr><tr><td>Head</td><td><div class=\"dni-plaintext\"><pre>25</pre></div></td></tr><tr><td>Tail</td><td><details class=\"dni-treeview\"><summary><span class=\"dni-code-hint\"><code>[ 36, 49, 64, 81, 100 ]</code></span></summary><div><table><thead><tr></tr></thead><tbody><tr><td>HeadOrDefault</td><td>36</td></tr><tr><td>TailOrNull</td><td>[ 49, 64, 81, 100 ]</td></tr><tr><td>Head</td><td>36</td></tr><tr><td>Tail</td><td>[ 49, 64, 81, 100 ]</td></tr><tr><td><i>(values)</i></td><td><div class=\"dni-plaintext\"><pre>[ 36, 49, 64, 81, 100 ]</pre></div></td></tr></tbody></table></div></details></td></tr><tr><td><i>(values)</i></td><td><div class=\"dni-plaintext\"><pre>[ 25, 36, 49, 64, 81, 100 ]</pre></div></td></tr></tbody></table></div></details></td></tr><tr><td>Head</td><td><div class=\"dni-plaintext\"><pre>16</pre></div></td></tr><tr><td>Tail</td><td><details class=\"dni-treeview\"><summary><span class=\"dni-code-hint\"><code>[ 25, 36, 49, 64, 81, 100 ]</code></span></summary><div><table><thead><tr></tr></thead><tbody><tr><td>HeadOrDefault</td><td><div class=\"dni-plaintext\"><pre>25</pre></div></td></tr><tr><td>TailOrNull</td><td><details class=\"dni-treeview\"><summary><span class=\"dni-code-hint\"><code>[ 36, 49, 64, 81, 100 ]</code></span></summary><div><table><thead><tr></tr></thead><tbody><tr><td>HeadOrDefault</td><td>36</td></tr><tr><td>TailOrNull</td><td>[ 49, 64, 81, 100 ]</td></tr><tr><td>Head</td><td>36</td></tr><tr><td>Tail</td><td>[ 49, 64, 81, 100 ]</td></tr><tr><td><i>(values)</i></td><td><div class=\"dni-plaintext\"><pre>[ 36, 49, 64, 81, 100 ]</pre></div></td></tr></tbody></table></div></details></td></tr><tr><td>Head</td><td><div class=\"dni-plaintext\"><pre>25</pre></div></td></tr><tr><td>Tail</td><td><details class=\"dni-treeview\"><summary><span class=\"dni-code-hint\"><code>[ 36, 49, 64, 81, 100 ]</code></span></summary><div><table><thead><tr></tr></thead><tbody><tr><td>HeadOrDefault</td><td>36</td></tr><tr><td>TailOrNull</td><td>[ 49, 64, 81, 100 ]</td></tr><tr><td>Head</td><td>36</td></tr><tr><td>Tail</td><td>[ 49, 64, 81, 100 ]</td></tr><tr><td><i>(values)</i></td><td><div class=\"dni-plaintext\"><pre>[ 36, 49, 64, 81, 100 ]</pre></div></td></tr></tbody></table></div></details></td></tr><tr><td><i>(values)</i></td><td><div class=\"dni-plaintext\"><pre>[ 25, 36, 49, 64, 81, 100 ]</pre></div></td></tr></tbody></table></div></details></td></tr><tr><td><i>(values)</i></td><td><div class=\"dni-plaintext\"><pre>[ 16, 25, 36, 49, 64, 81, 100 ]</pre></div></td></tr></tbody></table></div></details></td></tr><tr><td>Head</td><td><div class=\"dni-plaintext\"><pre>9</pre></div></td></tr><tr><td>Tail</td><td><details class=\"dni-treeview\"><summary><span class=\"dni-code-hint\"><code>[ 16, 25, 36, 49, 64, 81, 100 ]</code></span></summary><div><table><thead><tr></tr></thead><tbody><tr><td>HeadOrDefault</td><td><div class=\"dni-plaintext\"><pre>16</pre></div></td></tr><tr><td>TailOrNull</td><td><details class=\"dni-treeview\"><summary><span class=\"dni-code-hint\"><code>[ 25, 36, 49, 64, 81, 100 ]</code></span></summary><div><table><thead><tr></tr></thead><tbody><tr><td>HeadOrDefault</td><td><div class=\"dni-plaintext\"><pre>25</pre></div></td></tr><tr><td>TailOrNull</td><td><details class=\"dni-treeview\"><summary><span class=\"dni-code-hint\"><code>[ 36, 49, 64, 81, 100 ]</code></span></summary><div><table><thead><tr></tr></thead><tbody><tr><td>HeadOrDefault</td><td>36</td></tr><tr><td>TailOrNull</td><td>[ 49, 64, 81, 100 ]</td></tr><tr><td>Head</td><td>36</td></tr><tr><td>Tail</td><td>[ 49, 64, 81, 100 ]</td></tr><tr><td><i>(values)</i></td><td><div class=\"dni-plaintext\"><pre>[ 36, 49, 64, 81, 100 ]</pre></div></td></tr></tbody></table></div></details></td></tr><tr><td>Head</td><td><div class=\"dni-plaintext\"><pre>25</pre></div></td></tr><tr><td>Tail</td><td><details class=\"dni-treeview\"><summary><span class=\"dni-code-hint\"><code>[ 36, 49, 64, 81, 100 ]</code></span></summary><div><table><thead><tr></tr></thead><tbody><tr><td>HeadOrDefault</td><td>36</td></tr><tr><td>TailOrNull</td><td>[ 49, 64, 81, 100 ]</td></tr><tr><td>Head</td><td>36</td></tr><tr><td>Tail</td><td>[ 49, 64, 81, 100 ]</td></tr><tr><td><i>(values)</i></td><td><div class=\"dni-plaintext\"><pre>[ 36, 49, 64, 81, 100 ]</pre></div></td></tr></tbody></table></div></details></td></tr><tr><td><i>(values)</i></td><td><div class=\"dni-plaintext\"><pre>[ 25, 36, 49, 64, 81, 100 ]</pre></div></td></tr></tbody></table></div></details></td></tr><tr><td>Head</td><td><div class=\"dni-plaintext\"><pre>16</pre></div></td></tr><tr><td>Tail</td><td><details class=\"dni-treeview\"><summary><span class=\"dni-code-hint\"><code>[ 25, 36, 49, 64, 81, 100 ]</code></span></summary><div><table><thead><tr></tr></thead><tbody><tr><td>HeadOrDefault</td><td><div class=\"dni-plaintext\"><pre>25</pre></div></td></tr><tr><td>TailOrNull</td><td><details class=\"dni-treeview\"><summary><span class=\"dni-code-hint\"><code>[ 36, 49, 64, 81, 100 ]</code></span></summary><div><table><thead><tr></tr></thead><tbody><tr><td>HeadOrDefault</td><td>36</td></tr><tr><td>TailOrNull</td><td>[ 49, 64, 81, 100 ]</td></tr><tr><td>Head</td><td>36</td></tr><tr><td>Tail</td><td>[ 49, 64, 81, 100 ]</td></tr><tr><td><i>(values)</i></td><td><div class=\"dni-plaintext\"><pre>[ 36, 49, 64, 81, 100 ]</pre></div></td></tr></tbody></table></div></details></td></tr><tr><td>Head</td><td><div class=\"dni-plaintext\"><pre>25</pre></div></td></tr><tr><td>Tail</td><td><details class=\"dni-treeview\"><summary><span class=\"dni-code-hint\"><code>[ 36, 49, 64, 81, 100 ]</code></span></summary><div><table><thead><tr></tr></thead><tbody><tr><td>HeadOrDefault</td><td>36</td></tr><tr><td>TailOrNull</td><td>[ 49, 64, 81, 100 ]</td></tr><tr><td>Head</td><td>36</td></tr><tr><td>Tail</td><td>[ 49, 64, 81, 100 ]</td></tr><tr><td><i>(values)</i></td><td><div class=\"dni-plaintext\"><pre>[ 36, 49, 64, 81, 100 ]</pre></div></td></tr></tbody></table></div></details></td></tr><tr><td><i>(values)</i></td><td><div class=\"dni-plaintext\"><pre>[ 25, 36, 49, 64, 81, 100 ]</pre></div></td></tr></tbody></table></div></details></td></tr><tr><td><i>(values)</i></td><td><div class=\"dni-plaintext\"><pre>[ 16, 25, 36, 49, 64, 81, 100 ]</pre></div></td></tr></tbody></table></div></details></td></tr><tr><td><i>(values)</i></td><td><div class=\"dni-plaintext\"><pre>[ 9, 16, 25, 36, 49, 64, 81, 100 ]</pre></div></td></tr></tbody></table></div></details></td></tr><tr><td><i>(values)</i></td><td><div class=\"dni-plaintext\"><pre>[ 4, 9, 16, 25, 36, 49, 64, 81, 100 ]</pre></div></td></tr></tbody></table></div></details></td></tr><tr><td><i>(values)</i></td><td><div class=\"dni-plaintext\"><pre>[ 1, 4, 9, 16, 25, 36, 49, 64, 81, 100 ]</pre></div></td></tr></tbody></table></div></details><style>\r\n",
       ".dni-code-hint {\r\n",
       "    font-style: italic;\r\n",
       "    overflow: hidden;\r\n",
       "    white-space: nowrap;\r\n",
       "}\r\n",
       ".dni-treeview {\r\n",
       "    white-space: nowrap;\r\n",
       "}\r\n",
       ".dni-treeview td {\r\n",
       "    vertical-align: top;\r\n",
       "    text-align: start;\r\n",
       "}\r\n",
       "details.dni-treeview {\r\n",
       "    padding-left: 1em;\r\n",
       "}\r\n",
       "table td {\r\n",
       "    text-align: start;\r\n",
       "}\r\n",
       "table tr { \r\n",
       "    vertical-align: top; \r\n",
       "    margin: 0em 0px;\r\n",
       "}\r\n",
       "table tr td pre \r\n",
       "{ \r\n",
       "    vertical-align: top !important; \r\n",
       "    margin: 0em 0px !important;\r\n",
       "} \r\n",
       "table th {\r\n",
       "    text-align: start;\r\n",
       "}\r\n",
       "</style>"
      ]
     },
     "metadata": {},
     "output_type": "display_data"
    }
   ],
   "source": [
    "[ for i in 1..10 -> i * i ]"
   ]
  },
  {
   "cell_type": "markdown",
   "id": "e5531a00",
   "metadata": {
    "dotnet_repl_cellExecutionEndTime": "2024-02-29T00:56:02.992825-06:00",
    "dotnet_repl_cellExecutionStartTime": "2024-02-29T00:56:02.9924931-06:00"
   },
   "source": [
    "Let's use them together to plot the list of integer squares up to 10:"
   ]
  },
  {
   "cell_type": "code",
   "execution_count": 9,
   "id": "77b5651c",
   "metadata": {
    "dotnet_interactive": {
     "language": "fsharp"
    },
    "dotnet_repl_cellExecutionEndTime": "2024-02-29T00:56:03.0172459-06:00",
    "dotnet_repl_cellExecutionStartTime": "2024-02-29T00:56:02.9928392-06:00",
    "polyglot_notebook": {
     "kernelName": "fsharp"
    }
   },
   "outputs": [
    {
     "data": {
      "text/html": [
       "<div><div id=\"ffc36ee8-9ab9-42ca-9dc7-1e4149ed0a6d\"><!-- Plotly chart will be drawn inside this DIV --></div><script type=\"text/javascript\">\n",
       "var renderPlotly_ffc36ee89ab942ca9dc71e4149ed0a6d = function() {\n",
       "    var fsharpPlotlyRequire = requirejs.config({context:'fsharp-plotly',paths:{plotly:'https://cdn.plot.ly/plotly-2.21.0.min'}}) || require;\n",
       "    fsharpPlotlyRequire(['plotly'], function(Plotly) {\n",
       "        var data = [{\"type\":\"scatter\",\"mode\":\"lines\",\"x\":[1,2,3,4,5,6,7,8,9,10],\"y\":[1,4,9,16,25,36,49,64,81,100],\"marker\":{},\"line\":{}}];\n",
       "        var layout = {\"width\":600,\"height\":600,\"template\":{\"layout\":{\"title\":{\"x\":0.05},\"font\":{\"color\":\"rgba(42, 63, 95, 1.0)\"},\"paper_bgcolor\":\"rgba(255, 255, 255, 1.0)\",\"plot_bgcolor\":\"rgba(229, 236, 246, 1.0)\",\"autotypenumbers\":\"strict\",\"colorscale\":{\"diverging\":[[0.0,\"#8e0152\"],[0.1,\"#c51b7d\"],[0.2,\"#de77ae\"],[0.3,\"#f1b6da\"],[0.4,\"#fde0ef\"],[0.5,\"#f7f7f7\"],[0.6,\"#e6f5d0\"],[0.7,\"#b8e186\"],[0.8,\"#7fbc41\"],[0.9,\"#4d9221\"],[1.0,\"#276419\"]],\"sequential\":[[0.0,\"#0d0887\"],[0.1111111111111111,\"#46039f\"],[0.2222222222222222,\"#7201a8\"],[0.3333333333333333,\"#9c179e\"],[0.4444444444444444,\"#bd3786\"],[0.5555555555555556,\"#d8576b\"],[0.6666666666666666,\"#ed7953\"],[0.7777777777777778,\"#fb9f3a\"],[0.8888888888888888,\"#fdca26\"],[1.0,\"#f0f921\"]],\"sequentialminus\":[[0.0,\"#0d0887\"],[0.1111111111111111,\"#46039f\"],[0.2222222222222222,\"#7201a8\"],[0.3333333333333333,\"#9c179e\"],[0.4444444444444444,\"#bd3786\"],[0.5555555555555556,\"#d8576b\"],[0.6666666666666666,\"#ed7953\"],[0.7777777777777778,\"#fb9f3a\"],[0.8888888888888888,\"#fdca26\"],[1.0,\"#f0f921\"]]},\"hovermode\":\"closest\",\"hoverlabel\":{\"align\":\"left\"},\"coloraxis\":{\"colorbar\":{\"outlinewidth\":0.0,\"ticks\":\"\"}},\"geo\":{\"showland\":true,\"landcolor\":\"rgba(229, 236, 246, 1.0)\",\"showlakes\":true,\"lakecolor\":\"rgba(255, 255, 255, 1.0)\",\"subunitcolor\":\"rgba(255, 255, 255, 1.0)\",\"bgcolor\":\"rgba(255, 255, 255, 1.0)\"},\"mapbox\":{\"style\":\"light\"},\"polar\":{\"bgcolor\":\"rgba(229, 236, 246, 1.0)\",\"radialaxis\":{\"linecolor\":\"rgba(255, 255, 255, 1.0)\",\"gridcolor\":\"rgba(255, 255, 255, 1.0)\",\"ticks\":\"\"},\"angularaxis\":{\"linecolor\":\"rgba(255, 255, 255, 1.0)\",\"gridcolor\":\"rgba(255, 255, 255, 1.0)\",\"ticks\":\"\"}},\"scene\":{\"xaxis\":{\"ticks\":\"\",\"linecolor\":\"rgba(255, 255, 255, 1.0)\",\"gridcolor\":\"rgba(255, 255, 255, 1.0)\",\"gridwidth\":2.0,\"zerolinecolor\":\"rgba(255, 255, 255, 1.0)\",\"backgroundcolor\":\"rgba(229, 236, 246, 1.0)\",\"showbackground\":true},\"yaxis\":{\"ticks\":\"\",\"linecolor\":\"rgba(255, 255, 255, 1.0)\",\"gridcolor\":\"rgba(255, 255, 255, 1.0)\",\"gridwidth\":2.0,\"zerolinecolor\":\"rgba(255, 255, 255, 1.0)\",\"backgroundcolor\":\"rgba(229, 236, 246, 1.0)\",\"showbackground\":true},\"zaxis\":{\"ticks\":\"\",\"linecolor\":\"rgba(255, 255, 255, 1.0)\",\"gridcolor\":\"rgba(255, 255, 255, 1.0)\",\"gridwidth\":2.0,\"zerolinecolor\":\"rgba(255, 255, 255, 1.0)\",\"backgroundcolor\":\"rgba(229, 236, 246, 1.0)\",\"showbackground\":true}},\"ternary\":{\"aaxis\":{\"ticks\":\"\",\"linecolor\":\"rgba(255, 255, 255, 1.0)\",\"gridcolor\":\"rgba(255, 255, 255, 1.0)\"},\"baxis\":{\"ticks\":\"\",\"linecolor\":\"rgba(255, 255, 255, 1.0)\",\"gridcolor\":\"rgba(255, 255, 255, 1.0)\"},\"caxis\":{\"ticks\":\"\",\"linecolor\":\"rgba(255, 255, 255, 1.0)\",\"gridcolor\":\"rgba(255, 255, 255, 1.0)\"},\"bgcolor\":\"rgba(229, 236, 246, 1.0)\"},\"xaxis\":{\"title\":{\"standoff\":15},\"ticks\":\"\",\"automargin\":\"height+width+left+right+top+bottom\",\"linecolor\":\"rgba(255, 255, 255, 1.0)\",\"gridcolor\":\"rgba(255, 255, 255, 1.0)\",\"zerolinecolor\":\"rgba(255, 255, 255, 1.0)\",\"zerolinewidth\":2.0},\"yaxis\":{\"title\":{\"standoff\":15},\"ticks\":\"\",\"automargin\":\"height+width+left+right+top+bottom\",\"linecolor\":\"rgba(255, 255, 255, 1.0)\",\"gridcolor\":\"rgba(255, 255, 255, 1.0)\",\"zerolinecolor\":\"rgba(255, 255, 255, 1.0)\",\"zerolinewidth\":2.0},\"annotationdefaults\":{\"arrowcolor\":\"#2a3f5f\",\"arrowhead\":0,\"arrowwidth\":1},\"shapedefaults\":{\"line\":{\"color\":\"rgba(42, 63, 95, 1.0)\"}},\"colorway\":[\"rgba(99, 110, 250, 1.0)\",\"rgba(239, 85, 59, 1.0)\",\"rgba(0, 204, 150, 1.0)\",\"rgba(171, 99, 250, 1.0)\",\"rgba(255, 161, 90, 1.0)\",\"rgba(25, 211, 243, 1.0)\",\"rgba(255, 102, 146, 1.0)\",\"rgba(182, 232, 128, 1.0)\",\"rgba(255, 151, 255, 1.0)\",\"rgba(254, 203, 82, 1.0)\"]},\"data\":{\"bar\":[{\"marker\":{\"line\":{\"color\":\"rgba(229, 236, 246, 1.0)\",\"width\":0.5},\"pattern\":{\"fillmode\":\"overlay\",\"size\":10,\"solidity\":0.2}},\"error_x\":{\"color\":\"rgba(42, 63, 95, 1.0)\"},\"error_y\":{\"color\":\"rgba(42, 63, 95, 1.0)\"}}],\"barpolar\":[{\"marker\":{\"line\":{\"color\":\"rgba(229, 236, 246, 1.0)\",\"width\":0.5},\"pattern\":{\"fillmode\":\"overlay\",\"size\":10,\"solidity\":0.2}}}],\"carpet\":[{\"aaxis\":{\"linecolor\":\"rgba(255, 255, 255, 1.0)\",\"gridcolor\":\"rgba(255, 255, 255, 1.0)\",\"endlinecolor\":\"rgba(42, 63, 95, 1.0)\",\"minorgridcolor\":\"rgba(255, 255, 255, 1.0)\",\"startlinecolor\":\"rgba(42, 63, 95, 1.0)\"},\"baxis\":{\"linecolor\":\"rgba(255, 255, 255, 1.0)\",\"gridcolor\":\"rgba(255, 255, 255, 1.0)\",\"endlinecolor\":\"rgba(42, 63, 95, 1.0)\",\"minorgridcolor\":\"rgba(255, 255, 255, 1.0)\",\"startlinecolor\":\"rgba(42, 63, 95, 1.0)\"}}],\"choropleth\":[{\"colorbar\":{\"outlinewidth\":0.0,\"ticks\":\"\"},\"colorscale\":[[0.0,\"#0d0887\"],[0.1111111111111111,\"#46039f\"],[0.2222222222222222,\"#7201a8\"],[0.3333333333333333,\"#9c179e\"],[0.4444444444444444,\"#bd3786\"],[0.5555555555555556,\"#d8576b\"],[0.6666666666666666,\"#ed7953\"],[0.7777777777777778,\"#fb9f3a\"],[0.8888888888888888,\"#fdca26\"],[1.0,\"#f0f921\"]]}],\"contour\":[{\"colorbar\":{\"outlinewidth\":0.0,\"ticks\":\"\"},\"colorscale\":[[0.0,\"#0d0887\"],[0.1111111111111111,\"#46039f\"],[0.2222222222222222,\"#7201a8\"],[0.3333333333333333,\"#9c179e\"],[0.4444444444444444,\"#bd3786\"],[0.5555555555555556,\"#d8576b\"],[0.6666666666666666,\"#ed7953\"],[0.7777777777777778,\"#fb9f3a\"],[0.8888888888888888,\"#fdca26\"],[1.0,\"#f0f921\"]]}],\"contourcarpet\":[{\"colorbar\":{\"outlinewidth\":0.0,\"ticks\":\"\"}}],\"heatmap\":[{\"colorbar\":{\"outlinewidth\":0.0,\"ticks\":\"\"},\"colorscale\":[[0.0,\"#0d0887\"],[0.1111111111111111,\"#46039f\"],[0.2222222222222222,\"#7201a8\"],[0.3333333333333333,\"#9c179e\"],[0.4444444444444444,\"#bd3786\"],[0.5555555555555556,\"#d8576b\"],[0.6666666666666666,\"#ed7953\"],[0.7777777777777778,\"#fb9f3a\"],[0.8888888888888888,\"#fdca26\"],[1.0,\"#f0f921\"]]}],\"heatmapgl\":[{\"colorbar\":{\"outlinewidth\":0.0,\"ticks\":\"\"},\"colorscale\":[[0.0,\"#0d0887\"],[0.1111111111111111,\"#46039f\"],[0.2222222222222222,\"#7201a8\"],[0.3333333333333333,\"#9c179e\"],[0.4444444444444444,\"#bd3786\"],[0.5555555555555556,\"#d8576b\"],[0.6666666666666666,\"#ed7953\"],[0.7777777777777778,\"#fb9f3a\"],[0.8888888888888888,\"#fdca26\"],[1.0,\"#f0f921\"]]}],\"histogram\":[{\"marker\":{\"pattern\":{\"fillmode\":\"overlay\",\"size\":10,\"solidity\":0.2}}}],\"histogram2d\":[{\"colorbar\":{\"outlinewidth\":0.0,\"ticks\":\"\"},\"colorscale\":[[0.0,\"#0d0887\"],[0.1111111111111111,\"#46039f\"],[0.2222222222222222,\"#7201a8\"],[0.3333333333333333,\"#9c179e\"],[0.4444444444444444,\"#bd3786\"],[0.5555555555555556,\"#d8576b\"],[0.6666666666666666,\"#ed7953\"],[0.7777777777777778,\"#fb9f3a\"],[0.8888888888888888,\"#fdca26\"],[1.0,\"#f0f921\"]]}],\"histogram2dcontour\":[{\"colorbar\":{\"outlinewidth\":0.0,\"ticks\":\"\"},\"colorscale\":[[0.0,\"#0d0887\"],[0.1111111111111111,\"#46039f\"],[0.2222222222222222,\"#7201a8\"],[0.3333333333333333,\"#9c179e\"],[0.4444444444444444,\"#bd3786\"],[0.5555555555555556,\"#d8576b\"],[0.6666666666666666,\"#ed7953\"],[0.7777777777777778,\"#fb9f3a\"],[0.8888888888888888,\"#fdca26\"],[1.0,\"#f0f921\"]]}],\"mesh3d\":[{\"colorbar\":{\"outlinewidth\":0.0,\"ticks\":\"\"}}],\"parcoords\":[{\"line\":{\"colorbar\":{\"outlinewidth\":0.0,\"ticks\":\"\"}}}],\"pie\":[{\"automargin\":true}],\"scatter\":[{\"marker\":{\"colorbar\":{\"outlinewidth\":0.0,\"ticks\":\"\"}}}],\"scatter3d\":[{\"marker\":{\"colorbar\":{\"outlinewidth\":0.0,\"ticks\":\"\"}},\"line\":{\"colorbar\":{\"outlinewidth\":0.0,\"ticks\":\"\"}}}],\"scattercarpet\":[{\"marker\":{\"colorbar\":{\"outlinewidth\":0.0,\"ticks\":\"\"}}}],\"scattergeo\":[{\"marker\":{\"colorbar\":{\"outlinewidth\":0.0,\"ticks\":\"\"}}}],\"scattergl\":[{\"marker\":{\"colorbar\":{\"outlinewidth\":0.0,\"ticks\":\"\"}}}],\"scattermapbox\":[{\"marker\":{\"colorbar\":{\"outlinewidth\":0.0,\"ticks\":\"\"}}}],\"scatterpolar\":[{\"marker\":{\"colorbar\":{\"outlinewidth\":0.0,\"ticks\":\"\"}}}],\"scatterpolargl\":[{\"marker\":{\"colorbar\":{\"outlinewidth\":0.0,\"ticks\":\"\"}}}],\"scatterternary\":[{\"marker\":{\"colorbar\":{\"outlinewidth\":0.0,\"ticks\":\"\"}}}],\"surface\":[{\"colorbar\":{\"outlinewidth\":0.0,\"ticks\":\"\"},\"colorscale\":[[0.0,\"#0d0887\"],[0.1111111111111111,\"#46039f\"],[0.2222222222222222,\"#7201a8\"],[0.3333333333333333,\"#9c179e\"],[0.4444444444444444,\"#bd3786\"],[0.5555555555555556,\"#d8576b\"],[0.6666666666666666,\"#ed7953\"],[0.7777777777777778,\"#fb9f3a\"],[0.8888888888888888,\"#fdca26\"],[1.0,\"#f0f921\"]]}],\"table\":[{\"cells\":{\"fill\":{\"color\":\"rgba(235, 240, 248, 1.0)\"},\"line\":{\"color\":\"rgba(255, 255, 255, 1.0)\"}},\"header\":{\"fill\":{\"color\":\"rgba(200, 212, 227, 1.0)\"},\"line\":{\"color\":\"rgba(255, 255, 255, 1.0)\"}}}]}}};\n",
       "        var config = {\"responsive\":true};\n",
       "        Plotly.newPlot('ffc36ee8-9ab9-42ca-9dc7-1e4149ed0a6d', data, layout, config);\n",
       "    });\n",
       "};\n",
       "if ((typeof(requirejs) !==  typeof(Function)) || (typeof(requirejs.config) !== typeof(Function))) {\n",
       "    var script = document.createElement(\"script\");\n",
       "    script.setAttribute(\"charset\", \"utf-8\");\n",
       "    script.setAttribute(\"src\", \"https://cdnjs.cloudflare.com/ajax/libs/require.js/2.3.6/require.min.js\");\n",
       "    script.onload = function(){\n",
       "        renderPlotly_ffc36ee89ab942ca9dc71e4149ed0a6d();\n",
       "    };\n",
       "    document.getElementsByTagName(\"head\")[0].appendChild(script);\n",
       "}\n",
       "else {\n",
       "    renderPlotly_ffc36ee89ab942ca9dc71e4149ed0a6d();\n",
       "}\n",
       "</script></div>"
      ]
     },
     "metadata": {},
     "output_type": "display_data"
    }
   ],
   "source": [
    "open Plotly.NET\n",
    "\n",
    "Chart.Line([ for x in 1 .. 10 -> x, x * x ])"
   ]
  },
  {
   "cell_type": "markdown",
   "id": "57093f7e",
   "metadata": {
    "dotnet_repl_cellExecutionEndTime": "2024-02-29T00:56:03.0176744-06:00",
    "dotnet_repl_cellExecutionStartTime": "2024-02-29T00:56:03.0172763-06:00"
   },
   "source": [
    "F# supports all the built-in .NET types, as well as one called **`FSharpFunc`**. F# enables function constructs not possible in C#, but being built on top of the .NET Common Language Runtime, F# developers needed a special type not expressable in C# yet. `FSharpFunc` is the name of that .NET type, but in F#, it's simply called a *function*. "
   ]
  },
  {
   "cell_type": "code",
   "execution_count": 10,
   "id": "f2ac089e",
   "metadata": {
    "dotnet_interactive": {
     "language": "fsharp"
    },
    "dotnet_repl_cellExecutionEndTime": "2024-02-29T00:56:03.0420534-06:00",
    "dotnet_repl_cellExecutionStartTime": "2024-02-29T00:56:03.0176895-06:00",
    "polyglot_notebook": {
     "kernelName": "fsharp"
    }
   },
   "outputs": [],
   "source": [
    "0b00000101uy    // byte\n",
    "2.              // float\n",
    "2.0             // float\n",
    "\"abc\"           // string\n",
    "fun x -> x + 2  // int -> int"
   ]
  },
  {
   "cell_type": "markdown",
   "id": "e88c4263",
   "metadata": {
    "dotnet_repl_cellExecutionEndTime": "2024-02-29T00:56:03.0424504-06:00",
    "dotnet_repl_cellExecutionStartTime": "2024-02-29T00:56:03.0420862-06:00"
   },
   "source": [
    "Types in F# can be thought of as domains, and functions as maps between those domains. Therefore, the way to read `int -> int` is \"`int` mapped to `int`\"."
   ]
  },
  {
   "cell_type": "markdown",
   "id": "7829b191",
   "metadata": {
    "dotnet_repl_cellExecutionEndTime": "2024-02-29T00:56:03.0427018-06:00",
    "dotnet_repl_cellExecutionStartTime": "2024-02-29T00:56:03.0424663-06:00"
   },
   "source": [
    "Functions aren't very useful unless we can *evaluate* them, which we do by *applying* their parameters with arguments, like so:"
   ]
  },
  {
   "cell_type": "code",
   "execution_count": 11,
   "id": "bbf91ef3",
   "metadata": {
    "dotnet_interactive": {
     "language": "fsharp"
    },
    "dotnet_repl_cellExecutionEndTime": "2024-02-29T00:56:03.0481298-06:00",
    "dotnet_repl_cellExecutionStartTime": "2024-02-29T00:56:03.0427114-06:00",
    "polyglot_notebook": {
     "kernelName": "fsharp"
    }
   },
   "outputs": [
    {
     "data": {
      "text/html": [
       "<div class=\"dni-plaintext\"><pre>5</pre></div><style>\r\n",
       ".dni-code-hint {\r\n",
       "    font-style: italic;\r\n",
       "    overflow: hidden;\r\n",
       "    white-space: nowrap;\r\n",
       "}\r\n",
       ".dni-treeview {\r\n",
       "    white-space: nowrap;\r\n",
       "}\r\n",
       ".dni-treeview td {\r\n",
       "    vertical-align: top;\r\n",
       "    text-align: start;\r\n",
       "}\r\n",
       "details.dni-treeview {\r\n",
       "    padding-left: 1em;\r\n",
       "}\r\n",
       "table td {\r\n",
       "    text-align: start;\r\n",
       "}\r\n",
       "table tr { \r\n",
       "    vertical-align: top; \r\n",
       "    margin: 0em 0px;\r\n",
       "}\r\n",
       "table tr td pre \r\n",
       "{ \r\n",
       "    vertical-align: top !important; \r\n",
       "    margin: 0em 0px !important;\r\n",
       "} \r\n",
       "table th {\r\n",
       "    text-align: start;\r\n",
       "}\r\n",
       "</style>"
      ]
     },
     "metadata": {},
     "output_type": "display_data"
    }
   ],
   "source": [
    "(fun x -> x + 2) 3"
   ]
  },
  {
   "cell_type": "markdown",
   "id": "fd77ddcf",
   "metadata": {
    "dotnet_repl_cellExecutionEndTime": "2024-02-29T00:56:03.0484795-06:00",
    "dotnet_repl_cellExecutionStartTime": "2024-02-29T00:56:03.0481759-06:00"
   },
   "source": [
    "Functions are very important in F#, as they underpin the theory of how expressions can be assigned names. If we wanted to start assigning names to expressions in F# program, we could write our program like so:"
   ]
  },
  {
   "cell_type": "code",
   "execution_count": 12,
   "id": "1764c1c0",
   "metadata": {
    "dotnet_interactive": {
     "language": "fsharp"
    },
    "dotnet_repl_cellExecutionEndTime": "2024-02-29T00:56:03.0531191-06:00",
    "dotnet_repl_cellExecutionStartTime": "2024-02-29T00:56:03.0485104-06:00",
    "polyglot_notebook": {
     "kernelName": "fsharp"
    }
   },
   "outputs": [
    {
     "data": {
      "text/html": [
       "<div class=\"dni-plaintext\"><pre>5</pre></div><style>\r\n",
       ".dni-code-hint {\r\n",
       "    font-style: italic;\r\n",
       "    overflow: hidden;\r\n",
       "    white-space: nowrap;\r\n",
       "}\r\n",
       ".dni-treeview {\r\n",
       "    white-space: nowrap;\r\n",
       "}\r\n",
       ".dni-treeview td {\r\n",
       "    vertical-align: top;\r\n",
       "    text-align: start;\r\n",
       "}\r\n",
       "details.dni-treeview {\r\n",
       "    padding-left: 1em;\r\n",
       "}\r\n",
       "table td {\r\n",
       "    text-align: start;\r\n",
       "}\r\n",
       "table tr { \r\n",
       "    vertical-align: top; \r\n",
       "    margin: 0em 0px;\r\n",
       "}\r\n",
       "table tr td pre \r\n",
       "{ \r\n",
       "    vertical-align: top !important; \r\n",
       "    margin: 0em 0px !important;\r\n",
       "} \r\n",
       "table th {\r\n",
       "    text-align: start;\r\n",
       "}\r\n",
       "</style>"
      ]
     },
     "metadata": {},
     "output_type": "display_data"
    }
   ],
   "source": [
    "(fun x ->   // define name (\n",
    "    x + 2   //      rest-of-program-goes-here\n",
    ") 3         // ) provide value `x` gets set to"
   ]
  },
  {
   "cell_type": "markdown",
   "id": "cb740954",
   "metadata": {
    "dotnet_repl_cellExecutionEndTime": "2024-02-29T00:56:03.0534527-06:00",
    "dotnet_repl_cellExecutionStartTime": "2024-02-29T00:56:03.0531412-06:00"
   },
   "source": [
    "As you can probably tell, this could easily get out of hand, as the passed parameter is visually separated from the name its bound to. The larger `rest-of-program-goes-here` gets, the farther apart they become. Forunately, we can fix this with a *`let`* expression."
   ]
  },
  {
   "cell_type": "code",
   "execution_count": 13,
   "id": "2cd97e6d",
   "metadata": {
    "dotnet_interactive": {
     "language": "fsharp"
    },
    "dotnet_repl_cellExecutionEndTime": "2024-02-29T00:56:03.0746302-06:00",
    "dotnet_repl_cellExecutionStartTime": "2024-02-29T00:56:03.0534649-06:00",
    "polyglot_notebook": {
     "kernelName": "fsharp"
    }
   },
   "outputs": [
    {
     "data": {
      "text/html": [
       "<div class=\"dni-plaintext\"><pre>5</pre></div><style>\r\n",
       ".dni-code-hint {\r\n",
       "    font-style: italic;\r\n",
       "    overflow: hidden;\r\n",
       "    white-space: nowrap;\r\n",
       "}\r\n",
       ".dni-treeview {\r\n",
       "    white-space: nowrap;\r\n",
       "}\r\n",
       ".dni-treeview td {\r\n",
       "    vertical-align: top;\r\n",
       "    text-align: start;\r\n",
       "}\r\n",
       "details.dni-treeview {\r\n",
       "    padding-left: 1em;\r\n",
       "}\r\n",
       "table td {\r\n",
       "    text-align: start;\r\n",
       "}\r\n",
       "table tr { \r\n",
       "    vertical-align: top; \r\n",
       "    margin: 0em 0px;\r\n",
       "}\r\n",
       "table tr td pre \r\n",
       "{ \r\n",
       "    vertical-align: top !important; \r\n",
       "    margin: 0em 0px !important;\r\n",
       "} \r\n",
       "table th {\r\n",
       "    text-align: start;\r\n",
       "}\r\n",
       "</style>"
      ]
     },
     "metadata": {},
     "output_type": "display_data"
    }
   ],
   "source": [
    "let x = 3 in    // define name = value `x` gets set to\n",
    "    x + 2       //      rest-of-program-goes-here (that uses `x`)"
   ]
  },
  {
   "cell_type": "markdown",
   "id": "f27164da",
   "metadata": {
    "dotnet_repl_cellExecutionEndTime": "2024-02-29T00:56:03.0750039-06:00",
    "dotnet_repl_cellExecutionStartTime": "2024-02-29T00:56:03.0746553-06:00"
   },
   "source": [
    "This visually looks a lot cleaner!"
   ]
  },
  {
   "cell_type": "markdown",
   "id": "9d856c80",
   "metadata": {
    "dotnet_repl_cellExecutionEndTime": "2024-02-29T00:56:03.0753349-06:00",
    "dotnet_repl_cellExecutionStartTime": "2024-02-29T00:56:03.0750174-06:00"
   },
   "source": [
    "We can drop the `in` and the unnecessary spaces, but the underlying code is still the same:"
   ]
  },
  {
   "cell_type": "code",
   "execution_count": 14,
   "id": "db9c1da9",
   "metadata": {
    "dotnet_interactive": {
     "language": "fsharp"
    },
    "dotnet_repl_cellExecutionEndTime": "2024-02-29T00:56:03.0888679-06:00",
    "dotnet_repl_cellExecutionStartTime": "2024-02-29T00:56:03.0753441-06:00",
    "polyglot_notebook": {
     "kernelName": "fsharp"
    }
   },
   "outputs": [
    {
     "data": {
      "text/html": [
       "<div class=\"dni-plaintext\"><pre>5</pre></div><style>\r\n",
       ".dni-code-hint {\r\n",
       "    font-style: italic;\r\n",
       "    overflow: hidden;\r\n",
       "    white-space: nowrap;\r\n",
       "}\r\n",
       ".dni-treeview {\r\n",
       "    white-space: nowrap;\r\n",
       "}\r\n",
       ".dni-treeview td {\r\n",
       "    vertical-align: top;\r\n",
       "    text-align: start;\r\n",
       "}\r\n",
       "details.dni-treeview {\r\n",
       "    padding-left: 1em;\r\n",
       "}\r\n",
       "table td {\r\n",
       "    text-align: start;\r\n",
       "}\r\n",
       "table tr { \r\n",
       "    vertical-align: top; \r\n",
       "    margin: 0em 0px;\r\n",
       "}\r\n",
       "table tr td pre \r\n",
       "{ \r\n",
       "    vertical-align: top !important; \r\n",
       "    margin: 0em 0px !important;\r\n",
       "} \r\n",
       "table th {\r\n",
       "    text-align: start;\r\n",
       "}\r\n",
       "</style>"
      ]
     },
     "metadata": {},
     "output_type": "display_data"
    }
   ],
   "source": [
    "let x = 3\n",
    "x + 2"
   ]
  },
  {
   "cell_type": "markdown",
   "id": "0120fed9",
   "metadata": {
    "dotnet_repl_cellExecutionEndTime": "2024-02-29T00:56:03.0892364-06:00",
    "dotnet_repl_cellExecutionStartTime": "2024-02-29T00:56:03.0889037-06:00"
   },
   "source": [
    "What's important to remember, is that conceptually, all the same elements are there (the name, the body, and the passed value). While the rules are relaxed a little in the outer-most scope, a `let` expression requires a body expression after it (that is not only just another `let` expression):"
   ]
  },
  {
   "cell_type": "code",
   "execution_count": 15,
   "id": "b1f7abc4",
   "metadata": {
    "dotnet_interactive": {
     "language": "fsharp"
    },
    "dotnet_repl_cellExecutionEndTime": "2024-02-29T00:56:03.1008997-06:00",
    "dotnet_repl_cellExecutionStartTime": "2024-02-29T00:56:03.0903498-06:00",
    "polyglot_notebook": {
     "kernelName": "fsharp"
    }
   },
   "outputs": [
    {
     "data": {
      "text/html": [
       "<div class=\"dni-plaintext\"><pre>4</pre></div><style>\r\n",
       ".dni-code-hint {\r\n",
       "    font-style: italic;\r\n",
       "    overflow: hidden;\r\n",
       "    white-space: nowrap;\r\n",
       "}\r\n",
       ".dni-treeview {\r\n",
       "    white-space: nowrap;\r\n",
       "}\r\n",
       ".dni-treeview td {\r\n",
       "    vertical-align: top;\r\n",
       "    text-align: start;\r\n",
       "}\r\n",
       "details.dni-treeview {\r\n",
       "    padding-left: 1em;\r\n",
       "}\r\n",
       "table td {\r\n",
       "    text-align: start;\r\n",
       "}\r\n",
       "table tr { \r\n",
       "    vertical-align: top; \r\n",
       "    margin: 0em 0px;\r\n",
       "}\r\n",
       "table tr td pre \r\n",
       "{ \r\n",
       "    vertical-align: top !important; \r\n",
       "    margin: 0em 0px !important;\r\n",
       "} \r\n",
       "table th {\r\n",
       "    text-align: start;\r\n",
       "}\r\n",
       "</style>"
      ]
     },
     "metadata": {},
     "output_type": "display_data"
    }
   ],
   "source": [
    "// but *can* do this\n",
    "let a = 2 in\n",
    "    let b = 3\n",
    "    4"
   ]
  },
  {
   "cell_type": "markdown",
   "id": "d6a08f6a",
   "metadata": {
    "dotnet_repl_cellExecutionEndTime": "2024-02-29T00:56:03.1012845-06:00",
    "dotnet_repl_cellExecutionStartTime": "2024-02-29T00:56:03.1009263-06:00"
   },
   "source": [
    "Assigning a name to an expression in F# is called a *binding*, because the value can't change once set. In fact, the `=` (when not used with `let`) is an in-place function that compares two objects, evaluating to `True` or `False`."
   ]
  },
  {
   "cell_type": "code",
   "execution_count": 16,
   "id": "412ba4e2",
   "metadata": {
    "dotnet_interactive": {
     "language": "fsharp"
    },
    "dotnet_repl_cellExecutionEndTime": "2024-02-29T00:56:03.108468-06:00",
    "dotnet_repl_cellExecutionStartTime": "2024-02-29T00:56:03.1013003-06:00",
    "polyglot_notebook": {
     "kernelName": "fsharp"
    }
   },
   "outputs": [
    {
     "data": {
      "text/html": [
       "<div class=\"dni-plaintext\"><pre>False</pre></div><style>\r\n",
       ".dni-code-hint {\r\n",
       "    font-style: italic;\r\n",
       "    overflow: hidden;\r\n",
       "    white-space: nowrap;\r\n",
       "}\r\n",
       ".dni-treeview {\r\n",
       "    white-space: nowrap;\r\n",
       "}\r\n",
       ".dni-treeview td {\r\n",
       "    vertical-align: top;\r\n",
       "    text-align: start;\r\n",
       "}\r\n",
       "details.dni-treeview {\r\n",
       "    padding-left: 1em;\r\n",
       "}\r\n",
       "table td {\r\n",
       "    text-align: start;\r\n",
       "}\r\n",
       "table tr { \r\n",
       "    vertical-align: top; \r\n",
       "    margin: 0em 0px;\r\n",
       "}\r\n",
       "table tr td pre \r\n",
       "{ \r\n",
       "    vertical-align: top !important; \r\n",
       "    margin: 0em 0px !important;\r\n",
       "} \r\n",
       "table th {\r\n",
       "    text-align: start;\r\n",
       "}\r\n",
       "</style>"
      ]
     },
     "metadata": {},
     "output_type": "display_data"
    }
   ],
   "source": [
    "let a = 3\n",
    "a = 4"
   ]
  },
  {
   "cell_type": "markdown",
   "id": "3ddf8420",
   "metadata": {},
   "source": [
    "Bindings are useful because of the obvious reason that sometimes code is more readable when you assign names to values, but bindings also allow you to *cache reference values*, potentially reducing computation time."
   ]
  },
  {
   "cell_type": "markdown",
   "id": "820f4f82",
   "metadata": {},
   "source": [
    "For example, in our squares example above, if we *also* wanted to chart $y + x \\times sin(y)$ for each square, we could display it literally like so:"
   ]
  },
  {
   "cell_type": "code",
   "execution_count": 17,
   "id": "14b4bb74",
   "metadata": {
    "dotnet_interactive": {
     "language": "fsharp"
    },
    "polyglot_notebook": {
     "kernelName": "fsharp"
    }
   },
   "outputs": [
    {
     "data": {
      "text/html": [
       "<div><div id=\"98c1fa69-8bfa-4eb2-b365-8866f62a0a16\"><!-- Plotly chart will be drawn inside this DIV --></div><script type=\"text/javascript\">\n",
       "var renderPlotly_98c1fa698bfa4eb2b3658866f62a0a16 = function() {\n",
       "    var fsharpPlotlyRequire = requirejs.config({context:'fsharp-plotly',paths:{plotly:'https://cdn.plot.ly/plotly-2.21.0.min'}}) || require;\n",
       "    fsharpPlotlyRequire(['plotly'], function(Plotly) {\n",
       "        var data = [{\"type\":\"scatter\",\"mode\":\"lines\",\"x\":[1,2,3,4,5,6,7,8,9,10],\"y\":[1,4,9,16,25,36,49,64,81,100],\"marker\":{},\"line\":{}},{\"type\":\"scatter\",\"mode\":\"lines\",\"x\":[1,2,3,4,5,6,7,8,9,10],\"y\":[1.8414709848078965,2.4863950093841436,10.23635545572527,14.848386733339739,24.338241249511135,30.049326879341304,42.323731430683694,71.36020830557433,75.33100805152992,94.93634358890242],\"marker\":{},\"line\":{}}];\n",
       "        var layout = {\"width\":600,\"height\":600,\"template\":{\"layout\":{\"title\":{\"x\":0.05},\"font\":{\"color\":\"rgba(42, 63, 95, 1.0)\"},\"paper_bgcolor\":\"rgba(255, 255, 255, 1.0)\",\"plot_bgcolor\":\"rgba(229, 236, 246, 1.0)\",\"autotypenumbers\":\"strict\",\"colorscale\":{\"diverging\":[[0.0,\"#8e0152\"],[0.1,\"#c51b7d\"],[0.2,\"#de77ae\"],[0.3,\"#f1b6da\"],[0.4,\"#fde0ef\"],[0.5,\"#f7f7f7\"],[0.6,\"#e6f5d0\"],[0.7,\"#b8e186\"],[0.8,\"#7fbc41\"],[0.9,\"#4d9221\"],[1.0,\"#276419\"]],\"sequential\":[[0.0,\"#0d0887\"],[0.1111111111111111,\"#46039f\"],[0.2222222222222222,\"#7201a8\"],[0.3333333333333333,\"#9c179e\"],[0.4444444444444444,\"#bd3786\"],[0.5555555555555556,\"#d8576b\"],[0.6666666666666666,\"#ed7953\"],[0.7777777777777778,\"#fb9f3a\"],[0.8888888888888888,\"#fdca26\"],[1.0,\"#f0f921\"]],\"sequentialminus\":[[0.0,\"#0d0887\"],[0.1111111111111111,\"#46039f\"],[0.2222222222222222,\"#7201a8\"],[0.3333333333333333,\"#9c179e\"],[0.4444444444444444,\"#bd3786\"],[0.5555555555555556,\"#d8576b\"],[0.6666666666666666,\"#ed7953\"],[0.7777777777777778,\"#fb9f3a\"],[0.8888888888888888,\"#fdca26\"],[1.0,\"#f0f921\"]]},\"hovermode\":\"closest\",\"hoverlabel\":{\"align\":\"left\"},\"coloraxis\":{\"colorbar\":{\"outlinewidth\":0.0,\"ticks\":\"\"}},\"geo\":{\"showland\":true,\"landcolor\":\"rgba(229, 236, 246, 1.0)\",\"showlakes\":true,\"lakecolor\":\"rgba(255, 255, 255, 1.0)\",\"subunitcolor\":\"rgba(255, 255, 255, 1.0)\",\"bgcolor\":\"rgba(255, 255, 255, 1.0)\"},\"mapbox\":{\"style\":\"light\"},\"polar\":{\"bgcolor\":\"rgba(229, 236, 246, 1.0)\",\"radialaxis\":{\"linecolor\":\"rgba(255, 255, 255, 1.0)\",\"gridcolor\":\"rgba(255, 255, 255, 1.0)\",\"ticks\":\"\"},\"angularaxis\":{\"linecolor\":\"rgba(255, 255, 255, 1.0)\",\"gridcolor\":\"rgba(255, 255, 255, 1.0)\",\"ticks\":\"\"}},\"scene\":{\"xaxis\":{\"ticks\":\"\",\"linecolor\":\"rgba(255, 255, 255, 1.0)\",\"gridcolor\":\"rgba(255, 255, 255, 1.0)\",\"gridwidth\":2.0,\"zerolinecolor\":\"rgba(255, 255, 255, 1.0)\",\"backgroundcolor\":\"rgba(229, 236, 246, 1.0)\",\"showbackground\":true},\"yaxis\":{\"ticks\":\"\",\"linecolor\":\"rgba(255, 255, 255, 1.0)\",\"gridcolor\":\"rgba(255, 255, 255, 1.0)\",\"gridwidth\":2.0,\"zerolinecolor\":\"rgba(255, 255, 255, 1.0)\",\"backgroundcolor\":\"rgba(229, 236, 246, 1.0)\",\"showbackground\":true},\"zaxis\":{\"ticks\":\"\",\"linecolor\":\"rgba(255, 255, 255, 1.0)\",\"gridcolor\":\"rgba(255, 255, 255, 1.0)\",\"gridwidth\":2.0,\"zerolinecolor\":\"rgba(255, 255, 255, 1.0)\",\"backgroundcolor\":\"rgba(229, 236, 246, 1.0)\",\"showbackground\":true}},\"ternary\":{\"aaxis\":{\"ticks\":\"\",\"linecolor\":\"rgba(255, 255, 255, 1.0)\",\"gridcolor\":\"rgba(255, 255, 255, 1.0)\"},\"baxis\":{\"ticks\":\"\",\"linecolor\":\"rgba(255, 255, 255, 1.0)\",\"gridcolor\":\"rgba(255, 255, 255, 1.0)\"},\"caxis\":{\"ticks\":\"\",\"linecolor\":\"rgba(255, 255, 255, 1.0)\",\"gridcolor\":\"rgba(255, 255, 255, 1.0)\"},\"bgcolor\":\"rgba(229, 236, 246, 1.0)\"},\"xaxis\":{\"title\":{\"standoff\":15},\"ticks\":\"\",\"automargin\":\"height+width+left+right+top+bottom\",\"linecolor\":\"rgba(255, 255, 255, 1.0)\",\"gridcolor\":\"rgba(255, 255, 255, 1.0)\",\"zerolinecolor\":\"rgba(255, 255, 255, 1.0)\",\"zerolinewidth\":2.0},\"yaxis\":{\"title\":{\"standoff\":15},\"ticks\":\"\",\"automargin\":\"height+width+left+right+top+bottom\",\"linecolor\":\"rgba(255, 255, 255, 1.0)\",\"gridcolor\":\"rgba(255, 255, 255, 1.0)\",\"zerolinecolor\":\"rgba(255, 255, 255, 1.0)\",\"zerolinewidth\":2.0},\"annotationdefaults\":{\"arrowcolor\":\"#2a3f5f\",\"arrowhead\":0,\"arrowwidth\":1},\"shapedefaults\":{\"line\":{\"color\":\"rgba(42, 63, 95, 1.0)\"}},\"colorway\":[\"rgba(99, 110, 250, 1.0)\",\"rgba(239, 85, 59, 1.0)\",\"rgba(0, 204, 150, 1.0)\",\"rgba(171, 99, 250, 1.0)\",\"rgba(255, 161, 90, 1.0)\",\"rgba(25, 211, 243, 1.0)\",\"rgba(255, 102, 146, 1.0)\",\"rgba(182, 232, 128, 1.0)\",\"rgba(255, 151, 255, 1.0)\",\"rgba(254, 203, 82, 1.0)\"]},\"data\":{\"bar\":[{\"marker\":{\"line\":{\"color\":\"rgba(229, 236, 246, 1.0)\",\"width\":0.5},\"pattern\":{\"fillmode\":\"overlay\",\"size\":10,\"solidity\":0.2}},\"error_x\":{\"color\":\"rgba(42, 63, 95, 1.0)\"},\"error_y\":{\"color\":\"rgba(42, 63, 95, 1.0)\"}}],\"barpolar\":[{\"marker\":{\"line\":{\"color\":\"rgba(229, 236, 246, 1.0)\",\"width\":0.5},\"pattern\":{\"fillmode\":\"overlay\",\"size\":10,\"solidity\":0.2}}}],\"carpet\":[{\"aaxis\":{\"linecolor\":\"rgba(255, 255, 255, 1.0)\",\"gridcolor\":\"rgba(255, 255, 255, 1.0)\",\"endlinecolor\":\"rgba(42, 63, 95, 1.0)\",\"minorgridcolor\":\"rgba(255, 255, 255, 1.0)\",\"startlinecolor\":\"rgba(42, 63, 95, 1.0)\"},\"baxis\":{\"linecolor\":\"rgba(255, 255, 255, 1.0)\",\"gridcolor\":\"rgba(255, 255, 255, 1.0)\",\"endlinecolor\":\"rgba(42, 63, 95, 1.0)\",\"minorgridcolor\":\"rgba(255, 255, 255, 1.0)\",\"startlinecolor\":\"rgba(42, 63, 95, 1.0)\"}}],\"choropleth\":[{\"colorbar\":{\"outlinewidth\":0.0,\"ticks\":\"\"},\"colorscale\":[[0.0,\"#0d0887\"],[0.1111111111111111,\"#46039f\"],[0.2222222222222222,\"#7201a8\"],[0.3333333333333333,\"#9c179e\"],[0.4444444444444444,\"#bd3786\"],[0.5555555555555556,\"#d8576b\"],[0.6666666666666666,\"#ed7953\"],[0.7777777777777778,\"#fb9f3a\"],[0.8888888888888888,\"#fdca26\"],[1.0,\"#f0f921\"]]}],\"contour\":[{\"colorbar\":{\"outlinewidth\":0.0,\"ticks\":\"\"},\"colorscale\":[[0.0,\"#0d0887\"],[0.1111111111111111,\"#46039f\"],[0.2222222222222222,\"#7201a8\"],[0.3333333333333333,\"#9c179e\"],[0.4444444444444444,\"#bd3786\"],[0.5555555555555556,\"#d8576b\"],[0.6666666666666666,\"#ed7953\"],[0.7777777777777778,\"#fb9f3a\"],[0.8888888888888888,\"#fdca26\"],[1.0,\"#f0f921\"]]}],\"contourcarpet\":[{\"colorbar\":{\"outlinewidth\":0.0,\"ticks\":\"\"}}],\"heatmap\":[{\"colorbar\":{\"outlinewidth\":0.0,\"ticks\":\"\"},\"colorscale\":[[0.0,\"#0d0887\"],[0.1111111111111111,\"#46039f\"],[0.2222222222222222,\"#7201a8\"],[0.3333333333333333,\"#9c179e\"],[0.4444444444444444,\"#bd3786\"],[0.5555555555555556,\"#d8576b\"],[0.6666666666666666,\"#ed7953\"],[0.7777777777777778,\"#fb9f3a\"],[0.8888888888888888,\"#fdca26\"],[1.0,\"#f0f921\"]]}],\"heatmapgl\":[{\"colorbar\":{\"outlinewidth\":0.0,\"ticks\":\"\"},\"colorscale\":[[0.0,\"#0d0887\"],[0.1111111111111111,\"#46039f\"],[0.2222222222222222,\"#7201a8\"],[0.3333333333333333,\"#9c179e\"],[0.4444444444444444,\"#bd3786\"],[0.5555555555555556,\"#d8576b\"],[0.6666666666666666,\"#ed7953\"],[0.7777777777777778,\"#fb9f3a\"],[0.8888888888888888,\"#fdca26\"],[1.0,\"#f0f921\"]]}],\"histogram\":[{\"marker\":{\"pattern\":{\"fillmode\":\"overlay\",\"size\":10,\"solidity\":0.2}}}],\"histogram2d\":[{\"colorbar\":{\"outlinewidth\":0.0,\"ticks\":\"\"},\"colorscale\":[[0.0,\"#0d0887\"],[0.1111111111111111,\"#46039f\"],[0.2222222222222222,\"#7201a8\"],[0.3333333333333333,\"#9c179e\"],[0.4444444444444444,\"#bd3786\"],[0.5555555555555556,\"#d8576b\"],[0.6666666666666666,\"#ed7953\"],[0.7777777777777778,\"#fb9f3a\"],[0.8888888888888888,\"#fdca26\"],[1.0,\"#f0f921\"]]}],\"histogram2dcontour\":[{\"colorbar\":{\"outlinewidth\":0.0,\"ticks\":\"\"},\"colorscale\":[[0.0,\"#0d0887\"],[0.1111111111111111,\"#46039f\"],[0.2222222222222222,\"#7201a8\"],[0.3333333333333333,\"#9c179e\"],[0.4444444444444444,\"#bd3786\"],[0.5555555555555556,\"#d8576b\"],[0.6666666666666666,\"#ed7953\"],[0.7777777777777778,\"#fb9f3a\"],[0.8888888888888888,\"#fdca26\"],[1.0,\"#f0f921\"]]}],\"mesh3d\":[{\"colorbar\":{\"outlinewidth\":0.0,\"ticks\":\"\"}}],\"parcoords\":[{\"line\":{\"colorbar\":{\"outlinewidth\":0.0,\"ticks\":\"\"}}}],\"pie\":[{\"automargin\":true}],\"scatter\":[{\"marker\":{\"colorbar\":{\"outlinewidth\":0.0,\"ticks\":\"\"}}}],\"scatter3d\":[{\"marker\":{\"colorbar\":{\"outlinewidth\":0.0,\"ticks\":\"\"}},\"line\":{\"colorbar\":{\"outlinewidth\":0.0,\"ticks\":\"\"}}}],\"scattercarpet\":[{\"marker\":{\"colorbar\":{\"outlinewidth\":0.0,\"ticks\":\"\"}}}],\"scattergeo\":[{\"marker\":{\"colorbar\":{\"outlinewidth\":0.0,\"ticks\":\"\"}}}],\"scattergl\":[{\"marker\":{\"colorbar\":{\"outlinewidth\":0.0,\"ticks\":\"\"}}}],\"scattermapbox\":[{\"marker\":{\"colorbar\":{\"outlinewidth\":0.0,\"ticks\":\"\"}}}],\"scatterpolar\":[{\"marker\":{\"colorbar\":{\"outlinewidth\":0.0,\"ticks\":\"\"}}}],\"scatterpolargl\":[{\"marker\":{\"colorbar\":{\"outlinewidth\":0.0,\"ticks\":\"\"}}}],\"scatterternary\":[{\"marker\":{\"colorbar\":{\"outlinewidth\":0.0,\"ticks\":\"\"}}}],\"surface\":[{\"colorbar\":{\"outlinewidth\":0.0,\"ticks\":\"\"},\"colorscale\":[[0.0,\"#0d0887\"],[0.1111111111111111,\"#46039f\"],[0.2222222222222222,\"#7201a8\"],[0.3333333333333333,\"#9c179e\"],[0.4444444444444444,\"#bd3786\"],[0.5555555555555556,\"#d8576b\"],[0.6666666666666666,\"#ed7953\"],[0.7777777777777778,\"#fb9f3a\"],[0.8888888888888888,\"#fdca26\"],[1.0,\"#f0f921\"]]}],\"table\":[{\"cells\":{\"fill\":{\"color\":\"rgba(235, 240, 248, 1.0)\"},\"line\":{\"color\":\"rgba(255, 255, 255, 1.0)\"}},\"header\":{\"fill\":{\"color\":\"rgba(200, 212, 227, 1.0)\"},\"line\":{\"color\":\"rgba(255, 255, 255, 1.0)\"}}}]}}};\n",
       "        var config = {\"responsive\":true};\n",
       "        Plotly.newPlot('98c1fa69-8bfa-4eb2-b365-8866f62a0a16', data, layout, config);\n",
       "    });\n",
       "};\n",
       "if ((typeof(requirejs) !==  typeof(Function)) || (typeof(requirejs.config) !== typeof(Function))) {\n",
       "    var script = document.createElement(\"script\");\n",
       "    script.setAttribute(\"charset\", \"utf-8\");\n",
       "    script.setAttribute(\"src\", \"https://cdnjs.cloudflare.com/ajax/libs/require.js/2.3.6/require.min.js\");\n",
       "    script.onload = function(){\n",
       "        renderPlotly_98c1fa698bfa4eb2b3658866f62a0a16();\n",
       "    };\n",
       "    document.getElementsByTagName(\"head\")[0].appendChild(script);\n",
       "}\n",
       "else {\n",
       "    renderPlotly_98c1fa698bfa4eb2b3658866f62a0a16();\n",
       "}\n",
       "</script></div>"
      ]
     },
     "metadata": {},
     "output_type": "display_data"
    }
   ],
   "source": [
    "open Plotly.NET\n",
    "\n",
    "Chart.combine [\n",
    "    Chart.Line([ for x in 1 .. 10 -> x, x * x ])\n",
    "    Chart.Line([ for x in 1 .. 10 -> x, float x * float x + Math.Sin(float x * float x) * float x ])\n",
    "]"
   ]
  },
  {
   "cell_type": "markdown",
   "id": "d287d282",
   "metadata": {},
   "source": [
    "However, we could reuse the fact we already computed $y$ by binding a name to our squares list and use it instead:"
   ]
  },
  {
   "cell_type": "code",
   "execution_count": 18,
   "id": "1a462ba4",
   "metadata": {
    "dotnet_interactive": {
     "language": "fsharp"
    },
    "polyglot_notebook": {
     "kernelName": "fsharp"
    }
   },
   "outputs": [
    {
     "data": {
      "text/html": [
       "<div><div id=\"c8a11d82-1477-4ac6-bdeb-53f6d540239d\"><!-- Plotly chart will be drawn inside this DIV --></div><script type=\"text/javascript\">\n",
       "var renderPlotly_c8a11d8214774ac6bdeb53f6d540239d = function() {\n",
       "    var fsharpPlotlyRequire = requirejs.config({context:'fsharp-plotly',paths:{plotly:'https://cdn.plot.ly/plotly-2.21.0.min'}}) || require;\n",
       "    fsharpPlotlyRequire(['plotly'], function(Plotly) {\n",
       "        var data = [{\"type\":\"scatter\",\"mode\":\"lines\",\"x\":[1,2,3,4,5,6,7,8,9,10],\"y\":[1,4,9,16,25,36,49,64,81,100],\"marker\":{},\"line\":{}},{\"type\":\"scatter\",\"mode\":\"lines\",\"x\":[1,2,3,4,5,6,7,8,9,10],\"y\":[1.8414709848078965,2.4863950093841436,10.23635545572527,14.848386733339739,24.338241249511135,30.049326879341304,42.323731430683694,71.36020830557433,75.33100805152992,94.93634358890242],\"marker\":{},\"line\":{}}];\n",
       "        var layout = {\"width\":600,\"height\":600,\"template\":{\"layout\":{\"title\":{\"x\":0.05},\"font\":{\"color\":\"rgba(42, 63, 95, 1.0)\"},\"paper_bgcolor\":\"rgba(255, 255, 255, 1.0)\",\"plot_bgcolor\":\"rgba(229, 236, 246, 1.0)\",\"autotypenumbers\":\"strict\",\"colorscale\":{\"diverging\":[[0.0,\"#8e0152\"],[0.1,\"#c51b7d\"],[0.2,\"#de77ae\"],[0.3,\"#f1b6da\"],[0.4,\"#fde0ef\"],[0.5,\"#f7f7f7\"],[0.6,\"#e6f5d0\"],[0.7,\"#b8e186\"],[0.8,\"#7fbc41\"],[0.9,\"#4d9221\"],[1.0,\"#276419\"]],\"sequential\":[[0.0,\"#0d0887\"],[0.1111111111111111,\"#46039f\"],[0.2222222222222222,\"#7201a8\"],[0.3333333333333333,\"#9c179e\"],[0.4444444444444444,\"#bd3786\"],[0.5555555555555556,\"#d8576b\"],[0.6666666666666666,\"#ed7953\"],[0.7777777777777778,\"#fb9f3a\"],[0.8888888888888888,\"#fdca26\"],[1.0,\"#f0f921\"]],\"sequentialminus\":[[0.0,\"#0d0887\"],[0.1111111111111111,\"#46039f\"],[0.2222222222222222,\"#7201a8\"],[0.3333333333333333,\"#9c179e\"],[0.4444444444444444,\"#bd3786\"],[0.5555555555555556,\"#d8576b\"],[0.6666666666666666,\"#ed7953\"],[0.7777777777777778,\"#fb9f3a\"],[0.8888888888888888,\"#fdca26\"],[1.0,\"#f0f921\"]]},\"hovermode\":\"closest\",\"hoverlabel\":{\"align\":\"left\"},\"coloraxis\":{\"colorbar\":{\"outlinewidth\":0.0,\"ticks\":\"\"}},\"geo\":{\"showland\":true,\"landcolor\":\"rgba(229, 236, 246, 1.0)\",\"showlakes\":true,\"lakecolor\":\"rgba(255, 255, 255, 1.0)\",\"subunitcolor\":\"rgba(255, 255, 255, 1.0)\",\"bgcolor\":\"rgba(255, 255, 255, 1.0)\"},\"mapbox\":{\"style\":\"light\"},\"polar\":{\"bgcolor\":\"rgba(229, 236, 246, 1.0)\",\"radialaxis\":{\"linecolor\":\"rgba(255, 255, 255, 1.0)\",\"gridcolor\":\"rgba(255, 255, 255, 1.0)\",\"ticks\":\"\"},\"angularaxis\":{\"linecolor\":\"rgba(255, 255, 255, 1.0)\",\"gridcolor\":\"rgba(255, 255, 255, 1.0)\",\"ticks\":\"\"}},\"scene\":{\"xaxis\":{\"ticks\":\"\",\"linecolor\":\"rgba(255, 255, 255, 1.0)\",\"gridcolor\":\"rgba(255, 255, 255, 1.0)\",\"gridwidth\":2.0,\"zerolinecolor\":\"rgba(255, 255, 255, 1.0)\",\"backgroundcolor\":\"rgba(229, 236, 246, 1.0)\",\"showbackground\":true},\"yaxis\":{\"ticks\":\"\",\"linecolor\":\"rgba(255, 255, 255, 1.0)\",\"gridcolor\":\"rgba(255, 255, 255, 1.0)\",\"gridwidth\":2.0,\"zerolinecolor\":\"rgba(255, 255, 255, 1.0)\",\"backgroundcolor\":\"rgba(229, 236, 246, 1.0)\",\"showbackground\":true},\"zaxis\":{\"ticks\":\"\",\"linecolor\":\"rgba(255, 255, 255, 1.0)\",\"gridcolor\":\"rgba(255, 255, 255, 1.0)\",\"gridwidth\":2.0,\"zerolinecolor\":\"rgba(255, 255, 255, 1.0)\",\"backgroundcolor\":\"rgba(229, 236, 246, 1.0)\",\"showbackground\":true}},\"ternary\":{\"aaxis\":{\"ticks\":\"\",\"linecolor\":\"rgba(255, 255, 255, 1.0)\",\"gridcolor\":\"rgba(255, 255, 255, 1.0)\"},\"baxis\":{\"ticks\":\"\",\"linecolor\":\"rgba(255, 255, 255, 1.0)\",\"gridcolor\":\"rgba(255, 255, 255, 1.0)\"},\"caxis\":{\"ticks\":\"\",\"linecolor\":\"rgba(255, 255, 255, 1.0)\",\"gridcolor\":\"rgba(255, 255, 255, 1.0)\"},\"bgcolor\":\"rgba(229, 236, 246, 1.0)\"},\"xaxis\":{\"title\":{\"standoff\":15},\"ticks\":\"\",\"automargin\":\"height+width+left+right+top+bottom\",\"linecolor\":\"rgba(255, 255, 255, 1.0)\",\"gridcolor\":\"rgba(255, 255, 255, 1.0)\",\"zerolinecolor\":\"rgba(255, 255, 255, 1.0)\",\"zerolinewidth\":2.0},\"yaxis\":{\"title\":{\"standoff\":15},\"ticks\":\"\",\"automargin\":\"height+width+left+right+top+bottom\",\"linecolor\":\"rgba(255, 255, 255, 1.0)\",\"gridcolor\":\"rgba(255, 255, 255, 1.0)\",\"zerolinecolor\":\"rgba(255, 255, 255, 1.0)\",\"zerolinewidth\":2.0},\"annotationdefaults\":{\"arrowcolor\":\"#2a3f5f\",\"arrowhead\":0,\"arrowwidth\":1},\"shapedefaults\":{\"line\":{\"color\":\"rgba(42, 63, 95, 1.0)\"}},\"colorway\":[\"rgba(99, 110, 250, 1.0)\",\"rgba(239, 85, 59, 1.0)\",\"rgba(0, 204, 150, 1.0)\",\"rgba(171, 99, 250, 1.0)\",\"rgba(255, 161, 90, 1.0)\",\"rgba(25, 211, 243, 1.0)\",\"rgba(255, 102, 146, 1.0)\",\"rgba(182, 232, 128, 1.0)\",\"rgba(255, 151, 255, 1.0)\",\"rgba(254, 203, 82, 1.0)\"]},\"data\":{\"bar\":[{\"marker\":{\"line\":{\"color\":\"rgba(229, 236, 246, 1.0)\",\"width\":0.5},\"pattern\":{\"fillmode\":\"overlay\",\"size\":10,\"solidity\":0.2}},\"error_x\":{\"color\":\"rgba(42, 63, 95, 1.0)\"},\"error_y\":{\"color\":\"rgba(42, 63, 95, 1.0)\"}}],\"barpolar\":[{\"marker\":{\"line\":{\"color\":\"rgba(229, 236, 246, 1.0)\",\"width\":0.5},\"pattern\":{\"fillmode\":\"overlay\",\"size\":10,\"solidity\":0.2}}}],\"carpet\":[{\"aaxis\":{\"linecolor\":\"rgba(255, 255, 255, 1.0)\",\"gridcolor\":\"rgba(255, 255, 255, 1.0)\",\"endlinecolor\":\"rgba(42, 63, 95, 1.0)\",\"minorgridcolor\":\"rgba(255, 255, 255, 1.0)\",\"startlinecolor\":\"rgba(42, 63, 95, 1.0)\"},\"baxis\":{\"linecolor\":\"rgba(255, 255, 255, 1.0)\",\"gridcolor\":\"rgba(255, 255, 255, 1.0)\",\"endlinecolor\":\"rgba(42, 63, 95, 1.0)\",\"minorgridcolor\":\"rgba(255, 255, 255, 1.0)\",\"startlinecolor\":\"rgba(42, 63, 95, 1.0)\"}}],\"choropleth\":[{\"colorbar\":{\"outlinewidth\":0.0,\"ticks\":\"\"},\"colorscale\":[[0.0,\"#0d0887\"],[0.1111111111111111,\"#46039f\"],[0.2222222222222222,\"#7201a8\"],[0.3333333333333333,\"#9c179e\"],[0.4444444444444444,\"#bd3786\"],[0.5555555555555556,\"#d8576b\"],[0.6666666666666666,\"#ed7953\"],[0.7777777777777778,\"#fb9f3a\"],[0.8888888888888888,\"#fdca26\"],[1.0,\"#f0f921\"]]}],\"contour\":[{\"colorbar\":{\"outlinewidth\":0.0,\"ticks\":\"\"},\"colorscale\":[[0.0,\"#0d0887\"],[0.1111111111111111,\"#46039f\"],[0.2222222222222222,\"#7201a8\"],[0.3333333333333333,\"#9c179e\"],[0.4444444444444444,\"#bd3786\"],[0.5555555555555556,\"#d8576b\"],[0.6666666666666666,\"#ed7953\"],[0.7777777777777778,\"#fb9f3a\"],[0.8888888888888888,\"#fdca26\"],[1.0,\"#f0f921\"]]}],\"contourcarpet\":[{\"colorbar\":{\"outlinewidth\":0.0,\"ticks\":\"\"}}],\"heatmap\":[{\"colorbar\":{\"outlinewidth\":0.0,\"ticks\":\"\"},\"colorscale\":[[0.0,\"#0d0887\"],[0.1111111111111111,\"#46039f\"],[0.2222222222222222,\"#7201a8\"],[0.3333333333333333,\"#9c179e\"],[0.4444444444444444,\"#bd3786\"],[0.5555555555555556,\"#d8576b\"],[0.6666666666666666,\"#ed7953\"],[0.7777777777777778,\"#fb9f3a\"],[0.8888888888888888,\"#fdca26\"],[1.0,\"#f0f921\"]]}],\"heatmapgl\":[{\"colorbar\":{\"outlinewidth\":0.0,\"ticks\":\"\"},\"colorscale\":[[0.0,\"#0d0887\"],[0.1111111111111111,\"#46039f\"],[0.2222222222222222,\"#7201a8\"],[0.3333333333333333,\"#9c179e\"],[0.4444444444444444,\"#bd3786\"],[0.5555555555555556,\"#d8576b\"],[0.6666666666666666,\"#ed7953\"],[0.7777777777777778,\"#fb9f3a\"],[0.8888888888888888,\"#fdca26\"],[1.0,\"#f0f921\"]]}],\"histogram\":[{\"marker\":{\"pattern\":{\"fillmode\":\"overlay\",\"size\":10,\"solidity\":0.2}}}],\"histogram2d\":[{\"colorbar\":{\"outlinewidth\":0.0,\"ticks\":\"\"},\"colorscale\":[[0.0,\"#0d0887\"],[0.1111111111111111,\"#46039f\"],[0.2222222222222222,\"#7201a8\"],[0.3333333333333333,\"#9c179e\"],[0.4444444444444444,\"#bd3786\"],[0.5555555555555556,\"#d8576b\"],[0.6666666666666666,\"#ed7953\"],[0.7777777777777778,\"#fb9f3a\"],[0.8888888888888888,\"#fdca26\"],[1.0,\"#f0f921\"]]}],\"histogram2dcontour\":[{\"colorbar\":{\"outlinewidth\":0.0,\"ticks\":\"\"},\"colorscale\":[[0.0,\"#0d0887\"],[0.1111111111111111,\"#46039f\"],[0.2222222222222222,\"#7201a8\"],[0.3333333333333333,\"#9c179e\"],[0.4444444444444444,\"#bd3786\"],[0.5555555555555556,\"#d8576b\"],[0.6666666666666666,\"#ed7953\"],[0.7777777777777778,\"#fb9f3a\"],[0.8888888888888888,\"#fdca26\"],[1.0,\"#f0f921\"]]}],\"mesh3d\":[{\"colorbar\":{\"outlinewidth\":0.0,\"ticks\":\"\"}}],\"parcoords\":[{\"line\":{\"colorbar\":{\"outlinewidth\":0.0,\"ticks\":\"\"}}}],\"pie\":[{\"automargin\":true}],\"scatter\":[{\"marker\":{\"colorbar\":{\"outlinewidth\":0.0,\"ticks\":\"\"}}}],\"scatter3d\":[{\"marker\":{\"colorbar\":{\"outlinewidth\":0.0,\"ticks\":\"\"}},\"line\":{\"colorbar\":{\"outlinewidth\":0.0,\"ticks\":\"\"}}}],\"scattercarpet\":[{\"marker\":{\"colorbar\":{\"outlinewidth\":0.0,\"ticks\":\"\"}}}],\"scattergeo\":[{\"marker\":{\"colorbar\":{\"outlinewidth\":0.0,\"ticks\":\"\"}}}],\"scattergl\":[{\"marker\":{\"colorbar\":{\"outlinewidth\":0.0,\"ticks\":\"\"}}}],\"scattermapbox\":[{\"marker\":{\"colorbar\":{\"outlinewidth\":0.0,\"ticks\":\"\"}}}],\"scatterpolar\":[{\"marker\":{\"colorbar\":{\"outlinewidth\":0.0,\"ticks\":\"\"}}}],\"scatterpolargl\":[{\"marker\":{\"colorbar\":{\"outlinewidth\":0.0,\"ticks\":\"\"}}}],\"scatterternary\":[{\"marker\":{\"colorbar\":{\"outlinewidth\":0.0,\"ticks\":\"\"}}}],\"surface\":[{\"colorbar\":{\"outlinewidth\":0.0,\"ticks\":\"\"},\"colorscale\":[[0.0,\"#0d0887\"],[0.1111111111111111,\"#46039f\"],[0.2222222222222222,\"#7201a8\"],[0.3333333333333333,\"#9c179e\"],[0.4444444444444444,\"#bd3786\"],[0.5555555555555556,\"#d8576b\"],[0.6666666666666666,\"#ed7953\"],[0.7777777777777778,\"#fb9f3a\"],[0.8888888888888888,\"#fdca26\"],[1.0,\"#f0f921\"]]}],\"table\":[{\"cells\":{\"fill\":{\"color\":\"rgba(235, 240, 248, 1.0)\"},\"line\":{\"color\":\"rgba(255, 255, 255, 1.0)\"}},\"header\":{\"fill\":{\"color\":\"rgba(200, 212, 227, 1.0)\"},\"line\":{\"color\":\"rgba(255, 255, 255, 1.0)\"}}}]}}};\n",
       "        var config = {\"responsive\":true};\n",
       "        Plotly.newPlot('c8a11d82-1477-4ac6-bdeb-53f6d540239d', data, layout, config);\n",
       "    });\n",
       "};\n",
       "if ((typeof(requirejs) !==  typeof(Function)) || (typeof(requirejs.config) !== typeof(Function))) {\n",
       "    var script = document.createElement(\"script\");\n",
       "    script.setAttribute(\"charset\", \"utf-8\");\n",
       "    script.setAttribute(\"src\", \"https://cdnjs.cloudflare.com/ajax/libs/require.js/2.3.6/require.min.js\");\n",
       "    script.onload = function(){\n",
       "        renderPlotly_c8a11d8214774ac6bdeb53f6d540239d();\n",
       "    };\n",
       "    document.getElementsByTagName(\"head\")[0].appendChild(script);\n",
       "}\n",
       "else {\n",
       "    renderPlotly_c8a11d8214774ac6bdeb53f6d540239d();\n",
       "}\n",
       "</script></div>"
      ]
     },
     "metadata": {},
     "output_type": "display_data"
    }
   ],
   "source": [
    "open Plotly.NET\n",
    "\n",
    "let squares = [ for x in 1 .. 10 -> x, x * x ]\n",
    "\n",
    "Chart.combine [\n",
    "    Chart.Line(squares)\n",
    "    Chart.Line([ for x, y in squares -> x, float y + Math.Sin(float x * float x) * float x ])\n",
    "]"
   ]
  },
  {
   "cell_type": "markdown",
   "id": "7ec9b1fa",
   "metadata": {},
   "source": [
    "F# is different from languages like Python and JavaScript in that it has a strong opinion on what is a **type**.\n",
    "\n",
    "Types are rules that the compiler (what checks and builds your code) uses to check you're writing a correct program."
   ]
  },
  {
   "cell_type": "markdown",
   "id": "8cbca192",
   "metadata": {},
   "source": [
    "Let's start with a simple exercise comparing with Python:"
   ]
  },
  {
   "cell_type": "code",
   "execution_count": 19,
   "metadata": {
    "dotnet_interactive": {
     "language": "value"
    },
    "polyglot_notebook": {
     "kernelName": "value"
    }
   },
   "outputs": [
    {
     "data": {
      "text/markdown": [
       "The `#!connect jupyter` feature is in preview. Please report any feedback or issues at https://github.com/dotnet/interactive/issues/new/choose."
      ]
     },
     "metadata": {},
     "output_type": "display_data"
    },
    {
     "data": {
      "text/plain": [
       "Kernel added: #!pythonkernel"
      ]
     },
     "metadata": {},
     "output_type": "display_data"
    }
   ],
   "source": [
    "#!connect jupyter --kernel-name pythonkernel --conda-env base --kernel-spec python3"
   ]
  },
  {
   "cell_type": "markdown",
   "id": "59986e33",
   "metadata": {},
   "source": [
    "We create a function that print's the combined age of two people:"
   ]
  },
  {
   "cell_type": "code",
   "execution_count": 91,
   "metadata": {
    "dotnet_interactive": {
     "language": "pythonkernel"
    },
    "polyglot_notebook": {
     "kernelName": "pythonkernel"
    }
   },
   "outputs": [
    {
     "name": "stdout",
     "output_type": "stream",
     "text": [
      "Rebecca and Eric's combined age is 50\n"
     ]
    }
   ],
   "source": [
    "def add_person_age(person1, person2):\n",
    "    print(f\"{person1.name} and {person2.name}'s combined age is {person1.age + person2.age}\")"
   ]
  },
  {
   "cell_type": "markdown",
   "id": "2d2c031e",
   "metadata": {},
   "source": [
    "We construct two objects that each contain the attributes our function uses:"
   ]
  },
  {
   "cell_type": "code",
   "execution_count": 15,
   "metadata": {
    "dotnet_interactive": {
     "language": "pythonkernel"
    },
    "polyglot_notebook": {
     "kernelName": "pythonkernel"
    }
   },
   "outputs": [
    {
     "ename": "Error",
     "evalue": "Microsoft.DotNet.Interactive.NoSuitableKernelException: No kernel found for SubmitCode: person1 = type(\"\", (), {}) ... with target kernel 'pythonkernel'.\r\n   at Microsoft.DotNet.Interactive.Commands.KernelCommand.InvokeAsync(KernelInvocationContext context) in D:\\a\\_work\\1\\s\\src\\Microsoft.DotNet.Interactive\\Commands\\KernelCommand.cs:line 186\r\n   at Microsoft.DotNet.Interactive.Kernel.HandleAsync(KernelCommand command, KernelInvocationContext context) in D:\\a\\_work\\1\\s\\src\\Microsoft.DotNet.Interactive\\Kernel.cs:line 330\r\n   at Microsoft.DotNet.Interactive.CompositeKernel.HandleAsync(KernelCommand command, KernelInvocationContext context) in D:\\a\\_work\\1\\s\\src\\Microsoft.DotNet.Interactive\\CompositeKernel.cs:line 183\r\n   at Microsoft.DotNet.Interactive.KernelCommandPipeline.<BuildPipeline>b__6_0(KernelCommand command, KernelInvocationContext context, KernelPipelineContinuation _) in D:\\a\\_work\\1\\s\\src\\Microsoft.DotNet.Interactive\\KernelCommandPipeline.cs:line 60\r\n   at Microsoft.DotNet.Interactive.KernelCommandPipeline.<>c__DisplayClass6_1.<<BuildPipeline>b__3>d.MoveNext() in D:\\a\\_work\\1\\s\\src\\Microsoft.DotNet.Interactive\\KernelCommandPipeline.cs:line 75\r\n--- End of stack trace from previous location ---\r\n   at Microsoft.DotNet.Interactive.App.KernelExtensions.<>c__DisplayClass3_0.<<UseTelemetrySender>b__0>d.MoveNext() in D:\\a\\_work\\1\\s\\src\\dotnet-interactive\\KernelExtensions.cs:line 123\r\n--- End of stack trace from previous location ---\r\n   at Microsoft.DotNet.Interactive.KernelCommandPipeline.<>c__DisplayClass6_1.<<BuildPipeline>b__3>d.MoveNext() in D:\\a\\_work\\1\\s\\src\\Microsoft.DotNet.Interactive\\KernelCommandPipeline.cs:line 75\r\n--- End of stack trace from previous location ---\r\n   at Microsoft.DotNet.Interactive.App.KernelExtensionLoader.<>c__DisplayClass0_0.<<UseNuGetExtensions>b__0>d.MoveNext() in D:\\a\\_work\\1\\s\\src\\dotnet-interactive\\KernelExtensionLoader.cs:line 25\r\n--- End of stack trace from previous location ---\r\n   at Microsoft.DotNet.Interactive.KernelCommandPipeline.<>c__DisplayClass6_0.<<BuildPipeline>g__Combine|2>d.MoveNext() in D:\\a\\_work\\1\\s\\src\\Microsoft.DotNet.Interactive\\KernelCommandPipeline.cs:line 73\r\n--- End of stack trace from previous location ---\r\n   at Microsoft.DotNet.Interactive.KernelCommandPipeline.<>c__DisplayClass6_0.<<BuildPipeline>g__Combine|2>d.MoveNext() in D:\\a\\_work\\1\\s\\src\\Microsoft.DotNet.Interactive\\KernelCommandPipeline.cs:line 73\r\n--- End of stack trace from previous location ---\r\n   at Microsoft.DotNet.Interactive.KernelCommandPipeline.SendAsync(KernelCommand command, KernelInvocationContext context) in D:\\a\\_work\\1\\s\\src\\Microsoft.DotNet.Interactive\\KernelCommandPipeline.cs:line 41",
     "output_type": "error",
     "traceback": [
      "Microsoft.DotNet.Interactive.NoSuitableKernelException: No kernel found for SubmitCode: person1 = type(\"\", (), {}) ... with target kernel 'pythonkernel'.\r\n",
      "   at Microsoft.DotNet.Interactive.Commands.KernelCommand.InvokeAsync(KernelInvocationContext context) in D:\\a\\_work\\1\\s\\src\\Microsoft.DotNet.Interactive\\Commands\\KernelCommand.cs:line 186\r\n",
      "   at Microsoft.DotNet.Interactive.Kernel.HandleAsync(KernelCommand command, KernelInvocationContext context) in D:\\a\\_work\\1\\s\\src\\Microsoft.DotNet.Interactive\\Kernel.cs:line 330\r\n",
      "   at Microsoft.DotNet.Interactive.CompositeKernel.HandleAsync(KernelCommand command, KernelInvocationContext context) in D:\\a\\_work\\1\\s\\src\\Microsoft.DotNet.Interactive\\CompositeKernel.cs:line 183\r\n",
      "   at Microsoft.DotNet.Interactive.KernelCommandPipeline.<BuildPipeline>b__6_0(KernelCommand command, KernelInvocationContext context, KernelPipelineContinuation _) in D:\\a\\_work\\1\\s\\src\\Microsoft.DotNet.Interactive\\KernelCommandPipeline.cs:line 60\r\n",
      "   at Microsoft.DotNet.Interactive.KernelCommandPipeline.<>c__DisplayClass6_1.<<BuildPipeline>b__3>d.MoveNext() in D:\\a\\_work\\1\\s\\src\\Microsoft.DotNet.Interactive\\KernelCommandPipeline.cs:line 75\r\n",
      "--- End of stack trace from previous location ---\r\n",
      "   at Microsoft.DotNet.Interactive.App.KernelExtensions.<>c__DisplayClass3_0.<<UseTelemetrySender>b__0>d.MoveNext() in D:\\a\\_work\\1\\s\\src\\dotnet-interactive\\KernelExtensions.cs:line 123\r\n",
      "--- End of stack trace from previous location ---\r\n",
      "   at Microsoft.DotNet.Interactive.KernelCommandPipeline.<>c__DisplayClass6_1.<<BuildPipeline>b__3>d.MoveNext() in D:\\a\\_work\\1\\s\\src\\Microsoft.DotNet.Interactive\\KernelCommandPipeline.cs:line 75\r\n",
      "--- End of stack trace from previous location ---\r\n",
      "   at Microsoft.DotNet.Interactive.App.KernelExtensionLoader.<>c__DisplayClass0_0.<<UseNuGetExtensions>b__0>d.MoveNext() in D:\\a\\_work\\1\\s\\src\\dotnet-interactive\\KernelExtensionLoader.cs:line 25\r\n",
      "--- End of stack trace from previous location ---\r\n",
      "   at Microsoft.DotNet.Interactive.KernelCommandPipeline.<>c__DisplayClass6_0.<<BuildPipeline>g__Combine|2>d.MoveNext() in D:\\a\\_work\\1\\s\\src\\Microsoft.DotNet.Interactive\\KernelCommandPipeline.cs:line 73\r\n",
      "--- End of stack trace from previous location ---\r\n",
      "   at Microsoft.DotNet.Interactive.KernelCommandPipeline.<>c__DisplayClass6_0.<<BuildPipeline>g__Combine|2>d.MoveNext() in D:\\a\\_work\\1\\s\\src\\Microsoft.DotNet.Interactive\\KernelCommandPipeline.cs:line 73\r\n",
      "--- End of stack trace from previous location ---\r\n",
      "   at Microsoft.DotNet.Interactive.KernelCommandPipeline.SendAsync(KernelCommand command, KernelInvocationContext context) in D:\\a\\_work\\1\\s\\src\\Microsoft.DotNet.Interactive\\KernelCommandPipeline.cs:line 41"
     ]
    }
   ],
   "source": [
    "person1 = type(\"\", (), {})\n",
    "person1.name, person1.age = \"Rebecca\", 23\n",
    "person2 = type(\"\", (), {})\n",
    "person2.name, person2.age = \"Eric\", 27"
   ]
  },
  {
   "cell_type": "markdown",
   "id": "75a42e4c",
   "metadata": {},
   "source": [
    "We can also explicitly define the type using a class:"
   ]
  },
  {
   "cell_type": "code",
   "execution_count": null,
   "metadata": {
    "dotnet_interactive": {
     "language": "pythonkernel"
    },
    "polyglot_notebook": {
     "kernelName": "pythonkernel"
    }
   },
   "outputs": [],
   "source": [
    "class Person:\n",
    "    # optionally write an __init__ function to instead pass attribute values to a constructor\n",
    "    pass\n",
    "\n",
    "person1 = Person()\n",
    "person1.name, person1.age = \"Rebecca\", 23\n",
    "person2 = Person()\n",
    "person2.name, person2.age = \"Eric\", 27"
   ]
  },
  {
   "cell_type": "markdown",
   "id": "f536a45f",
   "metadata": {},
   "source": [
    "And then call the method with our objects:"
   ]
  },
  {
   "cell_type": "code",
   "execution_count": null,
   "metadata": {
    "dotnet_interactive": {
     "language": "pythonkernel"
    },
    "polyglot_notebook": {
     "kernelName": "pythonkernel"
    }
   },
   "outputs": [],
   "source": [
    "add_person_age(person1, person2)\n",
    "\n",
    "# ❌ this code compiles but will always error\n",
    "# person2.Age = None\n",
    "# add_person_age(person1, person2)\n",
    "\n",
    "# ❌ this also code compiles but will always error too\n",
    "# person3 = type(\"\", (), {})\n",
    "# person3.name = \"Eric\"\n",
    "# add_person_age(person1, person2)"
   ]
  },
  {
   "cell_type": "markdown",
   "id": "4902593d",
   "metadata": {},
   "source": [
    "This is a really concise example of showing how object programming works in Python. Here, `person1` works a lot like a dictionary (or hashmap... or JSON object... or key-value pair set... all the same thing). You can easily assign attributes to an object, then use them later."
   ]
  },
  {
   "cell_type": "markdown",
   "id": "83437b62",
   "metadata": {},
   "source": [
    "However, nothing exists in the language to tell you anything about the structure of `person1`. What if `age` got set to `None`, but you forgot to change it or to check for `None`?"
   ]
  },
  {
   "cell_type": "markdown",
   "id": "144f7ae4",
   "metadata": {},
   "source": [
    "In F#, objects (or better called *records*, in this case) don't work like dictionaries - you can't arbirarily assign attributes. Everything has to be immutable, remember? On the flip side, this makes it easy to know exactly what lives on a record once it's created. When writing code, you'll get IntelliSense to pop up and show possible attributes, and accessing an invalid attribute means your code won't compile, helping you catch errors before your code is run."
   ]
  },
  {
   "cell_type": "markdown",
   "id": "d7a1fb69",
   "metadata": {},
   "source": [
    "An alternative in F# to our Python object programing example uses something called **Statically Resolved Type Parameters**. Don't mind the fancy name - the *static* part just means your code is checked before it runs."
   ]
  },
  {
   "cell_type": "markdown",
   "id": "5c967d88",
   "metadata": {},
   "source": [
    "Here's our function definition:"
   ]
  },
  {
   "cell_type": "code",
   "execution_count": 17,
   "metadata": {
    "dotnet_interactive": {
     "language": "fsharp"
    },
    "polyglot_notebook": {
     "kernelName": "fsharp"
    }
   },
   "outputs": [],
   "source": [
    "let inline printPerson (person: ^T) = // define `person` as some generic type `^T\n",
    "    printfn \"%s's age is %d\"\n",
    "        // Both *access* the properties we want and *define* them on ^T at the same time!\n",
    "        (^T: (member Name : string) person) // this adds a *constraint* requiring a `Name` of type string, and resolves to it on `person`\n",
    "        (^T: (member Age : int) person) // like person.Age, but changes ^T to require `Age : int`"
   ]
  },
  {
   "cell_type": "markdown",
   "id": "436d07e4",
   "metadata": {},
   "source": [
    "We can define a record of *unspecified type* called an **anonymous record** with the following syntax:"
   ]
  },
  {
   "cell_type": "code",
   "execution_count": 21,
   "metadata": {
    "dotnet_interactive": {
     "language": "fsharp"
    },
    "polyglot_notebook": {
     "kernelName": "fsharp"
    }
   },
   "outputs": [
    {
     "data": {
      "text/html": [
       "<details open=\"open\" class=\"dni-treeview\"><summary><span class=\"dni-code-hint\"><code>{ AnotherStruct = { }\\n  C = 2.0 }</code></span></summary><div><table><thead><tr></tr></thead><tbody><tr><td>AnotherStruct</td><td><details class=\"dni-treeview\"><summary><span class=\"dni-code-hint\"><code>{ }</code></span></summary><div><table><thead><tr></tr></thead><tbody></tbody></table></div></details></td></tr><tr><td>C</td><td><div class=\"dni-plaintext\"><pre>2</pre></div></td></tr></tbody></table></div></details><style>\r\n",
       ".dni-code-hint {\r\n",
       "    font-style: italic;\r\n",
       "    overflow: hidden;\r\n",
       "    white-space: nowrap;\r\n",
       "}\r\n",
       ".dni-treeview {\r\n",
       "    white-space: nowrap;\r\n",
       "}\r\n",
       ".dni-treeview td {\r\n",
       "    vertical-align: top;\r\n",
       "    text-align: start;\r\n",
       "}\r\n",
       "details.dni-treeview {\r\n",
       "    padding-left: 1em;\r\n",
       "}\r\n",
       "table td {\r\n",
       "    text-align: start;\r\n",
       "}\r\n",
       "table tr { \r\n",
       "    vertical-align: top; \r\n",
       "    margin: 0em 0px;\r\n",
       "}\r\n",
       "table tr td pre \r\n",
       "{ \r\n",
       "    vertical-align: top !important; \r\n",
       "    margin: 0em 0px !important;\r\n",
       "} \r\n",
       "table th {\r\n",
       "    text-align: start;\r\n",
       "}\r\n",
       "</style>"
      ]
     },
     "metadata": {},
     "output_type": "display_data"
    }
   ],
   "source": [
    "{| |} // empty\n",
    "\n",
    "{| A = 3; B = \"poyo!!\" |}\n",
    "\n",
    "{| C = 2.0; AnotherStruct = {| |} |}"
   ]
  },
  {
   "cell_type": "markdown",
   "id": "5e65231d",
   "metadata": {},
   "source": [
    "Using anonymous records, we can evaluate `printPerson`:"
   ]
  },
  {
   "cell_type": "code",
   "execution_count": 18,
   "metadata": {
    "dotnet_interactive": {
     "language": "fsharp"
    },
    "polyglot_notebook": {
     "kernelName": "fsharp"
    }
   },
   "outputs": [
    {
     "name": "stdout",
     "output_type": "stream",
     "text": [
      "Jerry's age is 31\n",
      "Rebecca's age is 12\n"
     ]
    }
   ],
   "source": [
    "open System.Drawing\n",
    "\n",
    "printPerson {| Name = \"Jerry\"; Age = 31 |}\n",
    "printPerson {| Name = \"Rebecca\"; FavoriteColor = Color.RebeccaPurple; Age = 12 |}\n",
    "// printPerson {| Name = \"Rebecca\" |} ❌ uncomment this and it won't compile"
   ]
  },
  {
   "cell_type": "markdown",
   "id": "f975188c",
   "metadata": {},
   "source": [
    "Effectively, this means that we can pass records with whatever stuff we want in them, as long as they at least have the properties we need (and those properties can't be null). "
   ]
  },
  {
   "cell_type": "markdown",
   "id": "6909559d",
   "metadata": {},
   "source": [
    "We can mirror our `add_person_age` Python example below:"
   ]
  },
  {
   "cell_type": "code",
   "execution_count": null,
   "metadata": {
    "dotnet_interactive": {
     "language": "fsharp"
    },
    "polyglot_notebook": {
     "kernelName": "fsharp"
    }
   },
   "outputs": [],
   "source": [
    "let inline addPersonAge (person1: ^T) (person2: ^T) =\n",
    "    printfn \"%s and %s's combined age is %d\"\n",
    "        (^T: (member Name : string) person1)            // here we add the constraint to ^T and use it on `person1`\n",
    "        person2.Name                                    // the constraint already exists on ^T, so we can just use it on `person2`\n",
    "        ((^T: (member Age : int) person1) + person2.Age)// same strategy here"
   ]
  },
  {
   "cell_type": "markdown",
   "id": "67b473d9",
   "metadata": {},
   "source": [
    "Defining the constraints in the body of `addPersonAge` looks a bit funny when we have more than one parameter, so we can also define constraints from the \"top down\" at the top of the method."
   ]
  },
  {
   "cell_type": "code",
   "execution_count": 11,
   "metadata": {
    "dotnet_interactive": {
     "language": "fsharp"
    },
    "polyglot_notebook": {
     "kernelName": "fsharp"
    }
   },
   "outputs": [
    {
     "name": "stdout",
     "output_type": "stream",
     "text": [
      "Joseph and Kerry's combined age is 36\n"
     ]
    }
   ],
   "source": [
    "// 'T is type `requires member Name and member Age`\n",
    "let inline addPersonAge<'T\n",
    "    when 'T : (member Name : string)\n",
    "    and 'T : (member Age : int)>(person1: ^T) (person2: ^T) =\n",
    "    printfn \"%s and %s's combined age is %d\"\n",
    "        person1.Name\n",
    "        person2.Name\n",
    "        (person1.Age + person2.Age)\n",
    "\n",
    "addPersonAge {| Name = \"Joseph\"; Age = 9 |} {| Name = \"Kerry\"; Age = 27 |}"
   ]
  },
  {
   "cell_type": "markdown",
   "id": "ebd8c6ce",
   "metadata": {},
   "source": [
    "This style of programming is useful when you want to hack something together that works while still preventing yourself from making stupid errors*.\n",
    "\n",
    "> Note ℹ️\n",
    "> \n",
    "> *While SRTPs can be used in this way, they are fundamentally and more often used in libraries to assert invariants about types during compilation, to allow for abstract programming while maintaining high-performance. For example, enabling mathematical functions (`(+)`) to work with different numeric data types (`0.3 + 0.4` and `4 + 3`). This is why `let` bindings that use them require the `inline` keyword. See more [here](https://learn.microsoft.com/en-us/dotnet/fsharp/language-reference/generics/statically-resolved-type-parameters).\n",
    "\n",
    "In practice, it's often easier to define **types** that constrain objects to be the *exact shape* of what you are expecting."
   ]
  },
  {
   "cell_type": "code",
   "execution_count": 25,
   "id": "c1955795",
   "metadata": {
    "dotnet_interactive": {
     "language": "fsharp"
    },
    "polyglot_notebook": {
     "kernelName": "fsharp"
    }
   },
   "outputs": [
    {
     "data": {
      "text/html": [
       "<details open=\"open\" class=\"dni-treeview\"><summary><span class=\"dni-code-hint\"><code>{ Name = &quot;examplePerson&quot;\\n  Type Name = &quot;Person&quot;\\n  Value = { Name = &quot;Don&quot;\\n            Age = 12 } }</code></span></summary><div><table><thead><tr></tr></thead><tbody><tr><td>Name</td><td><div class=\"dni-plaintext\"><pre>examplePerson</pre></div></td></tr><tr><td>Type Name</td><td><div class=\"dni-plaintext\"><pre>Person</pre></div></td></tr><tr><td>Value</td><td><details class=\"dni-treeview\"><summary><span class=\"dni-code-hint\"><code>{ Name = &quot;Don&quot;\\n  Age = 12 }</code></span></summary><div><table><thead><tr></tr></thead><tbody><tr><td>Name</td><td><div class=\"dni-plaintext\"><pre>Don</pre></div></td></tr><tr><td>Age</td><td><div class=\"dni-plaintext\"><pre>12</pre></div></td></tr></tbody></table></div></details></td></tr></tbody></table></div></details><style>\r\n",
       ".dni-code-hint {\r\n",
       "    font-style: italic;\r\n",
       "    overflow: hidden;\r\n",
       "    white-space: nowrap;\r\n",
       "}\r\n",
       ".dni-treeview {\r\n",
       "    white-space: nowrap;\r\n",
       "}\r\n",
       ".dni-treeview td {\r\n",
       "    vertical-align: top;\r\n",
       "    text-align: start;\r\n",
       "}\r\n",
       "details.dni-treeview {\r\n",
       "    padding-left: 1em;\r\n",
       "}\r\n",
       "table td {\r\n",
       "    text-align: start;\r\n",
       "}\r\n",
       "table tr { \r\n",
       "    vertical-align: top; \r\n",
       "    margin: 0em 0px;\r\n",
       "}\r\n",
       "table tr td pre \r\n",
       "{ \r\n",
       "    vertical-align: top !important; \r\n",
       "    margin: 0em 0px !important;\r\n",
       "} \r\n",
       "table th {\r\n",
       "    text-align: start;\r\n",
       "}\r\n",
       "</style>"
      ]
     },
     "metadata": {},
     "output_type": "display_data"
    }
   ],
   "source": [
    "// this code defines a record type called `Person` which contains a `Name` of type `string` and an `Age` of type `int`\n",
    "type Person = { Name : string; Age : int }\n",
    "\n",
    "// to construct a named record, we use the following syntax (no `||`s)\n",
    "let _ : Person = { Name = \"John\";  Age = 45 }\n",
    "\n",
    "// notably, as long as we've defined `type Person` above, we *don't* need to rewrite `Person` again! The compiler just knows.\n",
    "let examplePerson = { Name = \"Don\";  Age = 12 }\n",
    "\n",
    "{| Name = nameof examplePerson; ``Type Name`` = examplePerson.GetType().Name; Value = examplePerson |}"
   ]
  },
  {
   "cell_type": "markdown",
   "id": "378b5f4d",
   "metadata": {},
   "source": [
    "Using `Person`, we can rewrite `addPersonAge` above:"
   ]
  },
  {
   "cell_type": "code",
   "execution_count": 27,
   "metadata": {
    "dotnet_interactive": {
     "language": "fsharp"
    },
    "polyglot_notebook": {
     "kernelName": "fsharp"
    }
   },
   "outputs": [
    {
     "name": "stdout",
     "output_type": "stream",
     "text": [
      "Joseph and Kerry's combined age is 36\n"
     ]
    }
   ],
   "source": [
    "let addPersonAge person1 person2 =\n",
    "    printfn \"%s and %s's combined age is %d\"\n",
    "        person1.Name\n",
    "        person2.Name\n",
    "        (person1.Age + person2.Age)\n",
    "\n",
    "addPersonAge { Name = \"Joseph\"; Age = 9 } { Name = \"Kerry\"; Age = 27 }"
   ]
  },
  {
   "cell_type": "markdown",
   "id": "b404a5f0",
   "metadata": {},
   "source": [
    "As you can see, when we've pre-defined our types, our example looks a lot more \"pythonic\". In the above code cell, we didn't have to annotate our code with a single type, but we still get the same level of type safety we'd get with a language like C#. This is called **type inference**."
   ]
  },
  {
   "cell_type": "markdown",
   "id": "5b21b4f0",
   "metadata": {},
   "source": [
    "We *did* still have to define the structure of `Person` up front though. This is called *domain modeling*, and it's useful when you are writing an application to model a business function and want to reduce number of possible error states to a minimum.\n",
    "\n",
    "Sometimes, however, we're not writing an application but instead writing a script that deals with large amounts of data, and our stupid mistakes might come from accidentally misinterpreting the structure of our data.\n",
    "\n",
    "F# has a feature for this called **type providers**. Whenever we're dealing with external data imports, type providers create a type for us based on the structure of the data we're importing, meaning we don't have to manually create types for huge data sets and our data and types never get out of sync."
   ]
  },
  {
   "cell_type": "markdown",
   "id": "73d89f53",
   "metadata": {},
   "source": [
    "Here's a quick example using the FSharp.Data WorldBank type provider that I took from [their documentation](https://fsprojects.github.io/FSharp.Data/library/WorldBank.html#Using-World-Bank-data-asynchronously):"
   ]
  },
  {
   "cell_type": "code",
   "execution_count": 33,
   "metadata": {
    "dotnet_interactive": {
     "language": "fsharp"
    },
    "polyglot_notebook": {
     "kernelName": "fsharp"
    }
   },
   "outputs": [
    {
     "data": {
      "text/html": [
       "<div><div></div><div></div><div><strong>Installed Packages</strong><ul><li><span>FSharp.Data, 6.4.0</span></li><li><span>Plotly.NET, 4.2.0</span></li><li><span>Plotly.NET.Interactive, 4.2.1</span></li></ul></div></div>"
      ]
     },
     "metadata": {},
     "output_type": "display_data"
    },
    {
     "data": {
      "text/plain": [
       "Loading extensions from `C:\\Users\\retru\\.nuget\\packages\\plotly.net.interactive\\4.2.1\\lib\\netstandard2.1\\Plotly.NET.Interactive.dll`"
      ]
     },
     "metadata": {},
     "output_type": "display_data"
    }
   ],
   "source": [
    "#r \"nuget: FSharp.Data\"\n",
    "#r \"nuget: Plotly.NET\"\n",
    "#r \"nuget: Plotly.NET.Interactive\""
   ]
  },
  {
   "cell_type": "code",
   "execution_count": 30,
   "metadata": {
    "dotnet_interactive": {
     "language": "fsharp"
    },
    "polyglot_notebook": {
     "kernelName": "fsharp"
    }
   },
   "outputs": [
    {
     "data": {
      "text/html": [
       "<details open=\"open\" class=\"dni-treeview\"><summary><span class=\"dni-code-hint\"><code>(2022, 18.6020102387308)</code></span></summary><div><table><thead><tr></tr></thead><tbody><tr><td>Item1</td><td><div class=\"dni-plaintext\"><pre>2022</pre></div></td></tr><tr><td>Item2</td><td><div class=\"dni-plaintext\"><pre>18.6020102387308</pre></div></td></tr></tbody></table></div></details><style>\r\n",
       ".dni-code-hint {\r\n",
       "    font-style: italic;\r\n",
       "    overflow: hidden;\r\n",
       "    white-space: nowrap;\r\n",
       "}\r\n",
       ".dni-treeview {\r\n",
       "    white-space: nowrap;\r\n",
       "}\r\n",
       ".dni-treeview td {\r\n",
       "    vertical-align: top;\r\n",
       "    text-align: start;\r\n",
       "}\r\n",
       "details.dni-treeview {\r\n",
       "    padding-left: 1em;\r\n",
       "}\r\n",
       "table td {\r\n",
       "    text-align: start;\r\n",
       "}\r\n",
       "table tr { \r\n",
       "    vertical-align: top; \r\n",
       "    margin: 0em 0px;\r\n",
       "}\r\n",
       "table tr td pre \r\n",
       "{ \r\n",
       "    vertical-align: top !important; \r\n",
       "    margin: 0em 0px !important;\r\n",
       "} \r\n",
       "table th {\r\n",
       "    text-align: start;\r\n",
       "}\r\n",
       "</style>"
      ]
     },
     "metadata": {},
     "output_type": "display_data"
    }
   ],
   "source": [
    "open FSharp.Data\n",
    "\n",
    "let data = WorldBankData.GetDataContext()\n",
    "\n",
    "data.Countries.``United Kingdom``.Indicators.``Gross capital formation (% of GDP)``\n",
    "|> Seq.maxBy fst"
   ]
  },
  {
   "cell_type": "markdown",
   "id": "f1e11a85",
   "metadata": {},
   "source": [
    "The WorldBank provider is a premade example where a type is specifically created and republished using a well-known data source. But we can also use \"data type\" (CSV, JSON, SQL, etc.,) type providers to create types for our own data:"
   ]
  },
  {
   "cell_type": "code",
   "execution_count": 35,
   "metadata": {
    "dotnet_interactive": {
     "language": "fsharp"
    },
    "polyglot_notebook": {
     "kernelName": "fsharp"
    }
   },
   "outputs": [
    {
     "data": {
      "text/html": [
       "<div><div id=\"1a97fc59-26b6-4c47-be8a-55c754d1f57d\"><!-- Plotly chart will be drawn inside this DIV --></div><script type=\"text/javascript\">\n",
       "var renderPlotly_1a97fc5926b64c47be8a55c754d1f57d = function() {\n",
       "    var fsharpPlotlyRequire = requirejs.config({context:'fsharp-plotly',paths:{plotly:'https://cdn.plot.ly/plotly-2.21.0.min'}}) || require;\n",
       "    fsharpPlotlyRequire(['plotly'], function(Plotly) {\n",
       "        var data = [{\"type\":\"scatter\",\"mode\":\"lines\",\"x\":[\"2023-03-06T00:00:00-06:00\",\"2023-03-07T00:00:00-06:00\",\"2023-03-08T00:00:00-06:00\",\"2023-03-09T00:00:00-06:00\",\"2023-03-10T00:00:00-06:00\",\"2023-03-13T00:00:00-05:00\",\"2023-03-14T00:00:00-05:00\",\"2023-03-15T00:00:00-05:00\",\"2023-03-16T00:00:00-05:00\",\"2023-03-17T00:00:00-05:00\",\"2023-03-20T00:00:00-05:00\",\"2023-03-21T00:00:00-05:00\",\"2023-03-22T00:00:00-05:00\",\"2023-03-23T00:00:00-05:00\",\"2023-03-24T00:00:00-05:00\",\"2023-03-27T00:00:00-05:00\",\"2023-03-28T00:00:00-05:00\",\"2023-03-29T00:00:00-05:00\",\"2023-03-30T00:00:00-05:00\",\"2023-03-31T00:00:00-05:00\",\"2023-04-03T00:00:00-05:00\",\"2023-04-04T00:00:00-05:00\",\"2023-04-05T00:00:00-05:00\",\"2023-04-06T00:00:00-05:00\",\"2023-04-10T00:00:00-05:00\",\"2023-04-11T00:00:00-05:00\",\"2023-04-12T00:00:00-05:00\",\"2023-04-13T00:00:00-05:00\",\"2023-04-14T00:00:00-05:00\",\"2023-04-17T00:00:00-05:00\",\"2023-04-18T00:00:00-05:00\",\"2023-04-19T00:00:00-05:00\",\"2023-04-20T00:00:00-05:00\",\"2023-04-21T00:00:00-05:00\",\"2023-04-24T00:00:00-05:00\",\"2023-04-25T00:00:00-05:00\",\"2023-04-26T00:00:00-05:00\",\"2023-04-27T00:00:00-05:00\",\"2023-04-28T00:00:00-05:00\",\"2023-05-01T00:00:00-05:00\",\"2023-05-02T00:00:00-05:00\",\"2023-05-03T00:00:00-05:00\",\"2023-05-04T00:00:00-05:00\",\"2023-05-05T00:00:00-05:00\",\"2023-05-08T00:00:00-05:00\",\"2023-05-09T00:00:00-05:00\",\"2023-05-10T00:00:00-05:00\",\"2023-05-11T00:00:00-05:00\",\"2023-05-12T00:00:00-05:00\",\"2023-05-15T00:00:00-05:00\",\"2023-05-16T00:00:00-05:00\",\"2023-05-17T00:00:00-05:00\",\"2023-05-18T00:00:00-05:00\",\"2023-05-19T00:00:00-05:00\",\"2023-05-22T00:00:00-05:00\",\"2023-05-23T00:00:00-05:00\",\"2023-05-24T00:00:00-05:00\",\"2023-05-25T00:00:00-05:00\",\"2023-05-26T00:00:00-05:00\",\"2023-05-30T00:00:00-05:00\",\"2023-05-31T00:00:00-05:00\",\"2023-06-01T00:00:00-05:00\",\"2023-06-02T00:00:00-05:00\",\"2023-06-05T00:00:00-05:00\",\"2023-06-06T00:00:00-05:00\",\"2023-06-07T00:00:00-05:00\",\"2023-06-08T00:00:00-05:00\",\"2023-06-09T00:00:00-05:00\",\"2023-06-12T00:00:00-05:00\",\"2023-06-13T00:00:00-05:00\",\"2023-06-14T00:00:00-05:00\",\"2023-06-15T00:00:00-05:00\",\"2023-06-16T00:00:00-05:00\",\"2023-06-20T00:00:00-05:00\",\"2023-06-21T00:00:00-05:00\",\"2023-06-22T00:00:00-05:00\",\"2023-06-23T00:00:00-05:00\",\"2023-06-26T00:00:00-05:00\",\"2023-06-27T00:00:00-05:00\",\"2023-06-28T00:00:00-05:00\",\"2023-06-29T00:00:00-05:00\",\"2023-06-30T00:00:00-05:00\",\"2023-07-03T00:00:00-05:00\",\"2023-07-05T00:00:00-05:00\",\"2023-07-06T00:00:00-05:00\",\"2023-07-07T00:00:00-05:00\",\"2023-07-10T00:00:00-05:00\",\"2023-07-11T00:00:00-05:00\",\"2023-07-12T00:00:00-05:00\",\"2023-07-13T00:00:00-05:00\",\"2023-07-14T00:00:00-05:00\",\"2023-07-17T00:00:00-05:00\",\"2023-07-18T00:00:00-05:00\",\"2023-07-19T00:00:00-05:00\",\"2023-07-20T00:00:00-05:00\",\"2023-07-21T00:00:00-05:00\",\"2023-07-24T00:00:00-05:00\",\"2023-07-25T00:00:00-05:00\",\"2023-07-26T00:00:00-05:00\",\"2023-07-27T00:00:00-05:00\",\"2023-07-28T00:00:00-05:00\",\"2023-07-31T00:00:00-05:00\",\"2023-08-01T00:00:00-05:00\",\"2023-08-02T00:00:00-05:00\",\"2023-08-03T00:00:00-05:00\",\"2023-08-04T00:00:00-05:00\",\"2023-08-07T00:00:00-05:00\",\"2023-08-08T00:00:00-05:00\",\"2023-08-09T00:00:00-05:00\",\"2023-08-10T00:00:00-05:00\",\"2023-08-11T00:00:00-05:00\",\"2023-08-14T00:00:00-05:00\",\"2023-08-15T00:00:00-05:00\",\"2023-08-16T00:00:00-05:00\",\"2023-08-17T00:00:00-05:00\",\"2023-08-18T00:00:00-05:00\",\"2023-08-21T00:00:00-05:00\",\"2023-08-22T00:00:00-05:00\",\"2023-08-23T00:00:00-05:00\",\"2023-08-24T00:00:00-05:00\",\"2023-08-25T00:00:00-05:00\",\"2023-08-28T00:00:00-05:00\",\"2023-08-29T00:00:00-05:00\",\"2023-08-30T00:00:00-05:00\",\"2023-08-31T00:00:00-05:00\",\"2023-09-01T00:00:00-05:00\",\"2023-09-05T00:00:00-05:00\",\"2023-09-06T00:00:00-05:00\",\"2023-09-07T00:00:00-05:00\",\"2023-09-08T00:00:00-05:00\",\"2023-09-11T00:00:00-05:00\",\"2023-09-12T00:00:00-05:00\",\"2023-09-13T00:00:00-05:00\",\"2023-09-14T00:00:00-05:00\",\"2023-09-15T00:00:00-05:00\",\"2023-09-18T00:00:00-05:00\",\"2023-09-19T00:00:00-05:00\",\"2023-09-20T00:00:00-05:00\",\"2023-09-21T00:00:00-05:00\",\"2023-09-22T00:00:00-05:00\",\"2023-09-25T00:00:00-05:00\",\"2023-09-26T00:00:00-05:00\",\"2023-09-27T00:00:00-05:00\",\"2023-09-28T00:00:00-05:00\",\"2023-09-29T00:00:00-05:00\",\"2023-10-02T00:00:00-05:00\",\"2023-10-03T00:00:00-05:00\",\"2023-10-04T00:00:00-05:00\",\"2023-10-05T00:00:00-05:00\",\"2023-10-06T00:00:00-05:00\",\"2023-10-09T00:00:00-05:00\",\"2023-10-10T00:00:00-05:00\",\"2023-10-11T00:00:00-05:00\",\"2023-10-12T00:00:00-05:00\",\"2023-10-13T00:00:00-05:00\",\"2023-10-16T00:00:00-05:00\",\"2023-10-17T00:00:00-05:00\",\"2023-10-18T00:00:00-05:00\",\"2023-10-19T00:00:00-05:00\",\"2023-10-20T00:00:00-05:00\",\"2023-10-23T00:00:00-05:00\",\"2023-10-24T00:00:00-05:00\",\"2023-10-25T00:00:00-05:00\",\"2023-10-26T00:00:00-05:00\",\"2023-10-27T00:00:00-05:00\",\"2023-10-30T00:00:00-05:00\",\"2023-10-31T00:00:00-05:00\",\"2023-11-01T00:00:00-05:00\",\"2023-11-02T00:00:00-05:00\",\"2023-11-03T00:00:00-05:00\",\"2023-11-06T00:00:00-06:00\",\"2023-11-07T00:00:00-06:00\",\"2023-11-08T00:00:00-06:00\",\"2023-11-09T00:00:00-06:00\",\"2023-11-10T00:00:00-06:00\",\"2023-11-13T00:00:00-06:00\",\"2023-11-14T00:00:00-06:00\",\"2023-11-15T00:00:00-06:00\",\"2023-11-16T00:00:00-06:00\",\"2023-11-17T00:00:00-06:00\",\"2023-11-20T00:00:00-06:00\",\"2023-11-21T00:00:00-06:00\",\"2023-11-22T00:00:00-06:00\",\"2023-11-24T00:00:00-06:00\",\"2023-11-27T00:00:00-06:00\",\"2023-11-28T00:00:00-06:00\",\"2023-11-29T00:00:00-06:00\",\"2023-11-30T00:00:00-06:00\",\"2023-12-01T00:00:00-06:00\",\"2023-12-04T00:00:00-06:00\",\"2023-12-05T00:00:00-06:00\",\"2023-12-06T00:00:00-06:00\",\"2023-12-07T00:00:00-06:00\",\"2023-12-08T00:00:00-06:00\",\"2023-12-11T00:00:00-06:00\",\"2023-12-12T00:00:00-06:00\",\"2023-12-13T00:00:00-06:00\",\"2023-12-14T00:00:00-06:00\",\"2023-12-15T00:00:00-06:00\",\"2023-12-18T00:00:00-06:00\",\"2023-12-19T00:00:00-06:00\",\"2023-12-20T00:00:00-06:00\",\"2023-12-21T00:00:00-06:00\",\"2023-12-22T00:00:00-06:00\",\"2023-12-26T00:00:00-06:00\",\"2023-12-27T00:00:00-06:00\",\"2023-12-28T00:00:00-06:00\",\"2023-12-29T00:00:00-06:00\",\"2024-01-02T00:00:00-06:00\",\"2024-01-03T00:00:00-06:00\",\"2024-01-04T00:00:00-06:00\",\"2024-01-05T00:00:00-06:00\",\"2024-01-08T00:00:00-06:00\",\"2024-01-09T00:00:00-06:00\",\"2024-01-10T00:00:00-06:00\",\"2024-01-11T00:00:00-06:00\",\"2024-01-12T00:00:00-06:00\",\"2024-01-16T00:00:00-06:00\",\"2024-01-17T00:00:00-06:00\",\"2024-01-18T00:00:00-06:00\",\"2024-01-19T00:00:00-06:00\",\"2024-01-22T00:00:00-06:00\",\"2024-01-23T00:00:00-06:00\",\"2024-01-24T00:00:00-06:00\",\"2024-01-25T00:00:00-06:00\",\"2024-01-26T00:00:00-06:00\",\"2024-01-29T00:00:00-06:00\",\"2024-01-30T00:00:00-06:00\",\"2024-01-31T00:00:00-06:00\",\"2024-02-01T00:00:00-06:00\",\"2024-02-02T00:00:00-06:00\",\"2024-02-05T00:00:00-06:00\",\"2024-02-06T00:00:00-06:00\",\"2024-02-07T00:00:00-06:00\",\"2024-02-08T00:00:00-06:00\",\"2024-02-09T00:00:00-06:00\",\"2024-02-12T00:00:00-06:00\",\"2024-02-13T00:00:00-06:00\",\"2024-02-14T00:00:00-06:00\",\"2024-02-15T00:00:00-06:00\",\"2024-02-16T00:00:00-06:00\",\"2024-02-20T00:00:00-06:00\",\"2024-02-21T00:00:00-06:00\",\"2024-02-22T00:00:00-06:00\",\"2024-02-23T00:00:00-06:00\",\"2024-02-26T00:00:00-06:00\",\"2024-02-27T00:00:00-06:00\",\"2024-02-28T00:00:00-06:00\",\"2024-02-29T00:00:00-06:00\",\"2024-03-01T00:00:00-06:00\",\"2024-03-04T00:00:00-06:00\",\"2024-03-05T00:00:00-06:00\",\"2024-03-06T00:00:00-06:00\"],\"y\":[4.139999,4.300003,3.729995,7.979996,5.189987,12.180008,5.210006,7.270020,13.279999,7.009980,7.630005,5.480011,8.860016,5.859986,5.350006,5.940002,4.090027,2.730011,2.979980,6.269989,4.319977,4.779999,4.229981,10.049988,4.890015,4.339996,5.050019,6.729981,4.790009,5.440002,4.750000,4.509979,3.950012,3.209991,6.230011,6.230011,6.839996,9.950012,5.619995,3.450012,5.269989,4.519989,4.360016,7.700012,4.110016,3.730011,5.329987,4.859985,4.049988,2.309998,3.880004,3.690003,5.320008,2.380005,4.579986,7.470001,3.890015,6.899994,9.519989,5.220001,8.610015,8.809998,4.950012,3.899994,3.199982,11.989990,3.290009,5.579986,6.940002,6.589996,6.230011,12.639984,9.519989,6.220002,5.660004,6.779999,4.509979,7.619995,6.850006,4.170013,3.489990,5.529999,4.329987,6.919983,7.489990,4.790009,7.640015,5.859985,5.979981,4.720001,7.119995,4.789978,24.609986,10.019989,12.600006,10.470001,4.610015,6.820008,11.560028,12.279999,6.839997,4.340027,4.839997,7.270020,3.929993,7.900025,3.589996,5.750000,6.059997,7.080017,3.200013,3.980011,4.190002,4.620025,5.660004,6.830017,5.729980,4.619996,5.740021,13.020020,6.559997,4.429993,7.100006,3.359986,4.130005,5.209991,6.190002,4.279998,4.049988,6.700013,2.990020,5.309998,5.679993,4.289978,7.750000,4.040009,4.880005,9.079986,10.350006,5.300018,2.670013,5.860016,4.609986,6.029999,4.489990,6.710022,10.180024,6.040009,5.080017,12.890014,7.119995,3.429993,3.679992,4.910004,7.470002,5.540009,6.049987,7.290008,5.970001,6.470001,8.339996,4.239990,8.580017,14.690003,8.320007,7.620025,4.309998,7.770019,4.059998,7.060028,4.190003,4.829986,3.320007,4.430024,9.029999,2.570007,4.600006,6.020020,6.170013,7.369995,7.869995,5.100006,4.820008,2.829986,4.440003,4.839996,6.859986,4.619995,6.850006,6.619995,7.459992,6.149994,5.130005,6.229980,5.500000,3.960022,6.870026,9.630005,6.119995,4.320007,3.420014,5.500000,4.369995,2.470002,3.440002,2.250000,2.299987,3.679993,9.130005,4.750000,5.929993,5.559998,6.190002,4.799988,7.850006,10.299988,4.029999,6.410004,5.299987,3.869995,5.170013,7.029999,5.450012,5.179993,4.480011,3.740020,5.650024,6.599976,18.110016,6.200012,9.089996,7.170014,5.059997,6.899994,3.029999,5.730011,5.989990,6.679992,5.269989,4.839996,4.850007,6.479980,5.070008,4.259980,6.889984,4.800019,4.470001,3.979981,8.279999,4.989990,5.029999,13.609985,6.769989],\"marker\":{},\"line\":{}}];\n",
       "        var layout = {\"width\":600,\"height\":600,\"template\":{\"layout\":{\"title\":{\"x\":0.05},\"font\":{\"color\":\"rgba(42, 63, 95, 1.0)\"},\"paper_bgcolor\":\"rgba(255, 255, 255, 1.0)\",\"plot_bgcolor\":\"rgba(229, 236, 246, 1.0)\",\"autotypenumbers\":\"strict\",\"colorscale\":{\"diverging\":[[0.0,\"#8e0152\"],[0.1,\"#c51b7d\"],[0.2,\"#de77ae\"],[0.3,\"#f1b6da\"],[0.4,\"#fde0ef\"],[0.5,\"#f7f7f7\"],[0.6,\"#e6f5d0\"],[0.7,\"#b8e186\"],[0.8,\"#7fbc41\"],[0.9,\"#4d9221\"],[1.0,\"#276419\"]],\"sequential\":[[0.0,\"#0d0887\"],[0.1111111111111111,\"#46039f\"],[0.2222222222222222,\"#7201a8\"],[0.3333333333333333,\"#9c179e\"],[0.4444444444444444,\"#bd3786\"],[0.5555555555555556,\"#d8576b\"],[0.6666666666666666,\"#ed7953\"],[0.7777777777777778,\"#fb9f3a\"],[0.8888888888888888,\"#fdca26\"],[1.0,\"#f0f921\"]],\"sequentialminus\":[[0.0,\"#0d0887\"],[0.1111111111111111,\"#46039f\"],[0.2222222222222222,\"#7201a8\"],[0.3333333333333333,\"#9c179e\"],[0.4444444444444444,\"#bd3786\"],[0.5555555555555556,\"#d8576b\"],[0.6666666666666666,\"#ed7953\"],[0.7777777777777778,\"#fb9f3a\"],[0.8888888888888888,\"#fdca26\"],[1.0,\"#f0f921\"]]},\"hovermode\":\"closest\",\"hoverlabel\":{\"align\":\"left\"},\"coloraxis\":{\"colorbar\":{\"outlinewidth\":0.0,\"ticks\":\"\"}},\"geo\":{\"showland\":true,\"landcolor\":\"rgba(229, 236, 246, 1.0)\",\"showlakes\":true,\"lakecolor\":\"rgba(255, 255, 255, 1.0)\",\"subunitcolor\":\"rgba(255, 255, 255, 1.0)\",\"bgcolor\":\"rgba(255, 255, 255, 1.0)\"},\"mapbox\":{\"style\":\"light\"},\"polar\":{\"bgcolor\":\"rgba(229, 236, 246, 1.0)\",\"radialaxis\":{\"linecolor\":\"rgba(255, 255, 255, 1.0)\",\"gridcolor\":\"rgba(255, 255, 255, 1.0)\",\"ticks\":\"\"},\"angularaxis\":{\"linecolor\":\"rgba(255, 255, 255, 1.0)\",\"gridcolor\":\"rgba(255, 255, 255, 1.0)\",\"ticks\":\"\"}},\"scene\":{\"xaxis\":{\"ticks\":\"\",\"linecolor\":\"rgba(255, 255, 255, 1.0)\",\"gridcolor\":\"rgba(255, 255, 255, 1.0)\",\"gridwidth\":2.0,\"zerolinecolor\":\"rgba(255, 255, 255, 1.0)\",\"backgroundcolor\":\"rgba(229, 236, 246, 1.0)\",\"showbackground\":true},\"yaxis\":{\"ticks\":\"\",\"linecolor\":\"rgba(255, 255, 255, 1.0)\",\"gridcolor\":\"rgba(255, 255, 255, 1.0)\",\"gridwidth\":2.0,\"zerolinecolor\":\"rgba(255, 255, 255, 1.0)\",\"backgroundcolor\":\"rgba(229, 236, 246, 1.0)\",\"showbackground\":true},\"zaxis\":{\"ticks\":\"\",\"linecolor\":\"rgba(255, 255, 255, 1.0)\",\"gridcolor\":\"rgba(255, 255, 255, 1.0)\",\"gridwidth\":2.0,\"zerolinecolor\":\"rgba(255, 255, 255, 1.0)\",\"backgroundcolor\":\"rgba(229, 236, 246, 1.0)\",\"showbackground\":true}},\"ternary\":{\"aaxis\":{\"ticks\":\"\",\"linecolor\":\"rgba(255, 255, 255, 1.0)\",\"gridcolor\":\"rgba(255, 255, 255, 1.0)\"},\"baxis\":{\"ticks\":\"\",\"linecolor\":\"rgba(255, 255, 255, 1.0)\",\"gridcolor\":\"rgba(255, 255, 255, 1.0)\"},\"caxis\":{\"ticks\":\"\",\"linecolor\":\"rgba(255, 255, 255, 1.0)\",\"gridcolor\":\"rgba(255, 255, 255, 1.0)\"},\"bgcolor\":\"rgba(229, 236, 246, 1.0)\"},\"xaxis\":{\"title\":{\"standoff\":15},\"ticks\":\"\",\"automargin\":\"height+width+left+right+top+bottom\",\"linecolor\":\"rgba(255, 255, 255, 1.0)\",\"gridcolor\":\"rgba(255, 255, 255, 1.0)\",\"zerolinecolor\":\"rgba(255, 255, 255, 1.0)\",\"zerolinewidth\":2.0},\"yaxis\":{\"title\":{\"standoff\":15},\"ticks\":\"\",\"automargin\":\"height+width+left+right+top+bottom\",\"linecolor\":\"rgba(255, 255, 255, 1.0)\",\"gridcolor\":\"rgba(255, 255, 255, 1.0)\",\"zerolinecolor\":\"rgba(255, 255, 255, 1.0)\",\"zerolinewidth\":2.0},\"annotationdefaults\":{\"arrowcolor\":\"#2a3f5f\",\"arrowhead\":0,\"arrowwidth\":1},\"shapedefaults\":{\"line\":{\"color\":\"rgba(42, 63, 95, 1.0)\"}},\"colorway\":[\"rgba(99, 110, 250, 1.0)\",\"rgba(239, 85, 59, 1.0)\",\"rgba(0, 204, 150, 1.0)\",\"rgba(171, 99, 250, 1.0)\",\"rgba(255, 161, 90, 1.0)\",\"rgba(25, 211, 243, 1.0)\",\"rgba(255, 102, 146, 1.0)\",\"rgba(182, 232, 128, 1.0)\",\"rgba(255, 151, 255, 1.0)\",\"rgba(254, 203, 82, 1.0)\"]},\"data\":{\"bar\":[{\"marker\":{\"line\":{\"color\":\"rgba(229, 236, 246, 1.0)\",\"width\":0.5},\"pattern\":{\"fillmode\":\"overlay\",\"size\":10,\"solidity\":0.2}},\"error_x\":{\"color\":\"rgba(42, 63, 95, 1.0)\"},\"error_y\":{\"color\":\"rgba(42, 63, 95, 1.0)\"}}],\"barpolar\":[{\"marker\":{\"line\":{\"color\":\"rgba(229, 236, 246, 1.0)\",\"width\":0.5},\"pattern\":{\"fillmode\":\"overlay\",\"size\":10,\"solidity\":0.2}}}],\"carpet\":[{\"aaxis\":{\"linecolor\":\"rgba(255, 255, 255, 1.0)\",\"gridcolor\":\"rgba(255, 255, 255, 1.0)\",\"endlinecolor\":\"rgba(42, 63, 95, 1.0)\",\"minorgridcolor\":\"rgba(255, 255, 255, 1.0)\",\"startlinecolor\":\"rgba(42, 63, 95, 1.0)\"},\"baxis\":{\"linecolor\":\"rgba(255, 255, 255, 1.0)\",\"gridcolor\":\"rgba(255, 255, 255, 1.0)\",\"endlinecolor\":\"rgba(42, 63, 95, 1.0)\",\"minorgridcolor\":\"rgba(255, 255, 255, 1.0)\",\"startlinecolor\":\"rgba(42, 63, 95, 1.0)\"}}],\"choropleth\":[{\"colorbar\":{\"outlinewidth\":0.0,\"ticks\":\"\"},\"colorscale\":[[0.0,\"#0d0887\"],[0.1111111111111111,\"#46039f\"],[0.2222222222222222,\"#7201a8\"],[0.3333333333333333,\"#9c179e\"],[0.4444444444444444,\"#bd3786\"],[0.5555555555555556,\"#d8576b\"],[0.6666666666666666,\"#ed7953\"],[0.7777777777777778,\"#fb9f3a\"],[0.8888888888888888,\"#fdca26\"],[1.0,\"#f0f921\"]]}],\"contour\":[{\"colorbar\":{\"outlinewidth\":0.0,\"ticks\":\"\"},\"colorscale\":[[0.0,\"#0d0887\"],[0.1111111111111111,\"#46039f\"],[0.2222222222222222,\"#7201a8\"],[0.3333333333333333,\"#9c179e\"],[0.4444444444444444,\"#bd3786\"],[0.5555555555555556,\"#d8576b\"],[0.6666666666666666,\"#ed7953\"],[0.7777777777777778,\"#fb9f3a\"],[0.8888888888888888,\"#fdca26\"],[1.0,\"#f0f921\"]]}],\"contourcarpet\":[{\"colorbar\":{\"outlinewidth\":0.0,\"ticks\":\"\"}}],\"heatmap\":[{\"colorbar\":{\"outlinewidth\":0.0,\"ticks\":\"\"},\"colorscale\":[[0.0,\"#0d0887\"],[0.1111111111111111,\"#46039f\"],[0.2222222222222222,\"#7201a8\"],[0.3333333333333333,\"#9c179e\"],[0.4444444444444444,\"#bd3786\"],[0.5555555555555556,\"#d8576b\"],[0.6666666666666666,\"#ed7953\"],[0.7777777777777778,\"#fb9f3a\"],[0.8888888888888888,\"#fdca26\"],[1.0,\"#f0f921\"]]}],\"heatmapgl\":[{\"colorbar\":{\"outlinewidth\":0.0,\"ticks\":\"\"},\"colorscale\":[[0.0,\"#0d0887\"],[0.1111111111111111,\"#46039f\"],[0.2222222222222222,\"#7201a8\"],[0.3333333333333333,\"#9c179e\"],[0.4444444444444444,\"#bd3786\"],[0.5555555555555556,\"#d8576b\"],[0.6666666666666666,\"#ed7953\"],[0.7777777777777778,\"#fb9f3a\"],[0.8888888888888888,\"#fdca26\"],[1.0,\"#f0f921\"]]}],\"histogram\":[{\"marker\":{\"pattern\":{\"fillmode\":\"overlay\",\"size\":10,\"solidity\":0.2}}}],\"histogram2d\":[{\"colorbar\":{\"outlinewidth\":0.0,\"ticks\":\"\"},\"colorscale\":[[0.0,\"#0d0887\"],[0.1111111111111111,\"#46039f\"],[0.2222222222222222,\"#7201a8\"],[0.3333333333333333,\"#9c179e\"],[0.4444444444444444,\"#bd3786\"],[0.5555555555555556,\"#d8576b\"],[0.6666666666666666,\"#ed7953\"],[0.7777777777777778,\"#fb9f3a\"],[0.8888888888888888,\"#fdca26\"],[1.0,\"#f0f921\"]]}],\"histogram2dcontour\":[{\"colorbar\":{\"outlinewidth\":0.0,\"ticks\":\"\"},\"colorscale\":[[0.0,\"#0d0887\"],[0.1111111111111111,\"#46039f\"],[0.2222222222222222,\"#7201a8\"],[0.3333333333333333,\"#9c179e\"],[0.4444444444444444,\"#bd3786\"],[0.5555555555555556,\"#d8576b\"],[0.6666666666666666,\"#ed7953\"],[0.7777777777777778,\"#fb9f3a\"],[0.8888888888888888,\"#fdca26\"],[1.0,\"#f0f921\"]]}],\"mesh3d\":[{\"colorbar\":{\"outlinewidth\":0.0,\"ticks\":\"\"}}],\"parcoords\":[{\"line\":{\"colorbar\":{\"outlinewidth\":0.0,\"ticks\":\"\"}}}],\"pie\":[{\"automargin\":true}],\"scatter\":[{\"marker\":{\"colorbar\":{\"outlinewidth\":0.0,\"ticks\":\"\"}}}],\"scatter3d\":[{\"marker\":{\"colorbar\":{\"outlinewidth\":0.0,\"ticks\":\"\"}},\"line\":{\"colorbar\":{\"outlinewidth\":0.0,\"ticks\":\"\"}}}],\"scattercarpet\":[{\"marker\":{\"colorbar\":{\"outlinewidth\":0.0,\"ticks\":\"\"}}}],\"scattergeo\":[{\"marker\":{\"colorbar\":{\"outlinewidth\":0.0,\"ticks\":\"\"}}}],\"scattergl\":[{\"marker\":{\"colorbar\":{\"outlinewidth\":0.0,\"ticks\":\"\"}}}],\"scattermapbox\":[{\"marker\":{\"colorbar\":{\"outlinewidth\":0.0,\"ticks\":\"\"}}}],\"scatterpolar\":[{\"marker\":{\"colorbar\":{\"outlinewidth\":0.0,\"ticks\":\"\"}}}],\"scatterpolargl\":[{\"marker\":{\"colorbar\":{\"outlinewidth\":0.0,\"ticks\":\"\"}}}],\"scatterternary\":[{\"marker\":{\"colorbar\":{\"outlinewidth\":0.0,\"ticks\":\"\"}}}],\"surface\":[{\"colorbar\":{\"outlinewidth\":0.0,\"ticks\":\"\"},\"colorscale\":[[0.0,\"#0d0887\"],[0.1111111111111111,\"#46039f\"],[0.2222222222222222,\"#7201a8\"],[0.3333333333333333,\"#9c179e\"],[0.4444444444444444,\"#bd3786\"],[0.5555555555555556,\"#d8576b\"],[0.6666666666666666,\"#ed7953\"],[0.7777777777777778,\"#fb9f3a\"],[0.8888888888888888,\"#fdca26\"],[1.0,\"#f0f921\"]]}],\"table\":[{\"cells\":{\"fill\":{\"color\":\"rgba(235, 240, 248, 1.0)\"},\"line\":{\"color\":\"rgba(255, 255, 255, 1.0)\"}},\"header\":{\"fill\":{\"color\":\"rgba(200, 212, 227, 1.0)\"},\"line\":{\"color\":\"rgba(255, 255, 255, 1.0)\"}}}]}}};\n",
       "        var config = {\"responsive\":true};\n",
       "        Plotly.newPlot('1a97fc59-26b6-4c47-be8a-55c754d1f57d', data, layout, config);\n",
       "    });\n",
       "};\n",
       "if ((typeof(requirejs) !==  typeof(Function)) || (typeof(requirejs.config) !== typeof(Function))) {\n",
       "    var script = document.createElement(\"script\");\n",
       "    script.setAttribute(\"charset\", \"utf-8\");\n",
       "    script.setAttribute(\"src\", \"https://cdnjs.cloudflare.com/ajax/libs/require.js/2.3.6/require.min.js\");\n",
       "    script.onload = function(){\n",
       "        renderPlotly_1a97fc5926b64c47be8a55c754d1f57d();\n",
       "    };\n",
       "    document.getElementsByTagName(\"head\")[0].appendChild(script);\n",
       "}\n",
       "else {\n",
       "    renderPlotly_1a97fc5926b64c47be8a55c754d1f57d();\n",
       "}\n",
       "</script></div>"
      ]
     },
     "metadata": {},
     "output_type": "display_data"
    }
   ],
   "source": [
    "open FSharp.Data\n",
    "open Plotly.NET\n",
    "\n",
    "// define our data source\n",
    "[<Literal>]\n",
    "let uri = \"http://query1.finance.yahoo.com/v7/finance/download/MSFT?period1=1678116713&period2=1709739113&interval=1d&events=history&includeAdjustedClose=true\"\n",
    "\n",
    "// create a type using it\n",
    "// (normally, we'd pass a smaller and local file with the same structure here, but passing the same `uri` is fine for example / notebooks)\n",
    "type Stocks = CsvProvider<uri>\n",
    "\n",
    "// get a sample of the data from the new type using the default data source\n",
    "let msft = Stocks.GetSample()\n",
    "\n",
    "// plot the high vs low daily difference over time\n",
    "Chart.Line(\n",
    "    xy = [ for row in msft.Rows -> row.Date, row.High - row.Low ]\n",
    ")"
   ]
  },
  {
   "cell_type": "markdown",
   "id": "0b57f81c",
   "metadata": {},
   "source": [
    "Working with type providers can sometimes be less convenient than dynamically typed data access libraries like `pandas`'s `DataFrame` when your data isn't well structured.\n",
    "\n",
    "For example, if you had data with similar structure as above (`Date`, `Open`, `Adj Close`, etc., columns) but for multiple companies all in one CSV file, they might be addressed with the name of the company first, then the column name, such as `MSFT_Date`, for example.\n",
    "\n",
    "You could access this data in an unsafe way using programmatic access, such as with f-strings in Python (`frame[f\"{ticker}_{column_name}\"]`), but F# type providers would have no knowledge of the implicit structure via column naming because CSV does not allow for multi-level indexing unlike other data types like JSON. In fact, iterating over all or a subset of columns from a `CsvProvider` type requires a hack, and you'd be better off importing into a semi-strongly-typed `DataFrame` using a package called [Deedle](https://fslab.org/Deedle) than using type providers. "
   ]
  },
  {
   "cell_type": "markdown",
   "id": "722aa15f",
   "metadata": {},
   "source": [
    "However, when you need to access a few named columns of homogenous types, it's actually not too difficult to work with the data provided from type providers as pure collections and not use an data frame at all:"
   ]
  },
  {
   "cell_type": "code",
   "execution_count": 36,
   "metadata": {
    "dotnet_interactive": {
     "language": "fsharp"
    },
    "polyglot_notebook": {
     "kernelName": "fsharp"
    }
   },
   "outputs": [
    {
     "data": {
      "text/html": [
       "<details open=\"open\" class=\"dni-treeview\"><summary><span class=\"dni-code-hint\"><code>[ (3/6/2023 12:00:00 AM, [249.8818779375; 255.4656199375]), (3/13/2023 12:00:00 AM, [267.7306269375; 276.5512450625]), (3/20/2023 12:00:00 AM, [274.1731263125; 280.2400038125]), (3/27/2023 12:00:00 AM, [280.8943768125; 285.7424945000]), (4/3/2023 12:00:00 AM, [282.947505875; 290.167492125]), (4/10/2023 12:00:00 AM, [283.2793785000; 288.5650063125]), (4/17/2023 12:00:00 AM, [284.1906227500; 287.9837437500]), (4/24/2023 12:00:00 AM, [296.6893751250; 303.6206265000]), (5/1/2023 12:00:00 AM, [304.0624923750; 310.1125010625]), (5/8/2023 12:00:00 AM, [306.5987567500; 310.9949970625]), (5/15/2023 12:00:00 AM, [314.0462454375; 317.4143754375]), (5/22/2023 12:00:00 AM, [320.5950012500; 328.3193703125]), (5/29/2023 12:00:00 AM, [329.686241250; 336.092498750]), (6/5/2023 12:00:00 AM, [325.0318795625; 330.5868720625]), (6/12/2023 12:00:00 AM, [337.8481349375; 347.3925016875]), (6/19/2023 12:00:00 AM, [333.551254000; 338.986244000]), (6/26/2023 12:00:00 AM, [334.5931281250; 339.6562518125]), (7/3/2023 12:00:00 AM, [336.287502250; 341.961250500]), (7/10/2023 12:00:00 AM, [339.7806226250; 346.1118680000]), (7/17/2023 12:00:00 AM, [343.0856190625; 354.5606174375]) ... (more) ]</code></span></summary><div><table><thead><tr></tr></thead><tbody><tr><td>f</td><td><details class=\"dni-treeview\"><summary><span class=\"dni-code-hint\"><code>Microsoft.FSharp.Collections.SeqModule+revamp@728[System.Tuple`2[System.DateTime,System.Collections.Generic.IEnumerable`1[System.Decimal]],System.Tuple`2[System.DateTime,Microsoft.FSharp.Collections.FSharpList`1[System.Decimal]]]</code></span></summary><div><table><thead><tr></tr></thead><tbody><tr><td>f</td><td><details class=\"dni-treeview\"><summary><span class=\"dni-code-hint\"><code>Microsoft.FSharp.Collections.SeqModule+Map@748-1[System.Tuple`2[System.DateTime,System.Collections.Generic.IEnumerable`1[System.Decimal]],System.Tuple`2[System.DateTime,Microsoft.FSharp.Collections.FSharpList`1[System.Decimal]]]</code></span></summary><div><table><thead><tr></tr></thead><tbody><tr><td>mapping</td><td><details class=\"dni-treeview\"><summary><span class=\"dni-code-hint\"><code>FSI_0045+print@19[System.DateTime,System.Collections.Generic.IEnumerable`1[System.Decimal],System.Decimal]</code></span></summary><div><table><thead><tr></tr></thead><tbody></tbody></table></div></details></td></tr></tbody></table></div></details></td></tr><tr><td>ie</td><td><table><thead><tr><th><i>index</i></th><th>value</th></tr></thead><tbody><tr><td>0</td><td><details class=\"dni-treeview\"><summary><span class=\"dni-code-hint\"><code>(3/6/2023 12:00:00 AM, Microsoft.FSharp.Collections.IEnumerator+mkSeq@177[System.Decimal])</code></span></summary><div><table><thead><tr></tr></thead><tbody><tr><td>Item1</td><td><span>2023-03-06 00:00:00Z</span></td></tr><tr><td>Item2</td><td><details class=\"dni-treeview\"><summary><span class=\"dni-code-hint\"><code>[ 249.8818779375, 255.4656199375 ]</code></span></summary><div><table><thead><tr></tr></thead><tbody><tr><td>f</td><td><details class=\"dni-treeview\"><summary><span class=\"dni-code-hint\"><code>Microsoft.FSharp.Collections.SeqModule+revamp@728[System.Tuple`2[System.Decimal,System.Decimal],System.Decimal]</code></span></summary><div><table><thead><tr></tr></thead><tbody><tr><td>f</td><td>Microsoft.FSharp.Collections.SeqModule+Map@748-1[System.Tuple`2[System.Decimal,System.Decimal],System.Decimal]</td></tr><tr><td>ie</td><td>[ (247.600006, 252.163749875), (252.789993, 258.141246875) ]</td></tr></tbody></table></div></details></td></tr><tr><td><i>(values)</i></td><td><div class=\"dni-plaintext\"><pre>[ 249.8818779375, 255.4656199375 ]</pre></div></td></tr></tbody></table></div></details></td></tr></tbody></table></div></details></td></tr><tr><td>1</td><td><details class=\"dni-treeview\"><summary><span class=\"dni-code-hint\"><code>(3/13/2023 12:00:00 AM, Microsoft.FSharp.Collections.IEnumerator+mkSeq@177[System.Decimal])</code></span></summary><div><table><thead><tr></tr></thead><tbody><tr><td>Item1</td><td><span>2023-03-13 00:00:00Z</span></td></tr><tr><td>Item2</td><td><details class=\"dni-treeview\"><summary><span class=\"dni-code-hint\"><code>[ 267.7306269375, 276.5512450625 ]</code></span></summary><div><table><thead><tr></tr></thead><tbody><tr><td>f</td><td><details class=\"dni-treeview\"><summary><span class=\"dni-code-hint\"><code>Microsoft.FSharp.Collections.SeqModule+revamp@728[System.Tuple`2[System.Decimal,System.Decimal],System.Decimal]</code></span></summary><div><table><thead><tr></tr></thead><tbody><tr><td>f</td><td>Microsoft.FSharp.Collections.SeqModule+Map@748-1[System.Tuple`2[System.Decimal,System.Decimal],System.Decimal]</td></tr><tr><td>ie</td><td>[ (276.320007, 259.141246875), (283.329987, 269.772503125) ]</td></tr></tbody></table></div></details></td></tr><tr><td><i>(values)</i></td><td><div class=\"dni-plaintext\"><pre>[ 267.7306269375, 276.5512450625 ]</pre></div></td></tr></tbody></table></div></details></td></tr></tbody></table></div></details></td></tr><tr><td>2</td><td><details class=\"dni-treeview\"><summary><span class=\"dni-code-hint\"><code>(3/20/2023 12:00:00 AM, Microsoft.FSharp.Collections.IEnumerator+mkSeq@177[System.Decimal])</code></span></summary><div><table><thead><tr></tr></thead><tbody><tr><td>Item1</td><td><span>2023-03-20 00:00:00Z</span></td></tr><tr><td>Item2</td><td><details class=\"dni-treeview\"><summary><span class=\"dni-code-hint\"><code>[ 274.1731263125, 280.2400038125 ]</code></span></summary><div><table><thead><tr></tr></thead><tbody><tr><td>f</td><td><details class=\"dni-treeview\"><summary><span class=\"dni-code-hint\"><code>Microsoft.FSharp.Collections.SeqModule+revamp@728[System.Tuple`2[System.Decimal,System.Decimal],System.Decimal]</code></span></summary><div><table><thead><tr></tr></thead><tbody><tr><td>f</td><td>Microsoft.FSharp.Collections.SeqModule+Map@748-1[System.Tuple`2[System.Decimal,System.Decimal],System.Decimal]</td></tr><tr><td>ie</td><td>[ (275.279999, 273.066253625), (280.630005, 279.850002625) ]</td></tr></tbody></table></div></details></td></tr><tr><td><i>(values)</i></td><td><div class=\"dni-plaintext\"><pre>[ 274.1731263125, 280.2400038125 ]</pre></div></td></tr></tbody></table></div></details></td></tr></tbody></table></div></details></td></tr><tr><td>3</td><td><details class=\"dni-treeview\"><summary><span class=\"dni-code-hint\"><code>(3/27/2023 12:00:00 AM, Microsoft.FSharp.Collections.IEnumerator+mkSeq@177[System.Decimal])</code></span></summary><div><table><thead><tr></tr></thead><tbody><tr><td>Item1</td><td><span>2023-03-27 00:00:00Z</span></td></tr><tr><td>Item2</td><td><details class=\"dni-treeview\"><summary><span class=\"dni-code-hint\"><code>[ 280.8943768125, 285.7424945000 ]</code></span></summary><div><table><thead><tr></tr></thead><tbody><tr><td>f</td><td><details class=\"dni-treeview\"><summary><span class=\"dni-code-hint\"><code>Microsoft.FSharp.Collections.SeqModule+revamp@728[System.Tuple`2[System.Decimal,System.Decimal],System.Decimal]</code></span></summary><div><table><thead><tr></tr></thead><tbody><tr><td>f</td><td>Microsoft.FSharp.Collections.SeqModule+Map@748-1[System.Tuple`2[System.Decimal,System.Decimal],System.Decimal]</td></tr><tr><td>ie</td><td>[ (283.000000, 278.788753625), (289.269989, 282.215000000) ]</td></tr></tbody></table></div></details></td></tr><tr><td><i>(values)</i></td><td><div class=\"dni-plaintext\"><pre>[ 280.8943768125, 285.7424945000 ]</pre></div></td></tr></tbody></table></div></details></td></tr></tbody></table></div></details></td></tr><tr><td>4</td><td><details class=\"dni-treeview\"><summary><span class=\"dni-code-hint\"><code>(4/3/2023 12:00:00 AM, Microsoft.FSharp.Collections.IEnumerator+mkSeq@177[System.Decimal])</code></span></summary><div><table><thead><tr></tr></thead><tbody><tr><td>Item1</td><td><span>2023-04-03 00:00:00Z</span></td></tr><tr><td>Item2</td><td><details class=\"dni-treeview\"><summary><span class=\"dni-code-hint\"><code>[ 282.947505875, 290.167492125 ]</code></span></summary><div><table><thead><tr></tr></thead><tbody><tr><td>f</td><td><details class=\"dni-treeview\"><summary><span class=\"dni-code-hint\"><code>Microsoft.FSharp.Collections.SeqModule+revamp@728[System.Tuple`2[System.Decimal,System.Decimal],System.Decimal]</code></span></summary><div><table><thead><tr></tr></thead><tbody><tr><td>f</td><td>Microsoft.FSharp.Collections.SeqModule+Map@748-1[System.Tuple`2[System.Decimal,System.Decimal],System.Decimal]</td></tr><tr><td>ie</td><td>[ (282.029999, 283.86501275), (292.079987, 288.25499725) ]</td></tr></tbody></table></div></details></td></tr><tr><td><i>(values)</i></td><td><div class=\"dni-plaintext\"><pre>[ 282.947505875, 290.167492125 ]</pre></div></td></tr></tbody></table></div></details></td></tr></tbody></table></div></details></td></tr><tr><td>5</td><td><details class=\"dni-treeview\"><summary><span class=\"dni-code-hint\"><code>(4/10/2023 12:00:00 AM, Microsoft.FSharp.Collections.IEnumerator+mkSeq@177[System.Decimal])</code></span></summary><div><table><thead><tr></tr></thead><tbody><tr><td>Item1</td><td><span>2023-04-10 00:00:00Z</span></td></tr><tr><td>Item2</td><td><details class=\"dni-treeview\"><summary><span class=\"dni-code-hint\"><code>[ 283.2793785000, 288.5650063125 ]</code></span></summary><div><table><thead><tr></tr></thead><tbody><tr><td>f</td><td><details class=\"dni-treeview\"><summary><span class=\"dni-code-hint\"><code>Microsoft.FSharp.Collections.SeqModule+revamp@728[System.Tuple`2[System.Decimal,System.Decimal],System.Decimal]</code></span></summary><div><table><thead><tr></tr></thead><tbody><tr><td>f</td><td>Microsoft.FSharp.Collections.SeqModule+Map@748-1[System.Tuple`2[System.Decimal,System.Decimal],System.Decimal]</td></tr><tr><td>ie</td><td>[ (283.690002, 282.868755000), (288.480011, 288.650001625) ]</td></tr></tbody></table></div></details></td></tr><tr><td><i>(values)</i></td><td><div class=\"dni-plaintext\"><pre>[ 283.2793785000, 288.5650063125 ]</pre></div></td></tr></tbody></table></div></details></td></tr></tbody></table></div></details></td></tr><tr><td>6</td><td><details class=\"dni-treeview\"><summary><span class=\"dni-code-hint\"><code>(4/17/2023 12:00:00 AM, Microsoft.FSharp.Collections.IEnumerator+mkSeq@177[System.Decimal])</code></span></summary><div><table><thead><tr></tr></thead><tbody><tr><td>Item1</td><td><span>2023-04-17 00:00:00Z</span></td></tr><tr><td>Item2</td><td><details class=\"dni-treeview\"><summary><span class=\"dni-code-hint\"><code>[ 284.1906227500, 287.9837437500 ]</code></span></summary><div><table><thead><tr></tr></thead><tbody><tr><td>f</td><td><details class=\"dni-treeview\"><summary><span class=\"dni-code-hint\"><code>Microsoft.FSharp.Collections.SeqModule+revamp@728[System.Tuple`2[System.Decimal,System.Decimal],System.Decimal]</code></span></summary><div><table><thead><tr></tr></thead><tbody><tr><td>f</td><td>Microsoft.FSharp.Collections.SeqModule+Map@748-1[System.Tuple`2[System.Decimal,System.Decimal],System.Decimal]</td></tr><tr><td>ie</td><td>[ (283.059998, 285.321247500), (286.269989, 289.697498500) ]</td></tr></tbody></table></div></details></td></tr><tr><td><i>(values)</i></td><td><div class=\"dni-plaintext\"><pre>[ 284.1906227500, 287.9837437500 ]</pre></div></td></tr></tbody></table></div></details></td></tr></tbody></table></div></details></td></tr><tr><td>7</td><td><details class=\"dni-treeview\"><summary><span class=\"dni-code-hint\"><code>(4/24/2023 12:00:00 AM, Microsoft.FSharp.Collections.IEnumerator+mkSeq@177[System.Decimal])</code></span></summary><div><table><thead><tr></tr></thead><tbody><tr><td>Item1</td><td><span>2023-04-24 00:00:00Z</span></td></tr><tr><td>Item2</td><td><details class=\"dni-treeview\"><summary><span class=\"dni-code-hint\"><code>[ 296.6893751250, 303.6206265000 ]</code></span></summary><div><table><thead><tr></tr></thead><tbody><tr><td>f</td><td><details class=\"dni-treeview\"><summary><span class=\"dni-code-hint\"><code>Microsoft.FSharp.Collections.SeqModule+revamp@728[System.Tuple`2[System.Decimal,System.Decimal],System.Decimal]</code></span></summary><div><table><thead><tr></tr></thead><tbody><tr><td>f</td><td>Microsoft.FSharp.Collections.SeqModule+Map@748-1[System.Tuple`2[System.Decimal,System.Decimal],System.Decimal]</td></tr><tr><td>ie</td><td>[ (303.309998, 290.068752250), (308.929993, 298.311260000) ]</td></tr></tbody></table></div></details></td></tr><tr><td><i>(values)</i></td><td><div class=\"dni-plaintext\"><pre>[ 296.6893751250, 303.6206265000 ]</pre></div></td></tr></tbody></table></div></details></td></tr></tbody></table></div></details></td></tr><tr><td>8</td><td><details class=\"dni-treeview\"><summary><span class=\"dni-code-hint\"><code>(5/1/2023 12:00:00 AM, Microsoft.FSharp.Collections.IEnumerator+mkSeq@177[System.Decimal])</code></span></summary><div><table><thead><tr></tr></thead><tbody><tr><td>Item1</td><td><span>2023-05-01 00:00:00Z</span></td></tr><tr><td>Item2</td><td><details class=\"dni-treeview\"><summary><span class=\"dni-code-hint\"><code>[ 304.0624923750, 310.1125010625 ]</code></span></summary><div><table><thead><tr></tr></thead><tbody><tr><td>f</td><td><details class=\"dni-treeview\"><summary><span class=\"dni-code-hint\"><code>Microsoft.FSharp.Collections.SeqModule+revamp@728[System.Tuple`2[System.Decimal,System.Decimal],System.Decimal]</code></span></summary><div><table><thead><tr></tr></thead><tbody><tr><td>f</td><td>Microsoft.FSharp.Collections.SeqModule+Map@748-1[System.Tuple`2[System.Decimal,System.Decimal],System.Decimal]</td></tr><tr><td>ie</td><td>[ (304.269989, 303.854995750), (311.970001, 308.255001125) ]</td></tr></tbody></table></div></details></td></tr><tr><td><i>(values)</i></td><td><div class=\"dni-plaintext\"><pre>[ 304.0624923750, 310.1125010625 ]</pre></div></td></tr></tbody></table></div></details></td></tr></tbody></table></div></details></td></tr><tr><td>9</td><td><details class=\"dni-treeview\"><summary><span class=\"dni-code-hint\"><code>(5/8/2023 12:00:00 AM, Microsoft.FSharp.Collections.IEnumerator+mkSeq@177[System.Decimal])</code></span></summary><div><table><thead><tr></tr></thead><tbody><tr><td>Item1</td><td><span>2023-05-08 00:00:00Z</span></td></tr><tr><td>Item2</td><td><details class=\"dni-treeview\"><summary><span class=\"dni-code-hint\"><code>[ 306.5987567500, 310.9949970625 ]</code></span></summary><div><table><thead><tr></tr></thead><tbody><tr><td>f</td><td><details class=\"dni-treeview\"><summary><span class=\"dni-code-hint\"><code>Microsoft.FSharp.Collections.SeqModule+revamp@728[System.Tuple`2[System.Decimal,System.Decimal],System.Decimal]</code></span></summary><div><table><thead><tr></tr></thead><tbody><tr><td>f</td><td>Microsoft.FSharp.Collections.SeqModule+Map@748-1[System.Tuple`2[System.Decimal,System.Decimal],System.Decimal]</td></tr><tr><td>ie</td><td>[ (306.600006, 306.597507500), (310.649994, 311.340000125) ]</td></tr></tbody></table></div></details></td></tr><tr><td><i>(values)</i></td><td><div class=\"dni-plaintext\"><pre>[ 306.5987567500, 310.9949970625 ]</pre></div></td></tr></tbody></table></div></details></td></tr></tbody></table></div></details></td></tr><tr><td>10</td><td><details class=\"dni-treeview\"><summary><span class=\"dni-code-hint\"><code>(5/15/2023 12:00:00 AM, Microsoft.FSharp.Collections.IEnumerator+mkSeq@177[System.Decimal])</code></span></summary><div><table><thead><tr></tr></thead><tbody><tr><td>Item1</td><td><span>2023-05-15 00:00:00Z</span></td></tr><tr><td>Item2</td><td><details class=\"dni-treeview\"><summary><span class=\"dni-code-hint\"><code>[ 314.0462454375, 317.4143754375 ]</code></span></summary><div><table><thead><tr></tr></thead><tbody><tr><td>f</td><td><details class=\"dni-treeview\"><summary><span class=\"dni-code-hint\"><code>Microsoft.FSharp.Collections.SeqModule+revamp@728[System.Tuple`2[System.Decimal,System.Decimal],System.Decimal]</code></span></summary><div><table><thead><tr></tr></thead><tbody><tr><td>f</td><td>Microsoft.FSharp.Collections.SeqModule+Map@748-1[System.Tuple`2[System.Decimal,System.Decimal],System.Decimal]</td></tr><tr><td>ie</td><td>[ (316.369995, 311.722495875), (318.750000, 316.078750875) ]</td></tr></tbody></table></div></details></td></tr><tr><td><i>(values)</i></td><td><div class=\"dni-plaintext\"><pre>[ 314.0462454375, 317.4143754375 ]</pre></div></td></tr></tbody></table></div></details></td></tr></tbody></table></div></details></td></tr><tr><td>11</td><td><details class=\"dni-treeview\"><summary><span class=\"dni-code-hint\"><code>(5/22/2023 12:00:00 AM, Microsoft.FSharp.Collections.IEnumerator+mkSeq@177[System.Decimal])</code></span></summary><div><table><thead><tr></tr></thead><tbody><tr><td>Item1</td><td><span>2023-05-22 00:00:00Z</span></td></tr><tr><td>Item2</td><td><details class=\"dni-treeview\"><summary><span class=\"dni-code-hint\"><code>[ 320.5950012500, 328.3193703125 ]</code></span></summary><div><table><thead><tr></tr></thead><tbody><tr><td>f</td><td><details class=\"dni-treeview\"><summary><span class=\"dni-code-hint\"><code>Microsoft.FSharp.Collections.SeqModule+revamp@728[System.Tuple`2[System.Decimal,System.Decimal],System.Decimal]</code></span></summary><div><table><thead><tr></tr></thead><tbody><tr><td>f</td><td>Microsoft.FSharp.Collections.SeqModule+Map@748-1[System.Tuple`2[System.Decimal,System.Decimal],System.Decimal]</td></tr><tr><td>ie</td><td>[ (323.880005, 317.309997500), (333.399994, 323.238746625) ]</td></tr></tbody></table></div></details></td></tr><tr><td><i>(values)</i></td><td><div class=\"dni-plaintext\"><pre>[ 320.5950012500, 328.3193703125 ]</pre></div></td></tr></tbody></table></div></details></td></tr></tbody></table></div></details></td></tr><tr><td>12</td><td><details class=\"dni-treeview\"><summary><span class=\"dni-code-hint\"><code>(5/29/2023 12:00:00 AM, Microsoft.FSharp.Collections.IEnumerator+mkSeq@177[System.Decimal])</code></span></summary><div><table><thead><tr></tr></thead><tbody><tr><td>Item1</td><td><span>2023-05-29 00:00:00Z</span></td></tr><tr><td>Item2</td><td><details class=\"dni-treeview\"><summary><span class=\"dni-code-hint\"><code>[ 329.686241250, 336.092498750 ]</code></span></summary><div><table><thead><tr></tr></thead><tbody><tr><td>f</td><td><details class=\"dni-treeview\"><summary><span class=\"dni-code-hint\"><code>Microsoft.FSharp.Collections.SeqModule+revamp@728[System.Tuple`2[System.Decimal,System.Decimal],System.Decimal]</code></span></summary><div><table><thead><tr></tr></thead><tbody><tr><td>f</td><td>Microsoft.FSharp.Collections.SeqModule+Map@748-1[System.Tuple`2[System.Decimal,System.Decimal],System.Decimal]</td></tr><tr><td>ie</td><td>[ (332.549988, 326.82249450), (337.500000, 334.68499750) ]</td></tr></tbody></table></div></details></td></tr><tr><td><i>(values)</i></td><td><div class=\"dni-plaintext\"><pre>[ 329.686241250, 336.092498750 ]</pre></div></td></tr></tbody></table></div></details></td></tr></tbody></table></div></details></td></tr><tr><td>13</td><td><details class=\"dni-treeview\"><summary><span class=\"dni-code-hint\"><code>(6/5/2023 12:00:00 AM, Microsoft.FSharp.Collections.IEnumerator+mkSeq@177[System.Decimal])</code></span></summary><div><table><thead><tr></tr></thead><tbody><tr><td>Item1</td><td><span>2023-06-05 00:00:00Z</span></td></tr><tr><td>Item2</td><td><details class=\"dni-treeview\"><summary><span class=\"dni-code-hint\"><code>[ 325.0318795625, 330.5868720625 ]</code></span></summary><div><table><thead><tr></tr></thead><tbody><tr><td>f</td><td><details class=\"dni-treeview\"><summary><span class=\"dni-code-hint\"><code>Microsoft.FSharp.Collections.SeqModule+revamp@728[System.Tuple`2[System.Decimal,System.Decimal],System.Decimal]</code></span></summary><div><table><thead><tr></tr></thead><tbody><tr><td>f</td><td>Microsoft.FSharp.Collections.SeqModule+Map@748-1[System.Tuple`2[System.Decimal,System.Decimal],System.Decimal]</td></tr><tr><td>ie</td><td>[ (324.410004, 325.653755125), (329.989990, 331.183754125) ]</td></tr></tbody></table></div></details></td></tr><tr><td><i>(values)</i></td><td><div class=\"dni-plaintext\"><pre>[ 325.0318795625, 330.5868720625 ]</pre></div></td></tr></tbody></table></div></details></td></tr></tbody></table></div></details></td></tr><tr><td>14</td><td><details class=\"dni-treeview\"><summary><span class=\"dni-code-hint\"><code>(6/12/2023 12:00:00 AM, Microsoft.FSharp.Collections.IEnumerator+mkSeq@177[System.Decimal])</code></span></summary><div><table><thead><tr></tr></thead><tbody><tr><td>Item1</td><td><span>2023-06-12 00:00:00Z</span></td></tr><tr><td>Item2</td><td><details class=\"dni-treeview\"><summary><span class=\"dni-code-hint\"><code>[ 337.8481349375, 347.3925016875 ]</code></span></summary><div><table><thead><tr></tr></thead><tbody><tr><td>f</td><td><details class=\"dni-treeview\"><summary><span class=\"dni-code-hint\"><code>Microsoft.FSharp.Collections.SeqModule+revamp@728[System.Tuple`2[System.Decimal,System.Decimal],System.Decimal]</code></span></summary><div><table><thead><tr></tr></thead><tbody><tr><td>f</td><td>Microsoft.FSharp.Collections.SeqModule+Map@748-1[System.Tuple`2[System.Decimal,System.Decimal],System.Decimal]</td></tr><tr><td>ie</td><td>[ (341.950012, 333.746257875), (351.470001, 343.315002375) ]</td></tr></tbody></table></div></details></td></tr><tr><td><i>(values)</i></td><td><div class=\"dni-plaintext\"><pre>[ 337.8481349375, 347.3925016875 ]</pre></div></td></tr></tbody></table></div></details></td></tr></tbody></table></div></details></td></tr><tr><td>15</td><td><details class=\"dni-treeview\"><summary><span class=\"dni-code-hint\"><code>(6/19/2023 12:00:00 AM, Microsoft.FSharp.Collections.IEnumerator+mkSeq@177[System.Decimal])</code></span></summary><div><table><thead><tr></tr></thead><tbody><tr><td>Item1</td><td><span>2023-06-19 00:00:00Z</span></td></tr><tr><td>Item2</td><td><details class=\"dni-treeview\"><summary><span class=\"dni-code-hint\"><code>[ 333.551254000, 338.986244000 ]</code></span></summary><div><table><thead><tr></tr></thead><tbody><tr><td>f</td><td><details class=\"dni-treeview\"><summary><span class=\"dni-code-hint\"><code>Microsoft.FSharp.Collections.SeqModule+revamp@728[System.Tuple`2[System.Decimal,System.Decimal],System.Decimal]</code></span></summary><div><table><thead><tr></tr></thead><tbody><tr><td>f</td><td>Microsoft.FSharp.Collections.SeqModule+Map@748-1[System.Tuple`2[System.Decimal,System.Decimal],System.Decimal]</td></tr><tr><td>ie</td><td>[ (333.450012, 333.65249600), (337.959991, 340.01249700) ]</td></tr></tbody></table></div></details></td></tr><tr><td><i>(values)</i></td><td><div class=\"dni-plaintext\"><pre>[ 333.551254000, 338.986244000 ]</pre></div></td></tr></tbody></table></div></details></td></tr></tbody></table></div></details></td></tr><tr><td>16</td><td><details class=\"dni-treeview\"><summary><span class=\"dni-code-hint\"><code>(6/26/2023 12:00:00 AM, Microsoft.FSharp.Collections.IEnumerator+mkSeq@177[System.Decimal])</code></span></summary><div><table><thead><tr></tr></thead><tbody><tr><td>Item1</td><td><span>2023-06-26 00:00:00Z</span></td></tr><tr><td>Item2</td><td><details class=\"dni-treeview\"><summary><span class=\"dni-code-hint\"><code>[ 334.5931281250, 339.6562518125 ]</code></span></summary><div><table><thead><tr></tr></thead><tbody><tr><td>f</td><td><details class=\"dni-treeview\"><summary><span class=\"dni-code-hint\"><code>Microsoft.FSharp.Collections.SeqModule+revamp@728[System.Tuple`2[System.Decimal,System.Decimal],System.Decimal]</code></span></summary><div><table><thead><tr></tr></thead><tbody><tr><td>f</td><td>Microsoft.FSharp.Collections.SeqModule+Map@748-1[System.Tuple`2[System.Decimal,System.Decimal],System.Decimal]</td></tr><tr><td>ie</td><td>[ (337.200012, 331.986244250), (342.730011, 336.582492625) ]</td></tr></tbody></table></div></details></td></tr><tr><td><i>(values)</i></td><td><div class=\"dni-plaintext\"><pre>[ 334.5931281250, 339.6562518125 ]</pre></div></td></tr></tbody></table></div></details></td></tr></tbody></table></div></details></td></tr><tr><td>17</td><td><details class=\"dni-treeview\"><summary><span class=\"dni-code-hint\"><code>(7/3/2023 12:00:00 AM, Microsoft.FSharp.Collections.IEnumerator+mkSeq@177[System.Decimal])</code></span></summary><div><table><thead><tr></tr></thead><tbody><tr><td>Item1</td><td><span>2023-07-03 00:00:00Z</span></td></tr><tr><td>Item2</td><td><details class=\"dni-treeview\"><summary><span class=\"dni-code-hint\"><code>[ 336.287502250, 341.961250500 ]</code></span></summary><div><table><thead><tr></tr></thead><tbody><tr><td>f</td><td><details class=\"dni-treeview\"><summary><span class=\"dni-code-hint\"><code>Microsoft.FSharp.Collections.SeqModule+revamp@728[System.Tuple`2[System.Decimal,System.Decimal],System.Decimal]</code></span></summary><div><table><thead><tr></tr></thead><tbody><tr><td>f</td><td>Microsoft.FSharp.Collections.SeqModule+Map@748-1[System.Tuple`2[System.Decimal,System.Decimal],System.Decimal]</td></tr><tr><td>ie</td><td>[ (337.000000, 335.57500450), (341.790009, 342.13249200) ]</td></tr></tbody></table></div></details></td></tr><tr><td><i>(values)</i></td><td><div class=\"dni-plaintext\"><pre>[ 336.287502250, 341.961250500 ]</pre></div></td></tr></tbody></table></div></details></td></tr></tbody></table></div></details></td></tr><tr><td>18</td><td><details class=\"dni-treeview\"><summary><span class=\"dni-code-hint\"><code>(7/10/2023 12:00:00 AM, Microsoft.FSharp.Collections.IEnumerator+mkSeq@177[System.Decimal])</code></span></summary><div><table><thead><tr></tr></thead><tbody><tr><td>Item1</td><td><span>2023-07-10 00:00:00Z</span></td></tr><tr><td>Item2</td><td><details class=\"dni-treeview\"><summary><span class=\"dni-code-hint\"><code>[ 339.7806226250, 346.1118680000 ]</code></span></summary><div><table><thead><tr></tr></thead><tbody><tr><td>f</td><td><details class=\"dni-treeview\"><summary><span class=\"dni-code-hint\"><code>Microsoft.FSharp.Collections.SeqModule+revamp@728[System.Tuple`2[System.Decimal,System.Decimal],System.Decimal]</code></span></summary><div><table><thead><tr></tr></thead><tbody><tr><td>f</td><td>Microsoft.FSharp.Collections.SeqModule+Map@748-1[System.Tuple`2[System.Decimal,System.Decimal],System.Decimal]</td></tr><tr><td>ie</td><td>[ (344.309998, 335.251247250), (351.429993, 340.793743000) ]</td></tr></tbody></table></div></details></td></tr><tr><td><i>(values)</i></td><td><div class=\"dni-plaintext\"><pre>[ 339.7806226250, 346.1118680000 ]</pre></div></td></tr></tbody></table></div></details></td></tr></tbody></table></div></details></td></tr><tr><td>19</td><td><details class=\"dni-treeview\"><summary><span class=\"dni-code-hint\"><code>(7/17/2023 12:00:00 AM, Microsoft.FSharp.Collections.IEnumerator+mkSeq@177[System.Decimal])</code></span></summary><div><table><thead><tr></tr></thead><tbody><tr><td>Item1</td><td><span>2023-07-17 00:00:00Z</span></td></tr><tr><td>Item2</td><td><details class=\"dni-treeview\"><summary><span class=\"dni-code-hint\"><code>[ 343.0856190625, 354.5606174375 ]</code></span></summary><div><table><thead><tr></tr></thead><tbody><tr><td>f</td><td><details class=\"dni-treeview\"><summary><span class=\"dni-code-hint\"><code>Microsoft.FSharp.Collections.SeqModule+revamp@728[System.Tuple`2[System.Decimal,System.Decimal],System.Decimal]</code></span></summary><div><table><thead><tr></tr></thead><tbody><tr><td>f</td><td>Microsoft.FSharp.Collections.SeqModule+Map@748-1[System.Tuple`2[System.Decimal,System.Decimal],System.Decimal]</td></tr><tr><td>ie</td><td>[ (339.829987, 346.341251125), (350.299988, 358.821246875) ]</td></tr></tbody></table></div></details></td></tr><tr><td><i>(values)</i></td><td><div class=\"dni-plaintext\"><pre>[ 343.0856190625, 354.5606174375 ]</pre></div></td></tr></tbody></table></div></details></td></tr></tbody></table></div></details></td></tr><tr><td colspan=\"2\"><i>(33 more)</i></td></tr></tbody></table></td></tr></tbody></table></div></details></td></tr><tr><td><i>(values)</i></td><td><table><thead><tr><th><i>index</i></th><th>value</th></tr></thead><tbody><tr><td>0</td><td><details class=\"dni-treeview\"><summary><span class=\"dni-code-hint\"><code>(3/6/2023 12:00:00 AM, [249.8818779375; 255.4656199375])</code></span></summary><div><table><thead><tr></tr></thead><tbody><tr><td>Item1</td><td><span>2023-03-06 00:00:00Z</span></td></tr><tr><td>Item2</td><td><details class=\"dni-treeview\"><summary><span class=\"dni-code-hint\"><code>[ 249.8818779375, 255.4656199375 ]</code></span></summary><div><table><thead><tr></tr></thead><tbody><tr><td>HeadOrDefault</td><td><div class=\"dni-plaintext\"><pre>249.8818779375</pre></div></td></tr><tr><td>TailOrNull</td><td><details class=\"dni-treeview\"><summary><span class=\"dni-code-hint\"><code>[ 255.4656199375 ]</code></span></summary><div><table><thead><tr></tr></thead><tbody><tr><td>HeadOrDefault</td><td><div class=\"dni-plaintext\"><pre>255.4656199375</pre></div></td></tr><tr><td>TailOrNull</td><td><details class=\"dni-treeview\"><summary><span class=\"dni-code-hint\"><code>[  ]</code></span></summary><div><table><thead><tr></tr></thead><tbody><tr><td>HeadOrDefault</td><td><div class=\"dni-plaintext\"><pre>0</pre></div></td></tr><tr><td>TailOrNull</td><td><div class=\"dni-plaintext\"><pre>&lt;null&gt;</pre></div></td></tr><tr><td>Head</td><td><details class=\"dni-treeview\"><summary><span class=\"dni-code-hint\"><code>System.InvalidOperationException: The input list was empty.\\r\\n   at Microsoft.FSharp.Collections.FSharpList`1.get_Head() in D:\\a\\_work\\1\\s\\src\\FSharp.Core\\prim-types.fs:line 4141\\r\\n   at lambda_method776(Closure, FSharpList`1)\\r\\n   at Microsoft.DotNet.Interactive.Formatting.MemberAccessor`1.GetVa...</code></span></summary><div><table><thead><tr></tr></thead><tbody><tr><td>TargetSite</td><td>T get_Head()</td></tr><tr><td>Message</td><td>The input list was empty.</td></tr><tr><td>Data</td><td>[  ]</td></tr><tr><td>InnerException</td><td><div class=\"dni-plaintext\"><pre>&lt;null&gt;</pre></div></td></tr><tr><td>HelpLink</td><td><div class=\"dni-plaintext\"><pre>&lt;null&gt;</pre></div></td></tr><tr><td>Source</td><td>FSharp.Core</td></tr><tr><td>HResult</td><td>-2146233079</td></tr><tr><td>StackTrace</td><td>   at Microsoft.FSharp.Collections.FSharpList`1.get_Head() in D:\\a\\_work\\1\\s\\src\\FSharp.Core\\prim-types.fs:line 4141\r\n",
       "   at lambda_method776(Closure, FSharpList`1)\r\n",
       "   at Microsoft.DotNet.Interactive.Formatting.MemberAccessor`1.GetValueOrException(T instance) in D:\\a\\_work\\1\\s\\src\\Microsoft.DotNet.Interactive.Formatting\\MemberAccessor{T}.cs:line 58</td></tr></tbody></table></div></details></td></tr><tr><td>Tail</td><td><details class=\"dni-treeview\"><summary><span class=\"dni-code-hint\"><code>System.InvalidOperationException: The input list was empty.\\r\\n   at Microsoft.FSharp.Collections.FSharpList`1.get_Tail() in D:\\a\\_work\\1\\s\\src\\FSharp.Core\\prim-types.fs:line 4146\\r\\n   at lambda_method777(Closure, FSharpList`1)\\r\\n   at Microsoft.DotNet.Interactive.Formatting.MemberAccessor`1.GetVa...</code></span></summary><div><table><thead><tr></tr></thead><tbody><tr><td>TargetSite</td><td>Microsoft.FSharp.Collections.FSharpList`1[T] get_Tail()</td></tr><tr><td>Message</td><td>The input list was empty.</td></tr><tr><td>Data</td><td>[  ]</td></tr><tr><td>InnerException</td><td><div class=\"dni-plaintext\"><pre>&lt;null&gt;</pre></div></td></tr><tr><td>HelpLink</td><td><div class=\"dni-plaintext\"><pre>&lt;null&gt;</pre></div></td></tr><tr><td>Source</td><td>FSharp.Core</td></tr><tr><td>HResult</td><td>-2146233079</td></tr><tr><td>StackTrace</td><td>   at Microsoft.FSharp.Collections.FSharpList`1.get_Tail() in D:\\a\\_work\\1\\s\\src\\FSharp.Core\\prim-types.fs:line 4146\r\n",
       "   at lambda_method777(Closure, FSharpList`1)\r\n",
       "   at Microsoft.DotNet.Interactive.Formatting.MemberAccessor`1.GetValueOrException(T instance) in D:\\a\\_work\\1\\s\\src\\Microsoft.DotNet.Interactive.Formatting\\MemberAccessor{T}.cs:line 58</td></tr></tbody></table></div></details></td></tr><tr><td><i>(values)</i></td><td><div class=\"dni-plaintext\"><pre>[  ]</pre></div></td></tr></tbody></table></div></details></td></tr><tr><td>Head</td><td><div class=\"dni-plaintext\"><pre>255.4656199375</pre></div></td></tr><tr><td>Tail</td><td><details class=\"dni-treeview\"><summary><span class=\"dni-code-hint\"><code>[  ]</code></span></summary><div><table><thead><tr></tr></thead><tbody><tr><td>HeadOrDefault</td><td><div class=\"dni-plaintext\"><pre>0</pre></div></td></tr><tr><td>TailOrNull</td><td><div class=\"dni-plaintext\"><pre>&lt;null&gt;</pre></div></td></tr><tr><td>Head</td><td><details class=\"dni-treeview\"><summary><span class=\"dni-code-hint\"><code>System.InvalidOperationException: The input list was empty.\\r\\n   at Microsoft.FSharp.Collections.FSharpList`1.get_Head() in D:\\a\\_work\\1\\s\\src\\FSharp.Core\\prim-types.fs:line 4141\\r\\n   at lambda_method776(Closure, FSharpList`1)\\r\\n   at Microsoft.DotNet.Interactive.Formatting.MemberAccessor`1.GetVa...</code></span></summary><div><table><thead><tr></tr></thead><tbody><tr><td>TargetSite</td><td>T get_Head()</td></tr><tr><td>Message</td><td>The input list was empty.</td></tr><tr><td>Data</td><td>[  ]</td></tr><tr><td>InnerException</td><td><div class=\"dni-plaintext\"><pre>&lt;null&gt;</pre></div></td></tr><tr><td>HelpLink</td><td><div class=\"dni-plaintext\"><pre>&lt;null&gt;</pre></div></td></tr><tr><td>Source</td><td>FSharp.Core</td></tr><tr><td>HResult</td><td>-2146233079</td></tr><tr><td>StackTrace</td><td>   at Microsoft.FSharp.Collections.FSharpList`1.get_Head() in D:\\a\\_work\\1\\s\\src\\FSharp.Core\\prim-types.fs:line 4141\r\n",
       "   at lambda_method776(Closure, FSharpList`1)\r\n",
       "   at Microsoft.DotNet.Interactive.Formatting.MemberAccessor`1.GetValueOrException(T instance) in D:\\a\\_work\\1\\s\\src\\Microsoft.DotNet.Interactive.Formatting\\MemberAccessor{T}.cs:line 58</td></tr></tbody></table></div></details></td></tr><tr><td>Tail</td><td><details class=\"dni-treeview\"><summary><span class=\"dni-code-hint\"><code>System.InvalidOperationException: The input list was empty.\\r\\n   at Microsoft.FSharp.Collections.FSharpList`1.get_Tail() in D:\\a\\_work\\1\\s\\src\\FSharp.Core\\prim-types.fs:line 4146\\r\\n   at lambda_method777(Closure, FSharpList`1)\\r\\n   at Microsoft.DotNet.Interactive.Formatting.MemberAccessor`1.GetVa...</code></span></summary><div><table><thead><tr></tr></thead><tbody><tr><td>TargetSite</td><td>Microsoft.FSharp.Collections.FSharpList`1[T] get_Tail()</td></tr><tr><td>Message</td><td>The input list was empty.</td></tr><tr><td>Data</td><td>[  ]</td></tr><tr><td>InnerException</td><td><div class=\"dni-plaintext\"><pre>&lt;null&gt;</pre></div></td></tr><tr><td>HelpLink</td><td><div class=\"dni-plaintext\"><pre>&lt;null&gt;</pre></div></td></tr><tr><td>Source</td><td>FSharp.Core</td></tr><tr><td>HResult</td><td>-2146233079</td></tr><tr><td>StackTrace</td><td>   at Microsoft.FSharp.Collections.FSharpList`1.get_Tail() in D:\\a\\_work\\1\\s\\src\\FSharp.Core\\prim-types.fs:line 4146\r\n",
       "   at lambda_method777(Closure, FSharpList`1)\r\n",
       "   at Microsoft.DotNet.Interactive.Formatting.MemberAccessor`1.GetValueOrException(T instance) in D:\\a\\_work\\1\\s\\src\\Microsoft.DotNet.Interactive.Formatting\\MemberAccessor{T}.cs:line 58</td></tr></tbody></table></div></details></td></tr><tr><td><i>(values)</i></td><td><div class=\"dni-plaintext\"><pre>[  ]</pre></div></td></tr></tbody></table></div></details></td></tr><tr><td><i>(values)</i></td><td><div class=\"dni-plaintext\"><pre>[ 255.4656199375 ]</pre></div></td></tr></tbody></table></div></details></td></tr><tr><td>Head</td><td><div class=\"dni-plaintext\"><pre>249.8818779375</pre></div></td></tr><tr><td>Tail</td><td><details class=\"dni-treeview\"><summary><span class=\"dni-code-hint\"><code>[ 255.4656199375 ]</code></span></summary><div><table><thead><tr></tr></thead><tbody><tr><td>HeadOrDefault</td><td><div class=\"dni-plaintext\"><pre>255.4656199375</pre></div></td></tr><tr><td>TailOrNull</td><td><details class=\"dni-treeview\"><summary><span class=\"dni-code-hint\"><code>[  ]</code></span></summary><div><table><thead><tr></tr></thead><tbody><tr><td>HeadOrDefault</td><td><div class=\"dni-plaintext\"><pre>0</pre></div></td></tr><tr><td>TailOrNull</td><td><div class=\"dni-plaintext\"><pre>&lt;null&gt;</pre></div></td></tr><tr><td>Head</td><td><details class=\"dni-treeview\"><summary><span class=\"dni-code-hint\"><code>System.InvalidOperationException: The input list was empty.\\r\\n   at Microsoft.FSharp.Collections.FSharpList`1.get_Head() in D:\\a\\_work\\1\\s\\src\\FSharp.Core\\prim-types.fs:line 4141\\r\\n   at lambda_method776(Closure, FSharpList`1)\\r\\n   at Microsoft.DotNet.Interactive.Formatting.MemberAccessor`1.GetVa...</code></span></summary><div><table><thead><tr></tr></thead><tbody><tr><td>TargetSite</td><td>T get_Head()</td></tr><tr><td>Message</td><td>The input list was empty.</td></tr><tr><td>Data</td><td>[  ]</td></tr><tr><td>InnerException</td><td><div class=\"dni-plaintext\"><pre>&lt;null&gt;</pre></div></td></tr><tr><td>HelpLink</td><td><div class=\"dni-plaintext\"><pre>&lt;null&gt;</pre></div></td></tr><tr><td>Source</td><td>FSharp.Core</td></tr><tr><td>HResult</td><td>-2146233079</td></tr><tr><td>StackTrace</td><td>   at Microsoft.FSharp.Collections.FSharpList`1.get_Head() in D:\\a\\_work\\1\\s\\src\\FSharp.Core\\prim-types.fs:line 4141\r\n",
       "   at lambda_method776(Closure, FSharpList`1)\r\n",
       "   at Microsoft.DotNet.Interactive.Formatting.MemberAccessor`1.GetValueOrException(T instance) in D:\\a\\_work\\1\\s\\src\\Microsoft.DotNet.Interactive.Formatting\\MemberAccessor{T}.cs:line 58</td></tr></tbody></table></div></details></td></tr><tr><td>Tail</td><td><details class=\"dni-treeview\"><summary><span class=\"dni-code-hint\"><code>System.InvalidOperationException: The input list was empty.\\r\\n   at Microsoft.FSharp.Collections.FSharpList`1.get_Tail() in D:\\a\\_work\\1\\s\\src\\FSharp.Core\\prim-types.fs:line 4146\\r\\n   at lambda_method777(Closure, FSharpList`1)\\r\\n   at Microsoft.DotNet.Interactive.Formatting.MemberAccessor`1.GetVa...</code></span></summary><div><table><thead><tr></tr></thead><tbody><tr><td>TargetSite</td><td>Microsoft.FSharp.Collections.FSharpList`1[T] get_Tail()</td></tr><tr><td>Message</td><td>The input list was empty.</td></tr><tr><td>Data</td><td>[  ]</td></tr><tr><td>InnerException</td><td><div class=\"dni-plaintext\"><pre>&lt;null&gt;</pre></div></td></tr><tr><td>HelpLink</td><td><div class=\"dni-plaintext\"><pre>&lt;null&gt;</pre></div></td></tr><tr><td>Source</td><td>FSharp.Core</td></tr><tr><td>HResult</td><td>-2146233079</td></tr><tr><td>StackTrace</td><td>   at Microsoft.FSharp.Collections.FSharpList`1.get_Tail() in D:\\a\\_work\\1\\s\\src\\FSharp.Core\\prim-types.fs:line 4146\r\n",
       "   at lambda_method777(Closure, FSharpList`1)\r\n",
       "   at Microsoft.DotNet.Interactive.Formatting.MemberAccessor`1.GetValueOrException(T instance) in D:\\a\\_work\\1\\s\\src\\Microsoft.DotNet.Interactive.Formatting\\MemberAccessor{T}.cs:line 58</td></tr></tbody></table></div></details></td></tr><tr><td><i>(values)</i></td><td><div class=\"dni-plaintext\"><pre>[  ]</pre></div></td></tr></tbody></table></div></details></td></tr><tr><td>Head</td><td><div class=\"dni-plaintext\"><pre>255.4656199375</pre></div></td></tr><tr><td>Tail</td><td><details class=\"dni-treeview\"><summary><span class=\"dni-code-hint\"><code>[  ]</code></span></summary><div><table><thead><tr></tr></thead><tbody><tr><td>HeadOrDefault</td><td><div class=\"dni-plaintext\"><pre>0</pre></div></td></tr><tr><td>TailOrNull</td><td><div class=\"dni-plaintext\"><pre>&lt;null&gt;</pre></div></td></tr><tr><td>Head</td><td><details class=\"dni-treeview\"><summary><span class=\"dni-code-hint\"><code>System.InvalidOperationException: The input list was empty.\\r\\n   at Microsoft.FSharp.Collections.FSharpList`1.get_Head() in D:\\a\\_work\\1\\s\\src\\FSharp.Core\\prim-types.fs:line 4141\\r\\n   at lambda_method776(Closure, FSharpList`1)\\r\\n   at Microsoft.DotNet.Interactive.Formatting.MemberAccessor`1.GetVa...</code></span></summary><div><table><thead><tr></tr></thead><tbody><tr><td>TargetSite</td><td>T get_Head()</td></tr><tr><td>Message</td><td>The input list was empty.</td></tr><tr><td>Data</td><td>[  ]</td></tr><tr><td>InnerException</td><td><div class=\"dni-plaintext\"><pre>&lt;null&gt;</pre></div></td></tr><tr><td>HelpLink</td><td><div class=\"dni-plaintext\"><pre>&lt;null&gt;</pre></div></td></tr><tr><td>Source</td><td>FSharp.Core</td></tr><tr><td>HResult</td><td>-2146233079</td></tr><tr><td>StackTrace</td><td>   at Microsoft.FSharp.Collections.FSharpList`1.get_Head() in D:\\a\\_work\\1\\s\\src\\FSharp.Core\\prim-types.fs:line 4141\r\n",
       "   at lambda_method776(Closure, FSharpList`1)\r\n",
       "   at Microsoft.DotNet.Interactive.Formatting.MemberAccessor`1.GetValueOrException(T instance) in D:\\a\\_work\\1\\s\\src\\Microsoft.DotNet.Interactive.Formatting\\MemberAccessor{T}.cs:line 58</td></tr></tbody></table></div></details></td></tr><tr><td>Tail</td><td><details class=\"dni-treeview\"><summary><span class=\"dni-code-hint\"><code>System.InvalidOperationException: The input list was empty.\\r\\n   at Microsoft.FSharp.Collections.FSharpList`1.get_Tail() in D:\\a\\_work\\1\\s\\src\\FSharp.Core\\prim-types.fs:line 4146\\r\\n   at lambda_method777(Closure, FSharpList`1)\\r\\n   at Microsoft.DotNet.Interactive.Formatting.MemberAccessor`1.GetVa...</code></span></summary><div><table><thead><tr></tr></thead><tbody><tr><td>TargetSite</td><td>Microsoft.FSharp.Collections.FSharpList`1[T] get_Tail()</td></tr><tr><td>Message</td><td>The input list was empty.</td></tr><tr><td>Data</td><td>[  ]</td></tr><tr><td>InnerException</td><td><div class=\"dni-plaintext\"><pre>&lt;null&gt;</pre></div></td></tr><tr><td>HelpLink</td><td><div class=\"dni-plaintext\"><pre>&lt;null&gt;</pre></div></td></tr><tr><td>Source</td><td>FSharp.Core</td></tr><tr><td>HResult</td><td>-2146233079</td></tr><tr><td>StackTrace</td><td>   at Microsoft.FSharp.Collections.FSharpList`1.get_Tail() in D:\\a\\_work\\1\\s\\src\\FSharp.Core\\prim-types.fs:line 4146\r\n",
       "   at lambda_method777(Closure, FSharpList`1)\r\n",
       "   at Microsoft.DotNet.Interactive.Formatting.MemberAccessor`1.GetValueOrException(T instance) in D:\\a\\_work\\1\\s\\src\\Microsoft.DotNet.Interactive.Formatting\\MemberAccessor{T}.cs:line 58</td></tr></tbody></table></div></details></td></tr><tr><td><i>(values)</i></td><td><div class=\"dni-plaintext\"><pre>[  ]</pre></div></td></tr></tbody></table></div></details></td></tr><tr><td><i>(values)</i></td><td><div class=\"dni-plaintext\"><pre>[ 255.4656199375 ]</pre></div></td></tr></tbody></table></div></details></td></tr><tr><td><i>(values)</i></td><td><div class=\"dni-plaintext\"><pre>[ 249.8818779375, 255.4656199375 ]</pre></div></td></tr></tbody></table></div></details></td></tr></tbody></table></div></details></td></tr><tr><td>1</td><td><details class=\"dni-treeview\"><summary><span class=\"dni-code-hint\"><code>(3/13/2023 12:00:00 AM, [267.7306269375; 276.5512450625])</code></span></summary><div><table><thead><tr></tr></thead><tbody><tr><td>Item1</td><td><span>2023-03-13 00:00:00Z</span></td></tr><tr><td>Item2</td><td><details class=\"dni-treeview\"><summary><span class=\"dni-code-hint\"><code>[ 267.7306269375, 276.5512450625 ]</code></span></summary><div><table><thead><tr></tr></thead><tbody><tr><td>HeadOrDefault</td><td><div class=\"dni-plaintext\"><pre>267.7306269375</pre></div></td></tr><tr><td>TailOrNull</td><td><details class=\"dni-treeview\"><summary><span class=\"dni-code-hint\"><code>[ 276.5512450625 ]</code></span></summary><div><table><thead><tr></tr></thead><tbody><tr><td>HeadOrDefault</td><td><div class=\"dni-plaintext\"><pre>276.5512450625</pre></div></td></tr><tr><td>TailOrNull</td><td><details class=\"dni-treeview\"><summary><span class=\"dni-code-hint\"><code>[  ]</code></span></summary><div><table><thead><tr></tr></thead><tbody><tr><td>HeadOrDefault</td><td><div class=\"dni-plaintext\"><pre>0</pre></div></td></tr><tr><td>TailOrNull</td><td><div class=\"dni-plaintext\"><pre>&lt;null&gt;</pre></div></td></tr><tr><td>Head</td><td><details class=\"dni-treeview\"><summary><span class=\"dni-code-hint\"><code>System.InvalidOperationException: The input list was empty.\\r\\n   at Microsoft.FSharp.Collections.FSharpList`1.get_Head() in D:\\a\\_work\\1\\s\\src\\FSharp.Core\\prim-types.fs:line 4141\\r\\n   at lambda_method776(Closure, FSharpList`1)\\r\\n   at Microsoft.DotNet.Interactive.Formatting.MemberAccessor`1.GetVa...</code></span></summary><div><table><thead><tr></tr></thead><tbody><tr><td>TargetSite</td><td>T get_Head()</td></tr><tr><td>Message</td><td>The input list was empty.</td></tr><tr><td>Data</td><td>[  ]</td></tr><tr><td>InnerException</td><td><div class=\"dni-plaintext\"><pre>&lt;null&gt;</pre></div></td></tr><tr><td>HelpLink</td><td><div class=\"dni-plaintext\"><pre>&lt;null&gt;</pre></div></td></tr><tr><td>Source</td><td>FSharp.Core</td></tr><tr><td>HResult</td><td>-2146233079</td></tr><tr><td>StackTrace</td><td>   at Microsoft.FSharp.Collections.FSharpList`1.get_Head() in D:\\a\\_work\\1\\s\\src\\FSharp.Core\\prim-types.fs:line 4141\r\n",
       "   at lambda_method776(Closure, FSharpList`1)\r\n",
       "   at Microsoft.DotNet.Interactive.Formatting.MemberAccessor`1.GetValueOrException(T instance) in D:\\a\\_work\\1\\s\\src\\Microsoft.DotNet.Interactive.Formatting\\MemberAccessor{T}.cs:line 58</td></tr></tbody></table></div></details></td></tr><tr><td>Tail</td><td><details class=\"dni-treeview\"><summary><span class=\"dni-code-hint\"><code>System.InvalidOperationException: The input list was empty.\\r\\n   at Microsoft.FSharp.Collections.FSharpList`1.get_Tail() in D:\\a\\_work\\1\\s\\src\\FSharp.Core\\prim-types.fs:line 4146\\r\\n   at lambda_method777(Closure, FSharpList`1)\\r\\n   at Microsoft.DotNet.Interactive.Formatting.MemberAccessor`1.GetVa...</code></span></summary><div><table><thead><tr></tr></thead><tbody><tr><td>TargetSite</td><td>Microsoft.FSharp.Collections.FSharpList`1[T] get_Tail()</td></tr><tr><td>Message</td><td>The input list was empty.</td></tr><tr><td>Data</td><td>[  ]</td></tr><tr><td>InnerException</td><td><div class=\"dni-plaintext\"><pre>&lt;null&gt;</pre></div></td></tr><tr><td>HelpLink</td><td><div class=\"dni-plaintext\"><pre>&lt;null&gt;</pre></div></td></tr><tr><td>Source</td><td>FSharp.Core</td></tr><tr><td>HResult</td><td>-2146233079</td></tr><tr><td>StackTrace</td><td>   at Microsoft.FSharp.Collections.FSharpList`1.get_Tail() in D:\\a\\_work\\1\\s\\src\\FSharp.Core\\prim-types.fs:line 4146\r\n",
       "   at lambda_method777(Closure, FSharpList`1)\r\n",
       "   at Microsoft.DotNet.Interactive.Formatting.MemberAccessor`1.GetValueOrException(T instance) in D:\\a\\_work\\1\\s\\src\\Microsoft.DotNet.Interactive.Formatting\\MemberAccessor{T}.cs:line 58</td></tr></tbody></table></div></details></td></tr><tr><td><i>(values)</i></td><td><div class=\"dni-plaintext\"><pre>[  ]</pre></div></td></tr></tbody></table></div></details></td></tr><tr><td>Head</td><td><div class=\"dni-plaintext\"><pre>276.5512450625</pre></div></td></tr><tr><td>Tail</td><td><details class=\"dni-treeview\"><summary><span class=\"dni-code-hint\"><code>[  ]</code></span></summary><div><table><thead><tr></tr></thead><tbody><tr><td>HeadOrDefault</td><td><div class=\"dni-plaintext\"><pre>0</pre></div></td></tr><tr><td>TailOrNull</td><td><div class=\"dni-plaintext\"><pre>&lt;null&gt;</pre></div></td></tr><tr><td>Head</td><td><details class=\"dni-treeview\"><summary><span class=\"dni-code-hint\"><code>System.InvalidOperationException: The input list was empty.\\r\\n   at Microsoft.FSharp.Collections.FSharpList`1.get_Head() in D:\\a\\_work\\1\\s\\src\\FSharp.Core\\prim-types.fs:line 4141\\r\\n   at lambda_method776(Closure, FSharpList`1)\\r\\n   at Microsoft.DotNet.Interactive.Formatting.MemberAccessor`1.GetVa...</code></span></summary><div><table><thead><tr></tr></thead><tbody><tr><td>TargetSite</td><td>T get_Head()</td></tr><tr><td>Message</td><td>The input list was empty.</td></tr><tr><td>Data</td><td>[  ]</td></tr><tr><td>InnerException</td><td><div class=\"dni-plaintext\"><pre>&lt;null&gt;</pre></div></td></tr><tr><td>HelpLink</td><td><div class=\"dni-plaintext\"><pre>&lt;null&gt;</pre></div></td></tr><tr><td>Source</td><td>FSharp.Core</td></tr><tr><td>HResult</td><td>-2146233079</td></tr><tr><td>StackTrace</td><td>   at Microsoft.FSharp.Collections.FSharpList`1.get_Head() in D:\\a\\_work\\1\\s\\src\\FSharp.Core\\prim-types.fs:line 4141\r\n",
       "   at lambda_method776(Closure, FSharpList`1)\r\n",
       "   at Microsoft.DotNet.Interactive.Formatting.MemberAccessor`1.GetValueOrException(T instance) in D:\\a\\_work\\1\\s\\src\\Microsoft.DotNet.Interactive.Formatting\\MemberAccessor{T}.cs:line 58</td></tr></tbody></table></div></details></td></tr><tr><td>Tail</td><td><details class=\"dni-treeview\"><summary><span class=\"dni-code-hint\"><code>System.InvalidOperationException: The input list was empty.\\r\\n   at Microsoft.FSharp.Collections.FSharpList`1.get_Tail() in D:\\a\\_work\\1\\s\\src\\FSharp.Core\\prim-types.fs:line 4146\\r\\n   at lambda_method777(Closure, FSharpList`1)\\r\\n   at Microsoft.DotNet.Interactive.Formatting.MemberAccessor`1.GetVa...</code></span></summary><div><table><thead><tr></tr></thead><tbody><tr><td>TargetSite</td><td>Microsoft.FSharp.Collections.FSharpList`1[T] get_Tail()</td></tr><tr><td>Message</td><td>The input list was empty.</td></tr><tr><td>Data</td><td>[  ]</td></tr><tr><td>InnerException</td><td><div class=\"dni-plaintext\"><pre>&lt;null&gt;</pre></div></td></tr><tr><td>HelpLink</td><td><div class=\"dni-plaintext\"><pre>&lt;null&gt;</pre></div></td></tr><tr><td>Source</td><td>FSharp.Core</td></tr><tr><td>HResult</td><td>-2146233079</td></tr><tr><td>StackTrace</td><td>   at Microsoft.FSharp.Collections.FSharpList`1.get_Tail() in D:\\a\\_work\\1\\s\\src\\FSharp.Core\\prim-types.fs:line 4146\r\n",
       "   at lambda_method777(Closure, FSharpList`1)\r\n",
       "   at Microsoft.DotNet.Interactive.Formatting.MemberAccessor`1.GetValueOrException(T instance) in D:\\a\\_work\\1\\s\\src\\Microsoft.DotNet.Interactive.Formatting\\MemberAccessor{T}.cs:line 58</td></tr></tbody></table></div></details></td></tr><tr><td><i>(values)</i></td><td><div class=\"dni-plaintext\"><pre>[  ]</pre></div></td></tr></tbody></table></div></details></td></tr><tr><td><i>(values)</i></td><td><div class=\"dni-plaintext\"><pre>[ 276.5512450625 ]</pre></div></td></tr></tbody></table></div></details></td></tr><tr><td>Head</td><td><div class=\"dni-plaintext\"><pre>267.7306269375</pre></div></td></tr><tr><td>Tail</td><td><details class=\"dni-treeview\"><summary><span class=\"dni-code-hint\"><code>[ 276.5512450625 ]</code></span></summary><div><table><thead><tr></tr></thead><tbody><tr><td>HeadOrDefault</td><td><div class=\"dni-plaintext\"><pre>276.5512450625</pre></div></td></tr><tr><td>TailOrNull</td><td><details class=\"dni-treeview\"><summary><span class=\"dni-code-hint\"><code>[  ]</code></span></summary><div><table><thead><tr></tr></thead><tbody><tr><td>HeadOrDefault</td><td><div class=\"dni-plaintext\"><pre>0</pre></div></td></tr><tr><td>TailOrNull</td><td><div class=\"dni-plaintext\"><pre>&lt;null&gt;</pre></div></td></tr><tr><td>Head</td><td><details class=\"dni-treeview\"><summary><span class=\"dni-code-hint\"><code>System.InvalidOperationException: The input list was empty.\\r\\n   at Microsoft.FSharp.Collections.FSharpList`1.get_Head() in D:\\a\\_work\\1\\s\\src\\FSharp.Core\\prim-types.fs:line 4141\\r\\n   at lambda_method776(Closure, FSharpList`1)\\r\\n   at Microsoft.DotNet.Interactive.Formatting.MemberAccessor`1.GetVa...</code></span></summary><div><table><thead><tr></tr></thead><tbody><tr><td>TargetSite</td><td>T get_Head()</td></tr><tr><td>Message</td><td>The input list was empty.</td></tr><tr><td>Data</td><td>[  ]</td></tr><tr><td>InnerException</td><td><div class=\"dni-plaintext\"><pre>&lt;null&gt;</pre></div></td></tr><tr><td>HelpLink</td><td><div class=\"dni-plaintext\"><pre>&lt;null&gt;</pre></div></td></tr><tr><td>Source</td><td>FSharp.Core</td></tr><tr><td>HResult</td><td>-2146233079</td></tr><tr><td>StackTrace</td><td>   at Microsoft.FSharp.Collections.FSharpList`1.get_Head() in D:\\a\\_work\\1\\s\\src\\FSharp.Core\\prim-types.fs:line 4141\r\n",
       "   at lambda_method776(Closure, FSharpList`1)\r\n",
       "   at Microsoft.DotNet.Interactive.Formatting.MemberAccessor`1.GetValueOrException(T instance) in D:\\a\\_work\\1\\s\\src\\Microsoft.DotNet.Interactive.Formatting\\MemberAccessor{T}.cs:line 58</td></tr></tbody></table></div></details></td></tr><tr><td>Tail</td><td><details class=\"dni-treeview\"><summary><span class=\"dni-code-hint\"><code>System.InvalidOperationException: The input list was empty.\\r\\n   at Microsoft.FSharp.Collections.FSharpList`1.get_Tail() in D:\\a\\_work\\1\\s\\src\\FSharp.Core\\prim-types.fs:line 4146\\r\\n   at lambda_method777(Closure, FSharpList`1)\\r\\n   at Microsoft.DotNet.Interactive.Formatting.MemberAccessor`1.GetVa...</code></span></summary><div><table><thead><tr></tr></thead><tbody><tr><td>TargetSite</td><td>Microsoft.FSharp.Collections.FSharpList`1[T] get_Tail()</td></tr><tr><td>Message</td><td>The input list was empty.</td></tr><tr><td>Data</td><td>[  ]</td></tr><tr><td>InnerException</td><td><div class=\"dni-plaintext\"><pre>&lt;null&gt;</pre></div></td></tr><tr><td>HelpLink</td><td><div class=\"dni-plaintext\"><pre>&lt;null&gt;</pre></div></td></tr><tr><td>Source</td><td>FSharp.Core</td></tr><tr><td>HResult</td><td>-2146233079</td></tr><tr><td>StackTrace</td><td>   at Microsoft.FSharp.Collections.FSharpList`1.get_Tail() in D:\\a\\_work\\1\\s\\src\\FSharp.Core\\prim-types.fs:line 4146\r\n",
       "   at lambda_method777(Closure, FSharpList`1)\r\n",
       "   at Microsoft.DotNet.Interactive.Formatting.MemberAccessor`1.GetValueOrException(T instance) in D:\\a\\_work\\1\\s\\src\\Microsoft.DotNet.Interactive.Formatting\\MemberAccessor{T}.cs:line 58</td></tr></tbody></table></div></details></td></tr><tr><td><i>(values)</i></td><td><div class=\"dni-plaintext\"><pre>[  ]</pre></div></td></tr></tbody></table></div></details></td></tr><tr><td>Head</td><td><div class=\"dni-plaintext\"><pre>276.5512450625</pre></div></td></tr><tr><td>Tail</td><td><details class=\"dni-treeview\"><summary><span class=\"dni-code-hint\"><code>[  ]</code></span></summary><div><table><thead><tr></tr></thead><tbody><tr><td>HeadOrDefault</td><td><div class=\"dni-plaintext\"><pre>0</pre></div></td></tr><tr><td>TailOrNull</td><td><div class=\"dni-plaintext\"><pre>&lt;null&gt;</pre></div></td></tr><tr><td>Head</td><td><details class=\"dni-treeview\"><summary><span class=\"dni-code-hint\"><code>System.InvalidOperationException: The input list was empty.\\r\\n   at Microsoft.FSharp.Collections.FSharpList`1.get_Head() in D:\\a\\_work\\1\\s\\src\\FSharp.Core\\prim-types.fs:line 4141\\r\\n   at lambda_method776(Closure, FSharpList`1)\\r\\n   at Microsoft.DotNet.Interactive.Formatting.MemberAccessor`1.GetVa...</code></span></summary><div><table><thead><tr></tr></thead><tbody><tr><td>TargetSite</td><td>T get_Head()</td></tr><tr><td>Message</td><td>The input list was empty.</td></tr><tr><td>Data</td><td>[  ]</td></tr><tr><td>InnerException</td><td><div class=\"dni-plaintext\"><pre>&lt;null&gt;</pre></div></td></tr><tr><td>HelpLink</td><td><div class=\"dni-plaintext\"><pre>&lt;null&gt;</pre></div></td></tr><tr><td>Source</td><td>FSharp.Core</td></tr><tr><td>HResult</td><td>-2146233079</td></tr><tr><td>StackTrace</td><td>   at Microsoft.FSharp.Collections.FSharpList`1.get_Head() in D:\\a\\_work\\1\\s\\src\\FSharp.Core\\prim-types.fs:line 4141\r\n",
       "   at lambda_method776(Closure, FSharpList`1)\r\n",
       "   at Microsoft.DotNet.Interactive.Formatting.MemberAccessor`1.GetValueOrException(T instance) in D:\\a\\_work\\1\\s\\src\\Microsoft.DotNet.Interactive.Formatting\\MemberAccessor{T}.cs:line 58</td></tr></tbody></table></div></details></td></tr><tr><td>Tail</td><td><details class=\"dni-treeview\"><summary><span class=\"dni-code-hint\"><code>System.InvalidOperationException: The input list was empty.\\r\\n   at Microsoft.FSharp.Collections.FSharpList`1.get_Tail() in D:\\a\\_work\\1\\s\\src\\FSharp.Core\\prim-types.fs:line 4146\\r\\n   at lambda_method777(Closure, FSharpList`1)\\r\\n   at Microsoft.DotNet.Interactive.Formatting.MemberAccessor`1.GetVa...</code></span></summary><div><table><thead><tr></tr></thead><tbody><tr><td>TargetSite</td><td>Microsoft.FSharp.Collections.FSharpList`1[T] get_Tail()</td></tr><tr><td>Message</td><td>The input list was empty.</td></tr><tr><td>Data</td><td>[  ]</td></tr><tr><td>InnerException</td><td><div class=\"dni-plaintext\"><pre>&lt;null&gt;</pre></div></td></tr><tr><td>HelpLink</td><td><div class=\"dni-plaintext\"><pre>&lt;null&gt;</pre></div></td></tr><tr><td>Source</td><td>FSharp.Core</td></tr><tr><td>HResult</td><td>-2146233079</td></tr><tr><td>StackTrace</td><td>   at Microsoft.FSharp.Collections.FSharpList`1.get_Tail() in D:\\a\\_work\\1\\s\\src\\FSharp.Core\\prim-types.fs:line 4146\r\n",
       "   at lambda_method777(Closure, FSharpList`1)\r\n",
       "   at Microsoft.DotNet.Interactive.Formatting.MemberAccessor`1.GetValueOrException(T instance) in D:\\a\\_work\\1\\s\\src\\Microsoft.DotNet.Interactive.Formatting\\MemberAccessor{T}.cs:line 58</td></tr></tbody></table></div></details></td></tr><tr><td><i>(values)</i></td><td><div class=\"dni-plaintext\"><pre>[  ]</pre></div></td></tr></tbody></table></div></details></td></tr><tr><td><i>(values)</i></td><td><div class=\"dni-plaintext\"><pre>[ 276.5512450625 ]</pre></div></td></tr></tbody></table></div></details></td></tr><tr><td><i>(values)</i></td><td><div class=\"dni-plaintext\"><pre>[ 267.7306269375, 276.5512450625 ]</pre></div></td></tr></tbody></table></div></details></td></tr></tbody></table></div></details></td></tr><tr><td>2</td><td><details class=\"dni-treeview\"><summary><span class=\"dni-code-hint\"><code>(3/20/2023 12:00:00 AM, [274.1731263125; 280.2400038125])</code></span></summary><div><table><thead><tr></tr></thead><tbody><tr><td>Item1</td><td><span>2023-03-20 00:00:00Z</span></td></tr><tr><td>Item2</td><td><details class=\"dni-treeview\"><summary><span class=\"dni-code-hint\"><code>[ 274.1731263125, 280.2400038125 ]</code></span></summary><div><table><thead><tr></tr></thead><tbody><tr><td>HeadOrDefault</td><td><div class=\"dni-plaintext\"><pre>274.1731263125</pre></div></td></tr><tr><td>TailOrNull</td><td><details class=\"dni-treeview\"><summary><span class=\"dni-code-hint\"><code>[ 280.2400038125 ]</code></span></summary><div><table><thead><tr></tr></thead><tbody><tr><td>HeadOrDefault</td><td><div class=\"dni-plaintext\"><pre>280.2400038125</pre></div></td></tr><tr><td>TailOrNull</td><td><details class=\"dni-treeview\"><summary><span class=\"dni-code-hint\"><code>[  ]</code></span></summary><div><table><thead><tr></tr></thead><tbody><tr><td>HeadOrDefault</td><td><div class=\"dni-plaintext\"><pre>0</pre></div></td></tr><tr><td>TailOrNull</td><td><div class=\"dni-plaintext\"><pre>&lt;null&gt;</pre></div></td></tr><tr><td>Head</td><td><details class=\"dni-treeview\"><summary><span class=\"dni-code-hint\"><code>System.InvalidOperationException: The input list was empty.\\r\\n   at Microsoft.FSharp.Collections.FSharpList`1.get_Head() in D:\\a\\_work\\1\\s\\src\\FSharp.Core\\prim-types.fs:line 4141\\r\\n   at lambda_method776(Closure, FSharpList`1)\\r\\n   at Microsoft.DotNet.Interactive.Formatting.MemberAccessor`1.GetVa...</code></span></summary><div><table><thead><tr></tr></thead><tbody><tr><td>TargetSite</td><td>T get_Head()</td></tr><tr><td>Message</td><td>The input list was empty.</td></tr><tr><td>Data</td><td>[  ]</td></tr><tr><td>InnerException</td><td><div class=\"dni-plaintext\"><pre>&lt;null&gt;</pre></div></td></tr><tr><td>HelpLink</td><td><div class=\"dni-plaintext\"><pre>&lt;null&gt;</pre></div></td></tr><tr><td>Source</td><td>FSharp.Core</td></tr><tr><td>HResult</td><td>-2146233079</td></tr><tr><td>StackTrace</td><td>   at Microsoft.FSharp.Collections.FSharpList`1.get_Head() in D:\\a\\_work\\1\\s\\src\\FSharp.Core\\prim-types.fs:line 4141\r\n",
       "   at lambda_method776(Closure, FSharpList`1)\r\n",
       "   at Microsoft.DotNet.Interactive.Formatting.MemberAccessor`1.GetValueOrException(T instance) in D:\\a\\_work\\1\\s\\src\\Microsoft.DotNet.Interactive.Formatting\\MemberAccessor{T}.cs:line 58</td></tr></tbody></table></div></details></td></tr><tr><td>Tail</td><td><details class=\"dni-treeview\"><summary><span class=\"dni-code-hint\"><code>System.InvalidOperationException: The input list was empty.\\r\\n   at Microsoft.FSharp.Collections.FSharpList`1.get_Tail() in D:\\a\\_work\\1\\s\\src\\FSharp.Core\\prim-types.fs:line 4146\\r\\n   at lambda_method777(Closure, FSharpList`1)\\r\\n   at Microsoft.DotNet.Interactive.Formatting.MemberAccessor`1.GetVa...</code></span></summary><div><table><thead><tr></tr></thead><tbody><tr><td>TargetSite</td><td>Microsoft.FSharp.Collections.FSharpList`1[T] get_Tail()</td></tr><tr><td>Message</td><td>The input list was empty.</td></tr><tr><td>Data</td><td>[  ]</td></tr><tr><td>InnerException</td><td><div class=\"dni-plaintext\"><pre>&lt;null&gt;</pre></div></td></tr><tr><td>HelpLink</td><td><div class=\"dni-plaintext\"><pre>&lt;null&gt;</pre></div></td></tr><tr><td>Source</td><td>FSharp.Core</td></tr><tr><td>HResult</td><td>-2146233079</td></tr><tr><td>StackTrace</td><td>   at Microsoft.FSharp.Collections.FSharpList`1.get_Tail() in D:\\a\\_work\\1\\s\\src\\FSharp.Core\\prim-types.fs:line 4146\r\n",
       "   at lambda_method777(Closure, FSharpList`1)\r\n",
       "   at Microsoft.DotNet.Interactive.Formatting.MemberAccessor`1.GetValueOrException(T instance) in D:\\a\\_work\\1\\s\\src\\Microsoft.DotNet.Interactive.Formatting\\MemberAccessor{T}.cs:line 58</td></tr></tbody></table></div></details></td></tr><tr><td><i>(values)</i></td><td><div class=\"dni-plaintext\"><pre>[  ]</pre></div></td></tr></tbody></table></div></details></td></tr><tr><td>Head</td><td><div class=\"dni-plaintext\"><pre>280.2400038125</pre></div></td></tr><tr><td>Tail</td><td><details class=\"dni-treeview\"><summary><span class=\"dni-code-hint\"><code>[  ]</code></span></summary><div><table><thead><tr></tr></thead><tbody><tr><td>HeadOrDefault</td><td><div class=\"dni-plaintext\"><pre>0</pre></div></td></tr><tr><td>TailOrNull</td><td><div class=\"dni-plaintext\"><pre>&lt;null&gt;</pre></div></td></tr><tr><td>Head</td><td><details class=\"dni-treeview\"><summary><span class=\"dni-code-hint\"><code>System.InvalidOperationException: The input list was empty.\\r\\n   at Microsoft.FSharp.Collections.FSharpList`1.get_Head() in D:\\a\\_work\\1\\s\\src\\FSharp.Core\\prim-types.fs:line 4141\\r\\n   at lambda_method776(Closure, FSharpList`1)\\r\\n   at Microsoft.DotNet.Interactive.Formatting.MemberAccessor`1.GetVa...</code></span></summary><div><table><thead><tr></tr></thead><tbody><tr><td>TargetSite</td><td>T get_Head()</td></tr><tr><td>Message</td><td>The input list was empty.</td></tr><tr><td>Data</td><td>[  ]</td></tr><tr><td>InnerException</td><td><div class=\"dni-plaintext\"><pre>&lt;null&gt;</pre></div></td></tr><tr><td>HelpLink</td><td><div class=\"dni-plaintext\"><pre>&lt;null&gt;</pre></div></td></tr><tr><td>Source</td><td>FSharp.Core</td></tr><tr><td>HResult</td><td>-2146233079</td></tr><tr><td>StackTrace</td><td>   at Microsoft.FSharp.Collections.FSharpList`1.get_Head() in D:\\a\\_work\\1\\s\\src\\FSharp.Core\\prim-types.fs:line 4141\r\n",
       "   at lambda_method776(Closure, FSharpList`1)\r\n",
       "   at Microsoft.DotNet.Interactive.Formatting.MemberAccessor`1.GetValueOrException(T instance) in D:\\a\\_work\\1\\s\\src\\Microsoft.DotNet.Interactive.Formatting\\MemberAccessor{T}.cs:line 58</td></tr></tbody></table></div></details></td></tr><tr><td>Tail</td><td><details class=\"dni-treeview\"><summary><span class=\"dni-code-hint\"><code>System.InvalidOperationException: The input list was empty.\\r\\n   at Microsoft.FSharp.Collections.FSharpList`1.get_Tail() in D:\\a\\_work\\1\\s\\src\\FSharp.Core\\prim-types.fs:line 4146\\r\\n   at lambda_method777(Closure, FSharpList`1)\\r\\n   at Microsoft.DotNet.Interactive.Formatting.MemberAccessor`1.GetVa...</code></span></summary><div><table><thead><tr></tr></thead><tbody><tr><td>TargetSite</td><td>Microsoft.FSharp.Collections.FSharpList`1[T] get_Tail()</td></tr><tr><td>Message</td><td>The input list was empty.</td></tr><tr><td>Data</td><td>[  ]</td></tr><tr><td>InnerException</td><td><div class=\"dni-plaintext\"><pre>&lt;null&gt;</pre></div></td></tr><tr><td>HelpLink</td><td><div class=\"dni-plaintext\"><pre>&lt;null&gt;</pre></div></td></tr><tr><td>Source</td><td>FSharp.Core</td></tr><tr><td>HResult</td><td>-2146233079</td></tr><tr><td>StackTrace</td><td>   at Microsoft.FSharp.Collections.FSharpList`1.get_Tail() in D:\\a\\_work\\1\\s\\src\\FSharp.Core\\prim-types.fs:line 4146\r\n",
       "   at lambda_method777(Closure, FSharpList`1)\r\n",
       "   at Microsoft.DotNet.Interactive.Formatting.MemberAccessor`1.GetValueOrException(T instance) in D:\\a\\_work\\1\\s\\src\\Microsoft.DotNet.Interactive.Formatting\\MemberAccessor{T}.cs:line 58</td></tr></tbody></table></div></details></td></tr><tr><td><i>(values)</i></td><td><div class=\"dni-plaintext\"><pre>[  ]</pre></div></td></tr></tbody></table></div></details></td></tr><tr><td><i>(values)</i></td><td><div class=\"dni-plaintext\"><pre>[ 280.2400038125 ]</pre></div></td></tr></tbody></table></div></details></td></tr><tr><td>Head</td><td><div class=\"dni-plaintext\"><pre>274.1731263125</pre></div></td></tr><tr><td>Tail</td><td><details class=\"dni-treeview\"><summary><span class=\"dni-code-hint\"><code>[ 280.2400038125 ]</code></span></summary><div><table><thead><tr></tr></thead><tbody><tr><td>HeadOrDefault</td><td><div class=\"dni-plaintext\"><pre>280.2400038125</pre></div></td></tr><tr><td>TailOrNull</td><td><details class=\"dni-treeview\"><summary><span class=\"dni-code-hint\"><code>[  ]</code></span></summary><div><table><thead><tr></tr></thead><tbody><tr><td>HeadOrDefault</td><td><div class=\"dni-plaintext\"><pre>0</pre></div></td></tr><tr><td>TailOrNull</td><td><div class=\"dni-plaintext\"><pre>&lt;null&gt;</pre></div></td></tr><tr><td>Head</td><td><details class=\"dni-treeview\"><summary><span class=\"dni-code-hint\"><code>System.InvalidOperationException: The input list was empty.\\r\\n   at Microsoft.FSharp.Collections.FSharpList`1.get_Head() in D:\\a\\_work\\1\\s\\src\\FSharp.Core\\prim-types.fs:line 4141\\r\\n   at lambda_method776(Closure, FSharpList`1)\\r\\n   at Microsoft.DotNet.Interactive.Formatting.MemberAccessor`1.GetVa...</code></span></summary><div><table><thead><tr></tr></thead><tbody><tr><td>TargetSite</td><td>T get_Head()</td></tr><tr><td>Message</td><td>The input list was empty.</td></tr><tr><td>Data</td><td>[  ]</td></tr><tr><td>InnerException</td><td><div class=\"dni-plaintext\"><pre>&lt;null&gt;</pre></div></td></tr><tr><td>HelpLink</td><td><div class=\"dni-plaintext\"><pre>&lt;null&gt;</pre></div></td></tr><tr><td>Source</td><td>FSharp.Core</td></tr><tr><td>HResult</td><td>-2146233079</td></tr><tr><td>StackTrace</td><td>   at Microsoft.FSharp.Collections.FSharpList`1.get_Head() in D:\\a\\_work\\1\\s\\src\\FSharp.Core\\prim-types.fs:line 4141\r\n",
       "   at lambda_method776(Closure, FSharpList`1)\r\n",
       "   at Microsoft.DotNet.Interactive.Formatting.MemberAccessor`1.GetValueOrException(T instance) in D:\\a\\_work\\1\\s\\src\\Microsoft.DotNet.Interactive.Formatting\\MemberAccessor{T}.cs:line 58</td></tr></tbody></table></div></details></td></tr><tr><td>Tail</td><td><details class=\"dni-treeview\"><summary><span class=\"dni-code-hint\"><code>System.InvalidOperationException: The input list was empty.\\r\\n   at Microsoft.FSharp.Collections.FSharpList`1.get_Tail() in D:\\a\\_work\\1\\s\\src\\FSharp.Core\\prim-types.fs:line 4146\\r\\n   at lambda_method777(Closure, FSharpList`1)\\r\\n   at Microsoft.DotNet.Interactive.Formatting.MemberAccessor`1.GetVa...</code></span></summary><div><table><thead><tr></tr></thead><tbody><tr><td>TargetSite</td><td>Microsoft.FSharp.Collections.FSharpList`1[T] get_Tail()</td></tr><tr><td>Message</td><td>The input list was empty.</td></tr><tr><td>Data</td><td>[  ]</td></tr><tr><td>InnerException</td><td><div class=\"dni-plaintext\"><pre>&lt;null&gt;</pre></div></td></tr><tr><td>HelpLink</td><td><div class=\"dni-plaintext\"><pre>&lt;null&gt;</pre></div></td></tr><tr><td>Source</td><td>FSharp.Core</td></tr><tr><td>HResult</td><td>-2146233079</td></tr><tr><td>StackTrace</td><td>   at Microsoft.FSharp.Collections.FSharpList`1.get_Tail() in D:\\a\\_work\\1\\s\\src\\FSharp.Core\\prim-types.fs:line 4146\r\n",
       "   at lambda_method777(Closure, FSharpList`1)\r\n",
       "   at Microsoft.DotNet.Interactive.Formatting.MemberAccessor`1.GetValueOrException(T instance) in D:\\a\\_work\\1\\s\\src\\Microsoft.DotNet.Interactive.Formatting\\MemberAccessor{T}.cs:line 58</td></tr></tbody></table></div></details></td></tr><tr><td><i>(values)</i></td><td><div class=\"dni-plaintext\"><pre>[  ]</pre></div></td></tr></tbody></table></div></details></td></tr><tr><td>Head</td><td><div class=\"dni-plaintext\"><pre>280.2400038125</pre></div></td></tr><tr><td>Tail</td><td><details class=\"dni-treeview\"><summary><span class=\"dni-code-hint\"><code>[  ]</code></span></summary><div><table><thead><tr></tr></thead><tbody><tr><td>HeadOrDefault</td><td><div class=\"dni-plaintext\"><pre>0</pre></div></td></tr><tr><td>TailOrNull</td><td><div class=\"dni-plaintext\"><pre>&lt;null&gt;</pre></div></td></tr><tr><td>Head</td><td><details class=\"dni-treeview\"><summary><span class=\"dni-code-hint\"><code>System.InvalidOperationException: The input list was empty.\\r\\n   at Microsoft.FSharp.Collections.FSharpList`1.get_Head() in D:\\a\\_work\\1\\s\\src\\FSharp.Core\\prim-types.fs:line 4141\\r\\n   at lambda_method776(Closure, FSharpList`1)\\r\\n   at Microsoft.DotNet.Interactive.Formatting.MemberAccessor`1.GetVa...</code></span></summary><div><table><thead><tr></tr></thead><tbody><tr><td>TargetSite</td><td>T get_Head()</td></tr><tr><td>Message</td><td>The input list was empty.</td></tr><tr><td>Data</td><td>[  ]</td></tr><tr><td>InnerException</td><td><div class=\"dni-plaintext\"><pre>&lt;null&gt;</pre></div></td></tr><tr><td>HelpLink</td><td><div class=\"dni-plaintext\"><pre>&lt;null&gt;</pre></div></td></tr><tr><td>Source</td><td>FSharp.Core</td></tr><tr><td>HResult</td><td>-2146233079</td></tr><tr><td>StackTrace</td><td>   at Microsoft.FSharp.Collections.FSharpList`1.get_Head() in D:\\a\\_work\\1\\s\\src\\FSharp.Core\\prim-types.fs:line 4141\r\n",
       "   at lambda_method776(Closure, FSharpList`1)\r\n",
       "   at Microsoft.DotNet.Interactive.Formatting.MemberAccessor`1.GetValueOrException(T instance) in D:\\a\\_work\\1\\s\\src\\Microsoft.DotNet.Interactive.Formatting\\MemberAccessor{T}.cs:line 58</td></tr></tbody></table></div></details></td></tr><tr><td>Tail</td><td><details class=\"dni-treeview\"><summary><span class=\"dni-code-hint\"><code>System.InvalidOperationException: The input list was empty.\\r\\n   at Microsoft.FSharp.Collections.FSharpList`1.get_Tail() in D:\\a\\_work\\1\\s\\src\\FSharp.Core\\prim-types.fs:line 4146\\r\\n   at lambda_method777(Closure, FSharpList`1)\\r\\n   at Microsoft.DotNet.Interactive.Formatting.MemberAccessor`1.GetVa...</code></span></summary><div><table><thead><tr></tr></thead><tbody><tr><td>TargetSite</td><td>Microsoft.FSharp.Collections.FSharpList`1[T] get_Tail()</td></tr><tr><td>Message</td><td>The input list was empty.</td></tr><tr><td>Data</td><td>[  ]</td></tr><tr><td>InnerException</td><td><div class=\"dni-plaintext\"><pre>&lt;null&gt;</pre></div></td></tr><tr><td>HelpLink</td><td><div class=\"dni-plaintext\"><pre>&lt;null&gt;</pre></div></td></tr><tr><td>Source</td><td>FSharp.Core</td></tr><tr><td>HResult</td><td>-2146233079</td></tr><tr><td>StackTrace</td><td>   at Microsoft.FSharp.Collections.FSharpList`1.get_Tail() in D:\\a\\_work\\1\\s\\src\\FSharp.Core\\prim-types.fs:line 4146\r\n",
       "   at lambda_method777(Closure, FSharpList`1)\r\n",
       "   at Microsoft.DotNet.Interactive.Formatting.MemberAccessor`1.GetValueOrException(T instance) in D:\\a\\_work\\1\\s\\src\\Microsoft.DotNet.Interactive.Formatting\\MemberAccessor{T}.cs:line 58</td></tr></tbody></table></div></details></td></tr><tr><td><i>(values)</i></td><td><div class=\"dni-plaintext\"><pre>[  ]</pre></div></td></tr></tbody></table></div></details></td></tr><tr><td><i>(values)</i></td><td><div class=\"dni-plaintext\"><pre>[ 280.2400038125 ]</pre></div></td></tr></tbody></table></div></details></td></tr><tr><td><i>(values)</i></td><td><div class=\"dni-plaintext\"><pre>[ 274.1731263125, 280.2400038125 ]</pre></div></td></tr></tbody></table></div></details></td></tr></tbody></table></div></details></td></tr><tr><td>3</td><td><details class=\"dni-treeview\"><summary><span class=\"dni-code-hint\"><code>(3/27/2023 12:00:00 AM, [280.8943768125; 285.7424945000])</code></span></summary><div><table><thead><tr></tr></thead><tbody><tr><td>Item1</td><td><span>2023-03-27 00:00:00Z</span></td></tr><tr><td>Item2</td><td><details class=\"dni-treeview\"><summary><span class=\"dni-code-hint\"><code>[ 280.8943768125, 285.7424945000 ]</code></span></summary><div><table><thead><tr></tr></thead><tbody><tr><td>HeadOrDefault</td><td><div class=\"dni-plaintext\"><pre>280.8943768125</pre></div></td></tr><tr><td>TailOrNull</td><td><details class=\"dni-treeview\"><summary><span class=\"dni-code-hint\"><code>[ 285.7424945000 ]</code></span></summary><div><table><thead><tr></tr></thead><tbody><tr><td>HeadOrDefault</td><td><div class=\"dni-plaintext\"><pre>285.7424945000</pre></div></td></tr><tr><td>TailOrNull</td><td><details class=\"dni-treeview\"><summary><span class=\"dni-code-hint\"><code>[  ]</code></span></summary><div><table><thead><tr></tr></thead><tbody><tr><td>HeadOrDefault</td><td><div class=\"dni-plaintext\"><pre>0</pre></div></td></tr><tr><td>TailOrNull</td><td><div class=\"dni-plaintext\"><pre>&lt;null&gt;</pre></div></td></tr><tr><td>Head</td><td><details class=\"dni-treeview\"><summary><span class=\"dni-code-hint\"><code>System.InvalidOperationException: The input list was empty.\\r\\n   at Microsoft.FSharp.Collections.FSharpList`1.get_Head() in D:\\a\\_work\\1\\s\\src\\FSharp.Core\\prim-types.fs:line 4141\\r\\n   at lambda_method776(Closure, FSharpList`1)\\r\\n   at Microsoft.DotNet.Interactive.Formatting.MemberAccessor`1.GetVa...</code></span></summary><div><table><thead><tr></tr></thead><tbody><tr><td>TargetSite</td><td>T get_Head()</td></tr><tr><td>Message</td><td>The input list was empty.</td></tr><tr><td>Data</td><td>[  ]</td></tr><tr><td>InnerException</td><td><div class=\"dni-plaintext\"><pre>&lt;null&gt;</pre></div></td></tr><tr><td>HelpLink</td><td><div class=\"dni-plaintext\"><pre>&lt;null&gt;</pre></div></td></tr><tr><td>Source</td><td>FSharp.Core</td></tr><tr><td>HResult</td><td>-2146233079</td></tr><tr><td>StackTrace</td><td>   at Microsoft.FSharp.Collections.FSharpList`1.get_Head() in D:\\a\\_work\\1\\s\\src\\FSharp.Core\\prim-types.fs:line 4141\r\n",
       "   at lambda_method776(Closure, FSharpList`1)\r\n",
       "   at Microsoft.DotNet.Interactive.Formatting.MemberAccessor`1.GetValueOrException(T instance) in D:\\a\\_work\\1\\s\\src\\Microsoft.DotNet.Interactive.Formatting\\MemberAccessor{T}.cs:line 58</td></tr></tbody></table></div></details></td></tr><tr><td>Tail</td><td><details class=\"dni-treeview\"><summary><span class=\"dni-code-hint\"><code>System.InvalidOperationException: The input list was empty.\\r\\n   at Microsoft.FSharp.Collections.FSharpList`1.get_Tail() in D:\\a\\_work\\1\\s\\src\\FSharp.Core\\prim-types.fs:line 4146\\r\\n   at lambda_method777(Closure, FSharpList`1)\\r\\n   at Microsoft.DotNet.Interactive.Formatting.MemberAccessor`1.GetVa...</code></span></summary><div><table><thead><tr></tr></thead><tbody><tr><td>TargetSite</td><td>Microsoft.FSharp.Collections.FSharpList`1[T] get_Tail()</td></tr><tr><td>Message</td><td>The input list was empty.</td></tr><tr><td>Data</td><td>[  ]</td></tr><tr><td>InnerException</td><td><div class=\"dni-plaintext\"><pre>&lt;null&gt;</pre></div></td></tr><tr><td>HelpLink</td><td><div class=\"dni-plaintext\"><pre>&lt;null&gt;</pre></div></td></tr><tr><td>Source</td><td>FSharp.Core</td></tr><tr><td>HResult</td><td>-2146233079</td></tr><tr><td>StackTrace</td><td>   at Microsoft.FSharp.Collections.FSharpList`1.get_Tail() in D:\\a\\_work\\1\\s\\src\\FSharp.Core\\prim-types.fs:line 4146\r\n",
       "   at lambda_method777(Closure, FSharpList`1)\r\n",
       "   at Microsoft.DotNet.Interactive.Formatting.MemberAccessor`1.GetValueOrException(T instance) in D:\\a\\_work\\1\\s\\src\\Microsoft.DotNet.Interactive.Formatting\\MemberAccessor{T}.cs:line 58</td></tr></tbody></table></div></details></td></tr><tr><td><i>(values)</i></td><td><div class=\"dni-plaintext\"><pre>[  ]</pre></div></td></tr></tbody></table></div></details></td></tr><tr><td>Head</td><td><div class=\"dni-plaintext\"><pre>285.7424945000</pre></div></td></tr><tr><td>Tail</td><td><details class=\"dni-treeview\"><summary><span class=\"dni-code-hint\"><code>[  ]</code></span></summary><div><table><thead><tr></tr></thead><tbody><tr><td>HeadOrDefault</td><td><div class=\"dni-plaintext\"><pre>0</pre></div></td></tr><tr><td>TailOrNull</td><td><div class=\"dni-plaintext\"><pre>&lt;null&gt;</pre></div></td></tr><tr><td>Head</td><td><details class=\"dni-treeview\"><summary><span class=\"dni-code-hint\"><code>System.InvalidOperationException: The input list was empty.\\r\\n   at Microsoft.FSharp.Collections.FSharpList`1.get_Head() in D:\\a\\_work\\1\\s\\src\\FSharp.Core\\prim-types.fs:line 4141\\r\\n   at lambda_method776(Closure, FSharpList`1)\\r\\n   at Microsoft.DotNet.Interactive.Formatting.MemberAccessor`1.GetVa...</code></span></summary><div><table><thead><tr></tr></thead><tbody><tr><td>TargetSite</td><td>T get_Head()</td></tr><tr><td>Message</td><td>The input list was empty.</td></tr><tr><td>Data</td><td>[  ]</td></tr><tr><td>InnerException</td><td><div class=\"dni-plaintext\"><pre>&lt;null&gt;</pre></div></td></tr><tr><td>HelpLink</td><td><div class=\"dni-plaintext\"><pre>&lt;null&gt;</pre></div></td></tr><tr><td>Source</td><td>FSharp.Core</td></tr><tr><td>HResult</td><td>-2146233079</td></tr><tr><td>StackTrace</td><td>   at Microsoft.FSharp.Collections.FSharpList`1.get_Head() in D:\\a\\_work\\1\\s\\src\\FSharp.Core\\prim-types.fs:line 4141\r\n",
       "   at lambda_method776(Closure, FSharpList`1)\r\n",
       "   at Microsoft.DotNet.Interactive.Formatting.MemberAccessor`1.GetValueOrException(T instance) in D:\\a\\_work\\1\\s\\src\\Microsoft.DotNet.Interactive.Formatting\\MemberAccessor{T}.cs:line 58</td></tr></tbody></table></div></details></td></tr><tr><td>Tail</td><td><details class=\"dni-treeview\"><summary><span class=\"dni-code-hint\"><code>System.InvalidOperationException: The input list was empty.\\r\\n   at Microsoft.FSharp.Collections.FSharpList`1.get_Tail() in D:\\a\\_work\\1\\s\\src\\FSharp.Core\\prim-types.fs:line 4146\\r\\n   at lambda_method777(Closure, FSharpList`1)\\r\\n   at Microsoft.DotNet.Interactive.Formatting.MemberAccessor`1.GetVa...</code></span></summary><div><table><thead><tr></tr></thead><tbody><tr><td>TargetSite</td><td>Microsoft.FSharp.Collections.FSharpList`1[T] get_Tail()</td></tr><tr><td>Message</td><td>The input list was empty.</td></tr><tr><td>Data</td><td>[  ]</td></tr><tr><td>InnerException</td><td><div class=\"dni-plaintext\"><pre>&lt;null&gt;</pre></div></td></tr><tr><td>HelpLink</td><td><div class=\"dni-plaintext\"><pre>&lt;null&gt;</pre></div></td></tr><tr><td>Source</td><td>FSharp.Core</td></tr><tr><td>HResult</td><td>-2146233079</td></tr><tr><td>StackTrace</td><td>   at Microsoft.FSharp.Collections.FSharpList`1.get_Tail() in D:\\a\\_work\\1\\s\\src\\FSharp.Core\\prim-types.fs:line 4146\r\n",
       "   at lambda_method777(Closure, FSharpList`1)\r\n",
       "   at Microsoft.DotNet.Interactive.Formatting.MemberAccessor`1.GetValueOrException(T instance) in D:\\a\\_work\\1\\s\\src\\Microsoft.DotNet.Interactive.Formatting\\MemberAccessor{T}.cs:line 58</td></tr></tbody></table></div></details></td></tr><tr><td><i>(values)</i></td><td><div class=\"dni-plaintext\"><pre>[  ]</pre></div></td></tr></tbody></table></div></details></td></tr><tr><td><i>(values)</i></td><td><div class=\"dni-plaintext\"><pre>[ 285.7424945000 ]</pre></div></td></tr></tbody></table></div></details></td></tr><tr><td>Head</td><td><div class=\"dni-plaintext\"><pre>280.8943768125</pre></div></td></tr><tr><td>Tail</td><td><details class=\"dni-treeview\"><summary><span class=\"dni-code-hint\"><code>[ 285.7424945000 ]</code></span></summary><div><table><thead><tr></tr></thead><tbody><tr><td>HeadOrDefault</td><td><div class=\"dni-plaintext\"><pre>285.7424945000</pre></div></td></tr><tr><td>TailOrNull</td><td><details class=\"dni-treeview\"><summary><span class=\"dni-code-hint\"><code>[  ]</code></span></summary><div><table><thead><tr></tr></thead><tbody><tr><td>HeadOrDefault</td><td><div class=\"dni-plaintext\"><pre>0</pre></div></td></tr><tr><td>TailOrNull</td><td><div class=\"dni-plaintext\"><pre>&lt;null&gt;</pre></div></td></tr><tr><td>Head</td><td><details class=\"dni-treeview\"><summary><span class=\"dni-code-hint\"><code>System.InvalidOperationException: The input list was empty.\\r\\n   at Microsoft.FSharp.Collections.FSharpList`1.get_Head() in D:\\a\\_work\\1\\s\\src\\FSharp.Core\\prim-types.fs:line 4141\\r\\n   at lambda_method776(Closure, FSharpList`1)\\r\\n   at Microsoft.DotNet.Interactive.Formatting.MemberAccessor`1.GetVa...</code></span></summary><div><table><thead><tr></tr></thead><tbody><tr><td>TargetSite</td><td>T get_Head()</td></tr><tr><td>Message</td><td>The input list was empty.</td></tr><tr><td>Data</td><td>[  ]</td></tr><tr><td>InnerException</td><td><div class=\"dni-plaintext\"><pre>&lt;null&gt;</pre></div></td></tr><tr><td>HelpLink</td><td><div class=\"dni-plaintext\"><pre>&lt;null&gt;</pre></div></td></tr><tr><td>Source</td><td>FSharp.Core</td></tr><tr><td>HResult</td><td>-2146233079</td></tr><tr><td>StackTrace</td><td>   at Microsoft.FSharp.Collections.FSharpList`1.get_Head() in D:\\a\\_work\\1\\s\\src\\FSharp.Core\\prim-types.fs:line 4141\r\n",
       "   at lambda_method776(Closure, FSharpList`1)\r\n",
       "   at Microsoft.DotNet.Interactive.Formatting.MemberAccessor`1.GetValueOrException(T instance) in D:\\a\\_work\\1\\s\\src\\Microsoft.DotNet.Interactive.Formatting\\MemberAccessor{T}.cs:line 58</td></tr></tbody></table></div></details></td></tr><tr><td>Tail</td><td><details class=\"dni-treeview\"><summary><span class=\"dni-code-hint\"><code>System.InvalidOperationException: The input list was empty.\\r\\n   at Microsoft.FSharp.Collections.FSharpList`1.get_Tail() in D:\\a\\_work\\1\\s\\src\\FSharp.Core\\prim-types.fs:line 4146\\r\\n   at lambda_method777(Closure, FSharpList`1)\\r\\n   at Microsoft.DotNet.Interactive.Formatting.MemberAccessor`1.GetVa...</code></span></summary><div><table><thead><tr></tr></thead><tbody><tr><td>TargetSite</td><td>Microsoft.FSharp.Collections.FSharpList`1[T] get_Tail()</td></tr><tr><td>Message</td><td>The input list was empty.</td></tr><tr><td>Data</td><td>[  ]</td></tr><tr><td>InnerException</td><td><div class=\"dni-plaintext\"><pre>&lt;null&gt;</pre></div></td></tr><tr><td>HelpLink</td><td><div class=\"dni-plaintext\"><pre>&lt;null&gt;</pre></div></td></tr><tr><td>Source</td><td>FSharp.Core</td></tr><tr><td>HResult</td><td>-2146233079</td></tr><tr><td>StackTrace</td><td>   at Microsoft.FSharp.Collections.FSharpList`1.get_Tail() in D:\\a\\_work\\1\\s\\src\\FSharp.Core\\prim-types.fs:line 4146\r\n",
       "   at lambda_method777(Closure, FSharpList`1)\r\n",
       "   at Microsoft.DotNet.Interactive.Formatting.MemberAccessor`1.GetValueOrException(T instance) in D:\\a\\_work\\1\\s\\src\\Microsoft.DotNet.Interactive.Formatting\\MemberAccessor{T}.cs:line 58</td></tr></tbody></table></div></details></td></tr><tr><td><i>(values)</i></td><td><div class=\"dni-plaintext\"><pre>[  ]</pre></div></td></tr></tbody></table></div></details></td></tr><tr><td>Head</td><td><div class=\"dni-plaintext\"><pre>285.7424945000</pre></div></td></tr><tr><td>Tail</td><td><details class=\"dni-treeview\"><summary><span class=\"dni-code-hint\"><code>[  ]</code></span></summary><div><table><thead><tr></tr></thead><tbody><tr><td>HeadOrDefault</td><td><div class=\"dni-plaintext\"><pre>0</pre></div></td></tr><tr><td>TailOrNull</td><td><div class=\"dni-plaintext\"><pre>&lt;null&gt;</pre></div></td></tr><tr><td>Head</td><td><details class=\"dni-treeview\"><summary><span class=\"dni-code-hint\"><code>System.InvalidOperationException: The input list was empty.\\r\\n   at Microsoft.FSharp.Collections.FSharpList`1.get_Head() in D:\\a\\_work\\1\\s\\src\\FSharp.Core\\prim-types.fs:line 4141\\r\\n   at lambda_method776(Closure, FSharpList`1)\\r\\n   at Microsoft.DotNet.Interactive.Formatting.MemberAccessor`1.GetVa...</code></span></summary><div><table><thead><tr></tr></thead><tbody><tr><td>TargetSite</td><td>T get_Head()</td></tr><tr><td>Message</td><td>The input list was empty.</td></tr><tr><td>Data</td><td>[  ]</td></tr><tr><td>InnerException</td><td><div class=\"dni-plaintext\"><pre>&lt;null&gt;</pre></div></td></tr><tr><td>HelpLink</td><td><div class=\"dni-plaintext\"><pre>&lt;null&gt;</pre></div></td></tr><tr><td>Source</td><td>FSharp.Core</td></tr><tr><td>HResult</td><td>-2146233079</td></tr><tr><td>StackTrace</td><td>   at Microsoft.FSharp.Collections.FSharpList`1.get_Head() in D:\\a\\_work\\1\\s\\src\\FSharp.Core\\prim-types.fs:line 4141\r\n",
       "   at lambda_method776(Closure, FSharpList`1)\r\n",
       "   at Microsoft.DotNet.Interactive.Formatting.MemberAccessor`1.GetValueOrException(T instance) in D:\\a\\_work\\1\\s\\src\\Microsoft.DotNet.Interactive.Formatting\\MemberAccessor{T}.cs:line 58</td></tr></tbody></table></div></details></td></tr><tr><td>Tail</td><td><details class=\"dni-treeview\"><summary><span class=\"dni-code-hint\"><code>System.InvalidOperationException: The input list was empty.\\r\\n   at Microsoft.FSharp.Collections.FSharpList`1.get_Tail() in D:\\a\\_work\\1\\s\\src\\FSharp.Core\\prim-types.fs:line 4146\\r\\n   at lambda_method777(Closure, FSharpList`1)\\r\\n   at Microsoft.DotNet.Interactive.Formatting.MemberAccessor`1.GetVa...</code></span></summary><div><table><thead><tr></tr></thead><tbody><tr><td>TargetSite</td><td>Microsoft.FSharp.Collections.FSharpList`1[T] get_Tail()</td></tr><tr><td>Message</td><td>The input list was empty.</td></tr><tr><td>Data</td><td>[  ]</td></tr><tr><td>InnerException</td><td><div class=\"dni-plaintext\"><pre>&lt;null&gt;</pre></div></td></tr><tr><td>HelpLink</td><td><div class=\"dni-plaintext\"><pre>&lt;null&gt;</pre></div></td></tr><tr><td>Source</td><td>FSharp.Core</td></tr><tr><td>HResult</td><td>-2146233079</td></tr><tr><td>StackTrace</td><td>   at Microsoft.FSharp.Collections.FSharpList`1.get_Tail() in D:\\a\\_work\\1\\s\\src\\FSharp.Core\\prim-types.fs:line 4146\r\n",
       "   at lambda_method777(Closure, FSharpList`1)\r\n",
       "   at Microsoft.DotNet.Interactive.Formatting.MemberAccessor`1.GetValueOrException(T instance) in D:\\a\\_work\\1\\s\\src\\Microsoft.DotNet.Interactive.Formatting\\MemberAccessor{T}.cs:line 58</td></tr></tbody></table></div></details></td></tr><tr><td><i>(values)</i></td><td><div class=\"dni-plaintext\"><pre>[  ]</pre></div></td></tr></tbody></table></div></details></td></tr><tr><td><i>(values)</i></td><td><div class=\"dni-plaintext\"><pre>[ 285.7424945000 ]</pre></div></td></tr></tbody></table></div></details></td></tr><tr><td><i>(values)</i></td><td><div class=\"dni-plaintext\"><pre>[ 280.8943768125, 285.7424945000 ]</pre></div></td></tr></tbody></table></div></details></td></tr></tbody></table></div></details></td></tr><tr><td>4</td><td><details class=\"dni-treeview\"><summary><span class=\"dni-code-hint\"><code>(4/3/2023 12:00:00 AM, [282.947505875; 290.167492125])</code></span></summary><div><table><thead><tr></tr></thead><tbody><tr><td>Item1</td><td><span>2023-04-03 00:00:00Z</span></td></tr><tr><td>Item2</td><td><details class=\"dni-treeview\"><summary><span class=\"dni-code-hint\"><code>[ 282.947505875, 290.167492125 ]</code></span></summary><div><table><thead><tr></tr></thead><tbody><tr><td>HeadOrDefault</td><td><div class=\"dni-plaintext\"><pre>282.947505875</pre></div></td></tr><tr><td>TailOrNull</td><td><details class=\"dni-treeview\"><summary><span class=\"dni-code-hint\"><code>[ 290.167492125 ]</code></span></summary><div><table><thead><tr></tr></thead><tbody><tr><td>HeadOrDefault</td><td><div class=\"dni-plaintext\"><pre>290.167492125</pre></div></td></tr><tr><td>TailOrNull</td><td><details class=\"dni-treeview\"><summary><span class=\"dni-code-hint\"><code>[  ]</code></span></summary><div><table><thead><tr></tr></thead><tbody><tr><td>HeadOrDefault</td><td><div class=\"dni-plaintext\"><pre>0</pre></div></td></tr><tr><td>TailOrNull</td><td><div class=\"dni-plaintext\"><pre>&lt;null&gt;</pre></div></td></tr><tr><td>Head</td><td><details class=\"dni-treeview\"><summary><span class=\"dni-code-hint\"><code>System.InvalidOperationException: The input list was empty.\\r\\n   at Microsoft.FSharp.Collections.FSharpList`1.get_Head() in D:\\a\\_work\\1\\s\\src\\FSharp.Core\\prim-types.fs:line 4141\\r\\n   at lambda_method776(Closure, FSharpList`1)\\r\\n   at Microsoft.DotNet.Interactive.Formatting.MemberAccessor`1.GetVa...</code></span></summary><div><table><thead><tr></tr></thead><tbody><tr><td>TargetSite</td><td>T get_Head()</td></tr><tr><td>Message</td><td>The input list was empty.</td></tr><tr><td>Data</td><td>[  ]</td></tr><tr><td>InnerException</td><td><div class=\"dni-plaintext\"><pre>&lt;null&gt;</pre></div></td></tr><tr><td>HelpLink</td><td><div class=\"dni-plaintext\"><pre>&lt;null&gt;</pre></div></td></tr><tr><td>Source</td><td>FSharp.Core</td></tr><tr><td>HResult</td><td>-2146233079</td></tr><tr><td>StackTrace</td><td>   at Microsoft.FSharp.Collections.FSharpList`1.get_Head() in D:\\a\\_work\\1\\s\\src\\FSharp.Core\\prim-types.fs:line 4141\r\n",
       "   at lambda_method776(Closure, FSharpList`1)\r\n",
       "   at Microsoft.DotNet.Interactive.Formatting.MemberAccessor`1.GetValueOrException(T instance) in D:\\a\\_work\\1\\s\\src\\Microsoft.DotNet.Interactive.Formatting\\MemberAccessor{T}.cs:line 58</td></tr></tbody></table></div></details></td></tr><tr><td>Tail</td><td><details class=\"dni-treeview\"><summary><span class=\"dni-code-hint\"><code>System.InvalidOperationException: The input list was empty.\\r\\n   at Microsoft.FSharp.Collections.FSharpList`1.get_Tail() in D:\\a\\_work\\1\\s\\src\\FSharp.Core\\prim-types.fs:line 4146\\r\\n   at lambda_method777(Closure, FSharpList`1)\\r\\n   at Microsoft.DotNet.Interactive.Formatting.MemberAccessor`1.GetVa...</code></span></summary><div><table><thead><tr></tr></thead><tbody><tr><td>TargetSite</td><td>Microsoft.FSharp.Collections.FSharpList`1[T] get_Tail()</td></tr><tr><td>Message</td><td>The input list was empty.</td></tr><tr><td>Data</td><td>[  ]</td></tr><tr><td>InnerException</td><td><div class=\"dni-plaintext\"><pre>&lt;null&gt;</pre></div></td></tr><tr><td>HelpLink</td><td><div class=\"dni-plaintext\"><pre>&lt;null&gt;</pre></div></td></tr><tr><td>Source</td><td>FSharp.Core</td></tr><tr><td>HResult</td><td>-2146233079</td></tr><tr><td>StackTrace</td><td>   at Microsoft.FSharp.Collections.FSharpList`1.get_Tail() in D:\\a\\_work\\1\\s\\src\\FSharp.Core\\prim-types.fs:line 4146\r\n",
       "   at lambda_method777(Closure, FSharpList`1)\r\n",
       "   at Microsoft.DotNet.Interactive.Formatting.MemberAccessor`1.GetValueOrException(T instance) in D:\\a\\_work\\1\\s\\src\\Microsoft.DotNet.Interactive.Formatting\\MemberAccessor{T}.cs:line 58</td></tr></tbody></table></div></details></td></tr><tr><td><i>(values)</i></td><td><div class=\"dni-plaintext\"><pre>[  ]</pre></div></td></tr></tbody></table></div></details></td></tr><tr><td>Head</td><td><div class=\"dni-plaintext\"><pre>290.167492125</pre></div></td></tr><tr><td>Tail</td><td><details class=\"dni-treeview\"><summary><span class=\"dni-code-hint\"><code>[  ]</code></span></summary><div><table><thead><tr></tr></thead><tbody><tr><td>HeadOrDefault</td><td><div class=\"dni-plaintext\"><pre>0</pre></div></td></tr><tr><td>TailOrNull</td><td><div class=\"dni-plaintext\"><pre>&lt;null&gt;</pre></div></td></tr><tr><td>Head</td><td><details class=\"dni-treeview\"><summary><span class=\"dni-code-hint\"><code>System.InvalidOperationException: The input list was empty.\\r\\n   at Microsoft.FSharp.Collections.FSharpList`1.get_Head() in D:\\a\\_work\\1\\s\\src\\FSharp.Core\\prim-types.fs:line 4141\\r\\n   at lambda_method776(Closure, FSharpList`1)\\r\\n   at Microsoft.DotNet.Interactive.Formatting.MemberAccessor`1.GetVa...</code></span></summary><div><table><thead><tr></tr></thead><tbody><tr><td>TargetSite</td><td>T get_Head()</td></tr><tr><td>Message</td><td>The input list was empty.</td></tr><tr><td>Data</td><td>[  ]</td></tr><tr><td>InnerException</td><td><div class=\"dni-plaintext\"><pre>&lt;null&gt;</pre></div></td></tr><tr><td>HelpLink</td><td><div class=\"dni-plaintext\"><pre>&lt;null&gt;</pre></div></td></tr><tr><td>Source</td><td>FSharp.Core</td></tr><tr><td>HResult</td><td>-2146233079</td></tr><tr><td>StackTrace</td><td>   at Microsoft.FSharp.Collections.FSharpList`1.get_Head() in D:\\a\\_work\\1\\s\\src\\FSharp.Core\\prim-types.fs:line 4141\r\n",
       "   at lambda_method776(Closure, FSharpList`1)\r\n",
       "   at Microsoft.DotNet.Interactive.Formatting.MemberAccessor`1.GetValueOrException(T instance) in D:\\a\\_work\\1\\s\\src\\Microsoft.DotNet.Interactive.Formatting\\MemberAccessor{T}.cs:line 58</td></tr></tbody></table></div></details></td></tr><tr><td>Tail</td><td><details class=\"dni-treeview\"><summary><span class=\"dni-code-hint\"><code>System.InvalidOperationException: The input list was empty.\\r\\n   at Microsoft.FSharp.Collections.FSharpList`1.get_Tail() in D:\\a\\_work\\1\\s\\src\\FSharp.Core\\prim-types.fs:line 4146\\r\\n   at lambda_method777(Closure, FSharpList`1)\\r\\n   at Microsoft.DotNet.Interactive.Formatting.MemberAccessor`1.GetVa...</code></span></summary><div><table><thead><tr></tr></thead><tbody><tr><td>TargetSite</td><td>Microsoft.FSharp.Collections.FSharpList`1[T] get_Tail()</td></tr><tr><td>Message</td><td>The input list was empty.</td></tr><tr><td>Data</td><td>[  ]</td></tr><tr><td>InnerException</td><td><div class=\"dni-plaintext\"><pre>&lt;null&gt;</pre></div></td></tr><tr><td>HelpLink</td><td><div class=\"dni-plaintext\"><pre>&lt;null&gt;</pre></div></td></tr><tr><td>Source</td><td>FSharp.Core</td></tr><tr><td>HResult</td><td>-2146233079</td></tr><tr><td>StackTrace</td><td>   at Microsoft.FSharp.Collections.FSharpList`1.get_Tail() in D:\\a\\_work\\1\\s\\src\\FSharp.Core\\prim-types.fs:line 4146\r\n",
       "   at lambda_method777(Closure, FSharpList`1)\r\n",
       "   at Microsoft.DotNet.Interactive.Formatting.MemberAccessor`1.GetValueOrException(T instance) in D:\\a\\_work\\1\\s\\src\\Microsoft.DotNet.Interactive.Formatting\\MemberAccessor{T}.cs:line 58</td></tr></tbody></table></div></details></td></tr><tr><td><i>(values)</i></td><td><div class=\"dni-plaintext\"><pre>[  ]</pre></div></td></tr></tbody></table></div></details></td></tr><tr><td><i>(values)</i></td><td><div class=\"dni-plaintext\"><pre>[ 290.167492125 ]</pre></div></td></tr></tbody></table></div></details></td></tr><tr><td>Head</td><td><div class=\"dni-plaintext\"><pre>282.947505875</pre></div></td></tr><tr><td>Tail</td><td><details class=\"dni-treeview\"><summary><span class=\"dni-code-hint\"><code>[ 290.167492125 ]</code></span></summary><div><table><thead><tr></tr></thead><tbody><tr><td>HeadOrDefault</td><td><div class=\"dni-plaintext\"><pre>290.167492125</pre></div></td></tr><tr><td>TailOrNull</td><td><details class=\"dni-treeview\"><summary><span class=\"dni-code-hint\"><code>[  ]</code></span></summary><div><table><thead><tr></tr></thead><tbody><tr><td>HeadOrDefault</td><td><div class=\"dni-plaintext\"><pre>0</pre></div></td></tr><tr><td>TailOrNull</td><td><div class=\"dni-plaintext\"><pre>&lt;null&gt;</pre></div></td></tr><tr><td>Head</td><td><details class=\"dni-treeview\"><summary><span class=\"dni-code-hint\"><code>System.InvalidOperationException: The input list was empty.\\r\\n   at Microsoft.FSharp.Collections.FSharpList`1.get_Head() in D:\\a\\_work\\1\\s\\src\\FSharp.Core\\prim-types.fs:line 4141\\r\\n   at lambda_method776(Closure, FSharpList`1)\\r\\n   at Microsoft.DotNet.Interactive.Formatting.MemberAccessor`1.GetVa...</code></span></summary><div><table><thead><tr></tr></thead><tbody><tr><td>TargetSite</td><td>T get_Head()</td></tr><tr><td>Message</td><td>The input list was empty.</td></tr><tr><td>Data</td><td>[  ]</td></tr><tr><td>InnerException</td><td><div class=\"dni-plaintext\"><pre>&lt;null&gt;</pre></div></td></tr><tr><td>HelpLink</td><td><div class=\"dni-plaintext\"><pre>&lt;null&gt;</pre></div></td></tr><tr><td>Source</td><td>FSharp.Core</td></tr><tr><td>HResult</td><td>-2146233079</td></tr><tr><td>StackTrace</td><td>   at Microsoft.FSharp.Collections.FSharpList`1.get_Head() in D:\\a\\_work\\1\\s\\src\\FSharp.Core\\prim-types.fs:line 4141\r\n",
       "   at lambda_method776(Closure, FSharpList`1)\r\n",
       "   at Microsoft.DotNet.Interactive.Formatting.MemberAccessor`1.GetValueOrException(T instance) in D:\\a\\_work\\1\\s\\src\\Microsoft.DotNet.Interactive.Formatting\\MemberAccessor{T}.cs:line 58</td></tr></tbody></table></div></details></td></tr><tr><td>Tail</td><td><details class=\"dni-treeview\"><summary><span class=\"dni-code-hint\"><code>System.InvalidOperationException: The input list was empty.\\r\\n   at Microsoft.FSharp.Collections.FSharpList`1.get_Tail() in D:\\a\\_work\\1\\s\\src\\FSharp.Core\\prim-types.fs:line 4146\\r\\n   at lambda_method777(Closure, FSharpList`1)\\r\\n   at Microsoft.DotNet.Interactive.Formatting.MemberAccessor`1.GetVa...</code></span></summary><div><table><thead><tr></tr></thead><tbody><tr><td>TargetSite</td><td>Microsoft.FSharp.Collections.FSharpList`1[T] get_Tail()</td></tr><tr><td>Message</td><td>The input list was empty.</td></tr><tr><td>Data</td><td>[  ]</td></tr><tr><td>InnerException</td><td><div class=\"dni-plaintext\"><pre>&lt;null&gt;</pre></div></td></tr><tr><td>HelpLink</td><td><div class=\"dni-plaintext\"><pre>&lt;null&gt;</pre></div></td></tr><tr><td>Source</td><td>FSharp.Core</td></tr><tr><td>HResult</td><td>-2146233079</td></tr><tr><td>StackTrace</td><td>   at Microsoft.FSharp.Collections.FSharpList`1.get_Tail() in D:\\a\\_work\\1\\s\\src\\FSharp.Core\\prim-types.fs:line 4146\r\n",
       "   at lambda_method777(Closure, FSharpList`1)\r\n",
       "   at Microsoft.DotNet.Interactive.Formatting.MemberAccessor`1.GetValueOrException(T instance) in D:\\a\\_work\\1\\s\\src\\Microsoft.DotNet.Interactive.Formatting\\MemberAccessor{T}.cs:line 58</td></tr></tbody></table></div></details></td></tr><tr><td><i>(values)</i></td><td><div class=\"dni-plaintext\"><pre>[  ]</pre></div></td></tr></tbody></table></div></details></td></tr><tr><td>Head</td><td><div class=\"dni-plaintext\"><pre>290.167492125</pre></div></td></tr><tr><td>Tail</td><td><details class=\"dni-treeview\"><summary><span class=\"dni-code-hint\"><code>[  ]</code></span></summary><div><table><thead><tr></tr></thead><tbody><tr><td>HeadOrDefault</td><td><div class=\"dni-plaintext\"><pre>0</pre></div></td></tr><tr><td>TailOrNull</td><td><div class=\"dni-plaintext\"><pre>&lt;null&gt;</pre></div></td></tr><tr><td>Head</td><td><details class=\"dni-treeview\"><summary><span class=\"dni-code-hint\"><code>System.InvalidOperationException: The input list was empty.\\r\\n   at Microsoft.FSharp.Collections.FSharpList`1.get_Head() in D:\\a\\_work\\1\\s\\src\\FSharp.Core\\prim-types.fs:line 4141\\r\\n   at lambda_method776(Closure, FSharpList`1)\\r\\n   at Microsoft.DotNet.Interactive.Formatting.MemberAccessor`1.GetVa...</code></span></summary><div><table><thead><tr></tr></thead><tbody><tr><td>TargetSite</td><td>T get_Head()</td></tr><tr><td>Message</td><td>The input list was empty.</td></tr><tr><td>Data</td><td>[  ]</td></tr><tr><td>InnerException</td><td><div class=\"dni-plaintext\"><pre>&lt;null&gt;</pre></div></td></tr><tr><td>HelpLink</td><td><div class=\"dni-plaintext\"><pre>&lt;null&gt;</pre></div></td></tr><tr><td>Source</td><td>FSharp.Core</td></tr><tr><td>HResult</td><td>-2146233079</td></tr><tr><td>StackTrace</td><td>   at Microsoft.FSharp.Collections.FSharpList`1.get_Head() in D:\\a\\_work\\1\\s\\src\\FSharp.Core\\prim-types.fs:line 4141\r\n",
       "   at lambda_method776(Closure, FSharpList`1)\r\n",
       "   at Microsoft.DotNet.Interactive.Formatting.MemberAccessor`1.GetValueOrException(T instance) in D:\\a\\_work\\1\\s\\src\\Microsoft.DotNet.Interactive.Formatting\\MemberAccessor{T}.cs:line 58</td></tr></tbody></table></div></details></td></tr><tr><td>Tail</td><td><details class=\"dni-treeview\"><summary><span class=\"dni-code-hint\"><code>System.InvalidOperationException: The input list was empty.\\r\\n   at Microsoft.FSharp.Collections.FSharpList`1.get_Tail() in D:\\a\\_work\\1\\s\\src\\FSharp.Core\\prim-types.fs:line 4146\\r\\n   at lambda_method777(Closure, FSharpList`1)\\r\\n   at Microsoft.DotNet.Interactive.Formatting.MemberAccessor`1.GetVa...</code></span></summary><div><table><thead><tr></tr></thead><tbody><tr><td>TargetSite</td><td>Microsoft.FSharp.Collections.FSharpList`1[T] get_Tail()</td></tr><tr><td>Message</td><td>The input list was empty.</td></tr><tr><td>Data</td><td>[  ]</td></tr><tr><td>InnerException</td><td><div class=\"dni-plaintext\"><pre>&lt;null&gt;</pre></div></td></tr><tr><td>HelpLink</td><td><div class=\"dni-plaintext\"><pre>&lt;null&gt;</pre></div></td></tr><tr><td>Source</td><td>FSharp.Core</td></tr><tr><td>HResult</td><td>-2146233079</td></tr><tr><td>StackTrace</td><td>   at Microsoft.FSharp.Collections.FSharpList`1.get_Tail() in D:\\a\\_work\\1\\s\\src\\FSharp.Core\\prim-types.fs:line 4146\r\n",
       "   at lambda_method777(Closure, FSharpList`1)\r\n",
       "   at Microsoft.DotNet.Interactive.Formatting.MemberAccessor`1.GetValueOrException(T instance) in D:\\a\\_work\\1\\s\\src\\Microsoft.DotNet.Interactive.Formatting\\MemberAccessor{T}.cs:line 58</td></tr></tbody></table></div></details></td></tr><tr><td><i>(values)</i></td><td><div class=\"dni-plaintext\"><pre>[  ]</pre></div></td></tr></tbody></table></div></details></td></tr><tr><td><i>(values)</i></td><td><div class=\"dni-plaintext\"><pre>[ 290.167492125 ]</pre></div></td></tr></tbody></table></div></details></td></tr><tr><td><i>(values)</i></td><td><div class=\"dni-plaintext\"><pre>[ 282.947505875, 290.167492125 ]</pre></div></td></tr></tbody></table></div></details></td></tr></tbody></table></div></details></td></tr><tr><td>5</td><td><details class=\"dni-treeview\"><summary><span class=\"dni-code-hint\"><code>(4/10/2023 12:00:00 AM, [283.2793785000; 288.5650063125])</code></span></summary><div><table><thead><tr></tr></thead><tbody><tr><td>Item1</td><td><span>2023-04-10 00:00:00Z</span></td></tr><tr><td>Item2</td><td><details class=\"dni-treeview\"><summary><span class=\"dni-code-hint\"><code>[ 283.2793785000, 288.5650063125 ]</code></span></summary><div><table><thead><tr></tr></thead><tbody><tr><td>HeadOrDefault</td><td><div class=\"dni-plaintext\"><pre>283.2793785000</pre></div></td></tr><tr><td>TailOrNull</td><td><details class=\"dni-treeview\"><summary><span class=\"dni-code-hint\"><code>[ 288.5650063125 ]</code></span></summary><div><table><thead><tr></tr></thead><tbody><tr><td>HeadOrDefault</td><td><div class=\"dni-plaintext\"><pre>288.5650063125</pre></div></td></tr><tr><td>TailOrNull</td><td><details class=\"dni-treeview\"><summary><span class=\"dni-code-hint\"><code>[  ]</code></span></summary><div><table><thead><tr></tr></thead><tbody><tr><td>HeadOrDefault</td><td><div class=\"dni-plaintext\"><pre>0</pre></div></td></tr><tr><td>TailOrNull</td><td><div class=\"dni-plaintext\"><pre>&lt;null&gt;</pre></div></td></tr><tr><td>Head</td><td><details class=\"dni-treeview\"><summary><span class=\"dni-code-hint\"><code>System.InvalidOperationException: The input list was empty.\\r\\n   at Microsoft.FSharp.Collections.FSharpList`1.get_Head() in D:\\a\\_work\\1\\s\\src\\FSharp.Core\\prim-types.fs:line 4141\\r\\n   at lambda_method776(Closure, FSharpList`1)\\r\\n   at Microsoft.DotNet.Interactive.Formatting.MemberAccessor`1.GetVa...</code></span></summary><div><table><thead><tr></tr></thead><tbody><tr><td>TargetSite</td><td>T get_Head()</td></tr><tr><td>Message</td><td>The input list was empty.</td></tr><tr><td>Data</td><td>[  ]</td></tr><tr><td>InnerException</td><td><div class=\"dni-plaintext\"><pre>&lt;null&gt;</pre></div></td></tr><tr><td>HelpLink</td><td><div class=\"dni-plaintext\"><pre>&lt;null&gt;</pre></div></td></tr><tr><td>Source</td><td>FSharp.Core</td></tr><tr><td>HResult</td><td>-2146233079</td></tr><tr><td>StackTrace</td><td>   at Microsoft.FSharp.Collections.FSharpList`1.get_Head() in D:\\a\\_work\\1\\s\\src\\FSharp.Core\\prim-types.fs:line 4141\r\n",
       "   at lambda_method776(Closure, FSharpList`1)\r\n",
       "   at Microsoft.DotNet.Interactive.Formatting.MemberAccessor`1.GetValueOrException(T instance) in D:\\a\\_work\\1\\s\\src\\Microsoft.DotNet.Interactive.Formatting\\MemberAccessor{T}.cs:line 58</td></tr></tbody></table></div></details></td></tr><tr><td>Tail</td><td><details class=\"dni-treeview\"><summary><span class=\"dni-code-hint\"><code>System.InvalidOperationException: The input list was empty.\\r\\n   at Microsoft.FSharp.Collections.FSharpList`1.get_Tail() in D:\\a\\_work\\1\\s\\src\\FSharp.Core\\prim-types.fs:line 4146\\r\\n   at lambda_method777(Closure, FSharpList`1)\\r\\n   at Microsoft.DotNet.Interactive.Formatting.MemberAccessor`1.GetVa...</code></span></summary><div><table><thead><tr></tr></thead><tbody><tr><td>TargetSite</td><td>Microsoft.FSharp.Collections.FSharpList`1[T] get_Tail()</td></tr><tr><td>Message</td><td>The input list was empty.</td></tr><tr><td>Data</td><td>[  ]</td></tr><tr><td>InnerException</td><td><div class=\"dni-plaintext\"><pre>&lt;null&gt;</pre></div></td></tr><tr><td>HelpLink</td><td><div class=\"dni-plaintext\"><pre>&lt;null&gt;</pre></div></td></tr><tr><td>Source</td><td>FSharp.Core</td></tr><tr><td>HResult</td><td>-2146233079</td></tr><tr><td>StackTrace</td><td>   at Microsoft.FSharp.Collections.FSharpList`1.get_Tail() in D:\\a\\_work\\1\\s\\src\\FSharp.Core\\prim-types.fs:line 4146\r\n",
       "   at lambda_method777(Closure, FSharpList`1)\r\n",
       "   at Microsoft.DotNet.Interactive.Formatting.MemberAccessor`1.GetValueOrException(T instance) in D:\\a\\_work\\1\\s\\src\\Microsoft.DotNet.Interactive.Formatting\\MemberAccessor{T}.cs:line 58</td></tr></tbody></table></div></details></td></tr><tr><td><i>(values)</i></td><td><div class=\"dni-plaintext\"><pre>[  ]</pre></div></td></tr></tbody></table></div></details></td></tr><tr><td>Head</td><td><div class=\"dni-plaintext\"><pre>288.5650063125</pre></div></td></tr><tr><td>Tail</td><td><details class=\"dni-treeview\"><summary><span class=\"dni-code-hint\"><code>[  ]</code></span></summary><div><table><thead><tr></tr></thead><tbody><tr><td>HeadOrDefault</td><td><div class=\"dni-plaintext\"><pre>0</pre></div></td></tr><tr><td>TailOrNull</td><td><div class=\"dni-plaintext\"><pre>&lt;null&gt;</pre></div></td></tr><tr><td>Head</td><td><details class=\"dni-treeview\"><summary><span class=\"dni-code-hint\"><code>System.InvalidOperationException: The input list was empty.\\r\\n   at Microsoft.FSharp.Collections.FSharpList`1.get_Head() in D:\\a\\_work\\1\\s\\src\\FSharp.Core\\prim-types.fs:line 4141\\r\\n   at lambda_method776(Closure, FSharpList`1)\\r\\n   at Microsoft.DotNet.Interactive.Formatting.MemberAccessor`1.GetVa...</code></span></summary><div><table><thead><tr></tr></thead><tbody><tr><td>TargetSite</td><td>T get_Head()</td></tr><tr><td>Message</td><td>The input list was empty.</td></tr><tr><td>Data</td><td>[  ]</td></tr><tr><td>InnerException</td><td><div class=\"dni-plaintext\"><pre>&lt;null&gt;</pre></div></td></tr><tr><td>HelpLink</td><td><div class=\"dni-plaintext\"><pre>&lt;null&gt;</pre></div></td></tr><tr><td>Source</td><td>FSharp.Core</td></tr><tr><td>HResult</td><td>-2146233079</td></tr><tr><td>StackTrace</td><td>   at Microsoft.FSharp.Collections.FSharpList`1.get_Head() in D:\\a\\_work\\1\\s\\src\\FSharp.Core\\prim-types.fs:line 4141\r\n",
       "   at lambda_method776(Closure, FSharpList`1)\r\n",
       "   at Microsoft.DotNet.Interactive.Formatting.MemberAccessor`1.GetValueOrException(T instance) in D:\\a\\_work\\1\\s\\src\\Microsoft.DotNet.Interactive.Formatting\\MemberAccessor{T}.cs:line 58</td></tr></tbody></table></div></details></td></tr><tr><td>Tail</td><td><details class=\"dni-treeview\"><summary><span class=\"dni-code-hint\"><code>System.InvalidOperationException: The input list was empty.\\r\\n   at Microsoft.FSharp.Collections.FSharpList`1.get_Tail() in D:\\a\\_work\\1\\s\\src\\FSharp.Core\\prim-types.fs:line 4146\\r\\n   at lambda_method777(Closure, FSharpList`1)\\r\\n   at Microsoft.DotNet.Interactive.Formatting.MemberAccessor`1.GetVa...</code></span></summary><div><table><thead><tr></tr></thead><tbody><tr><td>TargetSite</td><td>Microsoft.FSharp.Collections.FSharpList`1[T] get_Tail()</td></tr><tr><td>Message</td><td>The input list was empty.</td></tr><tr><td>Data</td><td>[  ]</td></tr><tr><td>InnerException</td><td><div class=\"dni-plaintext\"><pre>&lt;null&gt;</pre></div></td></tr><tr><td>HelpLink</td><td><div class=\"dni-plaintext\"><pre>&lt;null&gt;</pre></div></td></tr><tr><td>Source</td><td>FSharp.Core</td></tr><tr><td>HResult</td><td>-2146233079</td></tr><tr><td>StackTrace</td><td>   at Microsoft.FSharp.Collections.FSharpList`1.get_Tail() in D:\\a\\_work\\1\\s\\src\\FSharp.Core\\prim-types.fs:line 4146\r\n",
       "   at lambda_method777(Closure, FSharpList`1)\r\n",
       "   at Microsoft.DotNet.Interactive.Formatting.MemberAccessor`1.GetValueOrException(T instance) in D:\\a\\_work\\1\\s\\src\\Microsoft.DotNet.Interactive.Formatting\\MemberAccessor{T}.cs:line 58</td></tr></tbody></table></div></details></td></tr><tr><td><i>(values)</i></td><td><div class=\"dni-plaintext\"><pre>[  ]</pre></div></td></tr></tbody></table></div></details></td></tr><tr><td><i>(values)</i></td><td><div class=\"dni-plaintext\"><pre>[ 288.5650063125 ]</pre></div></td></tr></tbody></table></div></details></td></tr><tr><td>Head</td><td><div class=\"dni-plaintext\"><pre>283.2793785000</pre></div></td></tr><tr><td>Tail</td><td><details class=\"dni-treeview\"><summary><span class=\"dni-code-hint\"><code>[ 288.5650063125 ]</code></span></summary><div><table><thead><tr></tr></thead><tbody><tr><td>HeadOrDefault</td><td><div class=\"dni-plaintext\"><pre>288.5650063125</pre></div></td></tr><tr><td>TailOrNull</td><td><details class=\"dni-treeview\"><summary><span class=\"dni-code-hint\"><code>[  ]</code></span></summary><div><table><thead><tr></tr></thead><tbody><tr><td>HeadOrDefault</td><td><div class=\"dni-plaintext\"><pre>0</pre></div></td></tr><tr><td>TailOrNull</td><td><div class=\"dni-plaintext\"><pre>&lt;null&gt;</pre></div></td></tr><tr><td>Head</td><td><details class=\"dni-treeview\"><summary><span class=\"dni-code-hint\"><code>System.InvalidOperationException: The input list was empty.\\r\\n   at Microsoft.FSharp.Collections.FSharpList`1.get_Head() in D:\\a\\_work\\1\\s\\src\\FSharp.Core\\prim-types.fs:line 4141\\r\\n   at lambda_method776(Closure, FSharpList`1)\\r\\n   at Microsoft.DotNet.Interactive.Formatting.MemberAccessor`1.GetVa...</code></span></summary><div><table><thead><tr></tr></thead><tbody><tr><td>TargetSite</td><td>T get_Head()</td></tr><tr><td>Message</td><td>The input list was empty.</td></tr><tr><td>Data</td><td>[  ]</td></tr><tr><td>InnerException</td><td><div class=\"dni-plaintext\"><pre>&lt;null&gt;</pre></div></td></tr><tr><td>HelpLink</td><td><div class=\"dni-plaintext\"><pre>&lt;null&gt;</pre></div></td></tr><tr><td>Source</td><td>FSharp.Core</td></tr><tr><td>HResult</td><td>-2146233079</td></tr><tr><td>StackTrace</td><td>   at Microsoft.FSharp.Collections.FSharpList`1.get_Head() in D:\\a\\_work\\1\\s\\src\\FSharp.Core\\prim-types.fs:line 4141\r\n",
       "   at lambda_method776(Closure, FSharpList`1)\r\n",
       "   at Microsoft.DotNet.Interactive.Formatting.MemberAccessor`1.GetValueOrException(T instance) in D:\\a\\_work\\1\\s\\src\\Microsoft.DotNet.Interactive.Formatting\\MemberAccessor{T}.cs:line 58</td></tr></tbody></table></div></details></td></tr><tr><td>Tail</td><td><details class=\"dni-treeview\"><summary><span class=\"dni-code-hint\"><code>System.InvalidOperationException: The input list was empty.\\r\\n   at Microsoft.FSharp.Collections.FSharpList`1.get_Tail() in D:\\a\\_work\\1\\s\\src\\FSharp.Core\\prim-types.fs:line 4146\\r\\n   at lambda_method777(Closure, FSharpList`1)\\r\\n   at Microsoft.DotNet.Interactive.Formatting.MemberAccessor`1.GetVa...</code></span></summary><div><table><thead><tr></tr></thead><tbody><tr><td>TargetSite</td><td>Microsoft.FSharp.Collections.FSharpList`1[T] get_Tail()</td></tr><tr><td>Message</td><td>The input list was empty.</td></tr><tr><td>Data</td><td>[  ]</td></tr><tr><td>InnerException</td><td><div class=\"dni-plaintext\"><pre>&lt;null&gt;</pre></div></td></tr><tr><td>HelpLink</td><td><div class=\"dni-plaintext\"><pre>&lt;null&gt;</pre></div></td></tr><tr><td>Source</td><td>FSharp.Core</td></tr><tr><td>HResult</td><td>-2146233079</td></tr><tr><td>StackTrace</td><td>   at Microsoft.FSharp.Collections.FSharpList`1.get_Tail() in D:\\a\\_work\\1\\s\\src\\FSharp.Core\\prim-types.fs:line 4146\r\n",
       "   at lambda_method777(Closure, FSharpList`1)\r\n",
       "   at Microsoft.DotNet.Interactive.Formatting.MemberAccessor`1.GetValueOrException(T instance) in D:\\a\\_work\\1\\s\\src\\Microsoft.DotNet.Interactive.Formatting\\MemberAccessor{T}.cs:line 58</td></tr></tbody></table></div></details></td></tr><tr><td><i>(values)</i></td><td><div class=\"dni-plaintext\"><pre>[  ]</pre></div></td></tr></tbody></table></div></details></td></tr><tr><td>Head</td><td><div class=\"dni-plaintext\"><pre>288.5650063125</pre></div></td></tr><tr><td>Tail</td><td><details class=\"dni-treeview\"><summary><span class=\"dni-code-hint\"><code>[  ]</code></span></summary><div><table><thead><tr></tr></thead><tbody><tr><td>HeadOrDefault</td><td><div class=\"dni-plaintext\"><pre>0</pre></div></td></tr><tr><td>TailOrNull</td><td><div class=\"dni-plaintext\"><pre>&lt;null&gt;</pre></div></td></tr><tr><td>Head</td><td><details class=\"dni-treeview\"><summary><span class=\"dni-code-hint\"><code>System.InvalidOperationException: The input list was empty.\\r\\n   at Microsoft.FSharp.Collections.FSharpList`1.get_Head() in D:\\a\\_work\\1\\s\\src\\FSharp.Core\\prim-types.fs:line 4141\\r\\n   at lambda_method776(Closure, FSharpList`1)\\r\\n   at Microsoft.DotNet.Interactive.Formatting.MemberAccessor`1.GetVa...</code></span></summary><div><table><thead><tr></tr></thead><tbody><tr><td>TargetSite</td><td>T get_Head()</td></tr><tr><td>Message</td><td>The input list was empty.</td></tr><tr><td>Data</td><td>[  ]</td></tr><tr><td>InnerException</td><td><div class=\"dni-plaintext\"><pre>&lt;null&gt;</pre></div></td></tr><tr><td>HelpLink</td><td><div class=\"dni-plaintext\"><pre>&lt;null&gt;</pre></div></td></tr><tr><td>Source</td><td>FSharp.Core</td></tr><tr><td>HResult</td><td>-2146233079</td></tr><tr><td>StackTrace</td><td>   at Microsoft.FSharp.Collections.FSharpList`1.get_Head() in D:\\a\\_work\\1\\s\\src\\FSharp.Core\\prim-types.fs:line 4141\r\n",
       "   at lambda_method776(Closure, FSharpList`1)\r\n",
       "   at Microsoft.DotNet.Interactive.Formatting.MemberAccessor`1.GetValueOrException(T instance) in D:\\a\\_work\\1\\s\\src\\Microsoft.DotNet.Interactive.Formatting\\MemberAccessor{T}.cs:line 58</td></tr></tbody></table></div></details></td></tr><tr><td>Tail</td><td><details class=\"dni-treeview\"><summary><span class=\"dni-code-hint\"><code>System.InvalidOperationException: The input list was empty.\\r\\n   at Microsoft.FSharp.Collections.FSharpList`1.get_Tail() in D:\\a\\_work\\1\\s\\src\\FSharp.Core\\prim-types.fs:line 4146\\r\\n   at lambda_method777(Closure, FSharpList`1)\\r\\n   at Microsoft.DotNet.Interactive.Formatting.MemberAccessor`1.GetVa...</code></span></summary><div><table><thead><tr></tr></thead><tbody><tr><td>TargetSite</td><td>Microsoft.FSharp.Collections.FSharpList`1[T] get_Tail()</td></tr><tr><td>Message</td><td>The input list was empty.</td></tr><tr><td>Data</td><td>[  ]</td></tr><tr><td>InnerException</td><td><div class=\"dni-plaintext\"><pre>&lt;null&gt;</pre></div></td></tr><tr><td>HelpLink</td><td><div class=\"dni-plaintext\"><pre>&lt;null&gt;</pre></div></td></tr><tr><td>Source</td><td>FSharp.Core</td></tr><tr><td>HResult</td><td>-2146233079</td></tr><tr><td>StackTrace</td><td>   at Microsoft.FSharp.Collections.FSharpList`1.get_Tail() in D:\\a\\_work\\1\\s\\src\\FSharp.Core\\prim-types.fs:line 4146\r\n",
       "   at lambda_method777(Closure, FSharpList`1)\r\n",
       "   at Microsoft.DotNet.Interactive.Formatting.MemberAccessor`1.GetValueOrException(T instance) in D:\\a\\_work\\1\\s\\src\\Microsoft.DotNet.Interactive.Formatting\\MemberAccessor{T}.cs:line 58</td></tr></tbody></table></div></details></td></tr><tr><td><i>(values)</i></td><td><div class=\"dni-plaintext\"><pre>[  ]</pre></div></td></tr></tbody></table></div></details></td></tr><tr><td><i>(values)</i></td><td><div class=\"dni-plaintext\"><pre>[ 288.5650063125 ]</pre></div></td></tr></tbody></table></div></details></td></tr><tr><td><i>(values)</i></td><td><div class=\"dni-plaintext\"><pre>[ 283.2793785000, 288.5650063125 ]</pre></div></td></tr></tbody></table></div></details></td></tr></tbody></table></div></details></td></tr><tr><td>6</td><td><details class=\"dni-treeview\"><summary><span class=\"dni-code-hint\"><code>(4/17/2023 12:00:00 AM, [284.1906227500; 287.9837437500])</code></span></summary><div><table><thead><tr></tr></thead><tbody><tr><td>Item1</td><td><span>2023-04-17 00:00:00Z</span></td></tr><tr><td>Item2</td><td><details class=\"dni-treeview\"><summary><span class=\"dni-code-hint\"><code>[ 284.1906227500, 287.9837437500 ]</code></span></summary><div><table><thead><tr></tr></thead><tbody><tr><td>HeadOrDefault</td><td><div class=\"dni-plaintext\"><pre>284.1906227500</pre></div></td></tr><tr><td>TailOrNull</td><td><details class=\"dni-treeview\"><summary><span class=\"dni-code-hint\"><code>[ 287.9837437500 ]</code></span></summary><div><table><thead><tr></tr></thead><tbody><tr><td>HeadOrDefault</td><td><div class=\"dni-plaintext\"><pre>287.9837437500</pre></div></td></tr><tr><td>TailOrNull</td><td><details class=\"dni-treeview\"><summary><span class=\"dni-code-hint\"><code>[  ]</code></span></summary><div><table><thead><tr></tr></thead><tbody><tr><td>HeadOrDefault</td><td><div class=\"dni-plaintext\"><pre>0</pre></div></td></tr><tr><td>TailOrNull</td><td><div class=\"dni-plaintext\"><pre>&lt;null&gt;</pre></div></td></tr><tr><td>Head</td><td><details class=\"dni-treeview\"><summary><span class=\"dni-code-hint\"><code>System.InvalidOperationException: The input list was empty.\\r\\n   at Microsoft.FSharp.Collections.FSharpList`1.get_Head() in D:\\a\\_work\\1\\s\\src\\FSharp.Core\\prim-types.fs:line 4141\\r\\n   at lambda_method776(Closure, FSharpList`1)\\r\\n   at Microsoft.DotNet.Interactive.Formatting.MemberAccessor`1.GetVa...</code></span></summary><div><table><thead><tr></tr></thead><tbody><tr><td>TargetSite</td><td>T get_Head()</td></tr><tr><td>Message</td><td>The input list was empty.</td></tr><tr><td>Data</td><td>[  ]</td></tr><tr><td>InnerException</td><td><div class=\"dni-plaintext\"><pre>&lt;null&gt;</pre></div></td></tr><tr><td>HelpLink</td><td><div class=\"dni-plaintext\"><pre>&lt;null&gt;</pre></div></td></tr><tr><td>Source</td><td>FSharp.Core</td></tr><tr><td>HResult</td><td>-2146233079</td></tr><tr><td>StackTrace</td><td>   at Microsoft.FSharp.Collections.FSharpList`1.get_Head() in D:\\a\\_work\\1\\s\\src\\FSharp.Core\\prim-types.fs:line 4141\r\n",
       "   at lambda_method776(Closure, FSharpList`1)\r\n",
       "   at Microsoft.DotNet.Interactive.Formatting.MemberAccessor`1.GetValueOrException(T instance) in D:\\a\\_work\\1\\s\\src\\Microsoft.DotNet.Interactive.Formatting\\MemberAccessor{T}.cs:line 58</td></tr></tbody></table></div></details></td></tr><tr><td>Tail</td><td><details class=\"dni-treeview\"><summary><span class=\"dni-code-hint\"><code>System.InvalidOperationException: The input list was empty.\\r\\n   at Microsoft.FSharp.Collections.FSharpList`1.get_Tail() in D:\\a\\_work\\1\\s\\src\\FSharp.Core\\prim-types.fs:line 4146\\r\\n   at lambda_method777(Closure, FSharpList`1)\\r\\n   at Microsoft.DotNet.Interactive.Formatting.MemberAccessor`1.GetVa...</code></span></summary><div><table><thead><tr></tr></thead><tbody><tr><td>TargetSite</td><td>Microsoft.FSharp.Collections.FSharpList`1[T] get_Tail()</td></tr><tr><td>Message</td><td>The input list was empty.</td></tr><tr><td>Data</td><td>[  ]</td></tr><tr><td>InnerException</td><td><div class=\"dni-plaintext\"><pre>&lt;null&gt;</pre></div></td></tr><tr><td>HelpLink</td><td><div class=\"dni-plaintext\"><pre>&lt;null&gt;</pre></div></td></tr><tr><td>Source</td><td>FSharp.Core</td></tr><tr><td>HResult</td><td>-2146233079</td></tr><tr><td>StackTrace</td><td>   at Microsoft.FSharp.Collections.FSharpList`1.get_Tail() in D:\\a\\_work\\1\\s\\src\\FSharp.Core\\prim-types.fs:line 4146\r\n",
       "   at lambda_method777(Closure, FSharpList`1)\r\n",
       "   at Microsoft.DotNet.Interactive.Formatting.MemberAccessor`1.GetValueOrException(T instance) in D:\\a\\_work\\1\\s\\src\\Microsoft.DotNet.Interactive.Formatting\\MemberAccessor{T}.cs:line 58</td></tr></tbody></table></div></details></td></tr><tr><td><i>(values)</i></td><td><div class=\"dni-plaintext\"><pre>[  ]</pre></div></td></tr></tbody></table></div></details></td></tr><tr><td>Head</td><td><div class=\"dni-plaintext\"><pre>287.9837437500</pre></div></td></tr><tr><td>Tail</td><td><details class=\"dni-treeview\"><summary><span class=\"dni-code-hint\"><code>[  ]</code></span></summary><div><table><thead><tr></tr></thead><tbody><tr><td>HeadOrDefault</td><td><div class=\"dni-plaintext\"><pre>0</pre></div></td></tr><tr><td>TailOrNull</td><td><div class=\"dni-plaintext\"><pre>&lt;null&gt;</pre></div></td></tr><tr><td>Head</td><td><details class=\"dni-treeview\"><summary><span class=\"dni-code-hint\"><code>System.InvalidOperationException: The input list was empty.\\r\\n   at Microsoft.FSharp.Collections.FSharpList`1.get_Head() in D:\\a\\_work\\1\\s\\src\\FSharp.Core\\prim-types.fs:line 4141\\r\\n   at lambda_method776(Closure, FSharpList`1)\\r\\n   at Microsoft.DotNet.Interactive.Formatting.MemberAccessor`1.GetVa...</code></span></summary><div><table><thead><tr></tr></thead><tbody><tr><td>TargetSite</td><td>T get_Head()</td></tr><tr><td>Message</td><td>The input list was empty.</td></tr><tr><td>Data</td><td>[  ]</td></tr><tr><td>InnerException</td><td><div class=\"dni-plaintext\"><pre>&lt;null&gt;</pre></div></td></tr><tr><td>HelpLink</td><td><div class=\"dni-plaintext\"><pre>&lt;null&gt;</pre></div></td></tr><tr><td>Source</td><td>FSharp.Core</td></tr><tr><td>HResult</td><td>-2146233079</td></tr><tr><td>StackTrace</td><td>   at Microsoft.FSharp.Collections.FSharpList`1.get_Head() in D:\\a\\_work\\1\\s\\src\\FSharp.Core\\prim-types.fs:line 4141\r\n",
       "   at lambda_method776(Closure, FSharpList`1)\r\n",
       "   at Microsoft.DotNet.Interactive.Formatting.MemberAccessor`1.GetValueOrException(T instance) in D:\\a\\_work\\1\\s\\src\\Microsoft.DotNet.Interactive.Formatting\\MemberAccessor{T}.cs:line 58</td></tr></tbody></table></div></details></td></tr><tr><td>Tail</td><td><details class=\"dni-treeview\"><summary><span class=\"dni-code-hint\"><code>System.InvalidOperationException: The input list was empty.\\r\\n   at Microsoft.FSharp.Collections.FSharpList`1.get_Tail() in D:\\a\\_work\\1\\s\\src\\FSharp.Core\\prim-types.fs:line 4146\\r\\n   at lambda_method777(Closure, FSharpList`1)\\r\\n   at Microsoft.DotNet.Interactive.Formatting.MemberAccessor`1.GetVa...</code></span></summary><div><table><thead><tr></tr></thead><tbody><tr><td>TargetSite</td><td>Microsoft.FSharp.Collections.FSharpList`1[T] get_Tail()</td></tr><tr><td>Message</td><td>The input list was empty.</td></tr><tr><td>Data</td><td>[  ]</td></tr><tr><td>InnerException</td><td><div class=\"dni-plaintext\"><pre>&lt;null&gt;</pre></div></td></tr><tr><td>HelpLink</td><td><div class=\"dni-plaintext\"><pre>&lt;null&gt;</pre></div></td></tr><tr><td>Source</td><td>FSharp.Core</td></tr><tr><td>HResult</td><td>-2146233079</td></tr><tr><td>StackTrace</td><td>   at Microsoft.FSharp.Collections.FSharpList`1.get_Tail() in D:\\a\\_work\\1\\s\\src\\FSharp.Core\\prim-types.fs:line 4146\r\n",
       "   at lambda_method777(Closure, FSharpList`1)\r\n",
       "   at Microsoft.DotNet.Interactive.Formatting.MemberAccessor`1.GetValueOrException(T instance) in D:\\a\\_work\\1\\s\\src\\Microsoft.DotNet.Interactive.Formatting\\MemberAccessor{T}.cs:line 58</td></tr></tbody></table></div></details></td></tr><tr><td><i>(values)</i></td><td><div class=\"dni-plaintext\"><pre>[  ]</pre></div></td></tr></tbody></table></div></details></td></tr><tr><td><i>(values)</i></td><td><div class=\"dni-plaintext\"><pre>[ 287.9837437500 ]</pre></div></td></tr></tbody></table></div></details></td></tr><tr><td>Head</td><td><div class=\"dni-plaintext\"><pre>284.1906227500</pre></div></td></tr><tr><td>Tail</td><td><details class=\"dni-treeview\"><summary><span class=\"dni-code-hint\"><code>[ 287.9837437500 ]</code></span></summary><div><table><thead><tr></tr></thead><tbody><tr><td>HeadOrDefault</td><td><div class=\"dni-plaintext\"><pre>287.9837437500</pre></div></td></tr><tr><td>TailOrNull</td><td><details class=\"dni-treeview\"><summary><span class=\"dni-code-hint\"><code>[  ]</code></span></summary><div><table><thead><tr></tr></thead><tbody><tr><td>HeadOrDefault</td><td><div class=\"dni-plaintext\"><pre>0</pre></div></td></tr><tr><td>TailOrNull</td><td><div class=\"dni-plaintext\"><pre>&lt;null&gt;</pre></div></td></tr><tr><td>Head</td><td><details class=\"dni-treeview\"><summary><span class=\"dni-code-hint\"><code>System.InvalidOperationException: The input list was empty.\\r\\n   at Microsoft.FSharp.Collections.FSharpList`1.get_Head() in D:\\a\\_work\\1\\s\\src\\FSharp.Core\\prim-types.fs:line 4141\\r\\n   at lambda_method776(Closure, FSharpList`1)\\r\\n   at Microsoft.DotNet.Interactive.Formatting.MemberAccessor`1.GetVa...</code></span></summary><div><table><thead><tr></tr></thead><tbody><tr><td>TargetSite</td><td>T get_Head()</td></tr><tr><td>Message</td><td>The input list was empty.</td></tr><tr><td>Data</td><td>[  ]</td></tr><tr><td>InnerException</td><td><div class=\"dni-plaintext\"><pre>&lt;null&gt;</pre></div></td></tr><tr><td>HelpLink</td><td><div class=\"dni-plaintext\"><pre>&lt;null&gt;</pre></div></td></tr><tr><td>Source</td><td>FSharp.Core</td></tr><tr><td>HResult</td><td>-2146233079</td></tr><tr><td>StackTrace</td><td>   at Microsoft.FSharp.Collections.FSharpList`1.get_Head() in D:\\a\\_work\\1\\s\\src\\FSharp.Core\\prim-types.fs:line 4141\r\n",
       "   at lambda_method776(Closure, FSharpList`1)\r\n",
       "   at Microsoft.DotNet.Interactive.Formatting.MemberAccessor`1.GetValueOrException(T instance) in D:\\a\\_work\\1\\s\\src\\Microsoft.DotNet.Interactive.Formatting\\MemberAccessor{T}.cs:line 58</td></tr></tbody></table></div></details></td></tr><tr><td>Tail</td><td><details class=\"dni-treeview\"><summary><span class=\"dni-code-hint\"><code>System.InvalidOperationException: The input list was empty.\\r\\n   at Microsoft.FSharp.Collections.FSharpList`1.get_Tail() in D:\\a\\_work\\1\\s\\src\\FSharp.Core\\prim-types.fs:line 4146\\r\\n   at lambda_method777(Closure, FSharpList`1)\\r\\n   at Microsoft.DotNet.Interactive.Formatting.MemberAccessor`1.GetVa...</code></span></summary><div><table><thead><tr></tr></thead><tbody><tr><td>TargetSite</td><td>Microsoft.FSharp.Collections.FSharpList`1[T] get_Tail()</td></tr><tr><td>Message</td><td>The input list was empty.</td></tr><tr><td>Data</td><td>[  ]</td></tr><tr><td>InnerException</td><td><div class=\"dni-plaintext\"><pre>&lt;null&gt;</pre></div></td></tr><tr><td>HelpLink</td><td><div class=\"dni-plaintext\"><pre>&lt;null&gt;</pre></div></td></tr><tr><td>Source</td><td>FSharp.Core</td></tr><tr><td>HResult</td><td>-2146233079</td></tr><tr><td>StackTrace</td><td>   at Microsoft.FSharp.Collections.FSharpList`1.get_Tail() in D:\\a\\_work\\1\\s\\src\\FSharp.Core\\prim-types.fs:line 4146\r\n",
       "   at lambda_method777(Closure, FSharpList`1)\r\n",
       "   at Microsoft.DotNet.Interactive.Formatting.MemberAccessor`1.GetValueOrException(T instance) in D:\\a\\_work\\1\\s\\src\\Microsoft.DotNet.Interactive.Formatting\\MemberAccessor{T}.cs:line 58</td></tr></tbody></table></div></details></td></tr><tr><td><i>(values)</i></td><td><div class=\"dni-plaintext\"><pre>[  ]</pre></div></td></tr></tbody></table></div></details></td></tr><tr><td>Head</td><td><div class=\"dni-plaintext\"><pre>287.9837437500</pre></div></td></tr><tr><td>Tail</td><td><details class=\"dni-treeview\"><summary><span class=\"dni-code-hint\"><code>[  ]</code></span></summary><div><table><thead><tr></tr></thead><tbody><tr><td>HeadOrDefault</td><td><div class=\"dni-plaintext\"><pre>0</pre></div></td></tr><tr><td>TailOrNull</td><td><div class=\"dni-plaintext\"><pre>&lt;null&gt;</pre></div></td></tr><tr><td>Head</td><td><details class=\"dni-treeview\"><summary><span class=\"dni-code-hint\"><code>System.InvalidOperationException: The input list was empty.\\r\\n   at Microsoft.FSharp.Collections.FSharpList`1.get_Head() in D:\\a\\_work\\1\\s\\src\\FSharp.Core\\prim-types.fs:line 4141\\r\\n   at lambda_method776(Closure, FSharpList`1)\\r\\n   at Microsoft.DotNet.Interactive.Formatting.MemberAccessor`1.GetVa...</code></span></summary><div><table><thead><tr></tr></thead><tbody><tr><td>TargetSite</td><td>T get_Head()</td></tr><tr><td>Message</td><td>The input list was empty.</td></tr><tr><td>Data</td><td>[  ]</td></tr><tr><td>InnerException</td><td><div class=\"dni-plaintext\"><pre>&lt;null&gt;</pre></div></td></tr><tr><td>HelpLink</td><td><div class=\"dni-plaintext\"><pre>&lt;null&gt;</pre></div></td></tr><tr><td>Source</td><td>FSharp.Core</td></tr><tr><td>HResult</td><td>-2146233079</td></tr><tr><td>StackTrace</td><td>   at Microsoft.FSharp.Collections.FSharpList`1.get_Head() in D:\\a\\_work\\1\\s\\src\\FSharp.Core\\prim-types.fs:line 4141\r\n",
       "   at lambda_method776(Closure, FSharpList`1)\r\n",
       "   at Microsoft.DotNet.Interactive.Formatting.MemberAccessor`1.GetValueOrException(T instance) in D:\\a\\_work\\1\\s\\src\\Microsoft.DotNet.Interactive.Formatting\\MemberAccessor{T}.cs:line 58</td></tr></tbody></table></div></details></td></tr><tr><td>Tail</td><td><details class=\"dni-treeview\"><summary><span class=\"dni-code-hint\"><code>System.InvalidOperationException: The input list was empty.\\r\\n   at Microsoft.FSharp.Collections.FSharpList`1.get_Tail() in D:\\a\\_work\\1\\s\\src\\FSharp.Core\\prim-types.fs:line 4146\\r\\n   at lambda_method777(Closure, FSharpList`1)\\r\\n   at Microsoft.DotNet.Interactive.Formatting.MemberAccessor`1.GetVa...</code></span></summary><div><table><thead><tr></tr></thead><tbody><tr><td>TargetSite</td><td>Microsoft.FSharp.Collections.FSharpList`1[T] get_Tail()</td></tr><tr><td>Message</td><td>The input list was empty.</td></tr><tr><td>Data</td><td>[  ]</td></tr><tr><td>InnerException</td><td><div class=\"dni-plaintext\"><pre>&lt;null&gt;</pre></div></td></tr><tr><td>HelpLink</td><td><div class=\"dni-plaintext\"><pre>&lt;null&gt;</pre></div></td></tr><tr><td>Source</td><td>FSharp.Core</td></tr><tr><td>HResult</td><td>-2146233079</td></tr><tr><td>StackTrace</td><td>   at Microsoft.FSharp.Collections.FSharpList`1.get_Tail() in D:\\a\\_work\\1\\s\\src\\FSharp.Core\\prim-types.fs:line 4146\r\n",
       "   at lambda_method777(Closure, FSharpList`1)\r\n",
       "   at Microsoft.DotNet.Interactive.Formatting.MemberAccessor`1.GetValueOrException(T instance) in D:\\a\\_work\\1\\s\\src\\Microsoft.DotNet.Interactive.Formatting\\MemberAccessor{T}.cs:line 58</td></tr></tbody></table></div></details></td></tr><tr><td><i>(values)</i></td><td><div class=\"dni-plaintext\"><pre>[  ]</pre></div></td></tr></tbody></table></div></details></td></tr><tr><td><i>(values)</i></td><td><div class=\"dni-plaintext\"><pre>[ 287.9837437500 ]</pre></div></td></tr></tbody></table></div></details></td></tr><tr><td><i>(values)</i></td><td><div class=\"dni-plaintext\"><pre>[ 284.1906227500, 287.9837437500 ]</pre></div></td></tr></tbody></table></div></details></td></tr></tbody></table></div></details></td></tr><tr><td>7</td><td><details class=\"dni-treeview\"><summary><span class=\"dni-code-hint\"><code>(4/24/2023 12:00:00 AM, [296.6893751250; 303.6206265000])</code></span></summary><div><table><thead><tr></tr></thead><tbody><tr><td>Item1</td><td><span>2023-04-24 00:00:00Z</span></td></tr><tr><td>Item2</td><td><details class=\"dni-treeview\"><summary><span class=\"dni-code-hint\"><code>[ 296.6893751250, 303.6206265000 ]</code></span></summary><div><table><thead><tr></tr></thead><tbody><tr><td>HeadOrDefault</td><td><div class=\"dni-plaintext\"><pre>296.6893751250</pre></div></td></tr><tr><td>TailOrNull</td><td><details class=\"dni-treeview\"><summary><span class=\"dni-code-hint\"><code>[ 303.6206265000 ]</code></span></summary><div><table><thead><tr></tr></thead><tbody><tr><td>HeadOrDefault</td><td><div class=\"dni-plaintext\"><pre>303.6206265000</pre></div></td></tr><tr><td>TailOrNull</td><td><details class=\"dni-treeview\"><summary><span class=\"dni-code-hint\"><code>[  ]</code></span></summary><div><table><thead><tr></tr></thead><tbody><tr><td>HeadOrDefault</td><td><div class=\"dni-plaintext\"><pre>0</pre></div></td></tr><tr><td>TailOrNull</td><td><div class=\"dni-plaintext\"><pre>&lt;null&gt;</pre></div></td></tr><tr><td>Head</td><td><details class=\"dni-treeview\"><summary><span class=\"dni-code-hint\"><code>System.InvalidOperationException: The input list was empty.\\r\\n   at Microsoft.FSharp.Collections.FSharpList`1.get_Head() in D:\\a\\_work\\1\\s\\src\\FSharp.Core\\prim-types.fs:line 4141\\r\\n   at lambda_method776(Closure, FSharpList`1)\\r\\n   at Microsoft.DotNet.Interactive.Formatting.MemberAccessor`1.GetVa...</code></span></summary><div><table><thead><tr></tr></thead><tbody><tr><td>TargetSite</td><td>T get_Head()</td></tr><tr><td>Message</td><td>The input list was empty.</td></tr><tr><td>Data</td><td>[  ]</td></tr><tr><td>InnerException</td><td><div class=\"dni-plaintext\"><pre>&lt;null&gt;</pre></div></td></tr><tr><td>HelpLink</td><td><div class=\"dni-plaintext\"><pre>&lt;null&gt;</pre></div></td></tr><tr><td>Source</td><td>FSharp.Core</td></tr><tr><td>HResult</td><td>-2146233079</td></tr><tr><td>StackTrace</td><td>   at Microsoft.FSharp.Collections.FSharpList`1.get_Head() in D:\\a\\_work\\1\\s\\src\\FSharp.Core\\prim-types.fs:line 4141\r\n",
       "   at lambda_method776(Closure, FSharpList`1)\r\n",
       "   at Microsoft.DotNet.Interactive.Formatting.MemberAccessor`1.GetValueOrException(T instance) in D:\\a\\_work\\1\\s\\src\\Microsoft.DotNet.Interactive.Formatting\\MemberAccessor{T}.cs:line 58</td></tr></tbody></table></div></details></td></tr><tr><td>Tail</td><td><details class=\"dni-treeview\"><summary><span class=\"dni-code-hint\"><code>System.InvalidOperationException: The input list was empty.\\r\\n   at Microsoft.FSharp.Collections.FSharpList`1.get_Tail() in D:\\a\\_work\\1\\s\\src\\FSharp.Core\\prim-types.fs:line 4146\\r\\n   at lambda_method777(Closure, FSharpList`1)\\r\\n   at Microsoft.DotNet.Interactive.Formatting.MemberAccessor`1.GetVa...</code></span></summary><div><table><thead><tr></tr></thead><tbody><tr><td>TargetSite</td><td>Microsoft.FSharp.Collections.FSharpList`1[T] get_Tail()</td></tr><tr><td>Message</td><td>The input list was empty.</td></tr><tr><td>Data</td><td>[  ]</td></tr><tr><td>InnerException</td><td><div class=\"dni-plaintext\"><pre>&lt;null&gt;</pre></div></td></tr><tr><td>HelpLink</td><td><div class=\"dni-plaintext\"><pre>&lt;null&gt;</pre></div></td></tr><tr><td>Source</td><td>FSharp.Core</td></tr><tr><td>HResult</td><td>-2146233079</td></tr><tr><td>StackTrace</td><td>   at Microsoft.FSharp.Collections.FSharpList`1.get_Tail() in D:\\a\\_work\\1\\s\\src\\FSharp.Core\\prim-types.fs:line 4146\r\n",
       "   at lambda_method777(Closure, FSharpList`1)\r\n",
       "   at Microsoft.DotNet.Interactive.Formatting.MemberAccessor`1.GetValueOrException(T instance) in D:\\a\\_work\\1\\s\\src\\Microsoft.DotNet.Interactive.Formatting\\MemberAccessor{T}.cs:line 58</td></tr></tbody></table></div></details></td></tr><tr><td><i>(values)</i></td><td><div class=\"dni-plaintext\"><pre>[  ]</pre></div></td></tr></tbody></table></div></details></td></tr><tr><td>Head</td><td><div class=\"dni-plaintext\"><pre>303.6206265000</pre></div></td></tr><tr><td>Tail</td><td><details class=\"dni-treeview\"><summary><span class=\"dni-code-hint\"><code>[  ]</code></span></summary><div><table><thead><tr></tr></thead><tbody><tr><td>HeadOrDefault</td><td><div class=\"dni-plaintext\"><pre>0</pre></div></td></tr><tr><td>TailOrNull</td><td><div class=\"dni-plaintext\"><pre>&lt;null&gt;</pre></div></td></tr><tr><td>Head</td><td><details class=\"dni-treeview\"><summary><span class=\"dni-code-hint\"><code>System.InvalidOperationException: The input list was empty.\\r\\n   at Microsoft.FSharp.Collections.FSharpList`1.get_Head() in D:\\a\\_work\\1\\s\\src\\FSharp.Core\\prim-types.fs:line 4141\\r\\n   at lambda_method776(Closure, FSharpList`1)\\r\\n   at Microsoft.DotNet.Interactive.Formatting.MemberAccessor`1.GetVa...</code></span></summary><div><table><thead><tr></tr></thead><tbody><tr><td>TargetSite</td><td>T get_Head()</td></tr><tr><td>Message</td><td>The input list was empty.</td></tr><tr><td>Data</td><td>[  ]</td></tr><tr><td>InnerException</td><td><div class=\"dni-plaintext\"><pre>&lt;null&gt;</pre></div></td></tr><tr><td>HelpLink</td><td><div class=\"dni-plaintext\"><pre>&lt;null&gt;</pre></div></td></tr><tr><td>Source</td><td>FSharp.Core</td></tr><tr><td>HResult</td><td>-2146233079</td></tr><tr><td>StackTrace</td><td>   at Microsoft.FSharp.Collections.FSharpList`1.get_Head() in D:\\a\\_work\\1\\s\\src\\FSharp.Core\\prim-types.fs:line 4141\r\n",
       "   at lambda_method776(Closure, FSharpList`1)\r\n",
       "   at Microsoft.DotNet.Interactive.Formatting.MemberAccessor`1.GetValueOrException(T instance) in D:\\a\\_work\\1\\s\\src\\Microsoft.DotNet.Interactive.Formatting\\MemberAccessor{T}.cs:line 58</td></tr></tbody></table></div></details></td></tr><tr><td>Tail</td><td><details class=\"dni-treeview\"><summary><span class=\"dni-code-hint\"><code>System.InvalidOperationException: The input list was empty.\\r\\n   at Microsoft.FSharp.Collections.FSharpList`1.get_Tail() in D:\\a\\_work\\1\\s\\src\\FSharp.Core\\prim-types.fs:line 4146\\r\\n   at lambda_method777(Closure, FSharpList`1)\\r\\n   at Microsoft.DotNet.Interactive.Formatting.MemberAccessor`1.GetVa...</code></span></summary><div><table><thead><tr></tr></thead><tbody><tr><td>TargetSite</td><td>Microsoft.FSharp.Collections.FSharpList`1[T] get_Tail()</td></tr><tr><td>Message</td><td>The input list was empty.</td></tr><tr><td>Data</td><td>[  ]</td></tr><tr><td>InnerException</td><td><div class=\"dni-plaintext\"><pre>&lt;null&gt;</pre></div></td></tr><tr><td>HelpLink</td><td><div class=\"dni-plaintext\"><pre>&lt;null&gt;</pre></div></td></tr><tr><td>Source</td><td>FSharp.Core</td></tr><tr><td>HResult</td><td>-2146233079</td></tr><tr><td>StackTrace</td><td>   at Microsoft.FSharp.Collections.FSharpList`1.get_Tail() in D:\\a\\_work\\1\\s\\src\\FSharp.Core\\prim-types.fs:line 4146\r\n",
       "   at lambda_method777(Closure, FSharpList`1)\r\n",
       "   at Microsoft.DotNet.Interactive.Formatting.MemberAccessor`1.GetValueOrException(T instance) in D:\\a\\_work\\1\\s\\src\\Microsoft.DotNet.Interactive.Formatting\\MemberAccessor{T}.cs:line 58</td></tr></tbody></table></div></details></td></tr><tr><td><i>(values)</i></td><td><div class=\"dni-plaintext\"><pre>[  ]</pre></div></td></tr></tbody></table></div></details></td></tr><tr><td><i>(values)</i></td><td><div class=\"dni-plaintext\"><pre>[ 303.6206265000 ]</pre></div></td></tr></tbody></table></div></details></td></tr><tr><td>Head</td><td><div class=\"dni-plaintext\"><pre>296.6893751250</pre></div></td></tr><tr><td>Tail</td><td><details class=\"dni-treeview\"><summary><span class=\"dni-code-hint\"><code>[ 303.6206265000 ]</code></span></summary><div><table><thead><tr></tr></thead><tbody><tr><td>HeadOrDefault</td><td><div class=\"dni-plaintext\"><pre>303.6206265000</pre></div></td></tr><tr><td>TailOrNull</td><td><details class=\"dni-treeview\"><summary><span class=\"dni-code-hint\"><code>[  ]</code></span></summary><div><table><thead><tr></tr></thead><tbody><tr><td>HeadOrDefault</td><td><div class=\"dni-plaintext\"><pre>0</pre></div></td></tr><tr><td>TailOrNull</td><td><div class=\"dni-plaintext\"><pre>&lt;null&gt;</pre></div></td></tr><tr><td>Head</td><td><details class=\"dni-treeview\"><summary><span class=\"dni-code-hint\"><code>System.InvalidOperationException: The input list was empty.\\r\\n   at Microsoft.FSharp.Collections.FSharpList`1.get_Head() in D:\\a\\_work\\1\\s\\src\\FSharp.Core\\prim-types.fs:line 4141\\r\\n   at lambda_method776(Closure, FSharpList`1)\\r\\n   at Microsoft.DotNet.Interactive.Formatting.MemberAccessor`1.GetVa...</code></span></summary><div><table><thead><tr></tr></thead><tbody><tr><td>TargetSite</td><td>T get_Head()</td></tr><tr><td>Message</td><td>The input list was empty.</td></tr><tr><td>Data</td><td>[  ]</td></tr><tr><td>InnerException</td><td><div class=\"dni-plaintext\"><pre>&lt;null&gt;</pre></div></td></tr><tr><td>HelpLink</td><td><div class=\"dni-plaintext\"><pre>&lt;null&gt;</pre></div></td></tr><tr><td>Source</td><td>FSharp.Core</td></tr><tr><td>HResult</td><td>-2146233079</td></tr><tr><td>StackTrace</td><td>   at Microsoft.FSharp.Collections.FSharpList`1.get_Head() in D:\\a\\_work\\1\\s\\src\\FSharp.Core\\prim-types.fs:line 4141\r\n",
       "   at lambda_method776(Closure, FSharpList`1)\r\n",
       "   at Microsoft.DotNet.Interactive.Formatting.MemberAccessor`1.GetValueOrException(T instance) in D:\\a\\_work\\1\\s\\src\\Microsoft.DotNet.Interactive.Formatting\\MemberAccessor{T}.cs:line 58</td></tr></tbody></table></div></details></td></tr><tr><td>Tail</td><td><details class=\"dni-treeview\"><summary><span class=\"dni-code-hint\"><code>System.InvalidOperationException: The input list was empty.\\r\\n   at Microsoft.FSharp.Collections.FSharpList`1.get_Tail() in D:\\a\\_work\\1\\s\\src\\FSharp.Core\\prim-types.fs:line 4146\\r\\n   at lambda_method777(Closure, FSharpList`1)\\r\\n   at Microsoft.DotNet.Interactive.Formatting.MemberAccessor`1.GetVa...</code></span></summary><div><table><thead><tr></tr></thead><tbody><tr><td>TargetSite</td><td>Microsoft.FSharp.Collections.FSharpList`1[T] get_Tail()</td></tr><tr><td>Message</td><td>The input list was empty.</td></tr><tr><td>Data</td><td>[  ]</td></tr><tr><td>InnerException</td><td><div class=\"dni-plaintext\"><pre>&lt;null&gt;</pre></div></td></tr><tr><td>HelpLink</td><td><div class=\"dni-plaintext\"><pre>&lt;null&gt;</pre></div></td></tr><tr><td>Source</td><td>FSharp.Core</td></tr><tr><td>HResult</td><td>-2146233079</td></tr><tr><td>StackTrace</td><td>   at Microsoft.FSharp.Collections.FSharpList`1.get_Tail() in D:\\a\\_work\\1\\s\\src\\FSharp.Core\\prim-types.fs:line 4146\r\n",
       "   at lambda_method777(Closure, FSharpList`1)\r\n",
       "   at Microsoft.DotNet.Interactive.Formatting.MemberAccessor`1.GetValueOrException(T instance) in D:\\a\\_work\\1\\s\\src\\Microsoft.DotNet.Interactive.Formatting\\MemberAccessor{T}.cs:line 58</td></tr></tbody></table></div></details></td></tr><tr><td><i>(values)</i></td><td><div class=\"dni-plaintext\"><pre>[  ]</pre></div></td></tr></tbody></table></div></details></td></tr><tr><td>Head</td><td><div class=\"dni-plaintext\"><pre>303.6206265000</pre></div></td></tr><tr><td>Tail</td><td><details class=\"dni-treeview\"><summary><span class=\"dni-code-hint\"><code>[  ]</code></span></summary><div><table><thead><tr></tr></thead><tbody><tr><td>HeadOrDefault</td><td><div class=\"dni-plaintext\"><pre>0</pre></div></td></tr><tr><td>TailOrNull</td><td><div class=\"dni-plaintext\"><pre>&lt;null&gt;</pre></div></td></tr><tr><td>Head</td><td><details class=\"dni-treeview\"><summary><span class=\"dni-code-hint\"><code>System.InvalidOperationException: The input list was empty.\\r\\n   at Microsoft.FSharp.Collections.FSharpList`1.get_Head() in D:\\a\\_work\\1\\s\\src\\FSharp.Core\\prim-types.fs:line 4141\\r\\n   at lambda_method776(Closure, FSharpList`1)\\r\\n   at Microsoft.DotNet.Interactive.Formatting.MemberAccessor`1.GetVa...</code></span></summary><div><table><thead><tr></tr></thead><tbody><tr><td>TargetSite</td><td>T get_Head()</td></tr><tr><td>Message</td><td>The input list was empty.</td></tr><tr><td>Data</td><td>[  ]</td></tr><tr><td>InnerException</td><td><div class=\"dni-plaintext\"><pre>&lt;null&gt;</pre></div></td></tr><tr><td>HelpLink</td><td><div class=\"dni-plaintext\"><pre>&lt;null&gt;</pre></div></td></tr><tr><td>Source</td><td>FSharp.Core</td></tr><tr><td>HResult</td><td>-2146233079</td></tr><tr><td>StackTrace</td><td>   at Microsoft.FSharp.Collections.FSharpList`1.get_Head() in D:\\a\\_work\\1\\s\\src\\FSharp.Core\\prim-types.fs:line 4141\r\n",
       "   at lambda_method776(Closure, FSharpList`1)\r\n",
       "   at Microsoft.DotNet.Interactive.Formatting.MemberAccessor`1.GetValueOrException(T instance) in D:\\a\\_work\\1\\s\\src\\Microsoft.DotNet.Interactive.Formatting\\MemberAccessor{T}.cs:line 58</td></tr></tbody></table></div></details></td></tr><tr><td>Tail</td><td><details class=\"dni-treeview\"><summary><span class=\"dni-code-hint\"><code>System.InvalidOperationException: The input list was empty.\\r\\n   at Microsoft.FSharp.Collections.FSharpList`1.get_Tail() in D:\\a\\_work\\1\\s\\src\\FSharp.Core\\prim-types.fs:line 4146\\r\\n   at lambda_method777(Closure, FSharpList`1)\\r\\n   at Microsoft.DotNet.Interactive.Formatting.MemberAccessor`1.GetVa...</code></span></summary><div><table><thead><tr></tr></thead><tbody><tr><td>TargetSite</td><td>Microsoft.FSharp.Collections.FSharpList`1[T] get_Tail()</td></tr><tr><td>Message</td><td>The input list was empty.</td></tr><tr><td>Data</td><td>[  ]</td></tr><tr><td>InnerException</td><td><div class=\"dni-plaintext\"><pre>&lt;null&gt;</pre></div></td></tr><tr><td>HelpLink</td><td><div class=\"dni-plaintext\"><pre>&lt;null&gt;</pre></div></td></tr><tr><td>Source</td><td>FSharp.Core</td></tr><tr><td>HResult</td><td>-2146233079</td></tr><tr><td>StackTrace</td><td>   at Microsoft.FSharp.Collections.FSharpList`1.get_Tail() in D:\\a\\_work\\1\\s\\src\\FSharp.Core\\prim-types.fs:line 4146\r\n",
       "   at lambda_method777(Closure, FSharpList`1)\r\n",
       "   at Microsoft.DotNet.Interactive.Formatting.MemberAccessor`1.GetValueOrException(T instance) in D:\\a\\_work\\1\\s\\src\\Microsoft.DotNet.Interactive.Formatting\\MemberAccessor{T}.cs:line 58</td></tr></tbody></table></div></details></td></tr><tr><td><i>(values)</i></td><td><div class=\"dni-plaintext\"><pre>[  ]</pre></div></td></tr></tbody></table></div></details></td></tr><tr><td><i>(values)</i></td><td><div class=\"dni-plaintext\"><pre>[ 303.6206265000 ]</pre></div></td></tr></tbody></table></div></details></td></tr><tr><td><i>(values)</i></td><td><div class=\"dni-plaintext\"><pre>[ 296.6893751250, 303.6206265000 ]</pre></div></td></tr></tbody></table></div></details></td></tr></tbody></table></div></details></td></tr><tr><td>8</td><td><details class=\"dni-treeview\"><summary><span class=\"dni-code-hint\"><code>(5/1/2023 12:00:00 AM, [304.0624923750; 310.1125010625])</code></span></summary><div><table><thead><tr></tr></thead><tbody><tr><td>Item1</td><td><span>2023-05-01 00:00:00Z</span></td></tr><tr><td>Item2</td><td><details class=\"dni-treeview\"><summary><span class=\"dni-code-hint\"><code>[ 304.0624923750, 310.1125010625 ]</code></span></summary><div><table><thead><tr></tr></thead><tbody><tr><td>HeadOrDefault</td><td><div class=\"dni-plaintext\"><pre>304.0624923750</pre></div></td></tr><tr><td>TailOrNull</td><td><details class=\"dni-treeview\"><summary><span class=\"dni-code-hint\"><code>[ 310.1125010625 ]</code></span></summary><div><table><thead><tr></tr></thead><tbody><tr><td>HeadOrDefault</td><td><div class=\"dni-plaintext\"><pre>310.1125010625</pre></div></td></tr><tr><td>TailOrNull</td><td><details class=\"dni-treeview\"><summary><span class=\"dni-code-hint\"><code>[  ]</code></span></summary><div><table><thead><tr></tr></thead><tbody><tr><td>HeadOrDefault</td><td><div class=\"dni-plaintext\"><pre>0</pre></div></td></tr><tr><td>TailOrNull</td><td><div class=\"dni-plaintext\"><pre>&lt;null&gt;</pre></div></td></tr><tr><td>Head</td><td><details class=\"dni-treeview\"><summary><span class=\"dni-code-hint\"><code>System.InvalidOperationException: The input list was empty.\\r\\n   at Microsoft.FSharp.Collections.FSharpList`1.get_Head() in D:\\a\\_work\\1\\s\\src\\FSharp.Core\\prim-types.fs:line 4141\\r\\n   at lambda_method776(Closure, FSharpList`1)\\r\\n   at Microsoft.DotNet.Interactive.Formatting.MemberAccessor`1.GetVa...</code></span></summary><div><table><thead><tr></tr></thead><tbody><tr><td>TargetSite</td><td>T get_Head()</td></tr><tr><td>Message</td><td>The input list was empty.</td></tr><tr><td>Data</td><td>[  ]</td></tr><tr><td>InnerException</td><td><div class=\"dni-plaintext\"><pre>&lt;null&gt;</pre></div></td></tr><tr><td>HelpLink</td><td><div class=\"dni-plaintext\"><pre>&lt;null&gt;</pre></div></td></tr><tr><td>Source</td><td>FSharp.Core</td></tr><tr><td>HResult</td><td>-2146233079</td></tr><tr><td>StackTrace</td><td>   at Microsoft.FSharp.Collections.FSharpList`1.get_Head() in D:\\a\\_work\\1\\s\\src\\FSharp.Core\\prim-types.fs:line 4141\r\n",
       "   at lambda_method776(Closure, FSharpList`1)\r\n",
       "   at Microsoft.DotNet.Interactive.Formatting.MemberAccessor`1.GetValueOrException(T instance) in D:\\a\\_work\\1\\s\\src\\Microsoft.DotNet.Interactive.Formatting\\MemberAccessor{T}.cs:line 58</td></tr></tbody></table></div></details></td></tr><tr><td>Tail</td><td><details class=\"dni-treeview\"><summary><span class=\"dni-code-hint\"><code>System.InvalidOperationException: The input list was empty.\\r\\n   at Microsoft.FSharp.Collections.FSharpList`1.get_Tail() in D:\\a\\_work\\1\\s\\src\\FSharp.Core\\prim-types.fs:line 4146\\r\\n   at lambda_method777(Closure, FSharpList`1)\\r\\n   at Microsoft.DotNet.Interactive.Formatting.MemberAccessor`1.GetVa...</code></span></summary><div><table><thead><tr></tr></thead><tbody><tr><td>TargetSite</td><td>Microsoft.FSharp.Collections.FSharpList`1[T] get_Tail()</td></tr><tr><td>Message</td><td>The input list was empty.</td></tr><tr><td>Data</td><td>[  ]</td></tr><tr><td>InnerException</td><td><div class=\"dni-plaintext\"><pre>&lt;null&gt;</pre></div></td></tr><tr><td>HelpLink</td><td><div class=\"dni-plaintext\"><pre>&lt;null&gt;</pre></div></td></tr><tr><td>Source</td><td>FSharp.Core</td></tr><tr><td>HResult</td><td>-2146233079</td></tr><tr><td>StackTrace</td><td>   at Microsoft.FSharp.Collections.FSharpList`1.get_Tail() in D:\\a\\_work\\1\\s\\src\\FSharp.Core\\prim-types.fs:line 4146\r\n",
       "   at lambda_method777(Closure, FSharpList`1)\r\n",
       "   at Microsoft.DotNet.Interactive.Formatting.MemberAccessor`1.GetValueOrException(T instance) in D:\\a\\_work\\1\\s\\src\\Microsoft.DotNet.Interactive.Formatting\\MemberAccessor{T}.cs:line 58</td></tr></tbody></table></div></details></td></tr><tr><td><i>(values)</i></td><td><div class=\"dni-plaintext\"><pre>[  ]</pre></div></td></tr></tbody></table></div></details></td></tr><tr><td>Head</td><td><div class=\"dni-plaintext\"><pre>310.1125010625</pre></div></td></tr><tr><td>Tail</td><td><details class=\"dni-treeview\"><summary><span class=\"dni-code-hint\"><code>[  ]</code></span></summary><div><table><thead><tr></tr></thead><tbody><tr><td>HeadOrDefault</td><td><div class=\"dni-plaintext\"><pre>0</pre></div></td></tr><tr><td>TailOrNull</td><td><div class=\"dni-plaintext\"><pre>&lt;null&gt;</pre></div></td></tr><tr><td>Head</td><td><details class=\"dni-treeview\"><summary><span class=\"dni-code-hint\"><code>System.InvalidOperationException: The input list was empty.\\r\\n   at Microsoft.FSharp.Collections.FSharpList`1.get_Head() in D:\\a\\_work\\1\\s\\src\\FSharp.Core\\prim-types.fs:line 4141\\r\\n   at lambda_method776(Closure, FSharpList`1)\\r\\n   at Microsoft.DotNet.Interactive.Formatting.MemberAccessor`1.GetVa...</code></span></summary><div><table><thead><tr></tr></thead><tbody><tr><td>TargetSite</td><td>T get_Head()</td></tr><tr><td>Message</td><td>The input list was empty.</td></tr><tr><td>Data</td><td>[  ]</td></tr><tr><td>InnerException</td><td><div class=\"dni-plaintext\"><pre>&lt;null&gt;</pre></div></td></tr><tr><td>HelpLink</td><td><div class=\"dni-plaintext\"><pre>&lt;null&gt;</pre></div></td></tr><tr><td>Source</td><td>FSharp.Core</td></tr><tr><td>HResult</td><td>-2146233079</td></tr><tr><td>StackTrace</td><td>   at Microsoft.FSharp.Collections.FSharpList`1.get_Head() in D:\\a\\_work\\1\\s\\src\\FSharp.Core\\prim-types.fs:line 4141\r\n",
       "   at lambda_method776(Closure, FSharpList`1)\r\n",
       "   at Microsoft.DotNet.Interactive.Formatting.MemberAccessor`1.GetValueOrException(T instance) in D:\\a\\_work\\1\\s\\src\\Microsoft.DotNet.Interactive.Formatting\\MemberAccessor{T}.cs:line 58</td></tr></tbody></table></div></details></td></tr><tr><td>Tail</td><td><details class=\"dni-treeview\"><summary><span class=\"dni-code-hint\"><code>System.InvalidOperationException: The input list was empty.\\r\\n   at Microsoft.FSharp.Collections.FSharpList`1.get_Tail() in D:\\a\\_work\\1\\s\\src\\FSharp.Core\\prim-types.fs:line 4146\\r\\n   at lambda_method777(Closure, FSharpList`1)\\r\\n   at Microsoft.DotNet.Interactive.Formatting.MemberAccessor`1.GetVa...</code></span></summary><div><table><thead><tr></tr></thead><tbody><tr><td>TargetSite</td><td>Microsoft.FSharp.Collections.FSharpList`1[T] get_Tail()</td></tr><tr><td>Message</td><td>The input list was empty.</td></tr><tr><td>Data</td><td>[  ]</td></tr><tr><td>InnerException</td><td><div class=\"dni-plaintext\"><pre>&lt;null&gt;</pre></div></td></tr><tr><td>HelpLink</td><td><div class=\"dni-plaintext\"><pre>&lt;null&gt;</pre></div></td></tr><tr><td>Source</td><td>FSharp.Core</td></tr><tr><td>HResult</td><td>-2146233079</td></tr><tr><td>StackTrace</td><td>   at Microsoft.FSharp.Collections.FSharpList`1.get_Tail() in D:\\a\\_work\\1\\s\\src\\FSharp.Core\\prim-types.fs:line 4146\r\n",
       "   at lambda_method777(Closure, FSharpList`1)\r\n",
       "   at Microsoft.DotNet.Interactive.Formatting.MemberAccessor`1.GetValueOrException(T instance) in D:\\a\\_work\\1\\s\\src\\Microsoft.DotNet.Interactive.Formatting\\MemberAccessor{T}.cs:line 58</td></tr></tbody></table></div></details></td></tr><tr><td><i>(values)</i></td><td><div class=\"dni-plaintext\"><pre>[  ]</pre></div></td></tr></tbody></table></div></details></td></tr><tr><td><i>(values)</i></td><td><div class=\"dni-plaintext\"><pre>[ 310.1125010625 ]</pre></div></td></tr></tbody></table></div></details></td></tr><tr><td>Head</td><td><div class=\"dni-plaintext\"><pre>304.0624923750</pre></div></td></tr><tr><td>Tail</td><td><details class=\"dni-treeview\"><summary><span class=\"dni-code-hint\"><code>[ 310.1125010625 ]</code></span></summary><div><table><thead><tr></tr></thead><tbody><tr><td>HeadOrDefault</td><td><div class=\"dni-plaintext\"><pre>310.1125010625</pre></div></td></tr><tr><td>TailOrNull</td><td><details class=\"dni-treeview\"><summary><span class=\"dni-code-hint\"><code>[  ]</code></span></summary><div><table><thead><tr></tr></thead><tbody><tr><td>HeadOrDefault</td><td><div class=\"dni-plaintext\"><pre>0</pre></div></td></tr><tr><td>TailOrNull</td><td><div class=\"dni-plaintext\"><pre>&lt;null&gt;</pre></div></td></tr><tr><td>Head</td><td><details class=\"dni-treeview\"><summary><span class=\"dni-code-hint\"><code>System.InvalidOperationException: The input list was empty.\\r\\n   at Microsoft.FSharp.Collections.FSharpList`1.get_Head() in D:\\a\\_work\\1\\s\\src\\FSharp.Core\\prim-types.fs:line 4141\\r\\n   at lambda_method776(Closure, FSharpList`1)\\r\\n   at Microsoft.DotNet.Interactive.Formatting.MemberAccessor`1.GetVa...</code></span></summary><div><table><thead><tr></tr></thead><tbody><tr><td>TargetSite</td><td>T get_Head()</td></tr><tr><td>Message</td><td>The input list was empty.</td></tr><tr><td>Data</td><td>[  ]</td></tr><tr><td>InnerException</td><td><div class=\"dni-plaintext\"><pre>&lt;null&gt;</pre></div></td></tr><tr><td>HelpLink</td><td><div class=\"dni-plaintext\"><pre>&lt;null&gt;</pre></div></td></tr><tr><td>Source</td><td>FSharp.Core</td></tr><tr><td>HResult</td><td>-2146233079</td></tr><tr><td>StackTrace</td><td>   at Microsoft.FSharp.Collections.FSharpList`1.get_Head() in D:\\a\\_work\\1\\s\\src\\FSharp.Core\\prim-types.fs:line 4141\r\n",
       "   at lambda_method776(Closure, FSharpList`1)\r\n",
       "   at Microsoft.DotNet.Interactive.Formatting.MemberAccessor`1.GetValueOrException(T instance) in D:\\a\\_work\\1\\s\\src\\Microsoft.DotNet.Interactive.Formatting\\MemberAccessor{T}.cs:line 58</td></tr></tbody></table></div></details></td></tr><tr><td>Tail</td><td><details class=\"dni-treeview\"><summary><span class=\"dni-code-hint\"><code>System.InvalidOperationException: The input list was empty.\\r\\n   at Microsoft.FSharp.Collections.FSharpList`1.get_Tail() in D:\\a\\_work\\1\\s\\src\\FSharp.Core\\prim-types.fs:line 4146\\r\\n   at lambda_method777(Closure, FSharpList`1)\\r\\n   at Microsoft.DotNet.Interactive.Formatting.MemberAccessor`1.GetVa...</code></span></summary><div><table><thead><tr></tr></thead><tbody><tr><td>TargetSite</td><td>Microsoft.FSharp.Collections.FSharpList`1[T] get_Tail()</td></tr><tr><td>Message</td><td>The input list was empty.</td></tr><tr><td>Data</td><td>[  ]</td></tr><tr><td>InnerException</td><td><div class=\"dni-plaintext\"><pre>&lt;null&gt;</pre></div></td></tr><tr><td>HelpLink</td><td><div class=\"dni-plaintext\"><pre>&lt;null&gt;</pre></div></td></tr><tr><td>Source</td><td>FSharp.Core</td></tr><tr><td>HResult</td><td>-2146233079</td></tr><tr><td>StackTrace</td><td>   at Microsoft.FSharp.Collections.FSharpList`1.get_Tail() in D:\\a\\_work\\1\\s\\src\\FSharp.Core\\prim-types.fs:line 4146\r\n",
       "   at lambda_method777(Closure, FSharpList`1)\r\n",
       "   at Microsoft.DotNet.Interactive.Formatting.MemberAccessor`1.GetValueOrException(T instance) in D:\\a\\_work\\1\\s\\src\\Microsoft.DotNet.Interactive.Formatting\\MemberAccessor{T}.cs:line 58</td></tr></tbody></table></div></details></td></tr><tr><td><i>(values)</i></td><td><div class=\"dni-plaintext\"><pre>[  ]</pre></div></td></tr></tbody></table></div></details></td></tr><tr><td>Head</td><td><div class=\"dni-plaintext\"><pre>310.1125010625</pre></div></td></tr><tr><td>Tail</td><td><details class=\"dni-treeview\"><summary><span class=\"dni-code-hint\"><code>[  ]</code></span></summary><div><table><thead><tr></tr></thead><tbody><tr><td>HeadOrDefault</td><td><div class=\"dni-plaintext\"><pre>0</pre></div></td></tr><tr><td>TailOrNull</td><td><div class=\"dni-plaintext\"><pre>&lt;null&gt;</pre></div></td></tr><tr><td>Head</td><td><details class=\"dni-treeview\"><summary><span class=\"dni-code-hint\"><code>System.InvalidOperationException: The input list was empty.\\r\\n   at Microsoft.FSharp.Collections.FSharpList`1.get_Head() in D:\\a\\_work\\1\\s\\src\\FSharp.Core\\prim-types.fs:line 4141\\r\\n   at lambda_method776(Closure, FSharpList`1)\\r\\n   at Microsoft.DotNet.Interactive.Formatting.MemberAccessor`1.GetVa...</code></span></summary><div><table><thead><tr></tr></thead><tbody><tr><td>TargetSite</td><td>T get_Head()</td></tr><tr><td>Message</td><td>The input list was empty.</td></tr><tr><td>Data</td><td>[  ]</td></tr><tr><td>InnerException</td><td><div class=\"dni-plaintext\"><pre>&lt;null&gt;</pre></div></td></tr><tr><td>HelpLink</td><td><div class=\"dni-plaintext\"><pre>&lt;null&gt;</pre></div></td></tr><tr><td>Source</td><td>FSharp.Core</td></tr><tr><td>HResult</td><td>-2146233079</td></tr><tr><td>StackTrace</td><td>   at Microsoft.FSharp.Collections.FSharpList`1.get_Head() in D:\\a\\_work\\1\\s\\src\\FSharp.Core\\prim-types.fs:line 4141\r\n",
       "   at lambda_method776(Closure, FSharpList`1)\r\n",
       "   at Microsoft.DotNet.Interactive.Formatting.MemberAccessor`1.GetValueOrException(T instance) in D:\\a\\_work\\1\\s\\src\\Microsoft.DotNet.Interactive.Formatting\\MemberAccessor{T}.cs:line 58</td></tr></tbody></table></div></details></td></tr><tr><td>Tail</td><td><details class=\"dni-treeview\"><summary><span class=\"dni-code-hint\"><code>System.InvalidOperationException: The input list was empty.\\r\\n   at Microsoft.FSharp.Collections.FSharpList`1.get_Tail() in D:\\a\\_work\\1\\s\\src\\FSharp.Core\\prim-types.fs:line 4146\\r\\n   at lambda_method777(Closure, FSharpList`1)\\r\\n   at Microsoft.DotNet.Interactive.Formatting.MemberAccessor`1.GetVa...</code></span></summary><div><table><thead><tr></tr></thead><tbody><tr><td>TargetSite</td><td>Microsoft.FSharp.Collections.FSharpList`1[T] get_Tail()</td></tr><tr><td>Message</td><td>The input list was empty.</td></tr><tr><td>Data</td><td>[  ]</td></tr><tr><td>InnerException</td><td><div class=\"dni-plaintext\"><pre>&lt;null&gt;</pre></div></td></tr><tr><td>HelpLink</td><td><div class=\"dni-plaintext\"><pre>&lt;null&gt;</pre></div></td></tr><tr><td>Source</td><td>FSharp.Core</td></tr><tr><td>HResult</td><td>-2146233079</td></tr><tr><td>StackTrace</td><td>   at Microsoft.FSharp.Collections.FSharpList`1.get_Tail() in D:\\a\\_work\\1\\s\\src\\FSharp.Core\\prim-types.fs:line 4146\r\n",
       "   at lambda_method777(Closure, FSharpList`1)\r\n",
       "   at Microsoft.DotNet.Interactive.Formatting.MemberAccessor`1.GetValueOrException(T instance) in D:\\a\\_work\\1\\s\\src\\Microsoft.DotNet.Interactive.Formatting\\MemberAccessor{T}.cs:line 58</td></tr></tbody></table></div></details></td></tr><tr><td><i>(values)</i></td><td><div class=\"dni-plaintext\"><pre>[  ]</pre></div></td></tr></tbody></table></div></details></td></tr><tr><td><i>(values)</i></td><td><div class=\"dni-plaintext\"><pre>[ 310.1125010625 ]</pre></div></td></tr></tbody></table></div></details></td></tr><tr><td><i>(values)</i></td><td><div class=\"dni-plaintext\"><pre>[ 304.0624923750, 310.1125010625 ]</pre></div></td></tr></tbody></table></div></details></td></tr></tbody></table></div></details></td></tr><tr><td>9</td><td><details class=\"dni-treeview\"><summary><span class=\"dni-code-hint\"><code>(5/8/2023 12:00:00 AM, [306.5987567500; 310.9949970625])</code></span></summary><div><table><thead><tr></tr></thead><tbody><tr><td>Item1</td><td><span>2023-05-08 00:00:00Z</span></td></tr><tr><td>Item2</td><td><details class=\"dni-treeview\"><summary><span class=\"dni-code-hint\"><code>[ 306.5987567500, 310.9949970625 ]</code></span></summary><div><table><thead><tr></tr></thead><tbody><tr><td>HeadOrDefault</td><td><div class=\"dni-plaintext\"><pre>306.5987567500</pre></div></td></tr><tr><td>TailOrNull</td><td><details class=\"dni-treeview\"><summary><span class=\"dni-code-hint\"><code>[ 310.9949970625 ]</code></span></summary><div><table><thead><tr></tr></thead><tbody><tr><td>HeadOrDefault</td><td><div class=\"dni-plaintext\"><pre>310.9949970625</pre></div></td></tr><tr><td>TailOrNull</td><td><details class=\"dni-treeview\"><summary><span class=\"dni-code-hint\"><code>[  ]</code></span></summary><div><table><thead><tr></tr></thead><tbody><tr><td>HeadOrDefault</td><td><div class=\"dni-plaintext\"><pre>0</pre></div></td></tr><tr><td>TailOrNull</td><td><div class=\"dni-plaintext\"><pre>&lt;null&gt;</pre></div></td></tr><tr><td>Head</td><td><details class=\"dni-treeview\"><summary><span class=\"dni-code-hint\"><code>System.InvalidOperationException: The input list was empty.\\r\\n   at Microsoft.FSharp.Collections.FSharpList`1.get_Head() in D:\\a\\_work\\1\\s\\src\\FSharp.Core\\prim-types.fs:line 4141\\r\\n   at lambda_method776(Closure, FSharpList`1)\\r\\n   at Microsoft.DotNet.Interactive.Formatting.MemberAccessor`1.GetVa...</code></span></summary><div><table><thead><tr></tr></thead><tbody><tr><td>TargetSite</td><td>T get_Head()</td></tr><tr><td>Message</td><td>The input list was empty.</td></tr><tr><td>Data</td><td>[  ]</td></tr><tr><td>InnerException</td><td><div class=\"dni-plaintext\"><pre>&lt;null&gt;</pre></div></td></tr><tr><td>HelpLink</td><td><div class=\"dni-plaintext\"><pre>&lt;null&gt;</pre></div></td></tr><tr><td>Source</td><td>FSharp.Core</td></tr><tr><td>HResult</td><td>-2146233079</td></tr><tr><td>StackTrace</td><td>   at Microsoft.FSharp.Collections.FSharpList`1.get_Head() in D:\\a\\_work\\1\\s\\src\\FSharp.Core\\prim-types.fs:line 4141\r\n",
       "   at lambda_method776(Closure, FSharpList`1)\r\n",
       "   at Microsoft.DotNet.Interactive.Formatting.MemberAccessor`1.GetValueOrException(T instance) in D:\\a\\_work\\1\\s\\src\\Microsoft.DotNet.Interactive.Formatting\\MemberAccessor{T}.cs:line 58</td></tr></tbody></table></div></details></td></tr><tr><td>Tail</td><td><details class=\"dni-treeview\"><summary><span class=\"dni-code-hint\"><code>System.InvalidOperationException: The input list was empty.\\r\\n   at Microsoft.FSharp.Collections.FSharpList`1.get_Tail() in D:\\a\\_work\\1\\s\\src\\FSharp.Core\\prim-types.fs:line 4146\\r\\n   at lambda_method777(Closure, FSharpList`1)\\r\\n   at Microsoft.DotNet.Interactive.Formatting.MemberAccessor`1.GetVa...</code></span></summary><div><table><thead><tr></tr></thead><tbody><tr><td>TargetSite</td><td>Microsoft.FSharp.Collections.FSharpList`1[T] get_Tail()</td></tr><tr><td>Message</td><td>The input list was empty.</td></tr><tr><td>Data</td><td>[  ]</td></tr><tr><td>InnerException</td><td><div class=\"dni-plaintext\"><pre>&lt;null&gt;</pre></div></td></tr><tr><td>HelpLink</td><td><div class=\"dni-plaintext\"><pre>&lt;null&gt;</pre></div></td></tr><tr><td>Source</td><td>FSharp.Core</td></tr><tr><td>HResult</td><td>-2146233079</td></tr><tr><td>StackTrace</td><td>   at Microsoft.FSharp.Collections.FSharpList`1.get_Tail() in D:\\a\\_work\\1\\s\\src\\FSharp.Core\\prim-types.fs:line 4146\r\n",
       "   at lambda_method777(Closure, FSharpList`1)\r\n",
       "   at Microsoft.DotNet.Interactive.Formatting.MemberAccessor`1.GetValueOrException(T instance) in D:\\a\\_work\\1\\s\\src\\Microsoft.DotNet.Interactive.Formatting\\MemberAccessor{T}.cs:line 58</td></tr></tbody></table></div></details></td></tr><tr><td><i>(values)</i></td><td><div class=\"dni-plaintext\"><pre>[  ]</pre></div></td></tr></tbody></table></div></details></td></tr><tr><td>Head</td><td><div class=\"dni-plaintext\"><pre>310.9949970625</pre></div></td></tr><tr><td>Tail</td><td><details class=\"dni-treeview\"><summary><span class=\"dni-code-hint\"><code>[  ]</code></span></summary><div><table><thead><tr></tr></thead><tbody><tr><td>HeadOrDefault</td><td><div class=\"dni-plaintext\"><pre>0</pre></div></td></tr><tr><td>TailOrNull</td><td><div class=\"dni-plaintext\"><pre>&lt;null&gt;</pre></div></td></tr><tr><td>Head</td><td><details class=\"dni-treeview\"><summary><span class=\"dni-code-hint\"><code>System.InvalidOperationException: The input list was empty.\\r\\n   at Microsoft.FSharp.Collections.FSharpList`1.get_Head() in D:\\a\\_work\\1\\s\\src\\FSharp.Core\\prim-types.fs:line 4141\\r\\n   at lambda_method776(Closure, FSharpList`1)\\r\\n   at Microsoft.DotNet.Interactive.Formatting.MemberAccessor`1.GetVa...</code></span></summary><div><table><thead><tr></tr></thead><tbody><tr><td>TargetSite</td><td>T get_Head()</td></tr><tr><td>Message</td><td>The input list was empty.</td></tr><tr><td>Data</td><td>[  ]</td></tr><tr><td>InnerException</td><td><div class=\"dni-plaintext\"><pre>&lt;null&gt;</pre></div></td></tr><tr><td>HelpLink</td><td><div class=\"dni-plaintext\"><pre>&lt;null&gt;</pre></div></td></tr><tr><td>Source</td><td>FSharp.Core</td></tr><tr><td>HResult</td><td>-2146233079</td></tr><tr><td>StackTrace</td><td>   at Microsoft.FSharp.Collections.FSharpList`1.get_Head() in D:\\a\\_work\\1\\s\\src\\FSharp.Core\\prim-types.fs:line 4141\r\n",
       "   at lambda_method776(Closure, FSharpList`1)\r\n",
       "   at Microsoft.DotNet.Interactive.Formatting.MemberAccessor`1.GetValueOrException(T instance) in D:\\a\\_work\\1\\s\\src\\Microsoft.DotNet.Interactive.Formatting\\MemberAccessor{T}.cs:line 58</td></tr></tbody></table></div></details></td></tr><tr><td>Tail</td><td><details class=\"dni-treeview\"><summary><span class=\"dni-code-hint\"><code>System.InvalidOperationException: The input list was empty.\\r\\n   at Microsoft.FSharp.Collections.FSharpList`1.get_Tail() in D:\\a\\_work\\1\\s\\src\\FSharp.Core\\prim-types.fs:line 4146\\r\\n   at lambda_method777(Closure, FSharpList`1)\\r\\n   at Microsoft.DotNet.Interactive.Formatting.MemberAccessor`1.GetVa...</code></span></summary><div><table><thead><tr></tr></thead><tbody><tr><td>TargetSite</td><td>Microsoft.FSharp.Collections.FSharpList`1[T] get_Tail()</td></tr><tr><td>Message</td><td>The input list was empty.</td></tr><tr><td>Data</td><td>[  ]</td></tr><tr><td>InnerException</td><td><div class=\"dni-plaintext\"><pre>&lt;null&gt;</pre></div></td></tr><tr><td>HelpLink</td><td><div class=\"dni-plaintext\"><pre>&lt;null&gt;</pre></div></td></tr><tr><td>Source</td><td>FSharp.Core</td></tr><tr><td>HResult</td><td>-2146233079</td></tr><tr><td>StackTrace</td><td>   at Microsoft.FSharp.Collections.FSharpList`1.get_Tail() in D:\\a\\_work\\1\\s\\src\\FSharp.Core\\prim-types.fs:line 4146\r\n",
       "   at lambda_method777(Closure, FSharpList`1)\r\n",
       "   at Microsoft.DotNet.Interactive.Formatting.MemberAccessor`1.GetValueOrException(T instance) in D:\\a\\_work\\1\\s\\src\\Microsoft.DotNet.Interactive.Formatting\\MemberAccessor{T}.cs:line 58</td></tr></tbody></table></div></details></td></tr><tr><td><i>(values)</i></td><td><div class=\"dni-plaintext\"><pre>[  ]</pre></div></td></tr></tbody></table></div></details></td></tr><tr><td><i>(values)</i></td><td><div class=\"dni-plaintext\"><pre>[ 310.9949970625 ]</pre></div></td></tr></tbody></table></div></details></td></tr><tr><td>Head</td><td><div class=\"dni-plaintext\"><pre>306.5987567500</pre></div></td></tr><tr><td>Tail</td><td><details class=\"dni-treeview\"><summary><span class=\"dni-code-hint\"><code>[ 310.9949970625 ]</code></span></summary><div><table><thead><tr></tr></thead><tbody><tr><td>HeadOrDefault</td><td><div class=\"dni-plaintext\"><pre>310.9949970625</pre></div></td></tr><tr><td>TailOrNull</td><td><details class=\"dni-treeview\"><summary><span class=\"dni-code-hint\"><code>[  ]</code></span></summary><div><table><thead><tr></tr></thead><tbody><tr><td>HeadOrDefault</td><td><div class=\"dni-plaintext\"><pre>0</pre></div></td></tr><tr><td>TailOrNull</td><td><div class=\"dni-plaintext\"><pre>&lt;null&gt;</pre></div></td></tr><tr><td>Head</td><td><details class=\"dni-treeview\"><summary><span class=\"dni-code-hint\"><code>System.InvalidOperationException: The input list was empty.\\r\\n   at Microsoft.FSharp.Collections.FSharpList`1.get_Head() in D:\\a\\_work\\1\\s\\src\\FSharp.Core\\prim-types.fs:line 4141\\r\\n   at lambda_method776(Closure, FSharpList`1)\\r\\n   at Microsoft.DotNet.Interactive.Formatting.MemberAccessor`1.GetVa...</code></span></summary><div><table><thead><tr></tr></thead><tbody><tr><td>TargetSite</td><td>T get_Head()</td></tr><tr><td>Message</td><td>The input list was empty.</td></tr><tr><td>Data</td><td>[  ]</td></tr><tr><td>InnerException</td><td><div class=\"dni-plaintext\"><pre>&lt;null&gt;</pre></div></td></tr><tr><td>HelpLink</td><td><div class=\"dni-plaintext\"><pre>&lt;null&gt;</pre></div></td></tr><tr><td>Source</td><td>FSharp.Core</td></tr><tr><td>HResult</td><td>-2146233079</td></tr><tr><td>StackTrace</td><td>   at Microsoft.FSharp.Collections.FSharpList`1.get_Head() in D:\\a\\_work\\1\\s\\src\\FSharp.Core\\prim-types.fs:line 4141\r\n",
       "   at lambda_method776(Closure, FSharpList`1)\r\n",
       "   at Microsoft.DotNet.Interactive.Formatting.MemberAccessor`1.GetValueOrException(T instance) in D:\\a\\_work\\1\\s\\src\\Microsoft.DotNet.Interactive.Formatting\\MemberAccessor{T}.cs:line 58</td></tr></tbody></table></div></details></td></tr><tr><td>Tail</td><td><details class=\"dni-treeview\"><summary><span class=\"dni-code-hint\"><code>System.InvalidOperationException: The input list was empty.\\r\\n   at Microsoft.FSharp.Collections.FSharpList`1.get_Tail() in D:\\a\\_work\\1\\s\\src\\FSharp.Core\\prim-types.fs:line 4146\\r\\n   at lambda_method777(Closure, FSharpList`1)\\r\\n   at Microsoft.DotNet.Interactive.Formatting.MemberAccessor`1.GetVa...</code></span></summary><div><table><thead><tr></tr></thead><tbody><tr><td>TargetSite</td><td>Microsoft.FSharp.Collections.FSharpList`1[T] get_Tail()</td></tr><tr><td>Message</td><td>The input list was empty.</td></tr><tr><td>Data</td><td>[  ]</td></tr><tr><td>InnerException</td><td><div class=\"dni-plaintext\"><pre>&lt;null&gt;</pre></div></td></tr><tr><td>HelpLink</td><td><div class=\"dni-plaintext\"><pre>&lt;null&gt;</pre></div></td></tr><tr><td>Source</td><td>FSharp.Core</td></tr><tr><td>HResult</td><td>-2146233079</td></tr><tr><td>StackTrace</td><td>   at Microsoft.FSharp.Collections.FSharpList`1.get_Tail() in D:\\a\\_work\\1\\s\\src\\FSharp.Core\\prim-types.fs:line 4146\r\n",
       "   at lambda_method777(Closure, FSharpList`1)\r\n",
       "   at Microsoft.DotNet.Interactive.Formatting.MemberAccessor`1.GetValueOrException(T instance) in D:\\a\\_work\\1\\s\\src\\Microsoft.DotNet.Interactive.Formatting\\MemberAccessor{T}.cs:line 58</td></tr></tbody></table></div></details></td></tr><tr><td><i>(values)</i></td><td><div class=\"dni-plaintext\"><pre>[  ]</pre></div></td></tr></tbody></table></div></details></td></tr><tr><td>Head</td><td><div class=\"dni-plaintext\"><pre>310.9949970625</pre></div></td></tr><tr><td>Tail</td><td><details class=\"dni-treeview\"><summary><span class=\"dni-code-hint\"><code>[  ]</code></span></summary><div><table><thead><tr></tr></thead><tbody><tr><td>HeadOrDefault</td><td><div class=\"dni-plaintext\"><pre>0</pre></div></td></tr><tr><td>TailOrNull</td><td><div class=\"dni-plaintext\"><pre>&lt;null&gt;</pre></div></td></tr><tr><td>Head</td><td><details class=\"dni-treeview\"><summary><span class=\"dni-code-hint\"><code>System.InvalidOperationException: The input list was empty.\\r\\n   at Microsoft.FSharp.Collections.FSharpList`1.get_Head() in D:\\a\\_work\\1\\s\\src\\FSharp.Core\\prim-types.fs:line 4141\\r\\n   at lambda_method776(Closure, FSharpList`1)\\r\\n   at Microsoft.DotNet.Interactive.Formatting.MemberAccessor`1.GetVa...</code></span></summary><div><table><thead><tr></tr></thead><tbody><tr><td>TargetSite</td><td>T get_Head()</td></tr><tr><td>Message</td><td>The input list was empty.</td></tr><tr><td>Data</td><td>[  ]</td></tr><tr><td>InnerException</td><td><div class=\"dni-plaintext\"><pre>&lt;null&gt;</pre></div></td></tr><tr><td>HelpLink</td><td><div class=\"dni-plaintext\"><pre>&lt;null&gt;</pre></div></td></tr><tr><td>Source</td><td>FSharp.Core</td></tr><tr><td>HResult</td><td>-2146233079</td></tr><tr><td>StackTrace</td><td>   at Microsoft.FSharp.Collections.FSharpList`1.get_Head() in D:\\a\\_work\\1\\s\\src\\FSharp.Core\\prim-types.fs:line 4141\r\n",
       "   at lambda_method776(Closure, FSharpList`1)\r\n",
       "   at Microsoft.DotNet.Interactive.Formatting.MemberAccessor`1.GetValueOrException(T instance) in D:\\a\\_work\\1\\s\\src\\Microsoft.DotNet.Interactive.Formatting\\MemberAccessor{T}.cs:line 58</td></tr></tbody></table></div></details></td></tr><tr><td>Tail</td><td><details class=\"dni-treeview\"><summary><span class=\"dni-code-hint\"><code>System.InvalidOperationException: The input list was empty.\\r\\n   at Microsoft.FSharp.Collections.FSharpList`1.get_Tail() in D:\\a\\_work\\1\\s\\src\\FSharp.Core\\prim-types.fs:line 4146\\r\\n   at lambda_method777(Closure, FSharpList`1)\\r\\n   at Microsoft.DotNet.Interactive.Formatting.MemberAccessor`1.GetVa...</code></span></summary><div><table><thead><tr></tr></thead><tbody><tr><td>TargetSite</td><td>Microsoft.FSharp.Collections.FSharpList`1[T] get_Tail()</td></tr><tr><td>Message</td><td>The input list was empty.</td></tr><tr><td>Data</td><td>[  ]</td></tr><tr><td>InnerException</td><td><div class=\"dni-plaintext\"><pre>&lt;null&gt;</pre></div></td></tr><tr><td>HelpLink</td><td><div class=\"dni-plaintext\"><pre>&lt;null&gt;</pre></div></td></tr><tr><td>Source</td><td>FSharp.Core</td></tr><tr><td>HResult</td><td>-2146233079</td></tr><tr><td>StackTrace</td><td>   at Microsoft.FSharp.Collections.FSharpList`1.get_Tail() in D:\\a\\_work\\1\\s\\src\\FSharp.Core\\prim-types.fs:line 4146\r\n",
       "   at lambda_method777(Closure, FSharpList`1)\r\n",
       "   at Microsoft.DotNet.Interactive.Formatting.MemberAccessor`1.GetValueOrException(T instance) in D:\\a\\_work\\1\\s\\src\\Microsoft.DotNet.Interactive.Formatting\\MemberAccessor{T}.cs:line 58</td></tr></tbody></table></div></details></td></tr><tr><td><i>(values)</i></td><td><div class=\"dni-plaintext\"><pre>[  ]</pre></div></td></tr></tbody></table></div></details></td></tr><tr><td><i>(values)</i></td><td><div class=\"dni-plaintext\"><pre>[ 310.9949970625 ]</pre></div></td></tr></tbody></table></div></details></td></tr><tr><td><i>(values)</i></td><td><div class=\"dni-plaintext\"><pre>[ 306.5987567500, 310.9949970625 ]</pre></div></td></tr></tbody></table></div></details></td></tr></tbody></table></div></details></td></tr><tr><td>10</td><td><details class=\"dni-treeview\"><summary><span class=\"dni-code-hint\"><code>(5/15/2023 12:00:00 AM, [314.0462454375; 317.4143754375])</code></span></summary><div><table><thead><tr></tr></thead><tbody><tr><td>Item1</td><td><span>2023-05-15 00:00:00Z</span></td></tr><tr><td>Item2</td><td><details class=\"dni-treeview\"><summary><span class=\"dni-code-hint\"><code>[ 314.0462454375, 317.4143754375 ]</code></span></summary><div><table><thead><tr></tr></thead><tbody><tr><td>HeadOrDefault</td><td><div class=\"dni-plaintext\"><pre>314.0462454375</pre></div></td></tr><tr><td>TailOrNull</td><td><details class=\"dni-treeview\"><summary><span class=\"dni-code-hint\"><code>[ 317.4143754375 ]</code></span></summary><div><table><thead><tr></tr></thead><tbody><tr><td>HeadOrDefault</td><td><div class=\"dni-plaintext\"><pre>317.4143754375</pre></div></td></tr><tr><td>TailOrNull</td><td><details class=\"dni-treeview\"><summary><span class=\"dni-code-hint\"><code>[  ]</code></span></summary><div><table><thead><tr></tr></thead><tbody><tr><td>HeadOrDefault</td><td><div class=\"dni-plaintext\"><pre>0</pre></div></td></tr><tr><td>TailOrNull</td><td><div class=\"dni-plaintext\"><pre>&lt;null&gt;</pre></div></td></tr><tr><td>Head</td><td><details class=\"dni-treeview\"><summary><span class=\"dni-code-hint\"><code>System.InvalidOperationException: The input list was empty.\\r\\n   at Microsoft.FSharp.Collections.FSharpList`1.get_Head() in D:\\a\\_work\\1\\s\\src\\FSharp.Core\\prim-types.fs:line 4141\\r\\n   at lambda_method776(Closure, FSharpList`1)\\r\\n   at Microsoft.DotNet.Interactive.Formatting.MemberAccessor`1.GetVa...</code></span></summary><div><table><thead><tr></tr></thead><tbody><tr><td>TargetSite</td><td>T get_Head()</td></tr><tr><td>Message</td><td>The input list was empty.</td></tr><tr><td>Data</td><td>[  ]</td></tr><tr><td>InnerException</td><td><div class=\"dni-plaintext\"><pre>&lt;null&gt;</pre></div></td></tr><tr><td>HelpLink</td><td><div class=\"dni-plaintext\"><pre>&lt;null&gt;</pre></div></td></tr><tr><td>Source</td><td>FSharp.Core</td></tr><tr><td>HResult</td><td>-2146233079</td></tr><tr><td>StackTrace</td><td>   at Microsoft.FSharp.Collections.FSharpList`1.get_Head() in D:\\a\\_work\\1\\s\\src\\FSharp.Core\\prim-types.fs:line 4141\r\n",
       "   at lambda_method776(Closure, FSharpList`1)\r\n",
       "   at Microsoft.DotNet.Interactive.Formatting.MemberAccessor`1.GetValueOrException(T instance) in D:\\a\\_work\\1\\s\\src\\Microsoft.DotNet.Interactive.Formatting\\MemberAccessor{T}.cs:line 58</td></tr></tbody></table></div></details></td></tr><tr><td>Tail</td><td><details class=\"dni-treeview\"><summary><span class=\"dni-code-hint\"><code>System.InvalidOperationException: The input list was empty.\\r\\n   at Microsoft.FSharp.Collections.FSharpList`1.get_Tail() in D:\\a\\_work\\1\\s\\src\\FSharp.Core\\prim-types.fs:line 4146\\r\\n   at lambda_method777(Closure, FSharpList`1)\\r\\n   at Microsoft.DotNet.Interactive.Formatting.MemberAccessor`1.GetVa...</code></span></summary><div><table><thead><tr></tr></thead><tbody><tr><td>TargetSite</td><td>Microsoft.FSharp.Collections.FSharpList`1[T] get_Tail()</td></tr><tr><td>Message</td><td>The input list was empty.</td></tr><tr><td>Data</td><td>[  ]</td></tr><tr><td>InnerException</td><td><div class=\"dni-plaintext\"><pre>&lt;null&gt;</pre></div></td></tr><tr><td>HelpLink</td><td><div class=\"dni-plaintext\"><pre>&lt;null&gt;</pre></div></td></tr><tr><td>Source</td><td>FSharp.Core</td></tr><tr><td>HResult</td><td>-2146233079</td></tr><tr><td>StackTrace</td><td>   at Microsoft.FSharp.Collections.FSharpList`1.get_Tail() in D:\\a\\_work\\1\\s\\src\\FSharp.Core\\prim-types.fs:line 4146\r\n",
       "   at lambda_method777(Closure, FSharpList`1)\r\n",
       "   at Microsoft.DotNet.Interactive.Formatting.MemberAccessor`1.GetValueOrException(T instance) in D:\\a\\_work\\1\\s\\src\\Microsoft.DotNet.Interactive.Formatting\\MemberAccessor{T}.cs:line 58</td></tr></tbody></table></div></details></td></tr><tr><td><i>(values)</i></td><td><div class=\"dni-plaintext\"><pre>[  ]</pre></div></td></tr></tbody></table></div></details></td></tr><tr><td>Head</td><td><div class=\"dni-plaintext\"><pre>317.4143754375</pre></div></td></tr><tr><td>Tail</td><td><details class=\"dni-treeview\"><summary><span class=\"dni-code-hint\"><code>[  ]</code></span></summary><div><table><thead><tr></tr></thead><tbody><tr><td>HeadOrDefault</td><td><div class=\"dni-plaintext\"><pre>0</pre></div></td></tr><tr><td>TailOrNull</td><td><div class=\"dni-plaintext\"><pre>&lt;null&gt;</pre></div></td></tr><tr><td>Head</td><td><details class=\"dni-treeview\"><summary><span class=\"dni-code-hint\"><code>System.InvalidOperationException: The input list was empty.\\r\\n   at Microsoft.FSharp.Collections.FSharpList`1.get_Head() in D:\\a\\_work\\1\\s\\src\\FSharp.Core\\prim-types.fs:line 4141\\r\\n   at lambda_method776(Closure, FSharpList`1)\\r\\n   at Microsoft.DotNet.Interactive.Formatting.MemberAccessor`1.GetVa...</code></span></summary><div><table><thead><tr></tr></thead><tbody><tr><td>TargetSite</td><td>T get_Head()</td></tr><tr><td>Message</td><td>The input list was empty.</td></tr><tr><td>Data</td><td>[  ]</td></tr><tr><td>InnerException</td><td><div class=\"dni-plaintext\"><pre>&lt;null&gt;</pre></div></td></tr><tr><td>HelpLink</td><td><div class=\"dni-plaintext\"><pre>&lt;null&gt;</pre></div></td></tr><tr><td>Source</td><td>FSharp.Core</td></tr><tr><td>HResult</td><td>-2146233079</td></tr><tr><td>StackTrace</td><td>   at Microsoft.FSharp.Collections.FSharpList`1.get_Head() in D:\\a\\_work\\1\\s\\src\\FSharp.Core\\prim-types.fs:line 4141\r\n",
       "   at lambda_method776(Closure, FSharpList`1)\r\n",
       "   at Microsoft.DotNet.Interactive.Formatting.MemberAccessor`1.GetValueOrException(T instance) in D:\\a\\_work\\1\\s\\src\\Microsoft.DotNet.Interactive.Formatting\\MemberAccessor{T}.cs:line 58</td></tr></tbody></table></div></details></td></tr><tr><td>Tail</td><td><details class=\"dni-treeview\"><summary><span class=\"dni-code-hint\"><code>System.InvalidOperationException: The input list was empty.\\r\\n   at Microsoft.FSharp.Collections.FSharpList`1.get_Tail() in D:\\a\\_work\\1\\s\\src\\FSharp.Core\\prim-types.fs:line 4146\\r\\n   at lambda_method777(Closure, FSharpList`1)\\r\\n   at Microsoft.DotNet.Interactive.Formatting.MemberAccessor`1.GetVa...</code></span></summary><div><table><thead><tr></tr></thead><tbody><tr><td>TargetSite</td><td>Microsoft.FSharp.Collections.FSharpList`1[T] get_Tail()</td></tr><tr><td>Message</td><td>The input list was empty.</td></tr><tr><td>Data</td><td>[  ]</td></tr><tr><td>InnerException</td><td><div class=\"dni-plaintext\"><pre>&lt;null&gt;</pre></div></td></tr><tr><td>HelpLink</td><td><div class=\"dni-plaintext\"><pre>&lt;null&gt;</pre></div></td></tr><tr><td>Source</td><td>FSharp.Core</td></tr><tr><td>HResult</td><td>-2146233079</td></tr><tr><td>StackTrace</td><td>   at Microsoft.FSharp.Collections.FSharpList`1.get_Tail() in D:\\a\\_work\\1\\s\\src\\FSharp.Core\\prim-types.fs:line 4146\r\n",
       "   at lambda_method777(Closure, FSharpList`1)\r\n",
       "   at Microsoft.DotNet.Interactive.Formatting.MemberAccessor`1.GetValueOrException(T instance) in D:\\a\\_work\\1\\s\\src\\Microsoft.DotNet.Interactive.Formatting\\MemberAccessor{T}.cs:line 58</td></tr></tbody></table></div></details></td></tr><tr><td><i>(values)</i></td><td><div class=\"dni-plaintext\"><pre>[  ]</pre></div></td></tr></tbody></table></div></details></td></tr><tr><td><i>(values)</i></td><td><div class=\"dni-plaintext\"><pre>[ 317.4143754375 ]</pre></div></td></tr></tbody></table></div></details></td></tr><tr><td>Head</td><td><div class=\"dni-plaintext\"><pre>314.0462454375</pre></div></td></tr><tr><td>Tail</td><td><details class=\"dni-treeview\"><summary><span class=\"dni-code-hint\"><code>[ 317.4143754375 ]</code></span></summary><div><table><thead><tr></tr></thead><tbody><tr><td>HeadOrDefault</td><td><div class=\"dni-plaintext\"><pre>317.4143754375</pre></div></td></tr><tr><td>TailOrNull</td><td><details class=\"dni-treeview\"><summary><span class=\"dni-code-hint\"><code>[  ]</code></span></summary><div><table><thead><tr></tr></thead><tbody><tr><td>HeadOrDefault</td><td><div class=\"dni-plaintext\"><pre>0</pre></div></td></tr><tr><td>TailOrNull</td><td><div class=\"dni-plaintext\"><pre>&lt;null&gt;</pre></div></td></tr><tr><td>Head</td><td><details class=\"dni-treeview\"><summary><span class=\"dni-code-hint\"><code>System.InvalidOperationException: The input list was empty.\\r\\n   at Microsoft.FSharp.Collections.FSharpList`1.get_Head() in D:\\a\\_work\\1\\s\\src\\FSharp.Core\\prim-types.fs:line 4141\\r\\n   at lambda_method776(Closure, FSharpList`1)\\r\\n   at Microsoft.DotNet.Interactive.Formatting.MemberAccessor`1.GetVa...</code></span></summary><div><table><thead><tr></tr></thead><tbody><tr><td>TargetSite</td><td>T get_Head()</td></tr><tr><td>Message</td><td>The input list was empty.</td></tr><tr><td>Data</td><td>[  ]</td></tr><tr><td>InnerException</td><td><div class=\"dni-plaintext\"><pre>&lt;null&gt;</pre></div></td></tr><tr><td>HelpLink</td><td><div class=\"dni-plaintext\"><pre>&lt;null&gt;</pre></div></td></tr><tr><td>Source</td><td>FSharp.Core</td></tr><tr><td>HResult</td><td>-2146233079</td></tr><tr><td>StackTrace</td><td>   at Microsoft.FSharp.Collections.FSharpList`1.get_Head() in D:\\a\\_work\\1\\s\\src\\FSharp.Core\\prim-types.fs:line 4141\r\n",
       "   at lambda_method776(Closure, FSharpList`1)\r\n",
       "   at Microsoft.DotNet.Interactive.Formatting.MemberAccessor`1.GetValueOrException(T instance) in D:\\a\\_work\\1\\s\\src\\Microsoft.DotNet.Interactive.Formatting\\MemberAccessor{T}.cs:line 58</td></tr></tbody></table></div></details></td></tr><tr><td>Tail</td><td><details class=\"dni-treeview\"><summary><span class=\"dni-code-hint\"><code>System.InvalidOperationException: The input list was empty.\\r\\n   at Microsoft.FSharp.Collections.FSharpList`1.get_Tail() in D:\\a\\_work\\1\\s\\src\\FSharp.Core\\prim-types.fs:line 4146\\r\\n   at lambda_method777(Closure, FSharpList`1)\\r\\n   at Microsoft.DotNet.Interactive.Formatting.MemberAccessor`1.GetVa...</code></span></summary><div><table><thead><tr></tr></thead><tbody><tr><td>TargetSite</td><td>Microsoft.FSharp.Collections.FSharpList`1[T] get_Tail()</td></tr><tr><td>Message</td><td>The input list was empty.</td></tr><tr><td>Data</td><td>[  ]</td></tr><tr><td>InnerException</td><td><div class=\"dni-plaintext\"><pre>&lt;null&gt;</pre></div></td></tr><tr><td>HelpLink</td><td><div class=\"dni-plaintext\"><pre>&lt;null&gt;</pre></div></td></tr><tr><td>Source</td><td>FSharp.Core</td></tr><tr><td>HResult</td><td>-2146233079</td></tr><tr><td>StackTrace</td><td>   at Microsoft.FSharp.Collections.FSharpList`1.get_Tail() in D:\\a\\_work\\1\\s\\src\\FSharp.Core\\prim-types.fs:line 4146\r\n",
       "   at lambda_method777(Closure, FSharpList`1)\r\n",
       "   at Microsoft.DotNet.Interactive.Formatting.MemberAccessor`1.GetValueOrException(T instance) in D:\\a\\_work\\1\\s\\src\\Microsoft.DotNet.Interactive.Formatting\\MemberAccessor{T}.cs:line 58</td></tr></tbody></table></div></details></td></tr><tr><td><i>(values)</i></td><td><div class=\"dni-plaintext\"><pre>[  ]</pre></div></td></tr></tbody></table></div></details></td></tr><tr><td>Head</td><td><div class=\"dni-plaintext\"><pre>317.4143754375</pre></div></td></tr><tr><td>Tail</td><td><details class=\"dni-treeview\"><summary><span class=\"dni-code-hint\"><code>[  ]</code></span></summary><div><table><thead><tr></tr></thead><tbody><tr><td>HeadOrDefault</td><td><div class=\"dni-plaintext\"><pre>0</pre></div></td></tr><tr><td>TailOrNull</td><td><div class=\"dni-plaintext\"><pre>&lt;null&gt;</pre></div></td></tr><tr><td>Head</td><td><details class=\"dni-treeview\"><summary><span class=\"dni-code-hint\"><code>System.InvalidOperationException: The input list was empty.\\r\\n   at Microsoft.FSharp.Collections.FSharpList`1.get_Head() in D:\\a\\_work\\1\\s\\src\\FSharp.Core\\prim-types.fs:line 4141\\r\\n   at lambda_method776(Closure, FSharpList`1)\\r\\n   at Microsoft.DotNet.Interactive.Formatting.MemberAccessor`1.GetVa...</code></span></summary><div><table><thead><tr></tr></thead><tbody><tr><td>TargetSite</td><td>T get_Head()</td></tr><tr><td>Message</td><td>The input list was empty.</td></tr><tr><td>Data</td><td>[  ]</td></tr><tr><td>InnerException</td><td><div class=\"dni-plaintext\"><pre>&lt;null&gt;</pre></div></td></tr><tr><td>HelpLink</td><td><div class=\"dni-plaintext\"><pre>&lt;null&gt;</pre></div></td></tr><tr><td>Source</td><td>FSharp.Core</td></tr><tr><td>HResult</td><td>-2146233079</td></tr><tr><td>StackTrace</td><td>   at Microsoft.FSharp.Collections.FSharpList`1.get_Head() in D:\\a\\_work\\1\\s\\src\\FSharp.Core\\prim-types.fs:line 4141\r\n",
       "   at lambda_method776(Closure, FSharpList`1)\r\n",
       "   at Microsoft.DotNet.Interactive.Formatting.MemberAccessor`1.GetValueOrException(T instance) in D:\\a\\_work\\1\\s\\src\\Microsoft.DotNet.Interactive.Formatting\\MemberAccessor{T}.cs:line 58</td></tr></tbody></table></div></details></td></tr><tr><td>Tail</td><td><details class=\"dni-treeview\"><summary><span class=\"dni-code-hint\"><code>System.InvalidOperationException: The input list was empty.\\r\\n   at Microsoft.FSharp.Collections.FSharpList`1.get_Tail() in D:\\a\\_work\\1\\s\\src\\FSharp.Core\\prim-types.fs:line 4146\\r\\n   at lambda_method777(Closure, FSharpList`1)\\r\\n   at Microsoft.DotNet.Interactive.Formatting.MemberAccessor`1.GetVa...</code></span></summary><div><table><thead><tr></tr></thead><tbody><tr><td>TargetSite</td><td>Microsoft.FSharp.Collections.FSharpList`1[T] get_Tail()</td></tr><tr><td>Message</td><td>The input list was empty.</td></tr><tr><td>Data</td><td>[  ]</td></tr><tr><td>InnerException</td><td><div class=\"dni-plaintext\"><pre>&lt;null&gt;</pre></div></td></tr><tr><td>HelpLink</td><td><div class=\"dni-plaintext\"><pre>&lt;null&gt;</pre></div></td></tr><tr><td>Source</td><td>FSharp.Core</td></tr><tr><td>HResult</td><td>-2146233079</td></tr><tr><td>StackTrace</td><td>   at Microsoft.FSharp.Collections.FSharpList`1.get_Tail() in D:\\a\\_work\\1\\s\\src\\FSharp.Core\\prim-types.fs:line 4146\r\n",
       "   at lambda_method777(Closure, FSharpList`1)\r\n",
       "   at Microsoft.DotNet.Interactive.Formatting.MemberAccessor`1.GetValueOrException(T instance) in D:\\a\\_work\\1\\s\\src\\Microsoft.DotNet.Interactive.Formatting\\MemberAccessor{T}.cs:line 58</td></tr></tbody></table></div></details></td></tr><tr><td><i>(values)</i></td><td><div class=\"dni-plaintext\"><pre>[  ]</pre></div></td></tr></tbody></table></div></details></td></tr><tr><td><i>(values)</i></td><td><div class=\"dni-plaintext\"><pre>[ 317.4143754375 ]</pre></div></td></tr></tbody></table></div></details></td></tr><tr><td><i>(values)</i></td><td><div class=\"dni-plaintext\"><pre>[ 314.0462454375, 317.4143754375 ]</pre></div></td></tr></tbody></table></div></details></td></tr></tbody></table></div></details></td></tr><tr><td>11</td><td><details class=\"dni-treeview\"><summary><span class=\"dni-code-hint\"><code>(5/22/2023 12:00:00 AM, [320.5950012500; 328.3193703125])</code></span></summary><div><table><thead><tr></tr></thead><tbody><tr><td>Item1</td><td><span>2023-05-22 00:00:00Z</span></td></tr><tr><td>Item2</td><td><details class=\"dni-treeview\"><summary><span class=\"dni-code-hint\"><code>[ 320.5950012500, 328.3193703125 ]</code></span></summary><div><table><thead><tr></tr></thead><tbody><tr><td>HeadOrDefault</td><td><div class=\"dni-plaintext\"><pre>320.5950012500</pre></div></td></tr><tr><td>TailOrNull</td><td><details class=\"dni-treeview\"><summary><span class=\"dni-code-hint\"><code>[ 328.3193703125 ]</code></span></summary><div><table><thead><tr></tr></thead><tbody><tr><td>HeadOrDefault</td><td><div class=\"dni-plaintext\"><pre>328.3193703125</pre></div></td></tr><tr><td>TailOrNull</td><td><details class=\"dni-treeview\"><summary><span class=\"dni-code-hint\"><code>[  ]</code></span></summary><div><table><thead><tr></tr></thead><tbody><tr><td>HeadOrDefault</td><td><div class=\"dni-plaintext\"><pre>0</pre></div></td></tr><tr><td>TailOrNull</td><td><div class=\"dni-plaintext\"><pre>&lt;null&gt;</pre></div></td></tr><tr><td>Head</td><td><details class=\"dni-treeview\"><summary><span class=\"dni-code-hint\"><code>System.InvalidOperationException: The input list was empty.\\r\\n   at Microsoft.FSharp.Collections.FSharpList`1.get_Head() in D:\\a\\_work\\1\\s\\src\\FSharp.Core\\prim-types.fs:line 4141\\r\\n   at lambda_method776(Closure, FSharpList`1)\\r\\n   at Microsoft.DotNet.Interactive.Formatting.MemberAccessor`1.GetVa...</code></span></summary><div><table><thead><tr></tr></thead><tbody><tr><td>TargetSite</td><td>T get_Head()</td></tr><tr><td>Message</td><td>The input list was empty.</td></tr><tr><td>Data</td><td>[  ]</td></tr><tr><td>InnerException</td><td><div class=\"dni-plaintext\"><pre>&lt;null&gt;</pre></div></td></tr><tr><td>HelpLink</td><td><div class=\"dni-plaintext\"><pre>&lt;null&gt;</pre></div></td></tr><tr><td>Source</td><td>FSharp.Core</td></tr><tr><td>HResult</td><td>-2146233079</td></tr><tr><td>StackTrace</td><td>   at Microsoft.FSharp.Collections.FSharpList`1.get_Head() in D:\\a\\_work\\1\\s\\src\\FSharp.Core\\prim-types.fs:line 4141\r\n",
       "   at lambda_method776(Closure, FSharpList`1)\r\n",
       "   at Microsoft.DotNet.Interactive.Formatting.MemberAccessor`1.GetValueOrException(T instance) in D:\\a\\_work\\1\\s\\src\\Microsoft.DotNet.Interactive.Formatting\\MemberAccessor{T}.cs:line 58</td></tr></tbody></table></div></details></td></tr><tr><td>Tail</td><td><details class=\"dni-treeview\"><summary><span class=\"dni-code-hint\"><code>System.InvalidOperationException: The input list was empty.\\r\\n   at Microsoft.FSharp.Collections.FSharpList`1.get_Tail() in D:\\a\\_work\\1\\s\\src\\FSharp.Core\\prim-types.fs:line 4146\\r\\n   at lambda_method777(Closure, FSharpList`1)\\r\\n   at Microsoft.DotNet.Interactive.Formatting.MemberAccessor`1.GetVa...</code></span></summary><div><table><thead><tr></tr></thead><tbody><tr><td>TargetSite</td><td>Microsoft.FSharp.Collections.FSharpList`1[T] get_Tail()</td></tr><tr><td>Message</td><td>The input list was empty.</td></tr><tr><td>Data</td><td>[  ]</td></tr><tr><td>InnerException</td><td><div class=\"dni-plaintext\"><pre>&lt;null&gt;</pre></div></td></tr><tr><td>HelpLink</td><td><div class=\"dni-plaintext\"><pre>&lt;null&gt;</pre></div></td></tr><tr><td>Source</td><td>FSharp.Core</td></tr><tr><td>HResult</td><td>-2146233079</td></tr><tr><td>StackTrace</td><td>   at Microsoft.FSharp.Collections.FSharpList`1.get_Tail() in D:\\a\\_work\\1\\s\\src\\FSharp.Core\\prim-types.fs:line 4146\r\n",
       "   at lambda_method777(Closure, FSharpList`1)\r\n",
       "   at Microsoft.DotNet.Interactive.Formatting.MemberAccessor`1.GetValueOrException(T instance) in D:\\a\\_work\\1\\s\\src\\Microsoft.DotNet.Interactive.Formatting\\MemberAccessor{T}.cs:line 58</td></tr></tbody></table></div></details></td></tr><tr><td><i>(values)</i></td><td><div class=\"dni-plaintext\"><pre>[  ]</pre></div></td></tr></tbody></table></div></details></td></tr><tr><td>Head</td><td><div class=\"dni-plaintext\"><pre>328.3193703125</pre></div></td></tr><tr><td>Tail</td><td><details class=\"dni-treeview\"><summary><span class=\"dni-code-hint\"><code>[  ]</code></span></summary><div><table><thead><tr></tr></thead><tbody><tr><td>HeadOrDefault</td><td><div class=\"dni-plaintext\"><pre>0</pre></div></td></tr><tr><td>TailOrNull</td><td><div class=\"dni-plaintext\"><pre>&lt;null&gt;</pre></div></td></tr><tr><td>Head</td><td><details class=\"dni-treeview\"><summary><span class=\"dni-code-hint\"><code>System.InvalidOperationException: The input list was empty.\\r\\n   at Microsoft.FSharp.Collections.FSharpList`1.get_Head() in D:\\a\\_work\\1\\s\\src\\FSharp.Core\\prim-types.fs:line 4141\\r\\n   at lambda_method776(Closure, FSharpList`1)\\r\\n   at Microsoft.DotNet.Interactive.Formatting.MemberAccessor`1.GetVa...</code></span></summary><div><table><thead><tr></tr></thead><tbody><tr><td>TargetSite</td><td>T get_Head()</td></tr><tr><td>Message</td><td>The input list was empty.</td></tr><tr><td>Data</td><td>[  ]</td></tr><tr><td>InnerException</td><td><div class=\"dni-plaintext\"><pre>&lt;null&gt;</pre></div></td></tr><tr><td>HelpLink</td><td><div class=\"dni-plaintext\"><pre>&lt;null&gt;</pre></div></td></tr><tr><td>Source</td><td>FSharp.Core</td></tr><tr><td>HResult</td><td>-2146233079</td></tr><tr><td>StackTrace</td><td>   at Microsoft.FSharp.Collections.FSharpList`1.get_Head() in D:\\a\\_work\\1\\s\\src\\FSharp.Core\\prim-types.fs:line 4141\r\n",
       "   at lambda_method776(Closure, FSharpList`1)\r\n",
       "   at Microsoft.DotNet.Interactive.Formatting.MemberAccessor`1.GetValueOrException(T instance) in D:\\a\\_work\\1\\s\\src\\Microsoft.DotNet.Interactive.Formatting\\MemberAccessor{T}.cs:line 58</td></tr></tbody></table></div></details></td></tr><tr><td>Tail</td><td><details class=\"dni-treeview\"><summary><span class=\"dni-code-hint\"><code>System.InvalidOperationException: The input list was empty.\\r\\n   at Microsoft.FSharp.Collections.FSharpList`1.get_Tail() in D:\\a\\_work\\1\\s\\src\\FSharp.Core\\prim-types.fs:line 4146\\r\\n   at lambda_method777(Closure, FSharpList`1)\\r\\n   at Microsoft.DotNet.Interactive.Formatting.MemberAccessor`1.GetVa...</code></span></summary><div><table><thead><tr></tr></thead><tbody><tr><td>TargetSite</td><td>Microsoft.FSharp.Collections.FSharpList`1[T] get_Tail()</td></tr><tr><td>Message</td><td>The input list was empty.</td></tr><tr><td>Data</td><td>[  ]</td></tr><tr><td>InnerException</td><td><div class=\"dni-plaintext\"><pre>&lt;null&gt;</pre></div></td></tr><tr><td>HelpLink</td><td><div class=\"dni-plaintext\"><pre>&lt;null&gt;</pre></div></td></tr><tr><td>Source</td><td>FSharp.Core</td></tr><tr><td>HResult</td><td>-2146233079</td></tr><tr><td>StackTrace</td><td>   at Microsoft.FSharp.Collections.FSharpList`1.get_Tail() in D:\\a\\_work\\1\\s\\src\\FSharp.Core\\prim-types.fs:line 4146\r\n",
       "   at lambda_method777(Closure, FSharpList`1)\r\n",
       "   at Microsoft.DotNet.Interactive.Formatting.MemberAccessor`1.GetValueOrException(T instance) in D:\\a\\_work\\1\\s\\src\\Microsoft.DotNet.Interactive.Formatting\\MemberAccessor{T}.cs:line 58</td></tr></tbody></table></div></details></td></tr><tr><td><i>(values)</i></td><td><div class=\"dni-plaintext\"><pre>[  ]</pre></div></td></tr></tbody></table></div></details></td></tr><tr><td><i>(values)</i></td><td><div class=\"dni-plaintext\"><pre>[ 328.3193703125 ]</pre></div></td></tr></tbody></table></div></details></td></tr><tr><td>Head</td><td><div class=\"dni-plaintext\"><pre>320.5950012500</pre></div></td></tr><tr><td>Tail</td><td><details class=\"dni-treeview\"><summary><span class=\"dni-code-hint\"><code>[ 328.3193703125 ]</code></span></summary><div><table><thead><tr></tr></thead><tbody><tr><td>HeadOrDefault</td><td><div class=\"dni-plaintext\"><pre>328.3193703125</pre></div></td></tr><tr><td>TailOrNull</td><td><details class=\"dni-treeview\"><summary><span class=\"dni-code-hint\"><code>[  ]</code></span></summary><div><table><thead><tr></tr></thead><tbody><tr><td>HeadOrDefault</td><td><div class=\"dni-plaintext\"><pre>0</pre></div></td></tr><tr><td>TailOrNull</td><td><div class=\"dni-plaintext\"><pre>&lt;null&gt;</pre></div></td></tr><tr><td>Head</td><td><details class=\"dni-treeview\"><summary><span class=\"dni-code-hint\"><code>System.InvalidOperationException: The input list was empty.\\r\\n   at Microsoft.FSharp.Collections.FSharpList`1.get_Head() in D:\\a\\_work\\1\\s\\src\\FSharp.Core\\prim-types.fs:line 4141\\r\\n   at lambda_method776(Closure, FSharpList`1)\\r\\n   at Microsoft.DotNet.Interactive.Formatting.MemberAccessor`1.GetVa...</code></span></summary><div><table><thead><tr></tr></thead><tbody><tr><td>TargetSite</td><td>T get_Head()</td></tr><tr><td>Message</td><td>The input list was empty.</td></tr><tr><td>Data</td><td>[  ]</td></tr><tr><td>InnerException</td><td><div class=\"dni-plaintext\"><pre>&lt;null&gt;</pre></div></td></tr><tr><td>HelpLink</td><td><div class=\"dni-plaintext\"><pre>&lt;null&gt;</pre></div></td></tr><tr><td>Source</td><td>FSharp.Core</td></tr><tr><td>HResult</td><td>-2146233079</td></tr><tr><td>StackTrace</td><td>   at Microsoft.FSharp.Collections.FSharpList`1.get_Head() in D:\\a\\_work\\1\\s\\src\\FSharp.Core\\prim-types.fs:line 4141\r\n",
       "   at lambda_method776(Closure, FSharpList`1)\r\n",
       "   at Microsoft.DotNet.Interactive.Formatting.MemberAccessor`1.GetValueOrException(T instance) in D:\\a\\_work\\1\\s\\src\\Microsoft.DotNet.Interactive.Formatting\\MemberAccessor{T}.cs:line 58</td></tr></tbody></table></div></details></td></tr><tr><td>Tail</td><td><details class=\"dni-treeview\"><summary><span class=\"dni-code-hint\"><code>System.InvalidOperationException: The input list was empty.\\r\\n   at Microsoft.FSharp.Collections.FSharpList`1.get_Tail() in D:\\a\\_work\\1\\s\\src\\FSharp.Core\\prim-types.fs:line 4146\\r\\n   at lambda_method777(Closure, FSharpList`1)\\r\\n   at Microsoft.DotNet.Interactive.Formatting.MemberAccessor`1.GetVa...</code></span></summary><div><table><thead><tr></tr></thead><tbody><tr><td>TargetSite</td><td>Microsoft.FSharp.Collections.FSharpList`1[T] get_Tail()</td></tr><tr><td>Message</td><td>The input list was empty.</td></tr><tr><td>Data</td><td>[  ]</td></tr><tr><td>InnerException</td><td><div class=\"dni-plaintext\"><pre>&lt;null&gt;</pre></div></td></tr><tr><td>HelpLink</td><td><div class=\"dni-plaintext\"><pre>&lt;null&gt;</pre></div></td></tr><tr><td>Source</td><td>FSharp.Core</td></tr><tr><td>HResult</td><td>-2146233079</td></tr><tr><td>StackTrace</td><td>   at Microsoft.FSharp.Collections.FSharpList`1.get_Tail() in D:\\a\\_work\\1\\s\\src\\FSharp.Core\\prim-types.fs:line 4146\r\n",
       "   at lambda_method777(Closure, FSharpList`1)\r\n",
       "   at Microsoft.DotNet.Interactive.Formatting.MemberAccessor`1.GetValueOrException(T instance) in D:\\a\\_work\\1\\s\\src\\Microsoft.DotNet.Interactive.Formatting\\MemberAccessor{T}.cs:line 58</td></tr></tbody></table></div></details></td></tr><tr><td><i>(values)</i></td><td><div class=\"dni-plaintext\"><pre>[  ]</pre></div></td></tr></tbody></table></div></details></td></tr><tr><td>Head</td><td><div class=\"dni-plaintext\"><pre>328.3193703125</pre></div></td></tr><tr><td>Tail</td><td><details class=\"dni-treeview\"><summary><span class=\"dni-code-hint\"><code>[  ]</code></span></summary><div><table><thead><tr></tr></thead><tbody><tr><td>HeadOrDefault</td><td><div class=\"dni-plaintext\"><pre>0</pre></div></td></tr><tr><td>TailOrNull</td><td><div class=\"dni-plaintext\"><pre>&lt;null&gt;</pre></div></td></tr><tr><td>Head</td><td><details class=\"dni-treeview\"><summary><span class=\"dni-code-hint\"><code>System.InvalidOperationException: The input list was empty.\\r\\n   at Microsoft.FSharp.Collections.FSharpList`1.get_Head() in D:\\a\\_work\\1\\s\\src\\FSharp.Core\\prim-types.fs:line 4141\\r\\n   at lambda_method776(Closure, FSharpList`1)\\r\\n   at Microsoft.DotNet.Interactive.Formatting.MemberAccessor`1.GetVa...</code></span></summary><div><table><thead><tr></tr></thead><tbody><tr><td>TargetSite</td><td>T get_Head()</td></tr><tr><td>Message</td><td>The input list was empty.</td></tr><tr><td>Data</td><td>[  ]</td></tr><tr><td>InnerException</td><td><div class=\"dni-plaintext\"><pre>&lt;null&gt;</pre></div></td></tr><tr><td>HelpLink</td><td><div class=\"dni-plaintext\"><pre>&lt;null&gt;</pre></div></td></tr><tr><td>Source</td><td>FSharp.Core</td></tr><tr><td>HResult</td><td>-2146233079</td></tr><tr><td>StackTrace</td><td>   at Microsoft.FSharp.Collections.FSharpList`1.get_Head() in D:\\a\\_work\\1\\s\\src\\FSharp.Core\\prim-types.fs:line 4141\r\n",
       "   at lambda_method776(Closure, FSharpList`1)\r\n",
       "   at Microsoft.DotNet.Interactive.Formatting.MemberAccessor`1.GetValueOrException(T instance) in D:\\a\\_work\\1\\s\\src\\Microsoft.DotNet.Interactive.Formatting\\MemberAccessor{T}.cs:line 58</td></tr></tbody></table></div></details></td></tr><tr><td>Tail</td><td><details class=\"dni-treeview\"><summary><span class=\"dni-code-hint\"><code>System.InvalidOperationException: The input list was empty.\\r\\n   at Microsoft.FSharp.Collections.FSharpList`1.get_Tail() in D:\\a\\_work\\1\\s\\src\\FSharp.Core\\prim-types.fs:line 4146\\r\\n   at lambda_method777(Closure, FSharpList`1)\\r\\n   at Microsoft.DotNet.Interactive.Formatting.MemberAccessor`1.GetVa...</code></span></summary><div><table><thead><tr></tr></thead><tbody><tr><td>TargetSite</td><td>Microsoft.FSharp.Collections.FSharpList`1[T] get_Tail()</td></tr><tr><td>Message</td><td>The input list was empty.</td></tr><tr><td>Data</td><td>[  ]</td></tr><tr><td>InnerException</td><td><div class=\"dni-plaintext\"><pre>&lt;null&gt;</pre></div></td></tr><tr><td>HelpLink</td><td><div class=\"dni-plaintext\"><pre>&lt;null&gt;</pre></div></td></tr><tr><td>Source</td><td>FSharp.Core</td></tr><tr><td>HResult</td><td>-2146233079</td></tr><tr><td>StackTrace</td><td>   at Microsoft.FSharp.Collections.FSharpList`1.get_Tail() in D:\\a\\_work\\1\\s\\src\\FSharp.Core\\prim-types.fs:line 4146\r\n",
       "   at lambda_method777(Closure, FSharpList`1)\r\n",
       "   at Microsoft.DotNet.Interactive.Formatting.MemberAccessor`1.GetValueOrException(T instance) in D:\\a\\_work\\1\\s\\src\\Microsoft.DotNet.Interactive.Formatting\\MemberAccessor{T}.cs:line 58</td></tr></tbody></table></div></details></td></tr><tr><td><i>(values)</i></td><td><div class=\"dni-plaintext\"><pre>[  ]</pre></div></td></tr></tbody></table></div></details></td></tr><tr><td><i>(values)</i></td><td><div class=\"dni-plaintext\"><pre>[ 328.3193703125 ]</pre></div></td></tr></tbody></table></div></details></td></tr><tr><td><i>(values)</i></td><td><div class=\"dni-plaintext\"><pre>[ 320.5950012500, 328.3193703125 ]</pre></div></td></tr></tbody></table></div></details></td></tr></tbody></table></div></details></td></tr><tr><td>12</td><td><details class=\"dni-treeview\"><summary><span class=\"dni-code-hint\"><code>(5/29/2023 12:00:00 AM, [329.686241250; 336.092498750])</code></span></summary><div><table><thead><tr></tr></thead><tbody><tr><td>Item1</td><td><span>2023-05-29 00:00:00Z</span></td></tr><tr><td>Item2</td><td><details class=\"dni-treeview\"><summary><span class=\"dni-code-hint\"><code>[ 329.686241250, 336.092498750 ]</code></span></summary><div><table><thead><tr></tr></thead><tbody><tr><td>HeadOrDefault</td><td><div class=\"dni-plaintext\"><pre>329.686241250</pre></div></td></tr><tr><td>TailOrNull</td><td><details class=\"dni-treeview\"><summary><span class=\"dni-code-hint\"><code>[ 336.092498750 ]</code></span></summary><div><table><thead><tr></tr></thead><tbody><tr><td>HeadOrDefault</td><td><div class=\"dni-plaintext\"><pre>336.092498750</pre></div></td></tr><tr><td>TailOrNull</td><td><details class=\"dni-treeview\"><summary><span class=\"dni-code-hint\"><code>[  ]</code></span></summary><div><table><thead><tr></tr></thead><tbody><tr><td>HeadOrDefault</td><td><div class=\"dni-plaintext\"><pre>0</pre></div></td></tr><tr><td>TailOrNull</td><td><div class=\"dni-plaintext\"><pre>&lt;null&gt;</pre></div></td></tr><tr><td>Head</td><td><details class=\"dni-treeview\"><summary><span class=\"dni-code-hint\"><code>System.InvalidOperationException: The input list was empty.\\r\\n   at Microsoft.FSharp.Collections.FSharpList`1.get_Head() in D:\\a\\_work\\1\\s\\src\\FSharp.Core\\prim-types.fs:line 4141\\r\\n   at lambda_method776(Closure, FSharpList`1)\\r\\n   at Microsoft.DotNet.Interactive.Formatting.MemberAccessor`1.GetVa...</code></span></summary><div><table><thead><tr></tr></thead><tbody><tr><td>TargetSite</td><td>T get_Head()</td></tr><tr><td>Message</td><td>The input list was empty.</td></tr><tr><td>Data</td><td>[  ]</td></tr><tr><td>InnerException</td><td><div class=\"dni-plaintext\"><pre>&lt;null&gt;</pre></div></td></tr><tr><td>HelpLink</td><td><div class=\"dni-plaintext\"><pre>&lt;null&gt;</pre></div></td></tr><tr><td>Source</td><td>FSharp.Core</td></tr><tr><td>HResult</td><td>-2146233079</td></tr><tr><td>StackTrace</td><td>   at Microsoft.FSharp.Collections.FSharpList`1.get_Head() in D:\\a\\_work\\1\\s\\src\\FSharp.Core\\prim-types.fs:line 4141\r\n",
       "   at lambda_method776(Closure, FSharpList`1)\r\n",
       "   at Microsoft.DotNet.Interactive.Formatting.MemberAccessor`1.GetValueOrException(T instance) in D:\\a\\_work\\1\\s\\src\\Microsoft.DotNet.Interactive.Formatting\\MemberAccessor{T}.cs:line 58</td></tr></tbody></table></div></details></td></tr><tr><td>Tail</td><td><details class=\"dni-treeview\"><summary><span class=\"dni-code-hint\"><code>System.InvalidOperationException: The input list was empty.\\r\\n   at Microsoft.FSharp.Collections.FSharpList`1.get_Tail() in D:\\a\\_work\\1\\s\\src\\FSharp.Core\\prim-types.fs:line 4146\\r\\n   at lambda_method777(Closure, FSharpList`1)\\r\\n   at Microsoft.DotNet.Interactive.Formatting.MemberAccessor`1.GetVa...</code></span></summary><div><table><thead><tr></tr></thead><tbody><tr><td>TargetSite</td><td>Microsoft.FSharp.Collections.FSharpList`1[T] get_Tail()</td></tr><tr><td>Message</td><td>The input list was empty.</td></tr><tr><td>Data</td><td>[  ]</td></tr><tr><td>InnerException</td><td><div class=\"dni-plaintext\"><pre>&lt;null&gt;</pre></div></td></tr><tr><td>HelpLink</td><td><div class=\"dni-plaintext\"><pre>&lt;null&gt;</pre></div></td></tr><tr><td>Source</td><td>FSharp.Core</td></tr><tr><td>HResult</td><td>-2146233079</td></tr><tr><td>StackTrace</td><td>   at Microsoft.FSharp.Collections.FSharpList`1.get_Tail() in D:\\a\\_work\\1\\s\\src\\FSharp.Core\\prim-types.fs:line 4146\r\n",
       "   at lambda_method777(Closure, FSharpList`1)\r\n",
       "   at Microsoft.DotNet.Interactive.Formatting.MemberAccessor`1.GetValueOrException(T instance) in D:\\a\\_work\\1\\s\\src\\Microsoft.DotNet.Interactive.Formatting\\MemberAccessor{T}.cs:line 58</td></tr></tbody></table></div></details></td></tr><tr><td><i>(values)</i></td><td><div class=\"dni-plaintext\"><pre>[  ]</pre></div></td></tr></tbody></table></div></details></td></tr><tr><td>Head</td><td><div class=\"dni-plaintext\"><pre>336.092498750</pre></div></td></tr><tr><td>Tail</td><td><details class=\"dni-treeview\"><summary><span class=\"dni-code-hint\"><code>[  ]</code></span></summary><div><table><thead><tr></tr></thead><tbody><tr><td>HeadOrDefault</td><td><div class=\"dni-plaintext\"><pre>0</pre></div></td></tr><tr><td>TailOrNull</td><td><div class=\"dni-plaintext\"><pre>&lt;null&gt;</pre></div></td></tr><tr><td>Head</td><td><details class=\"dni-treeview\"><summary><span class=\"dni-code-hint\"><code>System.InvalidOperationException: The input list was empty.\\r\\n   at Microsoft.FSharp.Collections.FSharpList`1.get_Head() in D:\\a\\_work\\1\\s\\src\\FSharp.Core\\prim-types.fs:line 4141\\r\\n   at lambda_method776(Closure, FSharpList`1)\\r\\n   at Microsoft.DotNet.Interactive.Formatting.MemberAccessor`1.GetVa...</code></span></summary><div><table><thead><tr></tr></thead><tbody><tr><td>TargetSite</td><td>T get_Head()</td></tr><tr><td>Message</td><td>The input list was empty.</td></tr><tr><td>Data</td><td>[  ]</td></tr><tr><td>InnerException</td><td><div class=\"dni-plaintext\"><pre>&lt;null&gt;</pre></div></td></tr><tr><td>HelpLink</td><td><div class=\"dni-plaintext\"><pre>&lt;null&gt;</pre></div></td></tr><tr><td>Source</td><td>FSharp.Core</td></tr><tr><td>HResult</td><td>-2146233079</td></tr><tr><td>StackTrace</td><td>   at Microsoft.FSharp.Collections.FSharpList`1.get_Head() in D:\\a\\_work\\1\\s\\src\\FSharp.Core\\prim-types.fs:line 4141\r\n",
       "   at lambda_method776(Closure, FSharpList`1)\r\n",
       "   at Microsoft.DotNet.Interactive.Formatting.MemberAccessor`1.GetValueOrException(T instance) in D:\\a\\_work\\1\\s\\src\\Microsoft.DotNet.Interactive.Formatting\\MemberAccessor{T}.cs:line 58</td></tr></tbody></table></div></details></td></tr><tr><td>Tail</td><td><details class=\"dni-treeview\"><summary><span class=\"dni-code-hint\"><code>System.InvalidOperationException: The input list was empty.\\r\\n   at Microsoft.FSharp.Collections.FSharpList`1.get_Tail() in D:\\a\\_work\\1\\s\\src\\FSharp.Core\\prim-types.fs:line 4146\\r\\n   at lambda_method777(Closure, FSharpList`1)\\r\\n   at Microsoft.DotNet.Interactive.Formatting.MemberAccessor`1.GetVa...</code></span></summary><div><table><thead><tr></tr></thead><tbody><tr><td>TargetSite</td><td>Microsoft.FSharp.Collections.FSharpList`1[T] get_Tail()</td></tr><tr><td>Message</td><td>The input list was empty.</td></tr><tr><td>Data</td><td>[  ]</td></tr><tr><td>InnerException</td><td><div class=\"dni-plaintext\"><pre>&lt;null&gt;</pre></div></td></tr><tr><td>HelpLink</td><td><div class=\"dni-plaintext\"><pre>&lt;null&gt;</pre></div></td></tr><tr><td>Source</td><td>FSharp.Core</td></tr><tr><td>HResult</td><td>-2146233079</td></tr><tr><td>StackTrace</td><td>   at Microsoft.FSharp.Collections.FSharpList`1.get_Tail() in D:\\a\\_work\\1\\s\\src\\FSharp.Core\\prim-types.fs:line 4146\r\n",
       "   at lambda_method777(Closure, FSharpList`1)\r\n",
       "   at Microsoft.DotNet.Interactive.Formatting.MemberAccessor`1.GetValueOrException(T instance) in D:\\a\\_work\\1\\s\\src\\Microsoft.DotNet.Interactive.Formatting\\MemberAccessor{T}.cs:line 58</td></tr></tbody></table></div></details></td></tr><tr><td><i>(values)</i></td><td><div class=\"dni-plaintext\"><pre>[  ]</pre></div></td></tr></tbody></table></div></details></td></tr><tr><td><i>(values)</i></td><td><div class=\"dni-plaintext\"><pre>[ 336.092498750 ]</pre></div></td></tr></tbody></table></div></details></td></tr><tr><td>Head</td><td><div class=\"dni-plaintext\"><pre>329.686241250</pre></div></td></tr><tr><td>Tail</td><td><details class=\"dni-treeview\"><summary><span class=\"dni-code-hint\"><code>[ 336.092498750 ]</code></span></summary><div><table><thead><tr></tr></thead><tbody><tr><td>HeadOrDefault</td><td><div class=\"dni-plaintext\"><pre>336.092498750</pre></div></td></tr><tr><td>TailOrNull</td><td><details class=\"dni-treeview\"><summary><span class=\"dni-code-hint\"><code>[  ]</code></span></summary><div><table><thead><tr></tr></thead><tbody><tr><td>HeadOrDefault</td><td><div class=\"dni-plaintext\"><pre>0</pre></div></td></tr><tr><td>TailOrNull</td><td><div class=\"dni-plaintext\"><pre>&lt;null&gt;</pre></div></td></tr><tr><td>Head</td><td><details class=\"dni-treeview\"><summary><span class=\"dni-code-hint\"><code>System.InvalidOperationException: The input list was empty.\\r\\n   at Microsoft.FSharp.Collections.FSharpList`1.get_Head() in D:\\a\\_work\\1\\s\\src\\FSharp.Core\\prim-types.fs:line 4141\\r\\n   at lambda_method776(Closure, FSharpList`1)\\r\\n   at Microsoft.DotNet.Interactive.Formatting.MemberAccessor`1.GetVa...</code></span></summary><div><table><thead><tr></tr></thead><tbody><tr><td>TargetSite</td><td>T get_Head()</td></tr><tr><td>Message</td><td>The input list was empty.</td></tr><tr><td>Data</td><td>[  ]</td></tr><tr><td>InnerException</td><td><div class=\"dni-plaintext\"><pre>&lt;null&gt;</pre></div></td></tr><tr><td>HelpLink</td><td><div class=\"dni-plaintext\"><pre>&lt;null&gt;</pre></div></td></tr><tr><td>Source</td><td>FSharp.Core</td></tr><tr><td>HResult</td><td>-2146233079</td></tr><tr><td>StackTrace</td><td>   at Microsoft.FSharp.Collections.FSharpList`1.get_Head() in D:\\a\\_work\\1\\s\\src\\FSharp.Core\\prim-types.fs:line 4141\r\n",
       "   at lambda_method776(Closure, FSharpList`1)\r\n",
       "   at Microsoft.DotNet.Interactive.Formatting.MemberAccessor`1.GetValueOrException(T instance) in D:\\a\\_work\\1\\s\\src\\Microsoft.DotNet.Interactive.Formatting\\MemberAccessor{T}.cs:line 58</td></tr></tbody></table></div></details></td></tr><tr><td>Tail</td><td><details class=\"dni-treeview\"><summary><span class=\"dni-code-hint\"><code>System.InvalidOperationException: The input list was empty.\\r\\n   at Microsoft.FSharp.Collections.FSharpList`1.get_Tail() in D:\\a\\_work\\1\\s\\src\\FSharp.Core\\prim-types.fs:line 4146\\r\\n   at lambda_method777(Closure, FSharpList`1)\\r\\n   at Microsoft.DotNet.Interactive.Formatting.MemberAccessor`1.GetVa...</code></span></summary><div><table><thead><tr></tr></thead><tbody><tr><td>TargetSite</td><td>Microsoft.FSharp.Collections.FSharpList`1[T] get_Tail()</td></tr><tr><td>Message</td><td>The input list was empty.</td></tr><tr><td>Data</td><td>[  ]</td></tr><tr><td>InnerException</td><td><div class=\"dni-plaintext\"><pre>&lt;null&gt;</pre></div></td></tr><tr><td>HelpLink</td><td><div class=\"dni-plaintext\"><pre>&lt;null&gt;</pre></div></td></tr><tr><td>Source</td><td>FSharp.Core</td></tr><tr><td>HResult</td><td>-2146233079</td></tr><tr><td>StackTrace</td><td>   at Microsoft.FSharp.Collections.FSharpList`1.get_Tail() in D:\\a\\_work\\1\\s\\src\\FSharp.Core\\prim-types.fs:line 4146\r\n",
       "   at lambda_method777(Closure, FSharpList`1)\r\n",
       "   at Microsoft.DotNet.Interactive.Formatting.MemberAccessor`1.GetValueOrException(T instance) in D:\\a\\_work\\1\\s\\src\\Microsoft.DotNet.Interactive.Formatting\\MemberAccessor{T}.cs:line 58</td></tr></tbody></table></div></details></td></tr><tr><td><i>(values)</i></td><td><div class=\"dni-plaintext\"><pre>[  ]</pre></div></td></tr></tbody></table></div></details></td></tr><tr><td>Head</td><td><div class=\"dni-plaintext\"><pre>336.092498750</pre></div></td></tr><tr><td>Tail</td><td><details class=\"dni-treeview\"><summary><span class=\"dni-code-hint\"><code>[  ]</code></span></summary><div><table><thead><tr></tr></thead><tbody><tr><td>HeadOrDefault</td><td><div class=\"dni-plaintext\"><pre>0</pre></div></td></tr><tr><td>TailOrNull</td><td><div class=\"dni-plaintext\"><pre>&lt;null&gt;</pre></div></td></tr><tr><td>Head</td><td><details class=\"dni-treeview\"><summary><span class=\"dni-code-hint\"><code>System.InvalidOperationException: The input list was empty.\\r\\n   at Microsoft.FSharp.Collections.FSharpList`1.get_Head() in D:\\a\\_work\\1\\s\\src\\FSharp.Core\\prim-types.fs:line 4141\\r\\n   at lambda_method776(Closure, FSharpList`1)\\r\\n   at Microsoft.DotNet.Interactive.Formatting.MemberAccessor`1.GetVa...</code></span></summary><div><table><thead><tr></tr></thead><tbody><tr><td>TargetSite</td><td>T get_Head()</td></tr><tr><td>Message</td><td>The input list was empty.</td></tr><tr><td>Data</td><td>[  ]</td></tr><tr><td>InnerException</td><td><div class=\"dni-plaintext\"><pre>&lt;null&gt;</pre></div></td></tr><tr><td>HelpLink</td><td><div class=\"dni-plaintext\"><pre>&lt;null&gt;</pre></div></td></tr><tr><td>Source</td><td>FSharp.Core</td></tr><tr><td>HResult</td><td>-2146233079</td></tr><tr><td>StackTrace</td><td>   at Microsoft.FSharp.Collections.FSharpList`1.get_Head() in D:\\a\\_work\\1\\s\\src\\FSharp.Core\\prim-types.fs:line 4141\r\n",
       "   at lambda_method776(Closure, FSharpList`1)\r\n",
       "   at Microsoft.DotNet.Interactive.Formatting.MemberAccessor`1.GetValueOrException(T instance) in D:\\a\\_work\\1\\s\\src\\Microsoft.DotNet.Interactive.Formatting\\MemberAccessor{T}.cs:line 58</td></tr></tbody></table></div></details></td></tr><tr><td>Tail</td><td><details class=\"dni-treeview\"><summary><span class=\"dni-code-hint\"><code>System.InvalidOperationException: The input list was empty.\\r\\n   at Microsoft.FSharp.Collections.FSharpList`1.get_Tail() in D:\\a\\_work\\1\\s\\src\\FSharp.Core\\prim-types.fs:line 4146\\r\\n   at lambda_method777(Closure, FSharpList`1)\\r\\n   at Microsoft.DotNet.Interactive.Formatting.MemberAccessor`1.GetVa...</code></span></summary><div><table><thead><tr></tr></thead><tbody><tr><td>TargetSite</td><td>Microsoft.FSharp.Collections.FSharpList`1[T] get_Tail()</td></tr><tr><td>Message</td><td>The input list was empty.</td></tr><tr><td>Data</td><td>[  ]</td></tr><tr><td>InnerException</td><td><div class=\"dni-plaintext\"><pre>&lt;null&gt;</pre></div></td></tr><tr><td>HelpLink</td><td><div class=\"dni-plaintext\"><pre>&lt;null&gt;</pre></div></td></tr><tr><td>Source</td><td>FSharp.Core</td></tr><tr><td>HResult</td><td>-2146233079</td></tr><tr><td>StackTrace</td><td>   at Microsoft.FSharp.Collections.FSharpList`1.get_Tail() in D:\\a\\_work\\1\\s\\src\\FSharp.Core\\prim-types.fs:line 4146\r\n",
       "   at lambda_method777(Closure, FSharpList`1)\r\n",
       "   at Microsoft.DotNet.Interactive.Formatting.MemberAccessor`1.GetValueOrException(T instance) in D:\\a\\_work\\1\\s\\src\\Microsoft.DotNet.Interactive.Formatting\\MemberAccessor{T}.cs:line 58</td></tr></tbody></table></div></details></td></tr><tr><td><i>(values)</i></td><td><div class=\"dni-plaintext\"><pre>[  ]</pre></div></td></tr></tbody></table></div></details></td></tr><tr><td><i>(values)</i></td><td><div class=\"dni-plaintext\"><pre>[ 336.092498750 ]</pre></div></td></tr></tbody></table></div></details></td></tr><tr><td><i>(values)</i></td><td><div class=\"dni-plaintext\"><pre>[ 329.686241250, 336.092498750 ]</pre></div></td></tr></tbody></table></div></details></td></tr></tbody></table></div></details></td></tr><tr><td>13</td><td><details class=\"dni-treeview\"><summary><span class=\"dni-code-hint\"><code>(6/5/2023 12:00:00 AM, [325.0318795625; 330.5868720625])</code></span></summary><div><table><thead><tr></tr></thead><tbody><tr><td>Item1</td><td><span>2023-06-05 00:00:00Z</span></td></tr><tr><td>Item2</td><td><details class=\"dni-treeview\"><summary><span class=\"dni-code-hint\"><code>[ 325.0318795625, 330.5868720625 ]</code></span></summary><div><table><thead><tr></tr></thead><tbody><tr><td>HeadOrDefault</td><td><div class=\"dni-plaintext\"><pre>325.0318795625</pre></div></td></tr><tr><td>TailOrNull</td><td><details class=\"dni-treeview\"><summary><span class=\"dni-code-hint\"><code>[ 330.5868720625 ]</code></span></summary><div><table><thead><tr></tr></thead><tbody><tr><td>HeadOrDefault</td><td><div class=\"dni-plaintext\"><pre>330.5868720625</pre></div></td></tr><tr><td>TailOrNull</td><td><details class=\"dni-treeview\"><summary><span class=\"dni-code-hint\"><code>[  ]</code></span></summary><div><table><thead><tr></tr></thead><tbody><tr><td>HeadOrDefault</td><td><div class=\"dni-plaintext\"><pre>0</pre></div></td></tr><tr><td>TailOrNull</td><td><div class=\"dni-plaintext\"><pre>&lt;null&gt;</pre></div></td></tr><tr><td>Head</td><td><details class=\"dni-treeview\"><summary><span class=\"dni-code-hint\"><code>System.InvalidOperationException: The input list was empty.\\r\\n   at Microsoft.FSharp.Collections.FSharpList`1.get_Head() in D:\\a\\_work\\1\\s\\src\\FSharp.Core\\prim-types.fs:line 4141\\r\\n   at lambda_method776(Closure, FSharpList`1)\\r\\n   at Microsoft.DotNet.Interactive.Formatting.MemberAccessor`1.GetVa...</code></span></summary><div><table><thead><tr></tr></thead><tbody><tr><td>TargetSite</td><td>T get_Head()</td></tr><tr><td>Message</td><td>The input list was empty.</td></tr><tr><td>Data</td><td>[  ]</td></tr><tr><td>InnerException</td><td><div class=\"dni-plaintext\"><pre>&lt;null&gt;</pre></div></td></tr><tr><td>HelpLink</td><td><div class=\"dni-plaintext\"><pre>&lt;null&gt;</pre></div></td></tr><tr><td>Source</td><td>FSharp.Core</td></tr><tr><td>HResult</td><td>-2146233079</td></tr><tr><td>StackTrace</td><td>   at Microsoft.FSharp.Collections.FSharpList`1.get_Head() in D:\\a\\_work\\1\\s\\src\\FSharp.Core\\prim-types.fs:line 4141\r\n",
       "   at lambda_method776(Closure, FSharpList`1)\r\n",
       "   at Microsoft.DotNet.Interactive.Formatting.MemberAccessor`1.GetValueOrException(T instance) in D:\\a\\_work\\1\\s\\src\\Microsoft.DotNet.Interactive.Formatting\\MemberAccessor{T}.cs:line 58</td></tr></tbody></table></div></details></td></tr><tr><td>Tail</td><td><details class=\"dni-treeview\"><summary><span class=\"dni-code-hint\"><code>System.InvalidOperationException: The input list was empty.\\r\\n   at Microsoft.FSharp.Collections.FSharpList`1.get_Tail() in D:\\a\\_work\\1\\s\\src\\FSharp.Core\\prim-types.fs:line 4146\\r\\n   at lambda_method777(Closure, FSharpList`1)\\r\\n   at Microsoft.DotNet.Interactive.Formatting.MemberAccessor`1.GetVa...</code></span></summary><div><table><thead><tr></tr></thead><tbody><tr><td>TargetSite</td><td>Microsoft.FSharp.Collections.FSharpList`1[T] get_Tail()</td></tr><tr><td>Message</td><td>The input list was empty.</td></tr><tr><td>Data</td><td>[  ]</td></tr><tr><td>InnerException</td><td><div class=\"dni-plaintext\"><pre>&lt;null&gt;</pre></div></td></tr><tr><td>HelpLink</td><td><div class=\"dni-plaintext\"><pre>&lt;null&gt;</pre></div></td></tr><tr><td>Source</td><td>FSharp.Core</td></tr><tr><td>HResult</td><td>-2146233079</td></tr><tr><td>StackTrace</td><td>   at Microsoft.FSharp.Collections.FSharpList`1.get_Tail() in D:\\a\\_work\\1\\s\\src\\FSharp.Core\\prim-types.fs:line 4146\r\n",
       "   at lambda_method777(Closure, FSharpList`1)\r\n",
       "   at Microsoft.DotNet.Interactive.Formatting.MemberAccessor`1.GetValueOrException(T instance) in D:\\a\\_work\\1\\s\\src\\Microsoft.DotNet.Interactive.Formatting\\MemberAccessor{T}.cs:line 58</td></tr></tbody></table></div></details></td></tr><tr><td><i>(values)</i></td><td><div class=\"dni-plaintext\"><pre>[  ]</pre></div></td></tr></tbody></table></div></details></td></tr><tr><td>Head</td><td><div class=\"dni-plaintext\"><pre>330.5868720625</pre></div></td></tr><tr><td>Tail</td><td><details class=\"dni-treeview\"><summary><span class=\"dni-code-hint\"><code>[  ]</code></span></summary><div><table><thead><tr></tr></thead><tbody><tr><td>HeadOrDefault</td><td><div class=\"dni-plaintext\"><pre>0</pre></div></td></tr><tr><td>TailOrNull</td><td><div class=\"dni-plaintext\"><pre>&lt;null&gt;</pre></div></td></tr><tr><td>Head</td><td><details class=\"dni-treeview\"><summary><span class=\"dni-code-hint\"><code>System.InvalidOperationException: The input list was empty.\\r\\n   at Microsoft.FSharp.Collections.FSharpList`1.get_Head() in D:\\a\\_work\\1\\s\\src\\FSharp.Core\\prim-types.fs:line 4141\\r\\n   at lambda_method776(Closure, FSharpList`1)\\r\\n   at Microsoft.DotNet.Interactive.Formatting.MemberAccessor`1.GetVa...</code></span></summary><div><table><thead><tr></tr></thead><tbody><tr><td>TargetSite</td><td>T get_Head()</td></tr><tr><td>Message</td><td>The input list was empty.</td></tr><tr><td>Data</td><td>[  ]</td></tr><tr><td>InnerException</td><td><div class=\"dni-plaintext\"><pre>&lt;null&gt;</pre></div></td></tr><tr><td>HelpLink</td><td><div class=\"dni-plaintext\"><pre>&lt;null&gt;</pre></div></td></tr><tr><td>Source</td><td>FSharp.Core</td></tr><tr><td>HResult</td><td>-2146233079</td></tr><tr><td>StackTrace</td><td>   at Microsoft.FSharp.Collections.FSharpList`1.get_Head() in D:\\a\\_work\\1\\s\\src\\FSharp.Core\\prim-types.fs:line 4141\r\n",
       "   at lambda_method776(Closure, FSharpList`1)\r\n",
       "   at Microsoft.DotNet.Interactive.Formatting.MemberAccessor`1.GetValueOrException(T instance) in D:\\a\\_work\\1\\s\\src\\Microsoft.DotNet.Interactive.Formatting\\MemberAccessor{T}.cs:line 58</td></tr></tbody></table></div></details></td></tr><tr><td>Tail</td><td><details class=\"dni-treeview\"><summary><span class=\"dni-code-hint\"><code>System.InvalidOperationException: The input list was empty.\\r\\n   at Microsoft.FSharp.Collections.FSharpList`1.get_Tail() in D:\\a\\_work\\1\\s\\src\\FSharp.Core\\prim-types.fs:line 4146\\r\\n   at lambda_method777(Closure, FSharpList`1)\\r\\n   at Microsoft.DotNet.Interactive.Formatting.MemberAccessor`1.GetVa...</code></span></summary><div><table><thead><tr></tr></thead><tbody><tr><td>TargetSite</td><td>Microsoft.FSharp.Collections.FSharpList`1[T] get_Tail()</td></tr><tr><td>Message</td><td>The input list was empty.</td></tr><tr><td>Data</td><td>[  ]</td></tr><tr><td>InnerException</td><td><div class=\"dni-plaintext\"><pre>&lt;null&gt;</pre></div></td></tr><tr><td>HelpLink</td><td><div class=\"dni-plaintext\"><pre>&lt;null&gt;</pre></div></td></tr><tr><td>Source</td><td>FSharp.Core</td></tr><tr><td>HResult</td><td>-2146233079</td></tr><tr><td>StackTrace</td><td>   at Microsoft.FSharp.Collections.FSharpList`1.get_Tail() in D:\\a\\_work\\1\\s\\src\\FSharp.Core\\prim-types.fs:line 4146\r\n",
       "   at lambda_method777(Closure, FSharpList`1)\r\n",
       "   at Microsoft.DotNet.Interactive.Formatting.MemberAccessor`1.GetValueOrException(T instance) in D:\\a\\_work\\1\\s\\src\\Microsoft.DotNet.Interactive.Formatting\\MemberAccessor{T}.cs:line 58</td></tr></tbody></table></div></details></td></tr><tr><td><i>(values)</i></td><td><div class=\"dni-plaintext\"><pre>[  ]</pre></div></td></tr></tbody></table></div></details></td></tr><tr><td><i>(values)</i></td><td><div class=\"dni-plaintext\"><pre>[ 330.5868720625 ]</pre></div></td></tr></tbody></table></div></details></td></tr><tr><td>Head</td><td><div class=\"dni-plaintext\"><pre>325.0318795625</pre></div></td></tr><tr><td>Tail</td><td><details class=\"dni-treeview\"><summary><span class=\"dni-code-hint\"><code>[ 330.5868720625 ]</code></span></summary><div><table><thead><tr></tr></thead><tbody><tr><td>HeadOrDefault</td><td><div class=\"dni-plaintext\"><pre>330.5868720625</pre></div></td></tr><tr><td>TailOrNull</td><td><details class=\"dni-treeview\"><summary><span class=\"dni-code-hint\"><code>[  ]</code></span></summary><div><table><thead><tr></tr></thead><tbody><tr><td>HeadOrDefault</td><td><div class=\"dni-plaintext\"><pre>0</pre></div></td></tr><tr><td>TailOrNull</td><td><div class=\"dni-plaintext\"><pre>&lt;null&gt;</pre></div></td></tr><tr><td>Head</td><td><details class=\"dni-treeview\"><summary><span class=\"dni-code-hint\"><code>System.InvalidOperationException: The input list was empty.\\r\\n   at Microsoft.FSharp.Collections.FSharpList`1.get_Head() in D:\\a\\_work\\1\\s\\src\\FSharp.Core\\prim-types.fs:line 4141\\r\\n   at lambda_method776(Closure, FSharpList`1)\\r\\n   at Microsoft.DotNet.Interactive.Formatting.MemberAccessor`1.GetVa...</code></span></summary><div><table><thead><tr></tr></thead><tbody><tr><td>TargetSite</td><td>T get_Head()</td></tr><tr><td>Message</td><td>The input list was empty.</td></tr><tr><td>Data</td><td>[  ]</td></tr><tr><td>InnerException</td><td><div class=\"dni-plaintext\"><pre>&lt;null&gt;</pre></div></td></tr><tr><td>HelpLink</td><td><div class=\"dni-plaintext\"><pre>&lt;null&gt;</pre></div></td></tr><tr><td>Source</td><td>FSharp.Core</td></tr><tr><td>HResult</td><td>-2146233079</td></tr><tr><td>StackTrace</td><td>   at Microsoft.FSharp.Collections.FSharpList`1.get_Head() in D:\\a\\_work\\1\\s\\src\\FSharp.Core\\prim-types.fs:line 4141\r\n",
       "   at lambda_method776(Closure, FSharpList`1)\r\n",
       "   at Microsoft.DotNet.Interactive.Formatting.MemberAccessor`1.GetValueOrException(T instance) in D:\\a\\_work\\1\\s\\src\\Microsoft.DotNet.Interactive.Formatting\\MemberAccessor{T}.cs:line 58</td></tr></tbody></table></div></details></td></tr><tr><td>Tail</td><td><details class=\"dni-treeview\"><summary><span class=\"dni-code-hint\"><code>System.InvalidOperationException: The input list was empty.\\r\\n   at Microsoft.FSharp.Collections.FSharpList`1.get_Tail() in D:\\a\\_work\\1\\s\\src\\FSharp.Core\\prim-types.fs:line 4146\\r\\n   at lambda_method777(Closure, FSharpList`1)\\r\\n   at Microsoft.DotNet.Interactive.Formatting.MemberAccessor`1.GetVa...</code></span></summary><div><table><thead><tr></tr></thead><tbody><tr><td>TargetSite</td><td>Microsoft.FSharp.Collections.FSharpList`1[T] get_Tail()</td></tr><tr><td>Message</td><td>The input list was empty.</td></tr><tr><td>Data</td><td>[  ]</td></tr><tr><td>InnerException</td><td><div class=\"dni-plaintext\"><pre>&lt;null&gt;</pre></div></td></tr><tr><td>HelpLink</td><td><div class=\"dni-plaintext\"><pre>&lt;null&gt;</pre></div></td></tr><tr><td>Source</td><td>FSharp.Core</td></tr><tr><td>HResult</td><td>-2146233079</td></tr><tr><td>StackTrace</td><td>   at Microsoft.FSharp.Collections.FSharpList`1.get_Tail() in D:\\a\\_work\\1\\s\\src\\FSharp.Core\\prim-types.fs:line 4146\r\n",
       "   at lambda_method777(Closure, FSharpList`1)\r\n",
       "   at Microsoft.DotNet.Interactive.Formatting.MemberAccessor`1.GetValueOrException(T instance) in D:\\a\\_work\\1\\s\\src\\Microsoft.DotNet.Interactive.Formatting\\MemberAccessor{T}.cs:line 58</td></tr></tbody></table></div></details></td></tr><tr><td><i>(values)</i></td><td><div class=\"dni-plaintext\"><pre>[  ]</pre></div></td></tr></tbody></table></div></details></td></tr><tr><td>Head</td><td><div class=\"dni-plaintext\"><pre>330.5868720625</pre></div></td></tr><tr><td>Tail</td><td><details class=\"dni-treeview\"><summary><span class=\"dni-code-hint\"><code>[  ]</code></span></summary><div><table><thead><tr></tr></thead><tbody><tr><td>HeadOrDefault</td><td><div class=\"dni-plaintext\"><pre>0</pre></div></td></tr><tr><td>TailOrNull</td><td><div class=\"dni-plaintext\"><pre>&lt;null&gt;</pre></div></td></tr><tr><td>Head</td><td><details class=\"dni-treeview\"><summary><span class=\"dni-code-hint\"><code>System.InvalidOperationException: The input list was empty.\\r\\n   at Microsoft.FSharp.Collections.FSharpList`1.get_Head() in D:\\a\\_work\\1\\s\\src\\FSharp.Core\\prim-types.fs:line 4141\\r\\n   at lambda_method776(Closure, FSharpList`1)\\r\\n   at Microsoft.DotNet.Interactive.Formatting.MemberAccessor`1.GetVa...</code></span></summary><div><table><thead><tr></tr></thead><tbody><tr><td>TargetSite</td><td>T get_Head()</td></tr><tr><td>Message</td><td>The input list was empty.</td></tr><tr><td>Data</td><td>[  ]</td></tr><tr><td>InnerException</td><td><div class=\"dni-plaintext\"><pre>&lt;null&gt;</pre></div></td></tr><tr><td>HelpLink</td><td><div class=\"dni-plaintext\"><pre>&lt;null&gt;</pre></div></td></tr><tr><td>Source</td><td>FSharp.Core</td></tr><tr><td>HResult</td><td>-2146233079</td></tr><tr><td>StackTrace</td><td>   at Microsoft.FSharp.Collections.FSharpList`1.get_Head() in D:\\a\\_work\\1\\s\\src\\FSharp.Core\\prim-types.fs:line 4141\r\n",
       "   at lambda_method776(Closure, FSharpList`1)\r\n",
       "   at Microsoft.DotNet.Interactive.Formatting.MemberAccessor`1.GetValueOrException(T instance) in D:\\a\\_work\\1\\s\\src\\Microsoft.DotNet.Interactive.Formatting\\MemberAccessor{T}.cs:line 58</td></tr></tbody></table></div></details></td></tr><tr><td>Tail</td><td><details class=\"dni-treeview\"><summary><span class=\"dni-code-hint\"><code>System.InvalidOperationException: The input list was empty.\\r\\n   at Microsoft.FSharp.Collections.FSharpList`1.get_Tail() in D:\\a\\_work\\1\\s\\src\\FSharp.Core\\prim-types.fs:line 4146\\r\\n   at lambda_method777(Closure, FSharpList`1)\\r\\n   at Microsoft.DotNet.Interactive.Formatting.MemberAccessor`1.GetVa...</code></span></summary><div><table><thead><tr></tr></thead><tbody><tr><td>TargetSite</td><td>Microsoft.FSharp.Collections.FSharpList`1[T] get_Tail()</td></tr><tr><td>Message</td><td>The input list was empty.</td></tr><tr><td>Data</td><td>[  ]</td></tr><tr><td>InnerException</td><td><div class=\"dni-plaintext\"><pre>&lt;null&gt;</pre></div></td></tr><tr><td>HelpLink</td><td><div class=\"dni-plaintext\"><pre>&lt;null&gt;</pre></div></td></tr><tr><td>Source</td><td>FSharp.Core</td></tr><tr><td>HResult</td><td>-2146233079</td></tr><tr><td>StackTrace</td><td>   at Microsoft.FSharp.Collections.FSharpList`1.get_Tail() in D:\\a\\_work\\1\\s\\src\\FSharp.Core\\prim-types.fs:line 4146\r\n",
       "   at lambda_method777(Closure, FSharpList`1)\r\n",
       "   at Microsoft.DotNet.Interactive.Formatting.MemberAccessor`1.GetValueOrException(T instance) in D:\\a\\_work\\1\\s\\src\\Microsoft.DotNet.Interactive.Formatting\\MemberAccessor{T}.cs:line 58</td></tr></tbody></table></div></details></td></tr><tr><td><i>(values)</i></td><td><div class=\"dni-plaintext\"><pre>[  ]</pre></div></td></tr></tbody></table></div></details></td></tr><tr><td><i>(values)</i></td><td><div class=\"dni-plaintext\"><pre>[ 330.5868720625 ]</pre></div></td></tr></tbody></table></div></details></td></tr><tr><td><i>(values)</i></td><td><div class=\"dni-plaintext\"><pre>[ 325.0318795625, 330.5868720625 ]</pre></div></td></tr></tbody></table></div></details></td></tr></tbody></table></div></details></td></tr><tr><td>14</td><td><details class=\"dni-treeview\"><summary><span class=\"dni-code-hint\"><code>(6/12/2023 12:00:00 AM, [337.8481349375; 347.3925016875])</code></span></summary><div><table><thead><tr></tr></thead><tbody><tr><td>Item1</td><td><span>2023-06-12 00:00:00Z</span></td></tr><tr><td>Item2</td><td><details class=\"dni-treeview\"><summary><span class=\"dni-code-hint\"><code>[ 337.8481349375, 347.3925016875 ]</code></span></summary><div><table><thead><tr></tr></thead><tbody><tr><td>HeadOrDefault</td><td><div class=\"dni-plaintext\"><pre>337.8481349375</pre></div></td></tr><tr><td>TailOrNull</td><td><details class=\"dni-treeview\"><summary><span class=\"dni-code-hint\"><code>[ 347.3925016875 ]</code></span></summary><div><table><thead><tr></tr></thead><tbody><tr><td>HeadOrDefault</td><td><div class=\"dni-plaintext\"><pre>347.3925016875</pre></div></td></tr><tr><td>TailOrNull</td><td><details class=\"dni-treeview\"><summary><span class=\"dni-code-hint\"><code>[  ]</code></span></summary><div><table><thead><tr></tr></thead><tbody><tr><td>HeadOrDefault</td><td><div class=\"dni-plaintext\"><pre>0</pre></div></td></tr><tr><td>TailOrNull</td><td><div class=\"dni-plaintext\"><pre>&lt;null&gt;</pre></div></td></tr><tr><td>Head</td><td><details class=\"dni-treeview\"><summary><span class=\"dni-code-hint\"><code>System.InvalidOperationException: The input list was empty.\\r\\n   at Microsoft.FSharp.Collections.FSharpList`1.get_Head() in D:\\a\\_work\\1\\s\\src\\FSharp.Core\\prim-types.fs:line 4141\\r\\n   at lambda_method776(Closure, FSharpList`1)\\r\\n   at Microsoft.DotNet.Interactive.Formatting.MemberAccessor`1.GetVa...</code></span></summary><div><table><thead><tr></tr></thead><tbody><tr><td>TargetSite</td><td>T get_Head()</td></tr><tr><td>Message</td><td>The input list was empty.</td></tr><tr><td>Data</td><td>[  ]</td></tr><tr><td>InnerException</td><td><div class=\"dni-plaintext\"><pre>&lt;null&gt;</pre></div></td></tr><tr><td>HelpLink</td><td><div class=\"dni-plaintext\"><pre>&lt;null&gt;</pre></div></td></tr><tr><td>Source</td><td>FSharp.Core</td></tr><tr><td>HResult</td><td>-2146233079</td></tr><tr><td>StackTrace</td><td>   at Microsoft.FSharp.Collections.FSharpList`1.get_Head() in D:\\a\\_work\\1\\s\\src\\FSharp.Core\\prim-types.fs:line 4141\r\n",
       "   at lambda_method776(Closure, FSharpList`1)\r\n",
       "   at Microsoft.DotNet.Interactive.Formatting.MemberAccessor`1.GetValueOrException(T instance) in D:\\a\\_work\\1\\s\\src\\Microsoft.DotNet.Interactive.Formatting\\MemberAccessor{T}.cs:line 58</td></tr></tbody></table></div></details></td></tr><tr><td>Tail</td><td><details class=\"dni-treeview\"><summary><span class=\"dni-code-hint\"><code>System.InvalidOperationException: The input list was empty.\\r\\n   at Microsoft.FSharp.Collections.FSharpList`1.get_Tail() in D:\\a\\_work\\1\\s\\src\\FSharp.Core\\prim-types.fs:line 4146\\r\\n   at lambda_method777(Closure, FSharpList`1)\\r\\n   at Microsoft.DotNet.Interactive.Formatting.MemberAccessor`1.GetVa...</code></span></summary><div><table><thead><tr></tr></thead><tbody><tr><td>TargetSite</td><td>Microsoft.FSharp.Collections.FSharpList`1[T] get_Tail()</td></tr><tr><td>Message</td><td>The input list was empty.</td></tr><tr><td>Data</td><td>[  ]</td></tr><tr><td>InnerException</td><td><div class=\"dni-plaintext\"><pre>&lt;null&gt;</pre></div></td></tr><tr><td>HelpLink</td><td><div class=\"dni-plaintext\"><pre>&lt;null&gt;</pre></div></td></tr><tr><td>Source</td><td>FSharp.Core</td></tr><tr><td>HResult</td><td>-2146233079</td></tr><tr><td>StackTrace</td><td>   at Microsoft.FSharp.Collections.FSharpList`1.get_Tail() in D:\\a\\_work\\1\\s\\src\\FSharp.Core\\prim-types.fs:line 4146\r\n",
       "   at lambda_method777(Closure, FSharpList`1)\r\n",
       "   at Microsoft.DotNet.Interactive.Formatting.MemberAccessor`1.GetValueOrException(T instance) in D:\\a\\_work\\1\\s\\src\\Microsoft.DotNet.Interactive.Formatting\\MemberAccessor{T}.cs:line 58</td></tr></tbody></table></div></details></td></tr><tr><td><i>(values)</i></td><td><div class=\"dni-plaintext\"><pre>[  ]</pre></div></td></tr></tbody></table></div></details></td></tr><tr><td>Head</td><td><div class=\"dni-plaintext\"><pre>347.3925016875</pre></div></td></tr><tr><td>Tail</td><td><details class=\"dni-treeview\"><summary><span class=\"dni-code-hint\"><code>[  ]</code></span></summary><div><table><thead><tr></tr></thead><tbody><tr><td>HeadOrDefault</td><td><div class=\"dni-plaintext\"><pre>0</pre></div></td></tr><tr><td>TailOrNull</td><td><div class=\"dni-plaintext\"><pre>&lt;null&gt;</pre></div></td></tr><tr><td>Head</td><td><details class=\"dni-treeview\"><summary><span class=\"dni-code-hint\"><code>System.InvalidOperationException: The input list was empty.\\r\\n   at Microsoft.FSharp.Collections.FSharpList`1.get_Head() in D:\\a\\_work\\1\\s\\src\\FSharp.Core\\prim-types.fs:line 4141\\r\\n   at lambda_method776(Closure, FSharpList`1)\\r\\n   at Microsoft.DotNet.Interactive.Formatting.MemberAccessor`1.GetVa...</code></span></summary><div><table><thead><tr></tr></thead><tbody><tr><td>TargetSite</td><td>T get_Head()</td></tr><tr><td>Message</td><td>The input list was empty.</td></tr><tr><td>Data</td><td>[  ]</td></tr><tr><td>InnerException</td><td><div class=\"dni-plaintext\"><pre>&lt;null&gt;</pre></div></td></tr><tr><td>HelpLink</td><td><div class=\"dni-plaintext\"><pre>&lt;null&gt;</pre></div></td></tr><tr><td>Source</td><td>FSharp.Core</td></tr><tr><td>HResult</td><td>-2146233079</td></tr><tr><td>StackTrace</td><td>   at Microsoft.FSharp.Collections.FSharpList`1.get_Head() in D:\\a\\_work\\1\\s\\src\\FSharp.Core\\prim-types.fs:line 4141\r\n",
       "   at lambda_method776(Closure, FSharpList`1)\r\n",
       "   at Microsoft.DotNet.Interactive.Formatting.MemberAccessor`1.GetValueOrException(T instance) in D:\\a\\_work\\1\\s\\src\\Microsoft.DotNet.Interactive.Formatting\\MemberAccessor{T}.cs:line 58</td></tr></tbody></table></div></details></td></tr><tr><td>Tail</td><td><details class=\"dni-treeview\"><summary><span class=\"dni-code-hint\"><code>System.InvalidOperationException: The input list was empty.\\r\\n   at Microsoft.FSharp.Collections.FSharpList`1.get_Tail() in D:\\a\\_work\\1\\s\\src\\FSharp.Core\\prim-types.fs:line 4146\\r\\n   at lambda_method777(Closure, FSharpList`1)\\r\\n   at Microsoft.DotNet.Interactive.Formatting.MemberAccessor`1.GetVa...</code></span></summary><div><table><thead><tr></tr></thead><tbody><tr><td>TargetSite</td><td>Microsoft.FSharp.Collections.FSharpList`1[T] get_Tail()</td></tr><tr><td>Message</td><td>The input list was empty.</td></tr><tr><td>Data</td><td>[  ]</td></tr><tr><td>InnerException</td><td><div class=\"dni-plaintext\"><pre>&lt;null&gt;</pre></div></td></tr><tr><td>HelpLink</td><td><div class=\"dni-plaintext\"><pre>&lt;null&gt;</pre></div></td></tr><tr><td>Source</td><td>FSharp.Core</td></tr><tr><td>HResult</td><td>-2146233079</td></tr><tr><td>StackTrace</td><td>   at Microsoft.FSharp.Collections.FSharpList`1.get_Tail() in D:\\a\\_work\\1\\s\\src\\FSharp.Core\\prim-types.fs:line 4146\r\n",
       "   at lambda_method777(Closure, FSharpList`1)\r\n",
       "   at Microsoft.DotNet.Interactive.Formatting.MemberAccessor`1.GetValueOrException(T instance) in D:\\a\\_work\\1\\s\\src\\Microsoft.DotNet.Interactive.Formatting\\MemberAccessor{T}.cs:line 58</td></tr></tbody></table></div></details></td></tr><tr><td><i>(values)</i></td><td><div class=\"dni-plaintext\"><pre>[  ]</pre></div></td></tr></tbody></table></div></details></td></tr><tr><td><i>(values)</i></td><td><div class=\"dni-plaintext\"><pre>[ 347.3925016875 ]</pre></div></td></tr></tbody></table></div></details></td></tr><tr><td>Head</td><td><div class=\"dni-plaintext\"><pre>337.8481349375</pre></div></td></tr><tr><td>Tail</td><td><details class=\"dni-treeview\"><summary><span class=\"dni-code-hint\"><code>[ 347.3925016875 ]</code></span></summary><div><table><thead><tr></tr></thead><tbody><tr><td>HeadOrDefault</td><td><div class=\"dni-plaintext\"><pre>347.3925016875</pre></div></td></tr><tr><td>TailOrNull</td><td><details class=\"dni-treeview\"><summary><span class=\"dni-code-hint\"><code>[  ]</code></span></summary><div><table><thead><tr></tr></thead><tbody><tr><td>HeadOrDefault</td><td><div class=\"dni-plaintext\"><pre>0</pre></div></td></tr><tr><td>TailOrNull</td><td><div class=\"dni-plaintext\"><pre>&lt;null&gt;</pre></div></td></tr><tr><td>Head</td><td><details class=\"dni-treeview\"><summary><span class=\"dni-code-hint\"><code>System.InvalidOperationException: The input list was empty.\\r\\n   at Microsoft.FSharp.Collections.FSharpList`1.get_Head() in D:\\a\\_work\\1\\s\\src\\FSharp.Core\\prim-types.fs:line 4141\\r\\n   at lambda_method776(Closure, FSharpList`1)\\r\\n   at Microsoft.DotNet.Interactive.Formatting.MemberAccessor`1.GetVa...</code></span></summary><div><table><thead><tr></tr></thead><tbody><tr><td>TargetSite</td><td>T get_Head()</td></tr><tr><td>Message</td><td>The input list was empty.</td></tr><tr><td>Data</td><td>[  ]</td></tr><tr><td>InnerException</td><td><div class=\"dni-plaintext\"><pre>&lt;null&gt;</pre></div></td></tr><tr><td>HelpLink</td><td><div class=\"dni-plaintext\"><pre>&lt;null&gt;</pre></div></td></tr><tr><td>Source</td><td>FSharp.Core</td></tr><tr><td>HResult</td><td>-2146233079</td></tr><tr><td>StackTrace</td><td>   at Microsoft.FSharp.Collections.FSharpList`1.get_Head() in D:\\a\\_work\\1\\s\\src\\FSharp.Core\\prim-types.fs:line 4141\r\n",
       "   at lambda_method776(Closure, FSharpList`1)\r\n",
       "   at Microsoft.DotNet.Interactive.Formatting.MemberAccessor`1.GetValueOrException(T instance) in D:\\a\\_work\\1\\s\\src\\Microsoft.DotNet.Interactive.Formatting\\MemberAccessor{T}.cs:line 58</td></tr></tbody></table></div></details></td></tr><tr><td>Tail</td><td><details class=\"dni-treeview\"><summary><span class=\"dni-code-hint\"><code>System.InvalidOperationException: The input list was empty.\\r\\n   at Microsoft.FSharp.Collections.FSharpList`1.get_Tail() in D:\\a\\_work\\1\\s\\src\\FSharp.Core\\prim-types.fs:line 4146\\r\\n   at lambda_method777(Closure, FSharpList`1)\\r\\n   at Microsoft.DotNet.Interactive.Formatting.MemberAccessor`1.GetVa...</code></span></summary><div><table><thead><tr></tr></thead><tbody><tr><td>TargetSite</td><td>Microsoft.FSharp.Collections.FSharpList`1[T] get_Tail()</td></tr><tr><td>Message</td><td>The input list was empty.</td></tr><tr><td>Data</td><td>[  ]</td></tr><tr><td>InnerException</td><td><div class=\"dni-plaintext\"><pre>&lt;null&gt;</pre></div></td></tr><tr><td>HelpLink</td><td><div class=\"dni-plaintext\"><pre>&lt;null&gt;</pre></div></td></tr><tr><td>Source</td><td>FSharp.Core</td></tr><tr><td>HResult</td><td>-2146233079</td></tr><tr><td>StackTrace</td><td>   at Microsoft.FSharp.Collections.FSharpList`1.get_Tail() in D:\\a\\_work\\1\\s\\src\\FSharp.Core\\prim-types.fs:line 4146\r\n",
       "   at lambda_method777(Closure, FSharpList`1)\r\n",
       "   at Microsoft.DotNet.Interactive.Formatting.MemberAccessor`1.GetValueOrException(T instance) in D:\\a\\_work\\1\\s\\src\\Microsoft.DotNet.Interactive.Formatting\\MemberAccessor{T}.cs:line 58</td></tr></tbody></table></div></details></td></tr><tr><td><i>(values)</i></td><td><div class=\"dni-plaintext\"><pre>[  ]</pre></div></td></tr></tbody></table></div></details></td></tr><tr><td>Head</td><td><div class=\"dni-plaintext\"><pre>347.3925016875</pre></div></td></tr><tr><td>Tail</td><td><details class=\"dni-treeview\"><summary><span class=\"dni-code-hint\"><code>[  ]</code></span></summary><div><table><thead><tr></tr></thead><tbody><tr><td>HeadOrDefault</td><td><div class=\"dni-plaintext\"><pre>0</pre></div></td></tr><tr><td>TailOrNull</td><td><div class=\"dni-plaintext\"><pre>&lt;null&gt;</pre></div></td></tr><tr><td>Head</td><td><details class=\"dni-treeview\"><summary><span class=\"dni-code-hint\"><code>System.InvalidOperationException: The input list was empty.\\r\\n   at Microsoft.FSharp.Collections.FSharpList`1.get_Head() in D:\\a\\_work\\1\\s\\src\\FSharp.Core\\prim-types.fs:line 4141\\r\\n   at lambda_method776(Closure, FSharpList`1)\\r\\n   at Microsoft.DotNet.Interactive.Formatting.MemberAccessor`1.GetVa...</code></span></summary><div><table><thead><tr></tr></thead><tbody><tr><td>TargetSite</td><td>T get_Head()</td></tr><tr><td>Message</td><td>The input list was empty.</td></tr><tr><td>Data</td><td>[  ]</td></tr><tr><td>InnerException</td><td><div class=\"dni-plaintext\"><pre>&lt;null&gt;</pre></div></td></tr><tr><td>HelpLink</td><td><div class=\"dni-plaintext\"><pre>&lt;null&gt;</pre></div></td></tr><tr><td>Source</td><td>FSharp.Core</td></tr><tr><td>HResult</td><td>-2146233079</td></tr><tr><td>StackTrace</td><td>   at Microsoft.FSharp.Collections.FSharpList`1.get_Head() in D:\\a\\_work\\1\\s\\src\\FSharp.Core\\prim-types.fs:line 4141\r\n",
       "   at lambda_method776(Closure, FSharpList`1)\r\n",
       "   at Microsoft.DotNet.Interactive.Formatting.MemberAccessor`1.GetValueOrException(T instance) in D:\\a\\_work\\1\\s\\src\\Microsoft.DotNet.Interactive.Formatting\\MemberAccessor{T}.cs:line 58</td></tr></tbody></table></div></details></td></tr><tr><td>Tail</td><td><details class=\"dni-treeview\"><summary><span class=\"dni-code-hint\"><code>System.InvalidOperationException: The input list was empty.\\r\\n   at Microsoft.FSharp.Collections.FSharpList`1.get_Tail() in D:\\a\\_work\\1\\s\\src\\FSharp.Core\\prim-types.fs:line 4146\\r\\n   at lambda_method777(Closure, FSharpList`1)\\r\\n   at Microsoft.DotNet.Interactive.Formatting.MemberAccessor`1.GetVa...</code></span></summary><div><table><thead><tr></tr></thead><tbody><tr><td>TargetSite</td><td>Microsoft.FSharp.Collections.FSharpList`1[T] get_Tail()</td></tr><tr><td>Message</td><td>The input list was empty.</td></tr><tr><td>Data</td><td>[  ]</td></tr><tr><td>InnerException</td><td><div class=\"dni-plaintext\"><pre>&lt;null&gt;</pre></div></td></tr><tr><td>HelpLink</td><td><div class=\"dni-plaintext\"><pre>&lt;null&gt;</pre></div></td></tr><tr><td>Source</td><td>FSharp.Core</td></tr><tr><td>HResult</td><td>-2146233079</td></tr><tr><td>StackTrace</td><td>   at Microsoft.FSharp.Collections.FSharpList`1.get_Tail() in D:\\a\\_work\\1\\s\\src\\FSharp.Core\\prim-types.fs:line 4146\r\n",
       "   at lambda_method777(Closure, FSharpList`1)\r\n",
       "   at Microsoft.DotNet.Interactive.Formatting.MemberAccessor`1.GetValueOrException(T instance) in D:\\a\\_work\\1\\s\\src\\Microsoft.DotNet.Interactive.Formatting\\MemberAccessor{T}.cs:line 58</td></tr></tbody></table></div></details></td></tr><tr><td><i>(values)</i></td><td><div class=\"dni-plaintext\"><pre>[  ]</pre></div></td></tr></tbody></table></div></details></td></tr><tr><td><i>(values)</i></td><td><div class=\"dni-plaintext\"><pre>[ 347.3925016875 ]</pre></div></td></tr></tbody></table></div></details></td></tr><tr><td><i>(values)</i></td><td><div class=\"dni-plaintext\"><pre>[ 337.8481349375, 347.3925016875 ]</pre></div></td></tr></tbody></table></div></details></td></tr></tbody></table></div></details></td></tr><tr><td>15</td><td><details class=\"dni-treeview\"><summary><span class=\"dni-code-hint\"><code>(6/19/2023 12:00:00 AM, [333.551254000; 338.986244000])</code></span></summary><div><table><thead><tr></tr></thead><tbody><tr><td>Item1</td><td><span>2023-06-19 00:00:00Z</span></td></tr><tr><td>Item2</td><td><details class=\"dni-treeview\"><summary><span class=\"dni-code-hint\"><code>[ 333.551254000, 338.986244000 ]</code></span></summary><div><table><thead><tr></tr></thead><tbody><tr><td>HeadOrDefault</td><td><div class=\"dni-plaintext\"><pre>333.551254000</pre></div></td></tr><tr><td>TailOrNull</td><td><details class=\"dni-treeview\"><summary><span class=\"dni-code-hint\"><code>[ 338.986244000 ]</code></span></summary><div><table><thead><tr></tr></thead><tbody><tr><td>HeadOrDefault</td><td><div class=\"dni-plaintext\"><pre>338.986244000</pre></div></td></tr><tr><td>TailOrNull</td><td><details class=\"dni-treeview\"><summary><span class=\"dni-code-hint\"><code>[  ]</code></span></summary><div><table><thead><tr></tr></thead><tbody><tr><td>HeadOrDefault</td><td><div class=\"dni-plaintext\"><pre>0</pre></div></td></tr><tr><td>TailOrNull</td><td><div class=\"dni-plaintext\"><pre>&lt;null&gt;</pre></div></td></tr><tr><td>Head</td><td><details class=\"dni-treeview\"><summary><span class=\"dni-code-hint\"><code>System.InvalidOperationException: The input list was empty.\\r\\n   at Microsoft.FSharp.Collections.FSharpList`1.get_Head() in D:\\a\\_work\\1\\s\\src\\FSharp.Core\\prim-types.fs:line 4141\\r\\n   at lambda_method776(Closure, FSharpList`1)\\r\\n   at Microsoft.DotNet.Interactive.Formatting.MemberAccessor`1.GetVa...</code></span></summary><div><table><thead><tr></tr></thead><tbody><tr><td>TargetSite</td><td>T get_Head()</td></tr><tr><td>Message</td><td>The input list was empty.</td></tr><tr><td>Data</td><td>[  ]</td></tr><tr><td>InnerException</td><td><div class=\"dni-plaintext\"><pre>&lt;null&gt;</pre></div></td></tr><tr><td>HelpLink</td><td><div class=\"dni-plaintext\"><pre>&lt;null&gt;</pre></div></td></tr><tr><td>Source</td><td>FSharp.Core</td></tr><tr><td>HResult</td><td>-2146233079</td></tr><tr><td>StackTrace</td><td>   at Microsoft.FSharp.Collections.FSharpList`1.get_Head() in D:\\a\\_work\\1\\s\\src\\FSharp.Core\\prim-types.fs:line 4141\r\n",
       "   at lambda_method776(Closure, FSharpList`1)\r\n",
       "   at Microsoft.DotNet.Interactive.Formatting.MemberAccessor`1.GetValueOrException(T instance) in D:\\a\\_work\\1\\s\\src\\Microsoft.DotNet.Interactive.Formatting\\MemberAccessor{T}.cs:line 58</td></tr></tbody></table></div></details></td></tr><tr><td>Tail</td><td><details class=\"dni-treeview\"><summary><span class=\"dni-code-hint\"><code>System.InvalidOperationException: The input list was empty.\\r\\n   at Microsoft.FSharp.Collections.FSharpList`1.get_Tail() in D:\\a\\_work\\1\\s\\src\\FSharp.Core\\prim-types.fs:line 4146\\r\\n   at lambda_method777(Closure, FSharpList`1)\\r\\n   at Microsoft.DotNet.Interactive.Formatting.MemberAccessor`1.GetVa...</code></span></summary><div><table><thead><tr></tr></thead><tbody><tr><td>TargetSite</td><td>Microsoft.FSharp.Collections.FSharpList`1[T] get_Tail()</td></tr><tr><td>Message</td><td>The input list was empty.</td></tr><tr><td>Data</td><td>[  ]</td></tr><tr><td>InnerException</td><td><div class=\"dni-plaintext\"><pre>&lt;null&gt;</pre></div></td></tr><tr><td>HelpLink</td><td><div class=\"dni-plaintext\"><pre>&lt;null&gt;</pre></div></td></tr><tr><td>Source</td><td>FSharp.Core</td></tr><tr><td>HResult</td><td>-2146233079</td></tr><tr><td>StackTrace</td><td>   at Microsoft.FSharp.Collections.FSharpList`1.get_Tail() in D:\\a\\_work\\1\\s\\src\\FSharp.Core\\prim-types.fs:line 4146\r\n",
       "   at lambda_method777(Closure, FSharpList`1)\r\n",
       "   at Microsoft.DotNet.Interactive.Formatting.MemberAccessor`1.GetValueOrException(T instance) in D:\\a\\_work\\1\\s\\src\\Microsoft.DotNet.Interactive.Formatting\\MemberAccessor{T}.cs:line 58</td></tr></tbody></table></div></details></td></tr><tr><td><i>(values)</i></td><td><div class=\"dni-plaintext\"><pre>[  ]</pre></div></td></tr></tbody></table></div></details></td></tr><tr><td>Head</td><td><div class=\"dni-plaintext\"><pre>338.986244000</pre></div></td></tr><tr><td>Tail</td><td><details class=\"dni-treeview\"><summary><span class=\"dni-code-hint\"><code>[  ]</code></span></summary><div><table><thead><tr></tr></thead><tbody><tr><td>HeadOrDefault</td><td><div class=\"dni-plaintext\"><pre>0</pre></div></td></tr><tr><td>TailOrNull</td><td><div class=\"dni-plaintext\"><pre>&lt;null&gt;</pre></div></td></tr><tr><td>Head</td><td><details class=\"dni-treeview\"><summary><span class=\"dni-code-hint\"><code>System.InvalidOperationException: The input list was empty.\\r\\n   at Microsoft.FSharp.Collections.FSharpList`1.get_Head() in D:\\a\\_work\\1\\s\\src\\FSharp.Core\\prim-types.fs:line 4141\\r\\n   at lambda_method776(Closure, FSharpList`1)\\r\\n   at Microsoft.DotNet.Interactive.Formatting.MemberAccessor`1.GetVa...</code></span></summary><div><table><thead><tr></tr></thead><tbody><tr><td>TargetSite</td><td>T get_Head()</td></tr><tr><td>Message</td><td>The input list was empty.</td></tr><tr><td>Data</td><td>[  ]</td></tr><tr><td>InnerException</td><td><div class=\"dni-plaintext\"><pre>&lt;null&gt;</pre></div></td></tr><tr><td>HelpLink</td><td><div class=\"dni-plaintext\"><pre>&lt;null&gt;</pre></div></td></tr><tr><td>Source</td><td>FSharp.Core</td></tr><tr><td>HResult</td><td>-2146233079</td></tr><tr><td>StackTrace</td><td>   at Microsoft.FSharp.Collections.FSharpList`1.get_Head() in D:\\a\\_work\\1\\s\\src\\FSharp.Core\\prim-types.fs:line 4141\r\n",
       "   at lambda_method776(Closure, FSharpList`1)\r\n",
       "   at Microsoft.DotNet.Interactive.Formatting.MemberAccessor`1.GetValueOrException(T instance) in D:\\a\\_work\\1\\s\\src\\Microsoft.DotNet.Interactive.Formatting\\MemberAccessor{T}.cs:line 58</td></tr></tbody></table></div></details></td></tr><tr><td>Tail</td><td><details class=\"dni-treeview\"><summary><span class=\"dni-code-hint\"><code>System.InvalidOperationException: The input list was empty.\\r\\n   at Microsoft.FSharp.Collections.FSharpList`1.get_Tail() in D:\\a\\_work\\1\\s\\src\\FSharp.Core\\prim-types.fs:line 4146\\r\\n   at lambda_method777(Closure, FSharpList`1)\\r\\n   at Microsoft.DotNet.Interactive.Formatting.MemberAccessor`1.GetVa...</code></span></summary><div><table><thead><tr></tr></thead><tbody><tr><td>TargetSite</td><td>Microsoft.FSharp.Collections.FSharpList`1[T] get_Tail()</td></tr><tr><td>Message</td><td>The input list was empty.</td></tr><tr><td>Data</td><td>[  ]</td></tr><tr><td>InnerException</td><td><div class=\"dni-plaintext\"><pre>&lt;null&gt;</pre></div></td></tr><tr><td>HelpLink</td><td><div class=\"dni-plaintext\"><pre>&lt;null&gt;</pre></div></td></tr><tr><td>Source</td><td>FSharp.Core</td></tr><tr><td>HResult</td><td>-2146233079</td></tr><tr><td>StackTrace</td><td>   at Microsoft.FSharp.Collections.FSharpList`1.get_Tail() in D:\\a\\_work\\1\\s\\src\\FSharp.Core\\prim-types.fs:line 4146\r\n",
       "   at lambda_method777(Closure, FSharpList`1)\r\n",
       "   at Microsoft.DotNet.Interactive.Formatting.MemberAccessor`1.GetValueOrException(T instance) in D:\\a\\_work\\1\\s\\src\\Microsoft.DotNet.Interactive.Formatting\\MemberAccessor{T}.cs:line 58</td></tr></tbody></table></div></details></td></tr><tr><td><i>(values)</i></td><td><div class=\"dni-plaintext\"><pre>[  ]</pre></div></td></tr></tbody></table></div></details></td></tr><tr><td><i>(values)</i></td><td><div class=\"dni-plaintext\"><pre>[ 338.986244000 ]</pre></div></td></tr></tbody></table></div></details></td></tr><tr><td>Head</td><td><div class=\"dni-plaintext\"><pre>333.551254000</pre></div></td></tr><tr><td>Tail</td><td><details class=\"dni-treeview\"><summary><span class=\"dni-code-hint\"><code>[ 338.986244000 ]</code></span></summary><div><table><thead><tr></tr></thead><tbody><tr><td>HeadOrDefault</td><td><div class=\"dni-plaintext\"><pre>338.986244000</pre></div></td></tr><tr><td>TailOrNull</td><td><details class=\"dni-treeview\"><summary><span class=\"dni-code-hint\"><code>[  ]</code></span></summary><div><table><thead><tr></tr></thead><tbody><tr><td>HeadOrDefault</td><td><div class=\"dni-plaintext\"><pre>0</pre></div></td></tr><tr><td>TailOrNull</td><td><div class=\"dni-plaintext\"><pre>&lt;null&gt;</pre></div></td></tr><tr><td>Head</td><td><details class=\"dni-treeview\"><summary><span class=\"dni-code-hint\"><code>System.InvalidOperationException: The input list was empty.\\r\\n   at Microsoft.FSharp.Collections.FSharpList`1.get_Head() in D:\\a\\_work\\1\\s\\src\\FSharp.Core\\prim-types.fs:line 4141\\r\\n   at lambda_method776(Closure, FSharpList`1)\\r\\n   at Microsoft.DotNet.Interactive.Formatting.MemberAccessor`1.GetVa...</code></span></summary><div><table><thead><tr></tr></thead><tbody><tr><td>TargetSite</td><td>T get_Head()</td></tr><tr><td>Message</td><td>The input list was empty.</td></tr><tr><td>Data</td><td>[  ]</td></tr><tr><td>InnerException</td><td><div class=\"dni-plaintext\"><pre>&lt;null&gt;</pre></div></td></tr><tr><td>HelpLink</td><td><div class=\"dni-plaintext\"><pre>&lt;null&gt;</pre></div></td></tr><tr><td>Source</td><td>FSharp.Core</td></tr><tr><td>HResult</td><td>-2146233079</td></tr><tr><td>StackTrace</td><td>   at Microsoft.FSharp.Collections.FSharpList`1.get_Head() in D:\\a\\_work\\1\\s\\src\\FSharp.Core\\prim-types.fs:line 4141\r\n",
       "   at lambda_method776(Closure, FSharpList`1)\r\n",
       "   at Microsoft.DotNet.Interactive.Formatting.MemberAccessor`1.GetValueOrException(T instance) in D:\\a\\_work\\1\\s\\src\\Microsoft.DotNet.Interactive.Formatting\\MemberAccessor{T}.cs:line 58</td></tr></tbody></table></div></details></td></tr><tr><td>Tail</td><td><details class=\"dni-treeview\"><summary><span class=\"dni-code-hint\"><code>System.InvalidOperationException: The input list was empty.\\r\\n   at Microsoft.FSharp.Collections.FSharpList`1.get_Tail() in D:\\a\\_work\\1\\s\\src\\FSharp.Core\\prim-types.fs:line 4146\\r\\n   at lambda_method777(Closure, FSharpList`1)\\r\\n   at Microsoft.DotNet.Interactive.Formatting.MemberAccessor`1.GetVa...</code></span></summary><div><table><thead><tr></tr></thead><tbody><tr><td>TargetSite</td><td>Microsoft.FSharp.Collections.FSharpList`1[T] get_Tail()</td></tr><tr><td>Message</td><td>The input list was empty.</td></tr><tr><td>Data</td><td>[  ]</td></tr><tr><td>InnerException</td><td><div class=\"dni-plaintext\"><pre>&lt;null&gt;</pre></div></td></tr><tr><td>HelpLink</td><td><div class=\"dni-plaintext\"><pre>&lt;null&gt;</pre></div></td></tr><tr><td>Source</td><td>FSharp.Core</td></tr><tr><td>HResult</td><td>-2146233079</td></tr><tr><td>StackTrace</td><td>   at Microsoft.FSharp.Collections.FSharpList`1.get_Tail() in D:\\a\\_work\\1\\s\\src\\FSharp.Core\\prim-types.fs:line 4146\r\n",
       "   at lambda_method777(Closure, FSharpList`1)\r\n",
       "   at Microsoft.DotNet.Interactive.Formatting.MemberAccessor`1.GetValueOrException(T instance) in D:\\a\\_work\\1\\s\\src\\Microsoft.DotNet.Interactive.Formatting\\MemberAccessor{T}.cs:line 58</td></tr></tbody></table></div></details></td></tr><tr><td><i>(values)</i></td><td><div class=\"dni-plaintext\"><pre>[  ]</pre></div></td></tr></tbody></table></div></details></td></tr><tr><td>Head</td><td><div class=\"dni-plaintext\"><pre>338.986244000</pre></div></td></tr><tr><td>Tail</td><td><details class=\"dni-treeview\"><summary><span class=\"dni-code-hint\"><code>[  ]</code></span></summary><div><table><thead><tr></tr></thead><tbody><tr><td>HeadOrDefault</td><td><div class=\"dni-plaintext\"><pre>0</pre></div></td></tr><tr><td>TailOrNull</td><td><div class=\"dni-plaintext\"><pre>&lt;null&gt;</pre></div></td></tr><tr><td>Head</td><td><details class=\"dni-treeview\"><summary><span class=\"dni-code-hint\"><code>System.InvalidOperationException: The input list was empty.\\r\\n   at Microsoft.FSharp.Collections.FSharpList`1.get_Head() in D:\\a\\_work\\1\\s\\src\\FSharp.Core\\prim-types.fs:line 4141\\r\\n   at lambda_method776(Closure, FSharpList`1)\\r\\n   at Microsoft.DotNet.Interactive.Formatting.MemberAccessor`1.GetVa...</code></span></summary><div><table><thead><tr></tr></thead><tbody><tr><td>TargetSite</td><td>T get_Head()</td></tr><tr><td>Message</td><td>The input list was empty.</td></tr><tr><td>Data</td><td>[  ]</td></tr><tr><td>InnerException</td><td><div class=\"dni-plaintext\"><pre>&lt;null&gt;</pre></div></td></tr><tr><td>HelpLink</td><td><div class=\"dni-plaintext\"><pre>&lt;null&gt;</pre></div></td></tr><tr><td>Source</td><td>FSharp.Core</td></tr><tr><td>HResult</td><td>-2146233079</td></tr><tr><td>StackTrace</td><td>   at Microsoft.FSharp.Collections.FSharpList`1.get_Head() in D:\\a\\_work\\1\\s\\src\\FSharp.Core\\prim-types.fs:line 4141\r\n",
       "   at lambda_method776(Closure, FSharpList`1)\r\n",
       "   at Microsoft.DotNet.Interactive.Formatting.MemberAccessor`1.GetValueOrException(T instance) in D:\\a\\_work\\1\\s\\src\\Microsoft.DotNet.Interactive.Formatting\\MemberAccessor{T}.cs:line 58</td></tr></tbody></table></div></details></td></tr><tr><td>Tail</td><td><details class=\"dni-treeview\"><summary><span class=\"dni-code-hint\"><code>System.InvalidOperationException: The input list was empty.\\r\\n   at Microsoft.FSharp.Collections.FSharpList`1.get_Tail() in D:\\a\\_work\\1\\s\\src\\FSharp.Core\\prim-types.fs:line 4146\\r\\n   at lambda_method777(Closure, FSharpList`1)\\r\\n   at Microsoft.DotNet.Interactive.Formatting.MemberAccessor`1.GetVa...</code></span></summary><div><table><thead><tr></tr></thead><tbody><tr><td>TargetSite</td><td>Microsoft.FSharp.Collections.FSharpList`1[T] get_Tail()</td></tr><tr><td>Message</td><td>The input list was empty.</td></tr><tr><td>Data</td><td>[  ]</td></tr><tr><td>InnerException</td><td><div class=\"dni-plaintext\"><pre>&lt;null&gt;</pre></div></td></tr><tr><td>HelpLink</td><td><div class=\"dni-plaintext\"><pre>&lt;null&gt;</pre></div></td></tr><tr><td>Source</td><td>FSharp.Core</td></tr><tr><td>HResult</td><td>-2146233079</td></tr><tr><td>StackTrace</td><td>   at Microsoft.FSharp.Collections.FSharpList`1.get_Tail() in D:\\a\\_work\\1\\s\\src\\FSharp.Core\\prim-types.fs:line 4146\r\n",
       "   at lambda_method777(Closure, FSharpList`1)\r\n",
       "   at Microsoft.DotNet.Interactive.Formatting.MemberAccessor`1.GetValueOrException(T instance) in D:\\a\\_work\\1\\s\\src\\Microsoft.DotNet.Interactive.Formatting\\MemberAccessor{T}.cs:line 58</td></tr></tbody></table></div></details></td></tr><tr><td><i>(values)</i></td><td><div class=\"dni-plaintext\"><pre>[  ]</pre></div></td></tr></tbody></table></div></details></td></tr><tr><td><i>(values)</i></td><td><div class=\"dni-plaintext\"><pre>[ 338.986244000 ]</pre></div></td></tr></tbody></table></div></details></td></tr><tr><td><i>(values)</i></td><td><div class=\"dni-plaintext\"><pre>[ 333.551254000, 338.986244000 ]</pre></div></td></tr></tbody></table></div></details></td></tr></tbody></table></div></details></td></tr><tr><td>16</td><td><details class=\"dni-treeview\"><summary><span class=\"dni-code-hint\"><code>(6/26/2023 12:00:00 AM, [334.5931281250; 339.6562518125])</code></span></summary><div><table><thead><tr></tr></thead><tbody><tr><td>Item1</td><td><span>2023-06-26 00:00:00Z</span></td></tr><tr><td>Item2</td><td><details class=\"dni-treeview\"><summary><span class=\"dni-code-hint\"><code>[ 334.5931281250, 339.6562518125 ]</code></span></summary><div><table><thead><tr></tr></thead><tbody><tr><td>HeadOrDefault</td><td><div class=\"dni-plaintext\"><pre>334.5931281250</pre></div></td></tr><tr><td>TailOrNull</td><td><details class=\"dni-treeview\"><summary><span class=\"dni-code-hint\"><code>[ 339.6562518125 ]</code></span></summary><div><table><thead><tr></tr></thead><tbody><tr><td>HeadOrDefault</td><td><div class=\"dni-plaintext\"><pre>339.6562518125</pre></div></td></tr><tr><td>TailOrNull</td><td><details class=\"dni-treeview\"><summary><span class=\"dni-code-hint\"><code>[  ]</code></span></summary><div><table><thead><tr></tr></thead><tbody><tr><td>HeadOrDefault</td><td><div class=\"dni-plaintext\"><pre>0</pre></div></td></tr><tr><td>TailOrNull</td><td><div class=\"dni-plaintext\"><pre>&lt;null&gt;</pre></div></td></tr><tr><td>Head</td><td><details class=\"dni-treeview\"><summary><span class=\"dni-code-hint\"><code>System.InvalidOperationException: The input list was empty.\\r\\n   at Microsoft.FSharp.Collections.FSharpList`1.get_Head() in D:\\a\\_work\\1\\s\\src\\FSharp.Core\\prim-types.fs:line 4141\\r\\n   at lambda_method776(Closure, FSharpList`1)\\r\\n   at Microsoft.DotNet.Interactive.Formatting.MemberAccessor`1.GetVa...</code></span></summary><div><table><thead><tr></tr></thead><tbody><tr><td>TargetSite</td><td>T get_Head()</td></tr><tr><td>Message</td><td>The input list was empty.</td></tr><tr><td>Data</td><td>[  ]</td></tr><tr><td>InnerException</td><td><div class=\"dni-plaintext\"><pre>&lt;null&gt;</pre></div></td></tr><tr><td>HelpLink</td><td><div class=\"dni-plaintext\"><pre>&lt;null&gt;</pre></div></td></tr><tr><td>Source</td><td>FSharp.Core</td></tr><tr><td>HResult</td><td>-2146233079</td></tr><tr><td>StackTrace</td><td>   at Microsoft.FSharp.Collections.FSharpList`1.get_Head() in D:\\a\\_work\\1\\s\\src\\FSharp.Core\\prim-types.fs:line 4141\r\n",
       "   at lambda_method776(Closure, FSharpList`1)\r\n",
       "   at Microsoft.DotNet.Interactive.Formatting.MemberAccessor`1.GetValueOrException(T instance) in D:\\a\\_work\\1\\s\\src\\Microsoft.DotNet.Interactive.Formatting\\MemberAccessor{T}.cs:line 58</td></tr></tbody></table></div></details></td></tr><tr><td>Tail</td><td><details class=\"dni-treeview\"><summary><span class=\"dni-code-hint\"><code>System.InvalidOperationException: The input list was empty.\\r\\n   at Microsoft.FSharp.Collections.FSharpList`1.get_Tail() in D:\\a\\_work\\1\\s\\src\\FSharp.Core\\prim-types.fs:line 4146\\r\\n   at lambda_method777(Closure, FSharpList`1)\\r\\n   at Microsoft.DotNet.Interactive.Formatting.MemberAccessor`1.GetVa...</code></span></summary><div><table><thead><tr></tr></thead><tbody><tr><td>TargetSite</td><td>Microsoft.FSharp.Collections.FSharpList`1[T] get_Tail()</td></tr><tr><td>Message</td><td>The input list was empty.</td></tr><tr><td>Data</td><td>[  ]</td></tr><tr><td>InnerException</td><td><div class=\"dni-plaintext\"><pre>&lt;null&gt;</pre></div></td></tr><tr><td>HelpLink</td><td><div class=\"dni-plaintext\"><pre>&lt;null&gt;</pre></div></td></tr><tr><td>Source</td><td>FSharp.Core</td></tr><tr><td>HResult</td><td>-2146233079</td></tr><tr><td>StackTrace</td><td>   at Microsoft.FSharp.Collections.FSharpList`1.get_Tail() in D:\\a\\_work\\1\\s\\src\\FSharp.Core\\prim-types.fs:line 4146\r\n",
       "   at lambda_method777(Closure, FSharpList`1)\r\n",
       "   at Microsoft.DotNet.Interactive.Formatting.MemberAccessor`1.GetValueOrException(T instance) in D:\\a\\_work\\1\\s\\src\\Microsoft.DotNet.Interactive.Formatting\\MemberAccessor{T}.cs:line 58</td></tr></tbody></table></div></details></td></tr><tr><td><i>(values)</i></td><td><div class=\"dni-plaintext\"><pre>[  ]</pre></div></td></tr></tbody></table></div></details></td></tr><tr><td>Head</td><td><div class=\"dni-plaintext\"><pre>339.6562518125</pre></div></td></tr><tr><td>Tail</td><td><details class=\"dni-treeview\"><summary><span class=\"dni-code-hint\"><code>[  ]</code></span></summary><div><table><thead><tr></tr></thead><tbody><tr><td>HeadOrDefault</td><td><div class=\"dni-plaintext\"><pre>0</pre></div></td></tr><tr><td>TailOrNull</td><td><div class=\"dni-plaintext\"><pre>&lt;null&gt;</pre></div></td></tr><tr><td>Head</td><td><details class=\"dni-treeview\"><summary><span class=\"dni-code-hint\"><code>System.InvalidOperationException: The input list was empty.\\r\\n   at Microsoft.FSharp.Collections.FSharpList`1.get_Head() in D:\\a\\_work\\1\\s\\src\\FSharp.Core\\prim-types.fs:line 4141\\r\\n   at lambda_method776(Closure, FSharpList`1)\\r\\n   at Microsoft.DotNet.Interactive.Formatting.MemberAccessor`1.GetVa...</code></span></summary><div><table><thead><tr></tr></thead><tbody><tr><td>TargetSite</td><td>T get_Head()</td></tr><tr><td>Message</td><td>The input list was empty.</td></tr><tr><td>Data</td><td>[  ]</td></tr><tr><td>InnerException</td><td><div class=\"dni-plaintext\"><pre>&lt;null&gt;</pre></div></td></tr><tr><td>HelpLink</td><td><div class=\"dni-plaintext\"><pre>&lt;null&gt;</pre></div></td></tr><tr><td>Source</td><td>FSharp.Core</td></tr><tr><td>HResult</td><td>-2146233079</td></tr><tr><td>StackTrace</td><td>   at Microsoft.FSharp.Collections.FSharpList`1.get_Head() in D:\\a\\_work\\1\\s\\src\\FSharp.Core\\prim-types.fs:line 4141\r\n",
       "   at lambda_method776(Closure, FSharpList`1)\r\n",
       "   at Microsoft.DotNet.Interactive.Formatting.MemberAccessor`1.GetValueOrException(T instance) in D:\\a\\_work\\1\\s\\src\\Microsoft.DotNet.Interactive.Formatting\\MemberAccessor{T}.cs:line 58</td></tr></tbody></table></div></details></td></tr><tr><td>Tail</td><td><details class=\"dni-treeview\"><summary><span class=\"dni-code-hint\"><code>System.InvalidOperationException: The input list was empty.\\r\\n   at Microsoft.FSharp.Collections.FSharpList`1.get_Tail() in D:\\a\\_work\\1\\s\\src\\FSharp.Core\\prim-types.fs:line 4146\\r\\n   at lambda_method777(Closure, FSharpList`1)\\r\\n   at Microsoft.DotNet.Interactive.Formatting.MemberAccessor`1.GetVa...</code></span></summary><div><table><thead><tr></tr></thead><tbody><tr><td>TargetSite</td><td>Microsoft.FSharp.Collections.FSharpList`1[T] get_Tail()</td></tr><tr><td>Message</td><td>The input list was empty.</td></tr><tr><td>Data</td><td>[  ]</td></tr><tr><td>InnerException</td><td><div class=\"dni-plaintext\"><pre>&lt;null&gt;</pre></div></td></tr><tr><td>HelpLink</td><td><div class=\"dni-plaintext\"><pre>&lt;null&gt;</pre></div></td></tr><tr><td>Source</td><td>FSharp.Core</td></tr><tr><td>HResult</td><td>-2146233079</td></tr><tr><td>StackTrace</td><td>   at Microsoft.FSharp.Collections.FSharpList`1.get_Tail() in D:\\a\\_work\\1\\s\\src\\FSharp.Core\\prim-types.fs:line 4146\r\n",
       "   at lambda_method777(Closure, FSharpList`1)\r\n",
       "   at Microsoft.DotNet.Interactive.Formatting.MemberAccessor`1.GetValueOrException(T instance) in D:\\a\\_work\\1\\s\\src\\Microsoft.DotNet.Interactive.Formatting\\MemberAccessor{T}.cs:line 58</td></tr></tbody></table></div></details></td></tr><tr><td><i>(values)</i></td><td><div class=\"dni-plaintext\"><pre>[  ]</pre></div></td></tr></tbody></table></div></details></td></tr><tr><td><i>(values)</i></td><td><div class=\"dni-plaintext\"><pre>[ 339.6562518125 ]</pre></div></td></tr></tbody></table></div></details></td></tr><tr><td>Head</td><td><div class=\"dni-plaintext\"><pre>334.5931281250</pre></div></td></tr><tr><td>Tail</td><td><details class=\"dni-treeview\"><summary><span class=\"dni-code-hint\"><code>[ 339.6562518125 ]</code></span></summary><div><table><thead><tr></tr></thead><tbody><tr><td>HeadOrDefault</td><td><div class=\"dni-plaintext\"><pre>339.6562518125</pre></div></td></tr><tr><td>TailOrNull</td><td><details class=\"dni-treeview\"><summary><span class=\"dni-code-hint\"><code>[  ]</code></span></summary><div><table><thead><tr></tr></thead><tbody><tr><td>HeadOrDefault</td><td><div class=\"dni-plaintext\"><pre>0</pre></div></td></tr><tr><td>TailOrNull</td><td><div class=\"dni-plaintext\"><pre>&lt;null&gt;</pre></div></td></tr><tr><td>Head</td><td><details class=\"dni-treeview\"><summary><span class=\"dni-code-hint\"><code>System.InvalidOperationException: The input list was empty.\\r\\n   at Microsoft.FSharp.Collections.FSharpList`1.get_Head() in D:\\a\\_work\\1\\s\\src\\FSharp.Core\\prim-types.fs:line 4141\\r\\n   at lambda_method776(Closure, FSharpList`1)\\r\\n   at Microsoft.DotNet.Interactive.Formatting.MemberAccessor`1.GetVa...</code></span></summary><div><table><thead><tr></tr></thead><tbody><tr><td>TargetSite</td><td>T get_Head()</td></tr><tr><td>Message</td><td>The input list was empty.</td></tr><tr><td>Data</td><td>[  ]</td></tr><tr><td>InnerException</td><td><div class=\"dni-plaintext\"><pre>&lt;null&gt;</pre></div></td></tr><tr><td>HelpLink</td><td><div class=\"dni-plaintext\"><pre>&lt;null&gt;</pre></div></td></tr><tr><td>Source</td><td>FSharp.Core</td></tr><tr><td>HResult</td><td>-2146233079</td></tr><tr><td>StackTrace</td><td>   at Microsoft.FSharp.Collections.FSharpList`1.get_Head() in D:\\a\\_work\\1\\s\\src\\FSharp.Core\\prim-types.fs:line 4141\r\n",
       "   at lambda_method776(Closure, FSharpList`1)\r\n",
       "   at Microsoft.DotNet.Interactive.Formatting.MemberAccessor`1.GetValueOrException(T instance) in D:\\a\\_work\\1\\s\\src\\Microsoft.DotNet.Interactive.Formatting\\MemberAccessor{T}.cs:line 58</td></tr></tbody></table></div></details></td></tr><tr><td>Tail</td><td><details class=\"dni-treeview\"><summary><span class=\"dni-code-hint\"><code>System.InvalidOperationException: The input list was empty.\\r\\n   at Microsoft.FSharp.Collections.FSharpList`1.get_Tail() in D:\\a\\_work\\1\\s\\src\\FSharp.Core\\prim-types.fs:line 4146\\r\\n   at lambda_method777(Closure, FSharpList`1)\\r\\n   at Microsoft.DotNet.Interactive.Formatting.MemberAccessor`1.GetVa...</code></span></summary><div><table><thead><tr></tr></thead><tbody><tr><td>TargetSite</td><td>Microsoft.FSharp.Collections.FSharpList`1[T] get_Tail()</td></tr><tr><td>Message</td><td>The input list was empty.</td></tr><tr><td>Data</td><td>[  ]</td></tr><tr><td>InnerException</td><td><div class=\"dni-plaintext\"><pre>&lt;null&gt;</pre></div></td></tr><tr><td>HelpLink</td><td><div class=\"dni-plaintext\"><pre>&lt;null&gt;</pre></div></td></tr><tr><td>Source</td><td>FSharp.Core</td></tr><tr><td>HResult</td><td>-2146233079</td></tr><tr><td>StackTrace</td><td>   at Microsoft.FSharp.Collections.FSharpList`1.get_Tail() in D:\\a\\_work\\1\\s\\src\\FSharp.Core\\prim-types.fs:line 4146\r\n",
       "   at lambda_method777(Closure, FSharpList`1)\r\n",
       "   at Microsoft.DotNet.Interactive.Formatting.MemberAccessor`1.GetValueOrException(T instance) in D:\\a\\_work\\1\\s\\src\\Microsoft.DotNet.Interactive.Formatting\\MemberAccessor{T}.cs:line 58</td></tr></tbody></table></div></details></td></tr><tr><td><i>(values)</i></td><td><div class=\"dni-plaintext\"><pre>[  ]</pre></div></td></tr></tbody></table></div></details></td></tr><tr><td>Head</td><td><div class=\"dni-plaintext\"><pre>339.6562518125</pre></div></td></tr><tr><td>Tail</td><td><details class=\"dni-treeview\"><summary><span class=\"dni-code-hint\"><code>[  ]</code></span></summary><div><table><thead><tr></tr></thead><tbody><tr><td>HeadOrDefault</td><td><div class=\"dni-plaintext\"><pre>0</pre></div></td></tr><tr><td>TailOrNull</td><td><div class=\"dni-plaintext\"><pre>&lt;null&gt;</pre></div></td></tr><tr><td>Head</td><td><details class=\"dni-treeview\"><summary><span class=\"dni-code-hint\"><code>System.InvalidOperationException: The input list was empty.\\r\\n   at Microsoft.FSharp.Collections.FSharpList`1.get_Head() in D:\\a\\_work\\1\\s\\src\\FSharp.Core\\prim-types.fs:line 4141\\r\\n   at lambda_method776(Closure, FSharpList`1)\\r\\n   at Microsoft.DotNet.Interactive.Formatting.MemberAccessor`1.GetVa...</code></span></summary><div><table><thead><tr></tr></thead><tbody><tr><td>TargetSite</td><td>T get_Head()</td></tr><tr><td>Message</td><td>The input list was empty.</td></tr><tr><td>Data</td><td>[  ]</td></tr><tr><td>InnerException</td><td><div class=\"dni-plaintext\"><pre>&lt;null&gt;</pre></div></td></tr><tr><td>HelpLink</td><td><div class=\"dni-plaintext\"><pre>&lt;null&gt;</pre></div></td></tr><tr><td>Source</td><td>FSharp.Core</td></tr><tr><td>HResult</td><td>-2146233079</td></tr><tr><td>StackTrace</td><td>   at Microsoft.FSharp.Collections.FSharpList`1.get_Head() in D:\\a\\_work\\1\\s\\src\\FSharp.Core\\prim-types.fs:line 4141\r\n",
       "   at lambda_method776(Closure, FSharpList`1)\r\n",
       "   at Microsoft.DotNet.Interactive.Formatting.MemberAccessor`1.GetValueOrException(T instance) in D:\\a\\_work\\1\\s\\src\\Microsoft.DotNet.Interactive.Formatting\\MemberAccessor{T}.cs:line 58</td></tr></tbody></table></div></details></td></tr><tr><td>Tail</td><td><details class=\"dni-treeview\"><summary><span class=\"dni-code-hint\"><code>System.InvalidOperationException: The input list was empty.\\r\\n   at Microsoft.FSharp.Collections.FSharpList`1.get_Tail() in D:\\a\\_work\\1\\s\\src\\FSharp.Core\\prim-types.fs:line 4146\\r\\n   at lambda_method777(Closure, FSharpList`1)\\r\\n   at Microsoft.DotNet.Interactive.Formatting.MemberAccessor`1.GetVa...</code></span></summary><div><table><thead><tr></tr></thead><tbody><tr><td>TargetSite</td><td>Microsoft.FSharp.Collections.FSharpList`1[T] get_Tail()</td></tr><tr><td>Message</td><td>The input list was empty.</td></tr><tr><td>Data</td><td>[  ]</td></tr><tr><td>InnerException</td><td><div class=\"dni-plaintext\"><pre>&lt;null&gt;</pre></div></td></tr><tr><td>HelpLink</td><td><div class=\"dni-plaintext\"><pre>&lt;null&gt;</pre></div></td></tr><tr><td>Source</td><td>FSharp.Core</td></tr><tr><td>HResult</td><td>-2146233079</td></tr><tr><td>StackTrace</td><td>   at Microsoft.FSharp.Collections.FSharpList`1.get_Tail() in D:\\a\\_work\\1\\s\\src\\FSharp.Core\\prim-types.fs:line 4146\r\n",
       "   at lambda_method777(Closure, FSharpList`1)\r\n",
       "   at Microsoft.DotNet.Interactive.Formatting.MemberAccessor`1.GetValueOrException(T instance) in D:\\a\\_work\\1\\s\\src\\Microsoft.DotNet.Interactive.Formatting\\MemberAccessor{T}.cs:line 58</td></tr></tbody></table></div></details></td></tr><tr><td><i>(values)</i></td><td><div class=\"dni-plaintext\"><pre>[  ]</pre></div></td></tr></tbody></table></div></details></td></tr><tr><td><i>(values)</i></td><td><div class=\"dni-plaintext\"><pre>[ 339.6562518125 ]</pre></div></td></tr></tbody></table></div></details></td></tr><tr><td><i>(values)</i></td><td><div class=\"dni-plaintext\"><pre>[ 334.5931281250, 339.6562518125 ]</pre></div></td></tr></tbody></table></div></details></td></tr></tbody></table></div></details></td></tr><tr><td>17</td><td><details class=\"dni-treeview\"><summary><span class=\"dni-code-hint\"><code>(7/3/2023 12:00:00 AM, [336.287502250; 341.961250500])</code></span></summary><div><table><thead><tr></tr></thead><tbody><tr><td>Item1</td><td><span>2023-07-03 00:00:00Z</span></td></tr><tr><td>Item2</td><td><details class=\"dni-treeview\"><summary><span class=\"dni-code-hint\"><code>[ 336.287502250, 341.961250500 ]</code></span></summary><div><table><thead><tr></tr></thead><tbody><tr><td>HeadOrDefault</td><td><div class=\"dni-plaintext\"><pre>336.287502250</pre></div></td></tr><tr><td>TailOrNull</td><td><details class=\"dni-treeview\"><summary><span class=\"dni-code-hint\"><code>[ 341.961250500 ]</code></span></summary><div><table><thead><tr></tr></thead><tbody><tr><td>HeadOrDefault</td><td><div class=\"dni-plaintext\"><pre>341.961250500</pre></div></td></tr><tr><td>TailOrNull</td><td><details class=\"dni-treeview\"><summary><span class=\"dni-code-hint\"><code>[  ]</code></span></summary><div><table><thead><tr></tr></thead><tbody><tr><td>HeadOrDefault</td><td><div class=\"dni-plaintext\"><pre>0</pre></div></td></tr><tr><td>TailOrNull</td><td><div class=\"dni-plaintext\"><pre>&lt;null&gt;</pre></div></td></tr><tr><td>Head</td><td><details class=\"dni-treeview\"><summary><span class=\"dni-code-hint\"><code>System.InvalidOperationException: The input list was empty.\\r\\n   at Microsoft.FSharp.Collections.FSharpList`1.get_Head() in D:\\a\\_work\\1\\s\\src\\FSharp.Core\\prim-types.fs:line 4141\\r\\n   at lambda_method776(Closure, FSharpList`1)\\r\\n   at Microsoft.DotNet.Interactive.Formatting.MemberAccessor`1.GetVa...</code></span></summary><div><table><thead><tr></tr></thead><tbody><tr><td>TargetSite</td><td>T get_Head()</td></tr><tr><td>Message</td><td>The input list was empty.</td></tr><tr><td>Data</td><td>[  ]</td></tr><tr><td>InnerException</td><td><div class=\"dni-plaintext\"><pre>&lt;null&gt;</pre></div></td></tr><tr><td>HelpLink</td><td><div class=\"dni-plaintext\"><pre>&lt;null&gt;</pre></div></td></tr><tr><td>Source</td><td>FSharp.Core</td></tr><tr><td>HResult</td><td>-2146233079</td></tr><tr><td>StackTrace</td><td>   at Microsoft.FSharp.Collections.FSharpList`1.get_Head() in D:\\a\\_work\\1\\s\\src\\FSharp.Core\\prim-types.fs:line 4141\r\n",
       "   at lambda_method776(Closure, FSharpList`1)\r\n",
       "   at Microsoft.DotNet.Interactive.Formatting.MemberAccessor`1.GetValueOrException(T instance) in D:\\a\\_work\\1\\s\\src\\Microsoft.DotNet.Interactive.Formatting\\MemberAccessor{T}.cs:line 58</td></tr></tbody></table></div></details></td></tr><tr><td>Tail</td><td><details class=\"dni-treeview\"><summary><span class=\"dni-code-hint\"><code>System.InvalidOperationException: The input list was empty.\\r\\n   at Microsoft.FSharp.Collections.FSharpList`1.get_Tail() in D:\\a\\_work\\1\\s\\src\\FSharp.Core\\prim-types.fs:line 4146\\r\\n   at lambda_method777(Closure, FSharpList`1)\\r\\n   at Microsoft.DotNet.Interactive.Formatting.MemberAccessor`1.GetVa...</code></span></summary><div><table><thead><tr></tr></thead><tbody><tr><td>TargetSite</td><td>Microsoft.FSharp.Collections.FSharpList`1[T] get_Tail()</td></tr><tr><td>Message</td><td>The input list was empty.</td></tr><tr><td>Data</td><td>[  ]</td></tr><tr><td>InnerException</td><td><div class=\"dni-plaintext\"><pre>&lt;null&gt;</pre></div></td></tr><tr><td>HelpLink</td><td><div class=\"dni-plaintext\"><pre>&lt;null&gt;</pre></div></td></tr><tr><td>Source</td><td>FSharp.Core</td></tr><tr><td>HResult</td><td>-2146233079</td></tr><tr><td>StackTrace</td><td>   at Microsoft.FSharp.Collections.FSharpList`1.get_Tail() in D:\\a\\_work\\1\\s\\src\\FSharp.Core\\prim-types.fs:line 4146\r\n",
       "   at lambda_method777(Closure, FSharpList`1)\r\n",
       "   at Microsoft.DotNet.Interactive.Formatting.MemberAccessor`1.GetValueOrException(T instance) in D:\\a\\_work\\1\\s\\src\\Microsoft.DotNet.Interactive.Formatting\\MemberAccessor{T}.cs:line 58</td></tr></tbody></table></div></details></td></tr><tr><td><i>(values)</i></td><td><div class=\"dni-plaintext\"><pre>[  ]</pre></div></td></tr></tbody></table></div></details></td></tr><tr><td>Head</td><td><div class=\"dni-plaintext\"><pre>341.961250500</pre></div></td></tr><tr><td>Tail</td><td><details class=\"dni-treeview\"><summary><span class=\"dni-code-hint\"><code>[  ]</code></span></summary><div><table><thead><tr></tr></thead><tbody><tr><td>HeadOrDefault</td><td><div class=\"dni-plaintext\"><pre>0</pre></div></td></tr><tr><td>TailOrNull</td><td><div class=\"dni-plaintext\"><pre>&lt;null&gt;</pre></div></td></tr><tr><td>Head</td><td><details class=\"dni-treeview\"><summary><span class=\"dni-code-hint\"><code>System.InvalidOperationException: The input list was empty.\\r\\n   at Microsoft.FSharp.Collections.FSharpList`1.get_Head() in D:\\a\\_work\\1\\s\\src\\FSharp.Core\\prim-types.fs:line 4141\\r\\n   at lambda_method776(Closure, FSharpList`1)\\r\\n   at Microsoft.DotNet.Interactive.Formatting.MemberAccessor`1.GetVa...</code></span></summary><div><table><thead><tr></tr></thead><tbody><tr><td>TargetSite</td><td>T get_Head()</td></tr><tr><td>Message</td><td>The input list was empty.</td></tr><tr><td>Data</td><td>[  ]</td></tr><tr><td>InnerException</td><td><div class=\"dni-plaintext\"><pre>&lt;null&gt;</pre></div></td></tr><tr><td>HelpLink</td><td><div class=\"dni-plaintext\"><pre>&lt;null&gt;</pre></div></td></tr><tr><td>Source</td><td>FSharp.Core</td></tr><tr><td>HResult</td><td>-2146233079</td></tr><tr><td>StackTrace</td><td>   at Microsoft.FSharp.Collections.FSharpList`1.get_Head() in D:\\a\\_work\\1\\s\\src\\FSharp.Core\\prim-types.fs:line 4141\r\n",
       "   at lambda_method776(Closure, FSharpList`1)\r\n",
       "   at Microsoft.DotNet.Interactive.Formatting.MemberAccessor`1.GetValueOrException(T instance) in D:\\a\\_work\\1\\s\\src\\Microsoft.DotNet.Interactive.Formatting\\MemberAccessor{T}.cs:line 58</td></tr></tbody></table></div></details></td></tr><tr><td>Tail</td><td><details class=\"dni-treeview\"><summary><span class=\"dni-code-hint\"><code>System.InvalidOperationException: The input list was empty.\\r\\n   at Microsoft.FSharp.Collections.FSharpList`1.get_Tail() in D:\\a\\_work\\1\\s\\src\\FSharp.Core\\prim-types.fs:line 4146\\r\\n   at lambda_method777(Closure, FSharpList`1)\\r\\n   at Microsoft.DotNet.Interactive.Formatting.MemberAccessor`1.GetVa...</code></span></summary><div><table><thead><tr></tr></thead><tbody><tr><td>TargetSite</td><td>Microsoft.FSharp.Collections.FSharpList`1[T] get_Tail()</td></tr><tr><td>Message</td><td>The input list was empty.</td></tr><tr><td>Data</td><td>[  ]</td></tr><tr><td>InnerException</td><td><div class=\"dni-plaintext\"><pre>&lt;null&gt;</pre></div></td></tr><tr><td>HelpLink</td><td><div class=\"dni-plaintext\"><pre>&lt;null&gt;</pre></div></td></tr><tr><td>Source</td><td>FSharp.Core</td></tr><tr><td>HResult</td><td>-2146233079</td></tr><tr><td>StackTrace</td><td>   at Microsoft.FSharp.Collections.FSharpList`1.get_Tail() in D:\\a\\_work\\1\\s\\src\\FSharp.Core\\prim-types.fs:line 4146\r\n",
       "   at lambda_method777(Closure, FSharpList`1)\r\n",
       "   at Microsoft.DotNet.Interactive.Formatting.MemberAccessor`1.GetValueOrException(T instance) in D:\\a\\_work\\1\\s\\src\\Microsoft.DotNet.Interactive.Formatting\\MemberAccessor{T}.cs:line 58</td></tr></tbody></table></div></details></td></tr><tr><td><i>(values)</i></td><td><div class=\"dni-plaintext\"><pre>[  ]</pre></div></td></tr></tbody></table></div></details></td></tr><tr><td><i>(values)</i></td><td><div class=\"dni-plaintext\"><pre>[ 341.961250500 ]</pre></div></td></tr></tbody></table></div></details></td></tr><tr><td>Head</td><td><div class=\"dni-plaintext\"><pre>336.287502250</pre></div></td></tr><tr><td>Tail</td><td><details class=\"dni-treeview\"><summary><span class=\"dni-code-hint\"><code>[ 341.961250500 ]</code></span></summary><div><table><thead><tr></tr></thead><tbody><tr><td>HeadOrDefault</td><td><div class=\"dni-plaintext\"><pre>341.961250500</pre></div></td></tr><tr><td>TailOrNull</td><td><details class=\"dni-treeview\"><summary><span class=\"dni-code-hint\"><code>[  ]</code></span></summary><div><table><thead><tr></tr></thead><tbody><tr><td>HeadOrDefault</td><td><div class=\"dni-plaintext\"><pre>0</pre></div></td></tr><tr><td>TailOrNull</td><td><div class=\"dni-plaintext\"><pre>&lt;null&gt;</pre></div></td></tr><tr><td>Head</td><td><details class=\"dni-treeview\"><summary><span class=\"dni-code-hint\"><code>System.InvalidOperationException: The input list was empty.\\r\\n   at Microsoft.FSharp.Collections.FSharpList`1.get_Head() in D:\\a\\_work\\1\\s\\src\\FSharp.Core\\prim-types.fs:line 4141\\r\\n   at lambda_method776(Closure, FSharpList`1)\\r\\n   at Microsoft.DotNet.Interactive.Formatting.MemberAccessor`1.GetVa...</code></span></summary><div><table><thead><tr></tr></thead><tbody><tr><td>TargetSite</td><td>T get_Head()</td></tr><tr><td>Message</td><td>The input list was empty.</td></tr><tr><td>Data</td><td>[  ]</td></tr><tr><td>InnerException</td><td><div class=\"dni-plaintext\"><pre>&lt;null&gt;</pre></div></td></tr><tr><td>HelpLink</td><td><div class=\"dni-plaintext\"><pre>&lt;null&gt;</pre></div></td></tr><tr><td>Source</td><td>FSharp.Core</td></tr><tr><td>HResult</td><td>-2146233079</td></tr><tr><td>StackTrace</td><td>   at Microsoft.FSharp.Collections.FSharpList`1.get_Head() in D:\\a\\_work\\1\\s\\src\\FSharp.Core\\prim-types.fs:line 4141\r\n",
       "   at lambda_method776(Closure, FSharpList`1)\r\n",
       "   at Microsoft.DotNet.Interactive.Formatting.MemberAccessor`1.GetValueOrException(T instance) in D:\\a\\_work\\1\\s\\src\\Microsoft.DotNet.Interactive.Formatting\\MemberAccessor{T}.cs:line 58</td></tr></tbody></table></div></details></td></tr><tr><td>Tail</td><td><details class=\"dni-treeview\"><summary><span class=\"dni-code-hint\"><code>System.InvalidOperationException: The input list was empty.\\r\\n   at Microsoft.FSharp.Collections.FSharpList`1.get_Tail() in D:\\a\\_work\\1\\s\\src\\FSharp.Core\\prim-types.fs:line 4146\\r\\n   at lambda_method777(Closure, FSharpList`1)\\r\\n   at Microsoft.DotNet.Interactive.Formatting.MemberAccessor`1.GetVa...</code></span></summary><div><table><thead><tr></tr></thead><tbody><tr><td>TargetSite</td><td>Microsoft.FSharp.Collections.FSharpList`1[T] get_Tail()</td></tr><tr><td>Message</td><td>The input list was empty.</td></tr><tr><td>Data</td><td>[  ]</td></tr><tr><td>InnerException</td><td><div class=\"dni-plaintext\"><pre>&lt;null&gt;</pre></div></td></tr><tr><td>HelpLink</td><td><div class=\"dni-plaintext\"><pre>&lt;null&gt;</pre></div></td></tr><tr><td>Source</td><td>FSharp.Core</td></tr><tr><td>HResult</td><td>-2146233079</td></tr><tr><td>StackTrace</td><td>   at Microsoft.FSharp.Collections.FSharpList`1.get_Tail() in D:\\a\\_work\\1\\s\\src\\FSharp.Core\\prim-types.fs:line 4146\r\n",
       "   at lambda_method777(Closure, FSharpList`1)\r\n",
       "   at Microsoft.DotNet.Interactive.Formatting.MemberAccessor`1.GetValueOrException(T instance) in D:\\a\\_work\\1\\s\\src\\Microsoft.DotNet.Interactive.Formatting\\MemberAccessor{T}.cs:line 58</td></tr></tbody></table></div></details></td></tr><tr><td><i>(values)</i></td><td><div class=\"dni-plaintext\"><pre>[  ]</pre></div></td></tr></tbody></table></div></details></td></tr><tr><td>Head</td><td><div class=\"dni-plaintext\"><pre>341.961250500</pre></div></td></tr><tr><td>Tail</td><td><details class=\"dni-treeview\"><summary><span class=\"dni-code-hint\"><code>[  ]</code></span></summary><div><table><thead><tr></tr></thead><tbody><tr><td>HeadOrDefault</td><td><div class=\"dni-plaintext\"><pre>0</pre></div></td></tr><tr><td>TailOrNull</td><td><div class=\"dni-plaintext\"><pre>&lt;null&gt;</pre></div></td></tr><tr><td>Head</td><td><details class=\"dni-treeview\"><summary><span class=\"dni-code-hint\"><code>System.InvalidOperationException: The input list was empty.\\r\\n   at Microsoft.FSharp.Collections.FSharpList`1.get_Head() in D:\\a\\_work\\1\\s\\src\\FSharp.Core\\prim-types.fs:line 4141\\r\\n   at lambda_method776(Closure, FSharpList`1)\\r\\n   at Microsoft.DotNet.Interactive.Formatting.MemberAccessor`1.GetVa...</code></span></summary><div><table><thead><tr></tr></thead><tbody><tr><td>TargetSite</td><td>T get_Head()</td></tr><tr><td>Message</td><td>The input list was empty.</td></tr><tr><td>Data</td><td>[  ]</td></tr><tr><td>InnerException</td><td><div class=\"dni-plaintext\"><pre>&lt;null&gt;</pre></div></td></tr><tr><td>HelpLink</td><td><div class=\"dni-plaintext\"><pre>&lt;null&gt;</pre></div></td></tr><tr><td>Source</td><td>FSharp.Core</td></tr><tr><td>HResult</td><td>-2146233079</td></tr><tr><td>StackTrace</td><td>   at Microsoft.FSharp.Collections.FSharpList`1.get_Head() in D:\\a\\_work\\1\\s\\src\\FSharp.Core\\prim-types.fs:line 4141\r\n",
       "   at lambda_method776(Closure, FSharpList`1)\r\n",
       "   at Microsoft.DotNet.Interactive.Formatting.MemberAccessor`1.GetValueOrException(T instance) in D:\\a\\_work\\1\\s\\src\\Microsoft.DotNet.Interactive.Formatting\\MemberAccessor{T}.cs:line 58</td></tr></tbody></table></div></details></td></tr><tr><td>Tail</td><td><details class=\"dni-treeview\"><summary><span class=\"dni-code-hint\"><code>System.InvalidOperationException: The input list was empty.\\r\\n   at Microsoft.FSharp.Collections.FSharpList`1.get_Tail() in D:\\a\\_work\\1\\s\\src\\FSharp.Core\\prim-types.fs:line 4146\\r\\n   at lambda_method777(Closure, FSharpList`1)\\r\\n   at Microsoft.DotNet.Interactive.Formatting.MemberAccessor`1.GetVa...</code></span></summary><div><table><thead><tr></tr></thead><tbody><tr><td>TargetSite</td><td>Microsoft.FSharp.Collections.FSharpList`1[T] get_Tail()</td></tr><tr><td>Message</td><td>The input list was empty.</td></tr><tr><td>Data</td><td>[  ]</td></tr><tr><td>InnerException</td><td><div class=\"dni-plaintext\"><pre>&lt;null&gt;</pre></div></td></tr><tr><td>HelpLink</td><td><div class=\"dni-plaintext\"><pre>&lt;null&gt;</pre></div></td></tr><tr><td>Source</td><td>FSharp.Core</td></tr><tr><td>HResult</td><td>-2146233079</td></tr><tr><td>StackTrace</td><td>   at Microsoft.FSharp.Collections.FSharpList`1.get_Tail() in D:\\a\\_work\\1\\s\\src\\FSharp.Core\\prim-types.fs:line 4146\r\n",
       "   at lambda_method777(Closure, FSharpList`1)\r\n",
       "   at Microsoft.DotNet.Interactive.Formatting.MemberAccessor`1.GetValueOrException(T instance) in D:\\a\\_work\\1\\s\\src\\Microsoft.DotNet.Interactive.Formatting\\MemberAccessor{T}.cs:line 58</td></tr></tbody></table></div></details></td></tr><tr><td><i>(values)</i></td><td><div class=\"dni-plaintext\"><pre>[  ]</pre></div></td></tr></tbody></table></div></details></td></tr><tr><td><i>(values)</i></td><td><div class=\"dni-plaintext\"><pre>[ 341.961250500 ]</pre></div></td></tr></tbody></table></div></details></td></tr><tr><td><i>(values)</i></td><td><div class=\"dni-plaintext\"><pre>[ 336.287502250, 341.961250500 ]</pre></div></td></tr></tbody></table></div></details></td></tr></tbody></table></div></details></td></tr><tr><td>18</td><td><details class=\"dni-treeview\"><summary><span class=\"dni-code-hint\"><code>(7/10/2023 12:00:00 AM, [339.7806226250; 346.1118680000])</code></span></summary><div><table><thead><tr></tr></thead><tbody><tr><td>Item1</td><td><span>2023-07-10 00:00:00Z</span></td></tr><tr><td>Item2</td><td><details class=\"dni-treeview\"><summary><span class=\"dni-code-hint\"><code>[ 339.7806226250, 346.1118680000 ]</code></span></summary><div><table><thead><tr></tr></thead><tbody><tr><td>HeadOrDefault</td><td><div class=\"dni-plaintext\"><pre>339.7806226250</pre></div></td></tr><tr><td>TailOrNull</td><td><details class=\"dni-treeview\"><summary><span class=\"dni-code-hint\"><code>[ 346.1118680000 ]</code></span></summary><div><table><thead><tr></tr></thead><tbody><tr><td>HeadOrDefault</td><td><div class=\"dni-plaintext\"><pre>346.1118680000</pre></div></td></tr><tr><td>TailOrNull</td><td><details class=\"dni-treeview\"><summary><span class=\"dni-code-hint\"><code>[  ]</code></span></summary><div><table><thead><tr></tr></thead><tbody><tr><td>HeadOrDefault</td><td><div class=\"dni-plaintext\"><pre>0</pre></div></td></tr><tr><td>TailOrNull</td><td><div class=\"dni-plaintext\"><pre>&lt;null&gt;</pre></div></td></tr><tr><td>Head</td><td><details class=\"dni-treeview\"><summary><span class=\"dni-code-hint\"><code>System.InvalidOperationException: The input list was empty.\\r\\n   at Microsoft.FSharp.Collections.FSharpList`1.get_Head() in D:\\a\\_work\\1\\s\\src\\FSharp.Core\\prim-types.fs:line 4141\\r\\n   at lambda_method776(Closure, FSharpList`1)\\r\\n   at Microsoft.DotNet.Interactive.Formatting.MemberAccessor`1.GetVa...</code></span></summary><div><table><thead><tr></tr></thead><tbody><tr><td>TargetSite</td><td>T get_Head()</td></tr><tr><td>Message</td><td>The input list was empty.</td></tr><tr><td>Data</td><td>[  ]</td></tr><tr><td>InnerException</td><td><div class=\"dni-plaintext\"><pre>&lt;null&gt;</pre></div></td></tr><tr><td>HelpLink</td><td><div class=\"dni-plaintext\"><pre>&lt;null&gt;</pre></div></td></tr><tr><td>Source</td><td>FSharp.Core</td></tr><tr><td>HResult</td><td>-2146233079</td></tr><tr><td>StackTrace</td><td>   at Microsoft.FSharp.Collections.FSharpList`1.get_Head() in D:\\a\\_work\\1\\s\\src\\FSharp.Core\\prim-types.fs:line 4141\r\n",
       "   at lambda_method776(Closure, FSharpList`1)\r\n",
       "   at Microsoft.DotNet.Interactive.Formatting.MemberAccessor`1.GetValueOrException(T instance) in D:\\a\\_work\\1\\s\\src\\Microsoft.DotNet.Interactive.Formatting\\MemberAccessor{T}.cs:line 58</td></tr></tbody></table></div></details></td></tr><tr><td>Tail</td><td><details class=\"dni-treeview\"><summary><span class=\"dni-code-hint\"><code>System.InvalidOperationException: The input list was empty.\\r\\n   at Microsoft.FSharp.Collections.FSharpList`1.get_Tail() in D:\\a\\_work\\1\\s\\src\\FSharp.Core\\prim-types.fs:line 4146\\r\\n   at lambda_method777(Closure, FSharpList`1)\\r\\n   at Microsoft.DotNet.Interactive.Formatting.MemberAccessor`1.GetVa...</code></span></summary><div><table><thead><tr></tr></thead><tbody><tr><td>TargetSite</td><td>Microsoft.FSharp.Collections.FSharpList`1[T] get_Tail()</td></tr><tr><td>Message</td><td>The input list was empty.</td></tr><tr><td>Data</td><td>[  ]</td></tr><tr><td>InnerException</td><td><div class=\"dni-plaintext\"><pre>&lt;null&gt;</pre></div></td></tr><tr><td>HelpLink</td><td><div class=\"dni-plaintext\"><pre>&lt;null&gt;</pre></div></td></tr><tr><td>Source</td><td>FSharp.Core</td></tr><tr><td>HResult</td><td>-2146233079</td></tr><tr><td>StackTrace</td><td>   at Microsoft.FSharp.Collections.FSharpList`1.get_Tail() in D:\\a\\_work\\1\\s\\src\\FSharp.Core\\prim-types.fs:line 4146\r\n",
       "   at lambda_method777(Closure, FSharpList`1)\r\n",
       "   at Microsoft.DotNet.Interactive.Formatting.MemberAccessor`1.GetValueOrException(T instance) in D:\\a\\_work\\1\\s\\src\\Microsoft.DotNet.Interactive.Formatting\\MemberAccessor{T}.cs:line 58</td></tr></tbody></table></div></details></td></tr><tr><td><i>(values)</i></td><td><div class=\"dni-plaintext\"><pre>[  ]</pre></div></td></tr></tbody></table></div></details></td></tr><tr><td>Head</td><td><div class=\"dni-plaintext\"><pre>346.1118680000</pre></div></td></tr><tr><td>Tail</td><td><details class=\"dni-treeview\"><summary><span class=\"dni-code-hint\"><code>[  ]</code></span></summary><div><table><thead><tr></tr></thead><tbody><tr><td>HeadOrDefault</td><td><div class=\"dni-plaintext\"><pre>0</pre></div></td></tr><tr><td>TailOrNull</td><td><div class=\"dni-plaintext\"><pre>&lt;null&gt;</pre></div></td></tr><tr><td>Head</td><td><details class=\"dni-treeview\"><summary><span class=\"dni-code-hint\"><code>System.InvalidOperationException: The input list was empty.\\r\\n   at Microsoft.FSharp.Collections.FSharpList`1.get_Head() in D:\\a\\_work\\1\\s\\src\\FSharp.Core\\prim-types.fs:line 4141\\r\\n   at lambda_method776(Closure, FSharpList`1)\\r\\n   at Microsoft.DotNet.Interactive.Formatting.MemberAccessor`1.GetVa...</code></span></summary><div><table><thead><tr></tr></thead><tbody><tr><td>TargetSite</td><td>T get_Head()</td></tr><tr><td>Message</td><td>The input list was empty.</td></tr><tr><td>Data</td><td>[  ]</td></tr><tr><td>InnerException</td><td><div class=\"dni-plaintext\"><pre>&lt;null&gt;</pre></div></td></tr><tr><td>HelpLink</td><td><div class=\"dni-plaintext\"><pre>&lt;null&gt;</pre></div></td></tr><tr><td>Source</td><td>FSharp.Core</td></tr><tr><td>HResult</td><td>-2146233079</td></tr><tr><td>StackTrace</td><td>   at Microsoft.FSharp.Collections.FSharpList`1.get_Head() in D:\\a\\_work\\1\\s\\src\\FSharp.Core\\prim-types.fs:line 4141\r\n",
       "   at lambda_method776(Closure, FSharpList`1)\r\n",
       "   at Microsoft.DotNet.Interactive.Formatting.MemberAccessor`1.GetValueOrException(T instance) in D:\\a\\_work\\1\\s\\src\\Microsoft.DotNet.Interactive.Formatting\\MemberAccessor{T}.cs:line 58</td></tr></tbody></table></div></details></td></tr><tr><td>Tail</td><td><details class=\"dni-treeview\"><summary><span class=\"dni-code-hint\"><code>System.InvalidOperationException: The input list was empty.\\r\\n   at Microsoft.FSharp.Collections.FSharpList`1.get_Tail() in D:\\a\\_work\\1\\s\\src\\FSharp.Core\\prim-types.fs:line 4146\\r\\n   at lambda_method777(Closure, FSharpList`1)\\r\\n   at Microsoft.DotNet.Interactive.Formatting.MemberAccessor`1.GetVa...</code></span></summary><div><table><thead><tr></tr></thead><tbody><tr><td>TargetSite</td><td>Microsoft.FSharp.Collections.FSharpList`1[T] get_Tail()</td></tr><tr><td>Message</td><td>The input list was empty.</td></tr><tr><td>Data</td><td>[  ]</td></tr><tr><td>InnerException</td><td><div class=\"dni-plaintext\"><pre>&lt;null&gt;</pre></div></td></tr><tr><td>HelpLink</td><td><div class=\"dni-plaintext\"><pre>&lt;null&gt;</pre></div></td></tr><tr><td>Source</td><td>FSharp.Core</td></tr><tr><td>HResult</td><td>-2146233079</td></tr><tr><td>StackTrace</td><td>   at Microsoft.FSharp.Collections.FSharpList`1.get_Tail() in D:\\a\\_work\\1\\s\\src\\FSharp.Core\\prim-types.fs:line 4146\r\n",
       "   at lambda_method777(Closure, FSharpList`1)\r\n",
       "   at Microsoft.DotNet.Interactive.Formatting.MemberAccessor`1.GetValueOrException(T instance) in D:\\a\\_work\\1\\s\\src\\Microsoft.DotNet.Interactive.Formatting\\MemberAccessor{T}.cs:line 58</td></tr></tbody></table></div></details></td></tr><tr><td><i>(values)</i></td><td><div class=\"dni-plaintext\"><pre>[  ]</pre></div></td></tr></tbody></table></div></details></td></tr><tr><td><i>(values)</i></td><td><div class=\"dni-plaintext\"><pre>[ 346.1118680000 ]</pre></div></td></tr></tbody></table></div></details></td></tr><tr><td>Head</td><td><div class=\"dni-plaintext\"><pre>339.7806226250</pre></div></td></tr><tr><td>Tail</td><td><details class=\"dni-treeview\"><summary><span class=\"dni-code-hint\"><code>[ 346.1118680000 ]</code></span></summary><div><table><thead><tr></tr></thead><tbody><tr><td>HeadOrDefault</td><td><div class=\"dni-plaintext\"><pre>346.1118680000</pre></div></td></tr><tr><td>TailOrNull</td><td><details class=\"dni-treeview\"><summary><span class=\"dni-code-hint\"><code>[  ]</code></span></summary><div><table><thead><tr></tr></thead><tbody><tr><td>HeadOrDefault</td><td><div class=\"dni-plaintext\"><pre>0</pre></div></td></tr><tr><td>TailOrNull</td><td><div class=\"dni-plaintext\"><pre>&lt;null&gt;</pre></div></td></tr><tr><td>Head</td><td><details class=\"dni-treeview\"><summary><span class=\"dni-code-hint\"><code>System.InvalidOperationException: The input list was empty.\\r\\n   at Microsoft.FSharp.Collections.FSharpList`1.get_Head() in D:\\a\\_work\\1\\s\\src\\FSharp.Core\\prim-types.fs:line 4141\\r\\n   at lambda_method776(Closure, FSharpList`1)\\r\\n   at Microsoft.DotNet.Interactive.Formatting.MemberAccessor`1.GetVa...</code></span></summary><div><table><thead><tr></tr></thead><tbody><tr><td>TargetSite</td><td>T get_Head()</td></tr><tr><td>Message</td><td>The input list was empty.</td></tr><tr><td>Data</td><td>[  ]</td></tr><tr><td>InnerException</td><td><div class=\"dni-plaintext\"><pre>&lt;null&gt;</pre></div></td></tr><tr><td>HelpLink</td><td><div class=\"dni-plaintext\"><pre>&lt;null&gt;</pre></div></td></tr><tr><td>Source</td><td>FSharp.Core</td></tr><tr><td>HResult</td><td>-2146233079</td></tr><tr><td>StackTrace</td><td>   at Microsoft.FSharp.Collections.FSharpList`1.get_Head() in D:\\a\\_work\\1\\s\\src\\FSharp.Core\\prim-types.fs:line 4141\r\n",
       "   at lambda_method776(Closure, FSharpList`1)\r\n",
       "   at Microsoft.DotNet.Interactive.Formatting.MemberAccessor`1.GetValueOrException(T instance) in D:\\a\\_work\\1\\s\\src\\Microsoft.DotNet.Interactive.Formatting\\MemberAccessor{T}.cs:line 58</td></tr></tbody></table></div></details></td></tr><tr><td>Tail</td><td><details class=\"dni-treeview\"><summary><span class=\"dni-code-hint\"><code>System.InvalidOperationException: The input list was empty.\\r\\n   at Microsoft.FSharp.Collections.FSharpList`1.get_Tail() in D:\\a\\_work\\1\\s\\src\\FSharp.Core\\prim-types.fs:line 4146\\r\\n   at lambda_method777(Closure, FSharpList`1)\\r\\n   at Microsoft.DotNet.Interactive.Formatting.MemberAccessor`1.GetVa...</code></span></summary><div><table><thead><tr></tr></thead><tbody><tr><td>TargetSite</td><td>Microsoft.FSharp.Collections.FSharpList`1[T] get_Tail()</td></tr><tr><td>Message</td><td>The input list was empty.</td></tr><tr><td>Data</td><td>[  ]</td></tr><tr><td>InnerException</td><td><div class=\"dni-plaintext\"><pre>&lt;null&gt;</pre></div></td></tr><tr><td>HelpLink</td><td><div class=\"dni-plaintext\"><pre>&lt;null&gt;</pre></div></td></tr><tr><td>Source</td><td>FSharp.Core</td></tr><tr><td>HResult</td><td>-2146233079</td></tr><tr><td>StackTrace</td><td>   at Microsoft.FSharp.Collections.FSharpList`1.get_Tail() in D:\\a\\_work\\1\\s\\src\\FSharp.Core\\prim-types.fs:line 4146\r\n",
       "   at lambda_method777(Closure, FSharpList`1)\r\n",
       "   at Microsoft.DotNet.Interactive.Formatting.MemberAccessor`1.GetValueOrException(T instance) in D:\\a\\_work\\1\\s\\src\\Microsoft.DotNet.Interactive.Formatting\\MemberAccessor{T}.cs:line 58</td></tr></tbody></table></div></details></td></tr><tr><td><i>(values)</i></td><td><div class=\"dni-plaintext\"><pre>[  ]</pre></div></td></tr></tbody></table></div></details></td></tr><tr><td>Head</td><td><div class=\"dni-plaintext\"><pre>346.1118680000</pre></div></td></tr><tr><td>Tail</td><td><details class=\"dni-treeview\"><summary><span class=\"dni-code-hint\"><code>[  ]</code></span></summary><div><table><thead><tr></tr></thead><tbody><tr><td>HeadOrDefault</td><td><div class=\"dni-plaintext\"><pre>0</pre></div></td></tr><tr><td>TailOrNull</td><td><div class=\"dni-plaintext\"><pre>&lt;null&gt;</pre></div></td></tr><tr><td>Head</td><td><details class=\"dni-treeview\"><summary><span class=\"dni-code-hint\"><code>System.InvalidOperationException: The input list was empty.\\r\\n   at Microsoft.FSharp.Collections.FSharpList`1.get_Head() in D:\\a\\_work\\1\\s\\src\\FSharp.Core\\prim-types.fs:line 4141\\r\\n   at lambda_method776(Closure, FSharpList`1)\\r\\n   at Microsoft.DotNet.Interactive.Formatting.MemberAccessor`1.GetVa...</code></span></summary><div><table><thead><tr></tr></thead><tbody><tr><td>TargetSite</td><td>T get_Head()</td></tr><tr><td>Message</td><td>The input list was empty.</td></tr><tr><td>Data</td><td>[  ]</td></tr><tr><td>InnerException</td><td><div class=\"dni-plaintext\"><pre>&lt;null&gt;</pre></div></td></tr><tr><td>HelpLink</td><td><div class=\"dni-plaintext\"><pre>&lt;null&gt;</pre></div></td></tr><tr><td>Source</td><td>FSharp.Core</td></tr><tr><td>HResult</td><td>-2146233079</td></tr><tr><td>StackTrace</td><td>   at Microsoft.FSharp.Collections.FSharpList`1.get_Head() in D:\\a\\_work\\1\\s\\src\\FSharp.Core\\prim-types.fs:line 4141\r\n",
       "   at lambda_method776(Closure, FSharpList`1)\r\n",
       "   at Microsoft.DotNet.Interactive.Formatting.MemberAccessor`1.GetValueOrException(T instance) in D:\\a\\_work\\1\\s\\src\\Microsoft.DotNet.Interactive.Formatting\\MemberAccessor{T}.cs:line 58</td></tr></tbody></table></div></details></td></tr><tr><td>Tail</td><td><details class=\"dni-treeview\"><summary><span class=\"dni-code-hint\"><code>System.InvalidOperationException: The input list was empty.\\r\\n   at Microsoft.FSharp.Collections.FSharpList`1.get_Tail() in D:\\a\\_work\\1\\s\\src\\FSharp.Core\\prim-types.fs:line 4146\\r\\n   at lambda_method777(Closure, FSharpList`1)\\r\\n   at Microsoft.DotNet.Interactive.Formatting.MemberAccessor`1.GetVa...</code></span></summary><div><table><thead><tr></tr></thead><tbody><tr><td>TargetSite</td><td>Microsoft.FSharp.Collections.FSharpList`1[T] get_Tail()</td></tr><tr><td>Message</td><td>The input list was empty.</td></tr><tr><td>Data</td><td>[  ]</td></tr><tr><td>InnerException</td><td><div class=\"dni-plaintext\"><pre>&lt;null&gt;</pre></div></td></tr><tr><td>HelpLink</td><td><div class=\"dni-plaintext\"><pre>&lt;null&gt;</pre></div></td></tr><tr><td>Source</td><td>FSharp.Core</td></tr><tr><td>HResult</td><td>-2146233079</td></tr><tr><td>StackTrace</td><td>   at Microsoft.FSharp.Collections.FSharpList`1.get_Tail() in D:\\a\\_work\\1\\s\\src\\FSharp.Core\\prim-types.fs:line 4146\r\n",
       "   at lambda_method777(Closure, FSharpList`1)\r\n",
       "   at Microsoft.DotNet.Interactive.Formatting.MemberAccessor`1.GetValueOrException(T instance) in D:\\a\\_work\\1\\s\\src\\Microsoft.DotNet.Interactive.Formatting\\MemberAccessor{T}.cs:line 58</td></tr></tbody></table></div></details></td></tr><tr><td><i>(values)</i></td><td><div class=\"dni-plaintext\"><pre>[  ]</pre></div></td></tr></tbody></table></div></details></td></tr><tr><td><i>(values)</i></td><td><div class=\"dni-plaintext\"><pre>[ 346.1118680000 ]</pre></div></td></tr></tbody></table></div></details></td></tr><tr><td><i>(values)</i></td><td><div class=\"dni-plaintext\"><pre>[ 339.7806226250, 346.1118680000 ]</pre></div></td></tr></tbody></table></div></details></td></tr></tbody></table></div></details></td></tr><tr><td>19</td><td><details class=\"dni-treeview\"><summary><span class=\"dni-code-hint\"><code>(7/17/2023 12:00:00 AM, [343.0856190625; 354.5606174375])</code></span></summary><div><table><thead><tr></tr></thead><tbody><tr><td>Item1</td><td><span>2023-07-17 00:00:00Z</span></td></tr><tr><td>Item2</td><td><details class=\"dni-treeview\"><summary><span class=\"dni-code-hint\"><code>[ 343.0856190625, 354.5606174375 ]</code></span></summary><div><table><thead><tr></tr></thead><tbody><tr><td>HeadOrDefault</td><td><div class=\"dni-plaintext\"><pre>343.0856190625</pre></div></td></tr><tr><td>TailOrNull</td><td><details class=\"dni-treeview\"><summary><span class=\"dni-code-hint\"><code>[ 354.5606174375 ]</code></span></summary><div><table><thead><tr></tr></thead><tbody><tr><td>HeadOrDefault</td><td><div class=\"dni-plaintext\"><pre>354.5606174375</pre></div></td></tr><tr><td>TailOrNull</td><td><details class=\"dni-treeview\"><summary><span class=\"dni-code-hint\"><code>[  ]</code></span></summary><div><table><thead><tr></tr></thead><tbody><tr><td>HeadOrDefault</td><td><div class=\"dni-plaintext\"><pre>0</pre></div></td></tr><tr><td>TailOrNull</td><td><div class=\"dni-plaintext\"><pre>&lt;null&gt;</pre></div></td></tr><tr><td>Head</td><td><details class=\"dni-treeview\"><summary><span class=\"dni-code-hint\"><code>System.InvalidOperationException: The input list was empty.\\r\\n   at Microsoft.FSharp.Collections.FSharpList`1.get_Head() in D:\\a\\_work\\1\\s\\src\\FSharp.Core\\prim-types.fs:line 4141\\r\\n   at lambda_method776(Closure, FSharpList`1)\\r\\n   at Microsoft.DotNet.Interactive.Formatting.MemberAccessor`1.GetVa...</code></span></summary><div><table><thead><tr></tr></thead><tbody><tr><td>TargetSite</td><td>T get_Head()</td></tr><tr><td>Message</td><td>The input list was empty.</td></tr><tr><td>Data</td><td>[  ]</td></tr><tr><td>InnerException</td><td><div class=\"dni-plaintext\"><pre>&lt;null&gt;</pre></div></td></tr><tr><td>HelpLink</td><td><div class=\"dni-plaintext\"><pre>&lt;null&gt;</pre></div></td></tr><tr><td>Source</td><td>FSharp.Core</td></tr><tr><td>HResult</td><td>-2146233079</td></tr><tr><td>StackTrace</td><td>   at Microsoft.FSharp.Collections.FSharpList`1.get_Head() in D:\\a\\_work\\1\\s\\src\\FSharp.Core\\prim-types.fs:line 4141\r\n",
       "   at lambda_method776(Closure, FSharpList`1)\r\n",
       "   at Microsoft.DotNet.Interactive.Formatting.MemberAccessor`1.GetValueOrException(T instance) in D:\\a\\_work\\1\\s\\src\\Microsoft.DotNet.Interactive.Formatting\\MemberAccessor{T}.cs:line 58</td></tr></tbody></table></div></details></td></tr><tr><td>Tail</td><td><details class=\"dni-treeview\"><summary><span class=\"dni-code-hint\"><code>System.InvalidOperationException: The input list was empty.\\r\\n   at Microsoft.FSharp.Collections.FSharpList`1.get_Tail() in D:\\a\\_work\\1\\s\\src\\FSharp.Core\\prim-types.fs:line 4146\\r\\n   at lambda_method777(Closure, FSharpList`1)\\r\\n   at Microsoft.DotNet.Interactive.Formatting.MemberAccessor`1.GetVa...</code></span></summary><div><table><thead><tr></tr></thead><tbody><tr><td>TargetSite</td><td>Microsoft.FSharp.Collections.FSharpList`1[T] get_Tail()</td></tr><tr><td>Message</td><td>The input list was empty.</td></tr><tr><td>Data</td><td>[  ]</td></tr><tr><td>InnerException</td><td><div class=\"dni-plaintext\"><pre>&lt;null&gt;</pre></div></td></tr><tr><td>HelpLink</td><td><div class=\"dni-plaintext\"><pre>&lt;null&gt;</pre></div></td></tr><tr><td>Source</td><td>FSharp.Core</td></tr><tr><td>HResult</td><td>-2146233079</td></tr><tr><td>StackTrace</td><td>   at Microsoft.FSharp.Collections.FSharpList`1.get_Tail() in D:\\a\\_work\\1\\s\\src\\FSharp.Core\\prim-types.fs:line 4146\r\n",
       "   at lambda_method777(Closure, FSharpList`1)\r\n",
       "   at Microsoft.DotNet.Interactive.Formatting.MemberAccessor`1.GetValueOrException(T instance) in D:\\a\\_work\\1\\s\\src\\Microsoft.DotNet.Interactive.Formatting\\MemberAccessor{T}.cs:line 58</td></tr></tbody></table></div></details></td></tr><tr><td><i>(values)</i></td><td><div class=\"dni-plaintext\"><pre>[  ]</pre></div></td></tr></tbody></table></div></details></td></tr><tr><td>Head</td><td><div class=\"dni-plaintext\"><pre>354.5606174375</pre></div></td></tr><tr><td>Tail</td><td><details class=\"dni-treeview\"><summary><span class=\"dni-code-hint\"><code>[  ]</code></span></summary><div><table><thead><tr></tr></thead><tbody><tr><td>HeadOrDefault</td><td><div class=\"dni-plaintext\"><pre>0</pre></div></td></tr><tr><td>TailOrNull</td><td><div class=\"dni-plaintext\"><pre>&lt;null&gt;</pre></div></td></tr><tr><td>Head</td><td><details class=\"dni-treeview\"><summary><span class=\"dni-code-hint\"><code>System.InvalidOperationException: The input list was empty.\\r\\n   at Microsoft.FSharp.Collections.FSharpList`1.get_Head() in D:\\a\\_work\\1\\s\\src\\FSharp.Core\\prim-types.fs:line 4141\\r\\n   at lambda_method776(Closure, FSharpList`1)\\r\\n   at Microsoft.DotNet.Interactive.Formatting.MemberAccessor`1.GetVa...</code></span></summary><div><table><thead><tr></tr></thead><tbody><tr><td>TargetSite</td><td>T get_Head()</td></tr><tr><td>Message</td><td>The input list was empty.</td></tr><tr><td>Data</td><td>[  ]</td></tr><tr><td>InnerException</td><td><div class=\"dni-plaintext\"><pre>&lt;null&gt;</pre></div></td></tr><tr><td>HelpLink</td><td><div class=\"dni-plaintext\"><pre>&lt;null&gt;</pre></div></td></tr><tr><td>Source</td><td>FSharp.Core</td></tr><tr><td>HResult</td><td>-2146233079</td></tr><tr><td>StackTrace</td><td>   at Microsoft.FSharp.Collections.FSharpList`1.get_Head() in D:\\a\\_work\\1\\s\\src\\FSharp.Core\\prim-types.fs:line 4141\r\n",
       "   at lambda_method776(Closure, FSharpList`1)\r\n",
       "   at Microsoft.DotNet.Interactive.Formatting.MemberAccessor`1.GetValueOrException(T instance) in D:\\a\\_work\\1\\s\\src\\Microsoft.DotNet.Interactive.Formatting\\MemberAccessor{T}.cs:line 58</td></tr></tbody></table></div></details></td></tr><tr><td>Tail</td><td><details class=\"dni-treeview\"><summary><span class=\"dni-code-hint\"><code>System.InvalidOperationException: The input list was empty.\\r\\n   at Microsoft.FSharp.Collections.FSharpList`1.get_Tail() in D:\\a\\_work\\1\\s\\src\\FSharp.Core\\prim-types.fs:line 4146\\r\\n   at lambda_method777(Closure, FSharpList`1)\\r\\n   at Microsoft.DotNet.Interactive.Formatting.MemberAccessor`1.GetVa...</code></span></summary><div><table><thead><tr></tr></thead><tbody><tr><td>TargetSite</td><td>Microsoft.FSharp.Collections.FSharpList`1[T] get_Tail()</td></tr><tr><td>Message</td><td>The input list was empty.</td></tr><tr><td>Data</td><td>[  ]</td></tr><tr><td>InnerException</td><td><div class=\"dni-plaintext\"><pre>&lt;null&gt;</pre></div></td></tr><tr><td>HelpLink</td><td><div class=\"dni-plaintext\"><pre>&lt;null&gt;</pre></div></td></tr><tr><td>Source</td><td>FSharp.Core</td></tr><tr><td>HResult</td><td>-2146233079</td></tr><tr><td>StackTrace</td><td>   at Microsoft.FSharp.Collections.FSharpList`1.get_Tail() in D:\\a\\_work\\1\\s\\src\\FSharp.Core\\prim-types.fs:line 4146\r\n",
       "   at lambda_method777(Closure, FSharpList`1)\r\n",
       "   at Microsoft.DotNet.Interactive.Formatting.MemberAccessor`1.GetValueOrException(T instance) in D:\\a\\_work\\1\\s\\src\\Microsoft.DotNet.Interactive.Formatting\\MemberAccessor{T}.cs:line 58</td></tr></tbody></table></div></details></td></tr><tr><td><i>(values)</i></td><td><div class=\"dni-plaintext\"><pre>[  ]</pre></div></td></tr></tbody></table></div></details></td></tr><tr><td><i>(values)</i></td><td><div class=\"dni-plaintext\"><pre>[ 354.5606174375 ]</pre></div></td></tr></tbody></table></div></details></td></tr><tr><td>Head</td><td><div class=\"dni-plaintext\"><pre>343.0856190625</pre></div></td></tr><tr><td>Tail</td><td><details class=\"dni-treeview\"><summary><span class=\"dni-code-hint\"><code>[ 354.5606174375 ]</code></span></summary><div><table><thead><tr></tr></thead><tbody><tr><td>HeadOrDefault</td><td><div class=\"dni-plaintext\"><pre>354.5606174375</pre></div></td></tr><tr><td>TailOrNull</td><td><details class=\"dni-treeview\"><summary><span class=\"dni-code-hint\"><code>[  ]</code></span></summary><div><table><thead><tr></tr></thead><tbody><tr><td>HeadOrDefault</td><td><div class=\"dni-plaintext\"><pre>0</pre></div></td></tr><tr><td>TailOrNull</td><td><div class=\"dni-plaintext\"><pre>&lt;null&gt;</pre></div></td></tr><tr><td>Head</td><td><details class=\"dni-treeview\"><summary><span class=\"dni-code-hint\"><code>System.InvalidOperationException: The input list was empty.\\r\\n   at Microsoft.FSharp.Collections.FSharpList`1.get_Head() in D:\\a\\_work\\1\\s\\src\\FSharp.Core\\prim-types.fs:line 4141\\r\\n   at lambda_method776(Closure, FSharpList`1)\\r\\n   at Microsoft.DotNet.Interactive.Formatting.MemberAccessor`1.GetVa...</code></span></summary><div><table><thead><tr></tr></thead><tbody><tr><td>TargetSite</td><td>T get_Head()</td></tr><tr><td>Message</td><td>The input list was empty.</td></tr><tr><td>Data</td><td>[  ]</td></tr><tr><td>InnerException</td><td><div class=\"dni-plaintext\"><pre>&lt;null&gt;</pre></div></td></tr><tr><td>HelpLink</td><td><div class=\"dni-plaintext\"><pre>&lt;null&gt;</pre></div></td></tr><tr><td>Source</td><td>FSharp.Core</td></tr><tr><td>HResult</td><td>-2146233079</td></tr><tr><td>StackTrace</td><td>   at Microsoft.FSharp.Collections.FSharpList`1.get_Head() in D:\\a\\_work\\1\\s\\src\\FSharp.Core\\prim-types.fs:line 4141\r\n",
       "   at lambda_method776(Closure, FSharpList`1)\r\n",
       "   at Microsoft.DotNet.Interactive.Formatting.MemberAccessor`1.GetValueOrException(T instance) in D:\\a\\_work\\1\\s\\src\\Microsoft.DotNet.Interactive.Formatting\\MemberAccessor{T}.cs:line 58</td></tr></tbody></table></div></details></td></tr><tr><td>Tail</td><td><details class=\"dni-treeview\"><summary><span class=\"dni-code-hint\"><code>System.InvalidOperationException: The input list was empty.\\r\\n   at Microsoft.FSharp.Collections.FSharpList`1.get_Tail() in D:\\a\\_work\\1\\s\\src\\FSharp.Core\\prim-types.fs:line 4146\\r\\n   at lambda_method777(Closure, FSharpList`1)\\r\\n   at Microsoft.DotNet.Interactive.Formatting.MemberAccessor`1.GetVa...</code></span></summary><div><table><thead><tr></tr></thead><tbody><tr><td>TargetSite</td><td>Microsoft.FSharp.Collections.FSharpList`1[T] get_Tail()</td></tr><tr><td>Message</td><td>The input list was empty.</td></tr><tr><td>Data</td><td>[  ]</td></tr><tr><td>InnerException</td><td><div class=\"dni-plaintext\"><pre>&lt;null&gt;</pre></div></td></tr><tr><td>HelpLink</td><td><div class=\"dni-plaintext\"><pre>&lt;null&gt;</pre></div></td></tr><tr><td>Source</td><td>FSharp.Core</td></tr><tr><td>HResult</td><td>-2146233079</td></tr><tr><td>StackTrace</td><td>   at Microsoft.FSharp.Collections.FSharpList`1.get_Tail() in D:\\a\\_work\\1\\s\\src\\FSharp.Core\\prim-types.fs:line 4146\r\n",
       "   at lambda_method777(Closure, FSharpList`1)\r\n",
       "   at Microsoft.DotNet.Interactive.Formatting.MemberAccessor`1.GetValueOrException(T instance) in D:\\a\\_work\\1\\s\\src\\Microsoft.DotNet.Interactive.Formatting\\MemberAccessor{T}.cs:line 58</td></tr></tbody></table></div></details></td></tr><tr><td><i>(values)</i></td><td><div class=\"dni-plaintext\"><pre>[  ]</pre></div></td></tr></tbody></table></div></details></td></tr><tr><td>Head</td><td><div class=\"dni-plaintext\"><pre>354.5606174375</pre></div></td></tr><tr><td>Tail</td><td><details class=\"dni-treeview\"><summary><span class=\"dni-code-hint\"><code>[  ]</code></span></summary><div><table><thead><tr></tr></thead><tbody><tr><td>HeadOrDefault</td><td><div class=\"dni-plaintext\"><pre>0</pre></div></td></tr><tr><td>TailOrNull</td><td><div class=\"dni-plaintext\"><pre>&lt;null&gt;</pre></div></td></tr><tr><td>Head</td><td><details class=\"dni-treeview\"><summary><span class=\"dni-code-hint\"><code>System.InvalidOperationException: The input list was empty.\\r\\n   at Microsoft.FSharp.Collections.FSharpList`1.get_Head() in D:\\a\\_work\\1\\s\\src\\FSharp.Core\\prim-types.fs:line 4141\\r\\n   at lambda_method776(Closure, FSharpList`1)\\r\\n   at Microsoft.DotNet.Interactive.Formatting.MemberAccessor`1.GetVa...</code></span></summary><div><table><thead><tr></tr></thead><tbody><tr><td>TargetSite</td><td>T get_Head()</td></tr><tr><td>Message</td><td>The input list was empty.</td></tr><tr><td>Data</td><td>[  ]</td></tr><tr><td>InnerException</td><td><div class=\"dni-plaintext\"><pre>&lt;null&gt;</pre></div></td></tr><tr><td>HelpLink</td><td><div class=\"dni-plaintext\"><pre>&lt;null&gt;</pre></div></td></tr><tr><td>Source</td><td>FSharp.Core</td></tr><tr><td>HResult</td><td>-2146233079</td></tr><tr><td>StackTrace</td><td>   at Microsoft.FSharp.Collections.FSharpList`1.get_Head() in D:\\a\\_work\\1\\s\\src\\FSharp.Core\\prim-types.fs:line 4141\r\n",
       "   at lambda_method776(Closure, FSharpList`1)\r\n",
       "   at Microsoft.DotNet.Interactive.Formatting.MemberAccessor`1.GetValueOrException(T instance) in D:\\a\\_work\\1\\s\\src\\Microsoft.DotNet.Interactive.Formatting\\MemberAccessor{T}.cs:line 58</td></tr></tbody></table></div></details></td></tr><tr><td>Tail</td><td><details class=\"dni-treeview\"><summary><span class=\"dni-code-hint\"><code>System.InvalidOperationException: The input list was empty.\\r\\n   at Microsoft.FSharp.Collections.FSharpList`1.get_Tail() in D:\\a\\_work\\1\\s\\src\\FSharp.Core\\prim-types.fs:line 4146\\r\\n   at lambda_method777(Closure, FSharpList`1)\\r\\n   at Microsoft.DotNet.Interactive.Formatting.MemberAccessor`1.GetVa...</code></span></summary><div><table><thead><tr></tr></thead><tbody><tr><td>TargetSite</td><td>Microsoft.FSharp.Collections.FSharpList`1[T] get_Tail()</td></tr><tr><td>Message</td><td>The input list was empty.</td></tr><tr><td>Data</td><td>[  ]</td></tr><tr><td>InnerException</td><td><div class=\"dni-plaintext\"><pre>&lt;null&gt;</pre></div></td></tr><tr><td>HelpLink</td><td><div class=\"dni-plaintext\"><pre>&lt;null&gt;</pre></div></td></tr><tr><td>Source</td><td>FSharp.Core</td></tr><tr><td>HResult</td><td>-2146233079</td></tr><tr><td>StackTrace</td><td>   at Microsoft.FSharp.Collections.FSharpList`1.get_Tail() in D:\\a\\_work\\1\\s\\src\\FSharp.Core\\prim-types.fs:line 4146\r\n",
       "   at lambda_method777(Closure, FSharpList`1)\r\n",
       "   at Microsoft.DotNet.Interactive.Formatting.MemberAccessor`1.GetValueOrException(T instance) in D:\\a\\_work\\1\\s\\src\\Microsoft.DotNet.Interactive.Formatting\\MemberAccessor{T}.cs:line 58</td></tr></tbody></table></div></details></td></tr><tr><td><i>(values)</i></td><td><div class=\"dni-plaintext\"><pre>[  ]</pre></div></td></tr></tbody></table></div></details></td></tr><tr><td><i>(values)</i></td><td><div class=\"dni-plaintext\"><pre>[ 354.5606174375 ]</pre></div></td></tr></tbody></table></div></details></td></tr><tr><td><i>(values)</i></td><td><div class=\"dni-plaintext\"><pre>[ 343.0856190625, 354.5606174375 ]</pre></div></td></tr></tbody></table></div></details></td></tr></tbody></table></div></details></td></tr><tr><td colspan=\"2\"><i>... (more)</i></td></tr></tbody></table></td></tr></tbody></table></div></details><style>\r\n",
       ".dni-code-hint {\r\n",
       "    font-style: italic;\r\n",
       "    overflow: hidden;\r\n",
       "    white-space: nowrap;\r\n",
       "}\r\n",
       ".dni-treeview {\r\n",
       "    white-space: nowrap;\r\n",
       "}\r\n",
       ".dni-treeview td {\r\n",
       "    vertical-align: top;\r\n",
       "    text-align: start;\r\n",
       "}\r\n",
       "details.dni-treeview {\r\n",
       "    padding-left: 1em;\r\n",
       "}\r\n",
       "table td {\r\n",
       "    text-align: start;\r\n",
       "}\r\n",
       "table tr { \r\n",
       "    vertical-align: top; \r\n",
       "    margin: 0em 0px;\r\n",
       "}\r\n",
       "table tr td pre \r\n",
       "{ \r\n",
       "    vertical-align: top !important; \r\n",
       "    margin: 0em 0px !important;\r\n",
       "} \r\n",
       "table th {\r\n",
       "    text-align: start;\r\n",
       "}\r\n",
       "</style>"
      ]
     },
     "metadata": {},
     "output_type": "display_data"
    }
   ],
   "source": [
    "let resample (interval : TimeSpan) (observations : (DateTime * decimal seq) seq) =\n",
    "    let groups = observations |> Seq.groupBy (fun (date, _) -> DateTime((date.Ticks / interval.Ticks) * interval.Ticks))\n",
    "    \n",
    "    let flattenByAverage =\n",
    "        Seq.reduce (fun acc next ->\n",
    "            (acc |> Seq.zip next)\n",
    "            |> Seq.map (fun (a, b) -> (a + b) * decimal 0.5)\n",
    "        )\n",
    "\n",
    "    let flattenByTakeFirst = Seq.head\n",
    "\n",
    "    groups\n",
    "    |> Seq.map (fun (key, group) ->\n",
    "        key,\n",
    "        let rows = group |> Seq.map snd\n",
    "        flattenByAverage rows\n",
    "    )\n",
    "\n",
    "let print observations = observations |> Array.ofSeq |> Seq.map (fun (date, cols) -> date, List.ofSeq cols)\n",
    "\n",
    "msft.Rows\n",
    "    |> Seq.map (fun row -> row.Date, seq { row.Low; row.High })\n",
    "    |> resample (TimeSpan.FromDays 7)\n",
    "    |> print"
   ]
  },
  {
   "cell_type": "markdown",
   "id": "1c7a84e3",
   "metadata": {},
   "source": [
    "If you do need access to a data frame, it's pretty trivial to import data into a `DataFrame` using Deedle and perform operations on it. You won't get the helpful IntelliSense hints informing you of valid navigations, and you won'll get most type errors at runtime instead of compile time, but the errors should be clearer in most cases."
   ]
  },
  {
   "cell_type": "code",
   "execution_count": 37,
   "metadata": {
    "dotnet_interactive": {
     "language": "fsharp"
    },
    "polyglot_notebook": {
     "kernelName": "fsharp"
    }
   },
   "outputs": [
    {
     "data": {
      "text/html": [
       "<div><div></div><div></div><div><strong>Installed Packages</strong><ul><li><span>Deedle, 3.0.0</span></li></ul></div></div>"
      ]
     },
     "metadata": {},
     "output_type": "display_data"
    }
   ],
   "source": [
    "#r \"nuget: Deedle\""
   ]
  },
  {
   "cell_type": "code",
   "execution_count": 60,
   "metadata": {
    "dotnet_interactive": {
     "language": "fsharp"
    },
    "polyglot_notebook": {
     "kernelName": "fsharp"
    }
   },
   "outputs": [
    {
     "name": "stdout",
     "output_type": "stream",
     "text": [
      "                         Open       High       Low        Close      Adj Close  Volume   \r\n",
      "3/6/2023 12:00:00 AM  -> 256.429993 260.119995 255.979996 256.869995 254.778961 24109800 \r\n",
      "3/7/2023 12:00:00 AM  -> 256.299988 257.690002 253.389999 254.149994 252.081100 21473200 \r\n",
      "3/8/2023 12:00:00 AM  -> 254.039993 254.539993 250.809998 253.699997 251.634750 17340200 \r\n",
      "3/9/2023 12:00:00 AM  -> 255.820007 259.559998 251.580002 252.320007 250.266006 26653400 \r\n",
      "3/10/2023 12:00:00 AM -> 251.080002 252.789993 247.600006 248.589996 246.566345 28333900 \r\n",
      "3/13/2023 12:00:00 AM -> 247.399994 257.910004 245.729996 253.919998 251.852951 33339700 \r\n",
      "3/14/2023 12:00:00 AM -> 256.750000 261.070007 255.860001 260.790009 258.667053 33620300 \r\n",
      "3/15/2023 12:00:00 AM -> 259.980011 266.480011 259.209991 265.440002 263.279175 46028000 \r\n",
      "3/16/2023 12:00:00 AM -> 265.209991 276.559998 263.279999 276.200012 273.951630 54768800 \r\n",
      "3/17/2023 12:00:00 AM -> 278.260010 283.329987 276.320007 279.429993 277.155304 69527400 \r\n",
      "3/20/2023 12:00:00 AM -> 276.980011 277.480011 269.850006 272.230011 270.013885 43466600 \r\n",
      "3/21/2023 12:00:00 AM -> 274.880005 275.000000 269.519989 273.779999 271.551300 34558700 \r\n",
      "3/22/2023 12:00:00 AM -> 273.399994 281.040009 272.179993 272.290009 270.073425 34873300 \r\n",
      "3/23/2023 12:00:00 AM -> 277.940002 281.059998 275.200012 277.660004 275.399719 36610900 \r\n",
      "3/24/2023 12:00:00 AM -> 277.239990 280.630005 275.279999 280.570007 278.286041 28172000 \r\n",
      ":                        ...        ...        ...        ...        ...        ...      \r\n",
      "2/14/2024 12:00:00 AM -> 408.070007 409.839996 404.570007 409.489990 409.489990 20401200 \r\n",
      "2/15/2024 12:00:00 AM -> 408.140015 409.130005 404.290009 406.559998 406.559998 21825500 \r\n",
      "2/16/2024 12:00:00 AM -> 407.959991 408.290009 403.440002 404.059998 404.059998 22281100 \r\n",
      "2/20/2024 12:00:00 AM -> 403.239990 404.489990 398.010010 402.790009 402.790009 24307900 \r\n",
      "2/21/2024 12:00:00 AM -> 400.170013 402.290009 397.220001 402.179993 402.179993 18631100 \r\n",
      "2/22/2024 12:00:00 AM -> 410.190002 412.829987 408.570007 411.649994 411.649994 27009900 \r\n",
      "2/23/2024 12:00:00 AM -> 415.670013 415.859985 408.970001 410.339996 410.339996 16295900 \r\n",
      "2/26/2024 12:00:00 AM -> 411.459991 412.160004 407.359985 407.540009 407.540009 16193500 \r\n",
      "2/27/2024 12:00:00 AM -> 407.989990 408.320007 403.850006 407.480011 407.480011 14835800 \r\n",
      "2/28/2024 12:00:00 AM -> 408.179993 409.299988 405.320007 407.720001 407.720001 13183100 \r\n",
      "2/29/2024 12:00:00 AM -> 408.640015 414.200012 405.920013 413.640015 413.640015 31947300 \r\n",
      "3/1/2024 12:00:00 AM  -> 411.269989 415.869995 410.880005 415.500000 415.500000 17800300 \r\n",
      "3/4/2024 12:00:00 AM  -> 413.440002 417.350006 412.320007 414.920013 414.920013 17596000 \r\n",
      "3/5/2024 12:00:00 AM  -> 413.959991 414.250000 400.640015 402.649994 402.649994 26919200 \r\n",
      "3/6/2024 12:00:00 AM  -> 402.970001 405.160004 398.390015 402.089996 402.089996 22344100 \r\n",
      "\r\n"
     ]
    }
   ],
   "source": [
    "open System.Net\n",
    "open System.Net.Http\n",
    "open Deedle\n",
    "\n",
    "[<Literal>]\n",
    "let url = \"http://query1.finance.yahoo.com/v7/finance/download/MSFT?period1=1678116713&period2=1709739113&interval=1d&events=history&includeAdjustedClose=true\"\n",
    "let frame = \n",
    "    Frame.ReadCsv((new HttpClient()).GetStreamAsync(url).Result)\n",
    "    |> Frame.indexRowsDate \"Date\"\n",
    "\n",
    "frame.Print()"
   ]
  },
  {
   "cell_type": "code",
   "execution_count": 74,
   "metadata": {
    "dotnet_interactive": {
     "language": "fsharp"
    },
    "polyglot_notebook": {
     "kernelName": "fsharp"
    }
   },
   "outputs": [
    {
     "name": "stdout",
     "output_type": "stream",
     "text": [
      "3/6/2023 12:00:00 AM   -> 251.8720002        \r\n",
      "3/13/2023 12:00:00 AM  -> 260.0799988        \r\n",
      "3/20/2023 12:00:00 AM  -> 272.40599979999996 \r\n",
      "3/27/2023 12:00:00 AM  -> 278.0919984        \r\n",
      "4/3/2023 12:00:00 AM   -> 283.64250925       \r\n",
      "4/10/2023 12:00:00 AM  -> 283.0340024        \r\n",
      "4/17/2023 12:00:00 AM  -> 285.17000160000003 \r\n",
      "4/24/2023 12:00:00 AM  -> 289.076001         \r\n",
      "5/1/2023 12:00:00 AM   -> 304.1639953999999  \r\n",
      "5/8/2023 12:00:00 AM   -> 306.58600459999997 \r\n",
      "5/15/2023 12:00:00 AM  -> 311.6499938        \r\n",
      "5/22/2023 12:00:00 AM  -> 317.95             \r\n",
      "5/29/2023 12:00:00 AM  -> 328.77999124999997 \r\n",
      "6/5/2023 12:00:00 AM   -> 327.41800539999997 \r\n",
      "6/12/2023 12:00:00 AM  -> 333.5020082        \r\n",
      "...                    -> ...                \r\n",
      "11/27/2023 12:00:00 AM -> 375.7160034        \r\n",
      "12/4/2023 12:00:00 AM  -> 366.2200012        \r\n",
      "12/11/2023 12:00:00 AM -> 367.547998         \r\n",
      "12/18/2023 12:00:00 AM -> 370.3599976        \r\n",
      "12/25/2023 12:00:00 AM -> 373.48750325000003 \r\n",
      "1/1/2024 12:00:00 AM   -> 367.237503         \r\n",
      "1/8/2024 12:00:00 AM   -> 376.31000359999996 \r\n",
      "1/15/2024 12:00:00 AM  -> 389.012497         \r\n",
      "1/22/2024 12:00:00 AM  -> 398.5859986        \r\n",
      "1/29/2024 12:00:00 AM  -> 402.6699952        \r\n",
      "2/5/2024 12:00:00 AM   -> 408.3839966        \r\n",
      "2/12/2024 12:00:00 AM  -> 406.0880066        \r\n",
      "2/19/2024 12:00:00 AM  -> 403.19250475       \r\n",
      "2/26/2024 12:00:00 AM  -> 406.6660032        \r\n",
      "3/4/2024 12:00:00 AM   -> 403.78334566666666 \r\n",
      "\r\n"
     ]
    }
   ],
   "source": [
    "let a = \n",
    "    frame?Low\n",
    "    |> Series.sampleTime (TimeSpan.FromDays 7) Direction.Forward\n",
    "    |> Series.mapValues (fun v -> Stats.mean v)\n",
    "a.Print()"
   ]
  },
  {
   "cell_type": "markdown",
   "id": "847996f6",
   "metadata": {},
   "source": [
    "First, let's spin up a connection to our Python Jupyter kernel! (Yes we can do this with Polyglot Notebooks and it's awesome!!)"
   ]
  },
  {
   "cell_type": "code",
   "execution_count": 25,
   "id": "1b54c432",
   "metadata": {
    "dotnet_interactive": {
     "language": "value"
    },
    "polyglot_notebook": {
     "kernelName": "value"
    }
   },
   "outputs": [
    {
     "ename": "Error",
     "evalue": "System.NullReferenceException: Object reference not set to an instance of an object.\r\n   at Microsoft.DotNet.Interactive.KeyValueStoreKernel.Microsoft.DotNet.Interactive.IKernelCommandHandler<Microsoft.DotNet.Interactive.Commands.SubmitCode>.HandleAsync(SubmitCode command, KernelInvocationContext context) in D:\\a\\_work\\1\\s\\src\\Microsoft.DotNet.Interactive\\KeyValueStoreKernel.cs:line 79\r\n   at Microsoft.DotNet.Interactive.Kernel.HandleAsync(KernelCommand command, KernelInvocationContext context) in D:\\a\\_work\\1\\s\\src\\Microsoft.DotNet.Interactive\\Kernel.cs:line 330\r\n   at Microsoft.DotNet.Interactive.KernelCommandPipeline.<BuildPipeline>b__6_0(KernelCommand command, KernelInvocationContext context, KernelPipelineContinuation _) in D:\\a\\_work\\1\\s\\src\\Microsoft.DotNet.Interactive\\KernelCommandPipeline.cs:line 60\r\n   at Microsoft.DotNet.Interactive.KernelCommandPipeline.SendAsync(KernelCommand command, KernelInvocationContext context) in D:\\a\\_work\\1\\s\\src\\Microsoft.DotNet.Interactive\\KernelCommandPipeline.cs:line 41",
     "output_type": "error",
     "traceback": [
      "System.NullReferenceException: Object reference not set to an instance of an object.\r\n",
      "   at Microsoft.DotNet.Interactive.KeyValueStoreKernel.Microsoft.DotNet.Interactive.IKernelCommandHandler<Microsoft.DotNet.Interactive.Commands.SubmitCode>.HandleAsync(SubmitCode command, KernelInvocationContext context) in D:\\a\\_work\\1\\s\\src\\Microsoft.DotNet.Interactive\\KeyValueStoreKernel.cs:line 79\r\n",
      "   at Microsoft.DotNet.Interactive.Kernel.HandleAsync(KernelCommand command, KernelInvocationContext context) in D:\\a\\_work\\1\\s\\src\\Microsoft.DotNet.Interactive\\Kernel.cs:line 330\r\n",
      "   at Microsoft.DotNet.Interactive.KernelCommandPipeline.<BuildPipeline>b__6_0(KernelCommand command, KernelInvocationContext context, KernelPipelineContinuation _) in D:\\a\\_work\\1\\s\\src\\Microsoft.DotNet.Interactive\\KernelCommandPipeline.cs:line 60\r\n",
      "   at Microsoft.DotNet.Interactive.KernelCommandPipeline.SendAsync(KernelCommand command, KernelInvocationContext context) in D:\\a\\_work\\1\\s\\src\\Microsoft.DotNet.Interactive\\KernelCommandPipeline.cs:line 41"
     ]
    }
   ],
   "source": []
  },
  {
   "cell_type": "markdown",
   "id": "9cf7822d",
   "metadata": {},
   "source": [
    "[pandas](https://pandas.pydata.org/) is a data manipulation and analysis library that provides a class called `DataFrame`. We can install it using Python's default package manager, `pip`."
   ]
  },
  {
   "cell_type": "code",
   "execution_count": 26,
   "id": "3acce92c",
   "metadata": {
    "dotnet_interactive": {
     "language": "pythonkernel"
    },
    "polyglot_notebook": {
     "kernelName": "pythonkernel"
    }
   },
   "outputs": [
    {
     "name": "stdout",
     "output_type": "stream",
     "text": [
      "Requirement already satisfied: pandas in c:\\python311\\lib\\site-packages (2.2.1)\n",
      "Requirement already satisfied: numpy<2,>=1.23.2 in c:\\python311\\lib\\site-packages (from pandas) (1.26.1)\n",
      "Requirement already satisfied: python-dateutil>=2.8.2 in c:\\users\\retru\\appdata\\roaming\\python\\python311\\site-packages (from pandas) (2.8.2)\n",
      "Requirement already satisfied: pytz>=2020.1 in c:\\python311\\lib\\site-packages (from pandas) (2024.1)\n",
      "Requirement already satisfied: tzdata>=2022.7 in c:\\python311\\lib\\site-packages (from pandas) (2024.1)\n",
      "Requirement already satisfied: six>=1.5 in c:\\users\\retru\\appdata\\roaming\\python\\python311\\site-packages (from python-dateutil>=2.8.2->pandas) (1.16.0)\n",
      "Note: you may need to restart the kernel to use updated packages.\n"
     ]
    },
    {
     "name": "stderr",
     "output_type": "stream",
     "text": [
      "\n",
      "[notice] A new release of pip is available: 23.3.2 -> 24.0\n",
      "[notice] To update, run: python.exe -m pip install --upgrade pip\n"
     ]
    }
   ],
   "source": [
    "pip install pandas"
   ]
  },
  {
   "cell_type": "markdown",
   "id": "8caf27ed",
   "metadata": {},
   "source": [
    "It's very easy to import and print a CSV into a `DataFrame` in Python: "
   ]
  },
  {
   "cell_type": "code",
   "execution_count": 27,
   "id": "7c56ae3e",
   "metadata": {
    "dotnet_interactive": {
     "language": "pythonkernel"
    },
    "polyglot_notebook": {
     "kernelName": "pythonkernel"
    }
   },
   "outputs": [
    {
     "data": {
      "text/html": [
       "<div>\n",
       "<style scoped>\n",
       "    .dataframe tbody tr th:only-of-type {\n",
       "        vertical-align: middle;\n",
       "    }\n",
       "\n",
       "    .dataframe tbody tr th {\n",
       "        vertical-align: top;\n",
       "    }\n",
       "\n",
       "    .dataframe thead th {\n",
       "        text-align: right;\n",
       "    }\n",
       "</style>\n",
       "<table border=\"1\" class=\"dataframe\">\n",
       "  <thead>\n",
       "    <tr style=\"text-align: right;\">\n",
       "      <th></th>\n",
       "      <th>Open</th>\n",
       "      <th>High</th>\n",
       "      <th>Low</th>\n",
       "      <th>Close</th>\n",
       "      <th>Adj Close</th>\n",
       "      <th>Volume</th>\n",
       "    </tr>\n",
       "    <tr>\n",
       "      <th>Date</th>\n",
       "      <th></th>\n",
       "      <th></th>\n",
       "      <th></th>\n",
       "      <th></th>\n",
       "      <th></th>\n",
       "      <th></th>\n",
       "    </tr>\n",
       "  </thead>\n",
       "  <tbody>\n",
       "    <tr>\n",
       "      <th>2023-03-06</th>\n",
       "      <td>256.429993</td>\n",
       "      <td>260.119995</td>\n",
       "      <td>255.979996</td>\n",
       "      <td>256.869995</td>\n",
       "      <td>254.778961</td>\n",
       "      <td>24109800</td>\n",
       "    </tr>\n",
       "    <tr>\n",
       "      <th>2023-03-07</th>\n",
       "      <td>256.299988</td>\n",
       "      <td>257.690002</td>\n",
       "      <td>253.389999</td>\n",
       "      <td>254.149994</td>\n",
       "      <td>252.081085</td>\n",
       "      <td>21473200</td>\n",
       "    </tr>\n",
       "    <tr>\n",
       "      <th>2023-03-08</th>\n",
       "      <td>254.039993</td>\n",
       "      <td>254.539993</td>\n",
       "      <td>250.809998</td>\n",
       "      <td>253.699997</td>\n",
       "      <td>251.634735</td>\n",
       "      <td>17340200</td>\n",
       "    </tr>\n",
       "    <tr>\n",
       "      <th>2023-03-09</th>\n",
       "      <td>255.820007</td>\n",
       "      <td>259.559998</td>\n",
       "      <td>251.580002</td>\n",
       "      <td>252.320007</td>\n",
       "      <td>250.265991</td>\n",
       "      <td>26653400</td>\n",
       "    </tr>\n",
       "    <tr>\n",
       "      <th>2023-03-10</th>\n",
       "      <td>251.080002</td>\n",
       "      <td>252.789993</td>\n",
       "      <td>247.600006</td>\n",
       "      <td>248.589996</td>\n",
       "      <td>246.566360</td>\n",
       "      <td>28333900</td>\n",
       "    </tr>\n",
       "    <tr>\n",
       "      <th>...</th>\n",
       "      <td>...</td>\n",
       "      <td>...</td>\n",
       "      <td>...</td>\n",
       "      <td>...</td>\n",
       "      <td>...</td>\n",
       "      <td>...</td>\n",
       "    </tr>\n",
       "    <tr>\n",
       "      <th>2024-02-29</th>\n",
       "      <td>408.640015</td>\n",
       "      <td>414.200012</td>\n",
       "      <td>405.920013</td>\n",
       "      <td>413.640015</td>\n",
       "      <td>413.640015</td>\n",
       "      <td>31947300</td>\n",
       "    </tr>\n",
       "    <tr>\n",
       "      <th>2024-03-01</th>\n",
       "      <td>411.269989</td>\n",
       "      <td>415.869995</td>\n",
       "      <td>410.880005</td>\n",
       "      <td>415.500000</td>\n",
       "      <td>415.500000</td>\n",
       "      <td>17800300</td>\n",
       "    </tr>\n",
       "    <tr>\n",
       "      <th>2024-03-04</th>\n",
       "      <td>413.440002</td>\n",
       "      <td>417.350006</td>\n",
       "      <td>412.320007</td>\n",
       "      <td>414.920013</td>\n",
       "      <td>414.920013</td>\n",
       "      <td>17596000</td>\n",
       "    </tr>\n",
       "    <tr>\n",
       "      <th>2024-03-05</th>\n",
       "      <td>413.959991</td>\n",
       "      <td>414.250000</td>\n",
       "      <td>400.640015</td>\n",
       "      <td>402.649994</td>\n",
       "      <td>402.649994</td>\n",
       "      <td>26919200</td>\n",
       "    </tr>\n",
       "    <tr>\n",
       "      <th>2024-03-06</th>\n",
       "      <td>402.970001</td>\n",
       "      <td>405.160004</td>\n",
       "      <td>398.390015</td>\n",
       "      <td>402.089996</td>\n",
       "      <td>402.089996</td>\n",
       "      <td>22344100</td>\n",
       "    </tr>\n",
       "  </tbody>\n",
       "</table>\n",
       "<p>253 rows × 6 columns</p>\n",
       "</div>"
      ],
      "text/plain": [
       "                  Open        High         Low       Close   Adj Close  \\\n",
       "Date                                                                     \n",
       "2023-03-06  256.429993  260.119995  255.979996  256.869995  254.778961   \n",
       "2023-03-07  256.299988  257.690002  253.389999  254.149994  252.081085   \n",
       "2023-03-08  254.039993  254.539993  250.809998  253.699997  251.634735   \n",
       "2023-03-09  255.820007  259.559998  251.580002  252.320007  250.265991   \n",
       "2023-03-10  251.080002  252.789993  247.600006  248.589996  246.566360   \n",
       "...                ...         ...         ...         ...         ...   \n",
       "2024-02-29  408.640015  414.200012  405.920013  413.640015  413.640015   \n",
       "2024-03-01  411.269989  415.869995  410.880005  415.500000  415.500000   \n",
       "2024-03-04  413.440002  417.350006  412.320007  414.920013  414.920013   \n",
       "2024-03-05  413.959991  414.250000  400.640015  402.649994  402.649994   \n",
       "2024-03-06  402.970001  405.160004  398.390015  402.089996  402.089996   \n",
       "\n",
       "              Volume  \n",
       "Date                  \n",
       "2023-03-06  24109800  \n",
       "2023-03-07  21473200  \n",
       "2023-03-08  17340200  \n",
       "2023-03-09  26653400  \n",
       "2023-03-10  28333900  \n",
       "...              ...  \n",
       "2024-02-29  31947300  \n",
       "2024-03-01  17800300  \n",
       "2024-03-04  17596000  \n",
       "2024-03-05  26919200  \n",
       "2024-03-06  22344100  \n",
       "\n",
       "[253 rows x 6 columns]"
      ]
     },
     "metadata": {},
     "output_type": "display_data"
    }
   ],
   "source": [
    "import pandas as pd\n",
    "\n",
    "# Read the CSV file into a Pandas DataFrame\n",
    "df = pd.read_csv(\"http://query1.finance.yahoo.com/v7/finance/download/MSFT?period1=1678116713&period2=1709739113&interval=1d&events=history&includeAdjustedClose=true\",\n",
    "    # Notice, however, we have to know information about our file\n",
    "    index_col=\"Date\",\n",
    "    parse_dates=[0])\n",
    "\n",
    "df"
   ]
  },
  {
   "cell_type": "markdown",
   "id": "2b3f6715",
   "metadata": {},
   "source": [
    "Manipulating data in a tabular format in the pandas domain of `DataFrame` and `Series` is pretty simple, given you know what data you're dealing with. However, it requires you to be aware of what types you're dealing with at all times. For example, these two bits of code do drastically different things:"
   ]
  },
  {
   "cell_type": "code",
   "execution_count": 28,
   "id": "6c6b4a24",
   "metadata": {
    "dotnet_interactive": {
     "language": "pythonkernel"
    },
    "polyglot_notebook": {
     "kernelName": "pythonkernel"
    }
   },
   "outputs": [
    {
     "data": {
      "text/plain": [
       "Date\n",
       "2023-03-06     4.139999\n",
       "2023-03-07     4.300003\n",
       "2023-03-08     3.729995\n",
       "2023-03-09     7.979996\n",
       "2023-03-10     5.189987\n",
       "                ...    \n",
       "2024-02-29     8.279999\n",
       "2024-03-01     4.989990\n",
       "2024-03-04     5.029999\n",
       "2024-03-05    13.609985\n",
       "2024-03-06     6.769989\n",
       "Name: Range, Length: 253, dtype: float64"
      ]
     },
     "metadata": {},
     "output_type": "display_data"
    }
   ],
   "source": [
    "Range = df[\"High\"] - df[\"Low\"] # Sets a variable of type `pandas.DataFrame` to the name `Range`\n",
    "df[\"Range\"] = df[\"High\"] - df[\"Low\"] # Sets data frame defined by expression to `Range` index of `df` \n",
    "\n",
    "df.Range"
   ]
  },
  {
   "cell_type": "markdown",
   "id": "1640fd54",
   "metadata": {},
   "source": [
    "This might be painfully obvious to some, but it's a problem that can easily compound - especially when interacting with the rest of the Python ecosystem or when dealing with complex data types."
   ]
  },
  {
   "cell_type": "markdown",
   "id": "3239ec17",
   "metadata": {},
   "source": [
    "One way to resolve this problem is to incorporate data types and names into your language using types. Here's an example with C# and `CsvHelper`:"
   ]
  },
  {
   "cell_type": "code",
   "execution_count": 29,
   "id": "fc2fddc3",
   "metadata": {
    "dotnet_interactive": {
     "language": "csharp"
    },
    "polyglot_notebook": {
     "kernelName": "csharp"
    }
   },
   "outputs": [
    {
     "data": {
      "text/html": [
       "<div><div></div><div></div><div><strong>Installed Packages</strong><ul><li><span>CsvHelper, 31.0.2</span></li></ul></div></div>"
      ]
     },
     "metadata": {},
     "output_type": "display_data"
    }
   ],
   "source": [
    "#r \"nuget: CsvHelper\""
   ]
  },
  {
   "cell_type": "code",
   "execution_count": 30,
   "id": "ef42f99e",
   "metadata": {
    "dotnet_interactive": {
     "language": "csharp"
    },
    "polyglot_notebook": {
     "kernelName": "csharp"
    }
   },
   "outputs": [
    {
     "data": {
      "text/html": [
       "<div class=\"dni-plaintext\"><pre>[ 4.1399994, 4.300003, 3.7299957, 7.9799957, 5.189987, 12.180008, 5.2100067, 7.2700195, 13.279999, 7.0099792, 7.630005, 5.480011, 8.860016, 5.8599854, 5.350006, 5.9400024, 4.090027, 2.730011, 2.9799805, 6.269989 ... (more) ]</pre></div><style>\r\n",
       ".dni-code-hint {\r\n",
       "    font-style: italic;\r\n",
       "    overflow: hidden;\r\n",
       "    white-space: nowrap;\r\n",
       "}\r\n",
       ".dni-treeview {\r\n",
       "    white-space: nowrap;\r\n",
       "}\r\n",
       ".dni-treeview td {\r\n",
       "    vertical-align: top;\r\n",
       "    text-align: start;\r\n",
       "}\r\n",
       "details.dni-treeview {\r\n",
       "    padding-left: 1em;\r\n",
       "}\r\n",
       "table td {\r\n",
       "    text-align: start;\r\n",
       "}\r\n",
       "table tr { \r\n",
       "    vertical-align: top; \r\n",
       "    margin: 0em 0px;\r\n",
       "}\r\n",
       "table tr td pre \r\n",
       "{ \r\n",
       "    vertical-align: top !important; \r\n",
       "    margin: 0em 0px !important;\r\n",
       "} \r\n",
       "table th {\r\n",
       "    text-align: start;\r\n",
       "}\r\n",
       "</style>"
      ]
     },
     "metadata": {},
     "output_type": "display_data"
    }
   ],
   "source": [
    "using System.IO;\n",
    "using System.Net.Http;\n",
    "using System.Globalization;\n",
    "using CsvHelper;\n",
    "using CsvHelper.Configuration.Attributes;\n",
    "\n",
    "IList<Foo> records = null;\n",
    "\n",
    "{\n",
    "    string url = \"http://query1.finance.yahoo.com/v7/finance/download/MSFT?period1=1678116713&period2=1709739113&interval=1d&events=history&includeAdjustedClose=true\";\n",
    "    using StreamReader reader = new((new HttpClient()).GetStreamAsync(url).Result);\n",
    "    using CsvReader csv = new(reader, CultureInfo.InvariantCulture);\n",
    "    records = csv.GetRecords<Foo>().ToList();\n",
    "}\n",
    "\n",
    "public class Foo\n",
    "{\n",
    "    public DateTime Date { get; set; }\n",
    "    public float Open { get; set; }\n",
    "    public float High { get; set; }\n",
    "    public float Low { get; set; }\n",
    "    public float Close { get; set; }\n",
    "    [Name(\"Adj Close\")]\n",
    "    public float AdjClose { get; set; }\n",
    "    public float Volume { get; set; }\n",
    "}\n",
    "\n",
    "records.Select(r => r.High - r.Low)"
   ]
  },
  {
   "cell_type": "markdown",
   "id": "d2109f63",
   "metadata": {},
   "source": [
    "This makes it easier to navigate the data we're importing, as the structure of our data becomes part of the language. We can't accidentally use `AdjustedClose` instead of `AdjClose`, and if we do, our program won't compile and will tell us exactly where the problem is."
   ]
  },
  {
   "cell_type": "markdown",
   "id": "9ceee67f",
   "metadata": {},
   "source": [
    "It's a bit inconvenient though... isn't it? We have to manually define the structure of the data we're importing in our program. If we're dealing with a huge dataset, we *can* just ignore some columns, but if we want to take advantage of navigating a huge dataset easily, it still puts the work of doing that upfront."
   ]
  },
  {
   "cell_type": "markdown",
   "id": "9425c085",
   "metadata": {},
   "source": [
    "Fortunately, we can use a package called [FSharp.Data](https://fsprojects.github.io/FSharp.Data) which makes convenient use of an F# feature called *type providers* that can incrementally incorporate code and data into our compilation process."
   ]
  },
  {
   "cell_type": "markdown",
   "id": "cec45c1b",
   "metadata": {},
   "source": [
    "There's a lot more that could be said about types, but this preliminary discussion is mostly to demonstrate the amazing benefit of type providers.\n",
    "\n",
    "Let's create a type using `CsvProvider` and our data source:"
   ]
  },
  {
   "cell_type": "code",
   "execution_count": 31,
   "id": "817e6c70",
   "metadata": {
    "dotnet_interactive": {
     "language": "fsharp"
    },
    "polyglot_notebook": {
     "kernelName": "fsharp"
    }
   },
   "outputs": [],
   "source": [
    "open FSharp.Data\n",
    "// open Plotly.NET\n",
    "\n",
    "[<Literal>]\n",
    "let uri = \"http://query1.finance.yahoo.com/v7/finance/download/MSFT?period1=1678116713&period2=1709739113&interval=1d&events=history&includeAdjustedClose=true\"\n",
    "\n",
    "// pass the type provider your data\n",
    "// (usually you'd pass a smaller, local file on your hard drive with the same structure)\n",
    "type Stocks = CsvProvider<uri>\n",
    "\n",
    "type Frame(stocks : Stocks) =\n",
    "    member _.Item\n",
    "        with get (index) = stocks.Rows |> Seq.map index\n"
   ]
  },
  {
   "cell_type": "code",
   "execution_count": null,
   "id": "c78dcacd",
   "metadata": {
    "dotnet_interactive": {
     "language": "fsharp"
    },
    "polyglot_notebook": {
     "kernelName": "fsharp"
    }
   },
   "outputs": [],
   "source": [
    "module Stocks =\n",
    "    let column navigation (stocks : Stocks) = stocks.Rows |> Seq.map navigation"
   ]
  },
  {
   "cell_type": "code",
   "execution_count": null,
   "id": "4b605de5",
   "metadata": {
    "dotnet_interactive": {
     "language": "fsharp"
    },
    "polyglot_notebook": {
     "kernelName": "fsharp"
    }
   },
   "outputs": [],
   "source": [
    "let b : int seq = [3; 4]"
   ]
  },
  {
   "cell_type": "code",
   "execution_count": null,
   "id": "ff922795",
   "metadata": {
    "dotnet_interactive": {
     "language": "fsharp"
    },
    "polyglot_notebook": {
     "kernelName": "fsharp"
    }
   },
   "outputs": [],
   "source": [
    "open Stocks\n",
    "\n",
    "let stocks = Stocks.GetSample()\n",
    "let msftFrame = Frame(Stocks.GetSample())\n",
    "\n",
    "stocks |> column (fun row -> [row.High; row.Low])\n",
    "\n",
    "// // draw a chart with the sample data\n",
    "// Chart.Line(\n",
    "//     xy = [ for row in msft.Rows -> row.Date, row.High - row.Low ]\n",
    "// )"
   ]
  },
  {
   "cell_type": "code",
   "execution_count": null,
   "id": "4c47272f",
   "metadata": {
    "dotnet_interactive": {
     "language": "fsharp"
    },
    "polyglot_notebook": {
     "kernelName": "fsharp"
    }
   },
   "outputs": [],
   "source": [
    "let toList<'a> (maps : ('a -> 'b) list) (source : seq<'a>) =\n",
    "    [ for row in source -> [ for map in maps -> map row ] ]\n",
    "\n",
    "msft.Rows |> toList [_.Low; _.High]"
   ]
  },
  {
   "cell_type": "code",
   "execution_count": null,
   "id": "b3821fc9",
   "metadata": {
    "dotnet_interactive": {
     "language": "fsharp"
    },
    "polyglot_notebook": {
     "kernelName": "fsharp"
    }
   },
   "outputs": [],
   "source": [
    "let resample (interval : TimeSpan) (observations : (DateTime * decimal seq) seq) =\n",
    "    let groups = observations |> Seq.groupBy (fun (date, _) -> DateTime((date.Ticks / interval.Ticks) * interval.Ticks))\n",
    "    \n",
    "    let flattenByAverage =\n",
    "        Seq.reduce (fun acc next ->\n",
    "            (acc |> Seq.zip next)\n",
    "            |> Seq.map (fun (a, b) -> (a + b) * decimal 0.5)\n",
    "        )\n",
    "\n",
    "    let flattenByTakeFirst = Seq.head\n",
    "\n",
    "    groups\n",
    "    |> Seq.map (fun (key, group) ->\n",
    "        key,\n",
    "        let rows = group |> Seq.map snd\n",
    "        flattenByAverage rows\n",
    "    )\n",
    "\n",
    "let print observations = observations |> Array.ofSeq |> Seq.map (fun (date, cols) -> date, List.ofSeq cols)\n",
    "\n",
    "msft.Rows\n",
    "    |> Seq.map (fun row -> row.Date, seq { row.Low; row.High })\n",
    "    |> resample (TimeSpan.FromDays 7)\n",
    "    |> print"
   ]
  },
  {
   "cell_type": "markdown",
   "id": "b13091e2",
   "metadata": {},
   "source": [
    "Data access and manipulation is pretty simple in both languages, so why choose F#?"
   ]
  },
  {
   "cell_type": "markdown",
   "id": "96a0a716",
   "metadata": {},
   "source": [
    "One of the best features of F# is its type system. With F#, you get type inference like in TypeScript (but often better!), with the runtime-persistence of types you expect with C# and .NET, but the syntactical conciseness of Python.\n",
    "\n",
    "...That was a lot of words though, and it's not immediately apparent to new or non-programmers why all that is beneficial!"
   ]
  },
  {
   "cell_type": "markdown",
   "id": "4e40b637",
   "metadata": {},
   "source": [
    "The most apparent benefit of a strong and static type system is powerful \"IntelliSense\", or simply, the ability for your editor to be able to predict the next valid tokens you could input that would result in a valid program. This results in you - the programmer - hitting `Tab` a lot more but typing a lot less, which results in getting code written faster."
   ]
  },
  {
   "cell_type": "markdown",
   "id": "d6b43a7b",
   "metadata": {},
   "source": [
    "The benefits are going to be hard to show on the web version of this guide, but if you pop open [this source document](https://github.com/johnW-ret/fstandsforfun/blob/main/docs/index.ipynb), hit `.` to open vscode.dev, then open in VS Code desktop or create a new codespace in the browser, you can play around with the source code and see IntelliSense pop up as you edit.\n",
    "\n",
    "Alternatively, feel free to just read along and try all that later."
   ]
  },
  {
   "cell_type": "markdown",
   "id": "d5836634",
   "metadata": {},
   "source": [
    "I like to think of what you'd call *objects* in languages like Python or JavaScript as \"databags\". Their implementaton usually ends up as some form of a hash map."
   ]
  },
  {
   "cell_type": "code",
   "execution_count": null,
   "id": "b6086a48",
   "metadata": {
    "dotnet_interactive": {
     "language": "pythonkernel"
    },
    "polyglot_notebook": {
     "kernelName": "pythonkernel"
    }
   },
   "outputs": [],
   "source": [
    "# in python, as a dict\n",
    "person1 = { \"name\": \"Abby\" }\n",
    "person1[\"age\"] = 26\n",
    "person1[0] = \"AAA\"\n",
    "person1[\"0\"] = \"BBB\" # fun fact: note how 0 and \"0\" are different because Python is strongly-typed (even though it isn't statically typed)\n",
    "\n",
    "person1"
   ]
  },
  {
   "cell_type": "markdown",
   "id": "d176f6b3",
   "metadata": {},
   "source": [
    "What you would think of as *objects* are called *records* in F#. But there's a key difference: records are *immutable*, which means to make changes you have to make a new copy:"
   ]
  },
  {
   "cell_type": "code",
   "execution_count": null,
   "id": "0dcfbee1",
   "metadata": {
    "dotnet_interactive": {
     "language": "fsharp"
    },
    "polyglot_notebook": {
     "kernelName": "fsharp"
    }
   },
   "outputs": [],
   "source": [
    "let person1 = {| Name = \"Abby\" |}\n",
    "let person2 = {| person1 with Age = 26 |}\n",
    "\n",
    "person2"
   ]
  },
  {
   "cell_type": "markdown",
   "id": "d1acc050",
   "metadata": {},
   "source": [
    "This encourages a programming style where the *shape* of your data is provided up-front at object creation - you can't go after the fact and stick on or remove a bunch of marker fields. Likewise, any alterations to your object structure require you to redefine that structure (with the `with` keyword, as above).\n",
    "\n",
    "This means that any time you hit `.`, you know you're seeing the full picture of all data available on that record."
   ]
  },
  {
   "cell_type": "markdown",
   "id": "586489f0",
   "metadata": {},
   "source": [
    "If you know you're going to have more than one instance of some record of data (which is very often the case), creating a `type` allows you to tag a name to that structure:"
   ]
  },
  {
   "cell_type": "code",
   "execution_count": null,
   "id": "b4f1c572",
   "metadata": {
    "dotnet_interactive": {
     "language": "fsharp"
    },
    "polyglot_notebook": {
     "kernelName": "fsharp"
    }
   },
   "outputs": [],
   "source": [
    "type Person = { Name: string; Age: int }\n",
    "\n",
    "let person1 = { Name = \"Abby\"; Age = 26 } // inferred as Person\n",
    "let people = [ \n",
    "    { Name = \"Abby\"; Age = 26 }\n",
    "    { Name = \"Jeremy\"; Age = 14 }\n",
    "] // inferred as Person list"
   ]
  },
  {
   "cell_type": "code",
   "execution_count": null,
   "id": "3605af62",
   "metadata": {
    "dotnet_interactive": {
     "language": "csharp"
    },
    "polyglot_notebook": {
     "kernelName": "csharp"
    }
   },
   "outputs": [],
   "source": [
    "\n",
    "// ([ for idx in 0 .. (msft.NumberOfColumns - 1) ->\n",
    "//     msft.Headers.Value[idx] => Series.ofValues (msft.Rows |> Seq.map (fun a -> (a :> ITuple)[idx]))\n",
    "// ] |> frame).Print()\n"
   ]
  },
  {
   "cell_type": "code",
   "execution_count": null,
   "id": "f438b6ac",
   "metadata": {
    "dotnet_interactive": {
     "language": "fsharp"
    },
    "polyglot_notebook": {
     "kernelName": "fsharp"
    }
   },
   "outputs": [],
   "source": [
    "\n",
    "[ for country in stocks. stocks.Headers.Value -> \n",
    "      // Create two-level column key using tuple\n",
    "        country => \n",
    "        // Create series from tuples returned by WorldBank\n",
    "        Series.ofObservations country .Indicators.``GDP (current LCU)`` ]\n",
    "  |> frame\n",
    "\n",
    "frame (series [fb.Headers => fb.Rows])\n",
    "// let arrRows = fb.Rows |> Array.ofSeq\n",
    "// arrRows[0].Date"
   ]
  },
  {
   "cell_type": "code",
   "execution_count": null,
   "id": "59500639",
   "metadata": {
    "dotnet_interactive": {
     "language": "fsharp"
    },
    "polyglot_notebook": {
     "kernelName": "fsharp"
    }
   },
   "outputs": [],
   "source": [
    "[ for country in region.Countries -> \n",
    "      // Create two-level column key using tuple\n",
    "      (region.Name, country.Name) => \n",
    "        // Create series from tuples returned by WorldBank\n",
    "        Series.ofObservations country.Indicators.``GDP (current LCU)`` ]\n",
    "  |> frame"
   ]
  },
  {
   "cell_type": "markdown",
   "id": "442d2697",
   "metadata": {},
   "source": [
    "> ⚠️ This area specifically is under construction"
   ]
  },
  {
   "cell_type": "markdown",
   "id": "3a787c70",
   "metadata": {
    "dotnet_repl_cellExecutionEndTime": "2024-02-29T00:56:03.1088059-06:00",
    "dotnet_repl_cellExecutionStartTime": "2024-02-29T00:56:03.1084911-06:00"
   },
   "source": [
    "F# has a *very* useful feature called *partial application* which essentially allows you to partially apply some parameters to a function, then apply the rest later.\n",
    "\n",
    "Let's build a function that adds two numbers:"
   ]
  },
  {
   "cell_type": "code",
   "execution_count": null,
   "id": "7f2478f7",
   "metadata": {
    "dotnet_interactive": {
     "language": "fsharp"
    },
    "dotnet_repl_cellExecutionEndTime": "2024-02-29T00:56:03.1261477-06:00",
    "dotnet_repl_cellExecutionStartTime": "2024-02-29T00:56:03.1088284-06:00",
    "polyglot_notebook": {
     "kernelName": "fsharp"
    }
   },
   "outputs": [],
   "source": [
    "// we can start with our original function\n",
    "let add = (fun a -> a + 1)\n",
    "\n",
    "// but change `1` to `b`, which means wrapping our function with another one that defines `b`\n",
    "let add_1 = (fun b -> (fun a -> a + b))\n",
    "\n",
    "add_1 2 3"
   ]
  },
  {
   "cell_type": "markdown",
   "id": "8d19213d",
   "metadata": {
    "dotnet_repl_cellExecutionEndTime": "2024-02-29T00:56:03.1265103-06:00",
    "dotnet_repl_cellExecutionStartTime": "2024-02-29T00:56:03.1261746-06:00"
   },
   "source": [
    "It might make intuitive sense that we can call `add_1` with only one parameter. After all, it only takes one parameter, so it would make sense that it would evaluate to its body (now `fun a -> a + 2`)! Mouse over `add2To` to confirm its type is `int -> int`."
   ]
  },
  {
   "cell_type": "code",
   "execution_count": null,
   "id": "0d12b0c4",
   "metadata": {
    "dotnet_interactive": {
     "language": "fsharp"
    },
    "dotnet_repl_cellExecutionEndTime": "2024-02-29T00:56:03.1374489-06:00",
    "dotnet_repl_cellExecutionStartTime": "2024-02-29T00:56:03.1265308-06:00",
    "polyglot_notebook": {
     "kernelName": "fsharp"
    }
   },
   "outputs": [],
   "source": [
    "let add2To = add_1 2"
   ]
  },
  {
   "cell_type": "markdown",
   "id": "8b98a830",
   "metadata": {
    "dotnet_repl_cellExecutionEndTime": "2024-02-29T00:56:03.1378311-06:00",
    "dotnet_repl_cellExecutionStartTime": "2024-02-29T00:56:03.1374808-06:00"
   },
   "source": [
    "The magic is that *all* F# functions are able to work this way. We can rewrite our `add_1` like so, but maintain the same functionality:"
   ]
  },
  {
   "cell_type": "code",
   "execution_count": null,
   "id": "d1c5e45f",
   "metadata": {
    "dotnet_interactive": {
     "language": "fsharp"
    },
    "dotnet_repl_cellExecutionEndTime": "2024-02-29T00:56:03.1458445-06:00",
    "dotnet_repl_cellExecutionStartTime": "2024-02-29T00:56:03.1378456-06:00",
    "polyglot_notebook": {
     "kernelName": "fsharp"
    }
   },
   "outputs": [],
   "source": [
    "let add_1 = fun b a -> a + b\n",
    "let add5To = add_1 5\n",
    "add5To 3"
   ]
  },
  {
   "cell_type": "markdown",
   "id": "238873a1",
   "metadata": {
    "dotnet_repl_cellExecutionEndTime": "2024-02-29T00:56:03.146192-06:00",
    "dotnet_repl_cellExecutionStartTime": "2024-02-29T00:56:03.1458694-06:00"
   },
   "source": [
    "In fact, that's not all. If we're binding a `fun` to a name, we can drop the ceremony of using `fun` (this is a bit jarring to get used to but looks a lot cleaner in practice):"
   ]
  },
  {
   "cell_type": "code",
   "execution_count": null,
   "id": "3b414245",
   "metadata": {
    "dotnet_interactive": {
     "language": "fsharp"
    },
    "dotnet_repl_cellExecutionEndTime": "2024-02-29T00:56:03.156547-06:00",
    "dotnet_repl_cellExecutionStartTime": "2024-02-29T00:56:03.1462067-06:00",
    "polyglot_notebook": {
     "kernelName": "fsharp"
    }
   },
   "outputs": [],
   "source": [
    "let add_1 b a = a + b // The type of `add_1` is still `int -> int -> int`!"
   ]
  },
  {
   "cell_type": "markdown",
   "id": "e65d1472",
   "metadata": {},
   "source": [
    "Let's use [this Plotly.NET example](https://plotly.net/simple-charts/range-plots.html) to map some data using functions and `let` bindings: "
   ]
  },
  {
   "cell_type": "code",
   "execution_count": null,
   "id": "414904b8",
   "metadata": {
    "dotnet_interactive": {
     "language": "fsharp"
    },
    "polyglot_notebook": {
     "kernelName": "fsharp"
    }
   },
   "outputs": [],
   "source": [
    "// First, let's bind to an instance of `System.Random`\n",
    "// (The `()` is what tell us we're getting a new *instance* and will (may?) be explained later.)\n",
    "let rnd = System.Random()\n",
    "\n",
    "// First, Let's define some initial points to plot.\n",
    "let x = [ 1.; 2.; 3.; 4.; 5.; 6.; 7.; 8.; 9.; 10. ]\n",
    "let y = [ 2.; 1.5; 5.; 1.5; 3.; 2.5; 2.5; 1.5; 3.5; 1. ]\n",
    "\n",
    "// Let's define some points to plot *in terms of `y`*.\n",
    "let yUpper = List.map (fun v -> v + rnd.NextDouble()) y\n",
    "yUpper"
   ]
  }
 ],
 "metadata": {
  "dotnet_interactive": {
   "defaultKernelName": "fsharp",
   "items": [
    {
     "name": "fsharp"
    }
   ]
  },
  "kernelspec": {
   "display_name": ".NET (C#)",
   "language": "C#",
   "name": ".net-csharp"
  },
  "language_info": {
   "file_extension": ".fs",
   "mimetype": "text/x-fsharp",
   "name": "polyglot-notebook",
   "pygments_lexer": "fsharp",
   "version": "6.0"
  },
  "polyglot_notebook": {
   "kernelInfo": {
    "defaultKernelName": "csharp",
    "items": [
     {
      "aliases": [],
      "name": "csharp"
     },
     {
      "aliases": [],
      "name": "fsharp"
     },
     {
      "aliases": [],
      "languageName": "python",
      "name": "pythonkernel"
     }
    ]
   }
  }
 },
 "nbformat": 4,
 "nbformat_minor": 5
}
